{
 "cells": [
  {
   "cell_type": "code",
   "execution_count": null,
   "metadata": {},
   "outputs": [],
   "source": [
    "%load_ext autoreload\n",
    "%autoreload 2\n",
    "# %matplotlib qt"
   ]
  },
  {
   "cell_type": "code",
   "execution_count": null,
   "metadata": {},
   "outputs": [],
   "source": [
    "from ICARUS.Workers.solver import Solver\n",
    "from ICARUS.Workers.analysis import Analysis\n",
    "from ICARUS.Software.GenuVP3.angles import runGNVPanglesParallel, runGNVPangles\n",
    "from ICARUS.Software.GenuVP3.pertrubations import runGNVPpertrParallel, runGNVPpertr\n",
    "from ICARUS.Software.GenuVP3.pertrubations import runGNVPsensitivity,runGNVPsensitivityParallel\n",
    "from ICARUS.Software.GenuVP3.filesInterface import GNVPexe"
   ]
  },
  {
   "attachments": {},
   "cell_type": "markdown",
   "metadata": {},
   "source": [
    "## Define Solver"
   ]
  },
  {
   "cell_type": "code",
   "execution_count": null,
   "metadata": {},
   "outputs": [],
   "source": [
    "gnvp3 = Solver(name = 'gnvp3',solverType = '3D', fidelity = 2)"
   ]
  },
  {
   "attachments": {},
   "cell_type": "markdown",
   "metadata": {},
   "source": [
    "# Define GNVP3 Analyses"
   ]
  },
  {
   "cell_type": "code",
   "execution_count": null,
   "metadata": {},
   "outputs": [],
   "source": [
    "## Exe analysis option\n",
    "options = {\n",
    "    'HOMEDIR': 'Home Directory',\n",
    "    \"CASEDIR\": 'Case Directory',\n",
    "}\n",
    "rerun = Analysis('gnvp3','rerun', GNVPexe, options)  \n",
    "print(rerun)"
   ]
  },
  {
   "cell_type": "code",
   "execution_count": null,
   "metadata": {},
   "outputs": [],
   "source": [
    "# Angles Serial option\n",
    "options = {\n",
    "    \"plane\":        \"Plane Object\",\n",
    "    \"Environment\":  \"Environment\",\n",
    "    \"polars\":       \"2D Polars Name\",\n",
    "    \"solver2D\":     \"2D Solver\",\n",
    "    \"maxiter\":      \"Max Iterations\",\n",
    "    \"timestep\":     \"Timestep\",\n",
    "    \"Uinf\":         \"Velocity Magnitude\",\n",
    "    \"angles\":       \"Angle to run\",\n",
    "}\n",
    "\n",
    "anglesSerial = Analysis('gnvp3','Angles_Serial', runGNVPangles, options) "
   ]
  },
  {
   "cell_type": "code",
   "execution_count": null,
   "metadata": {},
   "outputs": [],
   "source": [
    "anglesParallel = anglesSerial << {\n",
    "    'name': 'Angles_Parallel',\n",
    "    'execute': runGNVPanglesParallel\n",
    "    }"
   ]
  },
  {
   "cell_type": "code",
   "execution_count": null,
   "metadata": {},
   "outputs": [],
   "source": [
    "pertrubationSerial = anglesSerial << {\n",
    "    'name': 'Pertrubation_Serial',\n",
    "    'execute': runGNVPpertr\n",
    "    }"
   ]
  },
  {
   "cell_type": "code",
   "execution_count": null,
   "metadata": {},
   "outputs": [],
   "source": [
    "pertrubationParallel = anglesSerial << {\n",
    "    'name': 'Pertrubation_Parallel',\n",
    "    'execute': runGNVPpertrParallel\n",
    "    }\n",
    "print(pertrubationParallel)"
   ]
  },
  {
   "cell_type": "code",
   "execution_count": null,
   "metadata": {},
   "outputs": [],
   "source": [
    "gnvp3.addAnalyses([\n",
    "    rerun,\n",
    "    anglesSerial,\n",
    "    anglesParallel,\n",
    "    pertrubationSerial,\n",
    "    pertrubationParallel\n",
    "    ])"
   ]
  },
  {
   "cell_type": "code",
   "execution_count": null,
   "metadata": {},
   "outputs": [],
   "source": [
    "analysis = gnvp3.getAvailableAnalyses()[0]\n",
    "gnvp3.setAnalysis(analysis)\n",
    "\n",
    "options = gnvp3.getOptions(analysis)"
   ]
  },
  {
   "cell_type": "code",
   "execution_count": null,
   "metadata": {},
   "outputs": [],
   "source": [
    "from ICARUS.Database.Database_3D import Database_3D, ang2case\n",
    "import os \n",
    "HOMEDIR = os.getcwd()\n",
    "db = Database_3D(HOMEDIR)\n",
    "plane = db.Planes[\"Hermes\"]\n",
    "CASEDIR = plane.CASEDIR + \"/\" + ang2case(0.) + \"/\"\n"
   ]
  },
  {
   "cell_type": "code",
   "execution_count": null,
   "metadata": {},
   "outputs": [],
   "source": [
    "# gnvp3.run()"
   ]
  },
  {
   "cell_type": "code",
   "execution_count": null,
   "metadata": {},
   "outputs": [],
   "source": [
    "gnvp3.getResults(analysis)"
   ]
  },
  {
   "cell_type": "code",
   "execution_count": null,
   "metadata": {},
   "outputs": [],
   "source": [
    "options.HOMEDIR"
   ]
  },
  {
   "cell_type": "code",
   "execution_count": null,
   "metadata": {},
   "outputs": [],
   "source": []
  }
 ],
 "metadata": {
  "kernelspec": {
   "display_name": "aero",
   "language": "python",
   "name": "python3"
  },
  "language_info": {
   "codemirror_mode": {
    "name": "ipython",
    "version": 3
   },
   "file_extension": ".py",
   "mimetype": "text/x-python",
   "name": "python",
   "nbconvert_exporter": "python",
   "pygments_lexer": "ipython3",
   "version": "3.10.8"
  }
 },
 "nbformat": 4,
 "nbformat_minor": 2
}
