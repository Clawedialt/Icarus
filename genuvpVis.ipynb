{
 "cells": [
  {
   "cell_type": "code",
   "execution_count": null,
   "metadata": {},
   "outputs": [],
   "source": [
    "import numpy as np\n",
    "import os\n",
    "from airLibs import setupGNVP as gnvp\n",
    "import pandas as pd\n",
    "import matplotlib.pyplot as plt"
   ]
  },
  {
   "cell_type": "code",
   "execution_count": null,
   "metadata": {},
   "outputs": [],
   "source": [
    "CASE = '3D'"
   ]
  },
  {
   "attachments": {},
   "cell_type": "markdown",
   "metadata": {},
   "source": [
    "# Get Alpha Angles "
   ]
  },
  {
   "cell_type": "code",
   "execution_count": null,
   "metadata": {},
   "outputs": [],
   "source": [
    "AoAmax = 8\n",
    "AoAmin = -8\n",
    "NoAoA = (AoAmax - AoAmin) + 1\n",
    "angles = np.linspace(AoAmin, AoAmax, NoAoA)"
   ]
  },
  {
   "attachments": {},
   "cell_type": "markdown",
   "metadata": {},
   "source": [
    "# Read Data"
   ]
  },
  {
   "cell_type": "code",
   "execution_count": null,
   "metadata": {},
   "outputs": [],
   "source": [
    "os.chdir(CASE)\n",
    "genu = pd.read_csv('res.dat',delim_whitespace=True)\n",
    "# xflr = pd.read_csv('xflr5.dat',delim_whitespace=True)\n",
    "# xflr.pop(\"Beta\")\n",
    "# xflr.pop(\"CDi\")\n",
    "# xflr.pop(\"CDv\")\n",
    "# xflr.pop(\"Cni\")\n",
    "# xflr.pop(\"QInf\")\n",
    "# xflr.pop(\"XCP\")\n",
    "genu.pop('TTIME')\n",
    "genu.pop(\"PSIB\")\n",
    "genu[\"angle\"] = angles"
   ]
  },
  {
   "attachments": {},
   "cell_type": "markdown",
   "metadata": {},
   "source": [
    "# Get DimenLess"
   ]
  },
  {
   "cell_type": "code",
   "execution_count": null,
   "metadata": {},
   "outputs": [],
   "source": [
    "Swing = 0.261 \n",
    "dens = 1.225\n",
    "Q = 0.5 * dens * 20**2\n",
    "MAC = 0.121"
   ]
  },
  {
   "attachments": {},
   "cell_type": "markdown",
   "metadata": {},
   "source": [
    "# Plot"
   ]
  },
  {
   "cell_type": "code",
   "execution_count": null,
   "metadata": {},
   "outputs": [],
   "source": [
    "fig, axs = plt.subplots(2, 2, figsize=(10, 10))\n",
    "\n",
    "axs[0, 0].set_title('Cm vs AoA')\n",
    "# axs[0, 0].set_xlabel('a')\n",
    "axs[0, 0].set_ylabel('Cm')\n",
    "axs[0, 1].set_title('Cd vs AoA')\n",
    "axs[0, 1].set_xlabel('a')\n",
    "axs[0, 1].set_ylabel('Cd')\n",
    "axs[1, 0].set_title('Cl vs AoA')\n",
    "axs[1, 0].set_xlabel('a')\n",
    "axs[1, 0].set_ylabel('Cl')\n",
    "axs[1, 1].set_title('Cl vs Cd')\n",
    "axs[1, 1].set_xlabel('Cd')\n",
    "\n",
    "axs[0, 1].grid(True)\n",
    "axs[1, 0].grid(True)\n",
    "axs[1, 1].grid(True)\n",
    "axs[0, 0].grid(True)\n",
    "\n",
    "axs[0,0].plot(genu[\"angle\"],genu['TAMOM(2)']  / (Q*Swing*MAC),label = \"Potential\")\n",
    "axs[0,0].plot(genu[\"angle\"],genu['TAMOM2D(2)']  / (Q*Swing*MAC),label = \"2D\")\n",
    "axs[0,0].plot(genu[\"angle\"],genu['TAMOMDS2D(2)']  / (Q*Swing*MAC),label = \"ONERA\")\n",
    "# axs[0,0].plot(xflr[\"alpha\"],xflr['Cm'],label = \"XFLR\")\n",
    "\n",
    "axs[0,1].plot(genu[\"angle\"],-genu['TFORC(1)']  / (Q*Swing),label = \"Potential\")\n",
    "axs[0,1].plot(genu[\"angle\"],-genu['TFORC2D(1)']  / (Q*Swing),label = \"2D\")\n",
    "axs[0,1].plot(genu[\"angle\"],-genu['TFORCDS2D(1)']  / (Q*Swing),label = \"ONERA\")\n",
    "# axs[0,1].plot(xflr[\"alpha\"],xflr['CD'],label = \"XFLR\")\n",
    "\n",
    "\n",
    "axs[1, 0].plot(genu[\"angle\"],genu['TFORC(3)']  / (Q*Swing),label = \"Potential\")\n",
    "axs[1, 0].plot(genu[\"angle\"],genu['TFORC2D(3)']  / (Q*Swing),label = \"2D\")\n",
    "axs[1, 0].plot(genu[\"angle\"],genu['TFORCDS2D(3)']  / (Q*Swing),label = \"ONERA\")\n",
    "# axs[1, 0].plot(xflr[\"alpha\"],xflr['CL'],label = \"XFLR\")\n",
    "\n",
    "axs[1, 1].plot(-genu['TFORC(1)'] / (Q*Swing),genu['TFORC(3)']  / (Q*Swing),label = \"Genu\")\n",
    "axs[1, 1].plot(-genu['TFORC2D(1)'] / (Q*Swing),genu['TFORC2D(3)']  / (Q*Swing),label = \"2D\")\n",
    "axs[1, 1].plot(-genu['TFORCDS2D(1)'] / (Q*Swing),genu['TFORCDS2D(3)']  / (Q*Swing),label = \"ONERA\")\n",
    "# axs[1, 1].plot(xflr[\"CD\"],xflr['CL'],label = \"XFLR\")\n",
    "\n",
    "axs[0, 1].legend()\n",
    "axs[1, 0].legend()\n",
    "axs[1, 1].legend()\n",
    "axs[0, 0].legend()"
   ]
  },
  {
   "cell_type": "code",
   "execution_count": null,
   "metadata": {},
   "outputs": [],
   "source": []
  }
 ],
 "metadata": {
  "kernelspec": {
   "display_name": "aero",
   "language": "python",
   "name": "python3"
  },
  "language_info": {
   "codemirror_mode": {
    "name": "ipython",
    "version": 3
   },
   "file_extension": ".py",
   "mimetype": "text/x-python",
   "name": "python",
   "nbconvert_exporter": "python",
   "pygments_lexer": "ipython3",
   "version": "3.10.8"
  },
  "orig_nbformat": 4,
  "vscode": {
   "interpreter": {
    "hash": "8acd08952dc410be23279ea6eab1a080d514a48a01ad47827aa392f9fbd61ae4"
   }
  }
 },
 "nbformat": 4,
 "nbformat_minor": 2
}
