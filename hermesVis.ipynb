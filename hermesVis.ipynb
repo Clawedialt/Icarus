{
 "cells": [
  {
   "cell_type": "code",
   "execution_count": null,
   "metadata": {},
   "outputs": [],
   "source": [
    "import os\n",
    "import numpy as np\n",
    "\n",
    "from airLibs import airfoil as af\n",
    "from airLibs import runF2w as f2w\n",
    "from airLibs import plotting as aplt\n",
    "from airLibs import runOpenFoam as of\n",
    "from airLibs import runXFoil as xf"
   ]
  },
  {
   "attachments": {},
   "cell_type": "markdown",
   "metadata": {},
   "source": [
    "# Reynolds And Mach and AoA"
   ]
  },
  {
   "cell_type": "code",
   "execution_count": null,
   "metadata": {},
   "outputs": [],
   "source": [
    "def ms2mach(ms):\n",
    "    return ms / 340.29\n",
    "\n",
    "def Re(v, c, n):\n",
    "    return (v * c) / n"
   ]
  },
  {
   "cell_type": "code",
   "execution_count": null,
   "metadata": {},
   "outputs": [],
   "source": [
    "chordMax = 0.18\n",
    "chordMin = 0.11\n",
    "umax = 30\n",
    "umin = 5\n",
    "ne = 1.56e-5"
   ]
  },
  {
   "cell_type": "code",
   "execution_count": null,
   "metadata": {},
   "outputs": [],
   "source": [
    "Machmin = ms2mach(10)\n",
    "Machmax = ms2mach(30)\n",
    "Remax = Re(umax, chordMax, ne)\n",
    "Remin = Re(umin, chordMin, ne)\n",
    "AoAmax = 15\n",
    "AoAmin = -6\n",
    "NoAoA = (AoAmax - AoAmin) * 2 + 1\n",
    "\n",
    "angles = np.linspace(AoAmin, AoAmax, NoAoA)\n",
    "Reynolds = np.logspace(np.log10(Remin), np.log10(Remax), 20, base=10)\n",
    "Mach = np.linspace(Machmax, Machmin, 10)\n",
    "\n",
    "Reyn = Remin\n",
    "MACH = Machmax"
   ]
  },
  {
   "cell_type": "code",
   "execution_count": null,
   "metadata": {},
   "outputs": [],
   "source": [
    "CASE = \"Rudder\"\n",
    "os.chdir(CASE)\n",
    "caseDir = f\"Reynolds_{np.format_float_scientific(Reyn,sign=False,precision=3).replace('+', '')}\"\n",
    "os.system(f\"mkdir -p {caseDir}\")\n",
    "os.chdir(caseDir)\n",
    "caseDir = os.getcwd()"
   ]
  },
  {
   "cell_type": "code",
   "execution_count": null,
   "metadata": {},
   "outputs": [],
   "source": [
    "for i in os.listdir():\n",
    "    if i.startswith(\"naca\"):\n",
    "        airfile = i\n",
    "airfoil = airfile[4:]"
   ]
  },
  {
   "cell_type": "code",
   "execution_count": null,
   "metadata": {},
   "outputs": [],
   "source": [
    "clcdcmFW = f2w.makeCLCD(Reyn, MACH)\n",
    "clcdcmXF = xf.runXFoil(Reyn, MACH, angles, airfoil)\n",
    "clcdcmOF = of.makeCLCD(angles)"
   ]
  },
  {
   "cell_type": "code",
   "execution_count": null,
   "metadata": {},
   "outputs": [],
   "source": [
    "f2w = [clcdcmFW, \"rx\", \"Foil2Wake\"]\n",
    "openF = [clcdcmOF, \"kx\", \"OpenFoam\"]\n",
    "Xfoil = [clcdcmXF, \"bx\", \"XFoil\"]\n",
    "aplt.plotAeorCoeffs([openF,Xfoil, f2w])\n"
   ]
  }
 ],
 "metadata": {
  "kernelspec": {
   "display_name": "aero",
   "language": "python",
   "name": "python3"
  },
  "language_info": {
   "codemirror_mode": {
    "name": "ipython",
    "version": 3
   },
   "file_extension": ".py",
   "mimetype": "text/x-python",
   "name": "python",
   "nbconvert_exporter": "python",
   "pygments_lexer": "ipython3",
   "version": "3.10.8"
  },
  "orig_nbformat": 4,
  "vscode": {
   "interpreter": {
    "hash": "8acd08952dc410be23279ea6eab1a080d514a48a01ad47827aa392f9fbd61ae4"
   }
  }
 },
 "nbformat": 4,
 "nbformat_minor": 2
}
