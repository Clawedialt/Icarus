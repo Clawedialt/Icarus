{
 "cells": [
  {
   "cell_type": "code",
   "execution_count": 1,
   "metadata": {},
   "outputs": [],
   "source": [
    "import numpy as np\n",
    "import os\n",
    "import time\n",
    "from airLibs import setupGNVP as gnvp\n",
    "from airLibs import runXFoil as xf"
   ]
  },
  {
   "cell_type": "code",
   "execution_count": 2,
   "metadata": {},
   "outputs": [],
   "source": [
    "def ms2mach(ms):\n",
    "    return ms / 340.29\n",
    "\n",
    "def Re(v, c, n):\n",
    "    return (v * c) / n"
   ]
  },
  {
   "cell_type": "code",
   "execution_count": 3,
   "metadata": {},
   "outputs": [],
   "source": [
    "chordMax = 0.18\n",
    "chordMin = 0.11\n",
    "umax = 30\n",
    "umin = 5\n",
    "ne = 1.56e-5"
   ]
  },
  {
   "cell_type": "code",
   "execution_count": 4,
   "metadata": {},
   "outputs": [],
   "source": [
    "Machmin = ms2mach(10)\n",
    "Machmax = ms2mach(30)\n",
    "Remax = Re(umax, chordMax, ne)\n",
    "Remin = Re(umin, chordMin, ne)\n",
    "AoAmax = 15\n",
    "AoAmin = -6\n",
    "NoAoA = (AoAmax - AoAmin) * 2 + 1\n",
    "\n",
    "angles = np.linspace(AoAmin, AoAmax, NoAoA)\n",
    "Reynolds = np.logspace(np.log10(Remin), np.log10(Remax), 5, base=10)\n",
    "Mach = np.linspace(Machmax, Machmin, 10)\n",
    "\n",
    "Reyn = Remax\n",
    "MACH = Machmax"
   ]
  },
  {
   "cell_type": "code",
   "execution_count": 5,
   "metadata": {},
   "outputs": [],
   "source": [
    "airfoils = [\"4415\",\"0008\"]\n",
    "cldata = []\n",
    "\n",
    "for airfoil in airfoils:\n",
    "    Reynolds = np.logspace(np.log10(Remin), np.log10(Remax), 5, base=10)\n",
    "    clcdData = []\n",
    "    for Re in Reynolds:\n",
    "        clcdcmXF_t = xf.runXFoil(Reyn, MACH, angles[::2], airfoil,0.1,0.1)\n",
    "        clcdData.append(clcdcmXF_t)\n",
    "        \n",
    "    Redicts = []\n",
    "    for i,batchRe in enumerate(clcdData):\n",
    "        tempDict = {}\n",
    "        for bathchAng in batchRe:\n",
    "            tempDict[str(bathchAng[0])] = bathchAng[1:4]\n",
    "        Redicts.append(tempDict)\n",
    "    cldata.append(Redicts)"
   ]
  },
  {
   "cell_type": "code",
   "execution_count": 6,
   "metadata": {},
   "outputs": [],
   "source": [
    "angle = 0"
   ]
  },
  {
   "cell_type": "code",
   "execution_count": 7,
   "metadata": {},
   "outputs": [],
   "source": [
    "params = {\n",
    "    \"nBods\": 5,  # len(Surfaces)\n",
    "    \"nBlades\": len(airfoils),  # len(NACA)\n",
    "    \"maxiter\": 200,\n",
    "    \"timestep\": 0.01,\n",
    "    \"Uinf\": [20. * np.cos(angle) , 0.0, 20. * np.sin(angle)],\n",
    "    \"rho\": 1.225,\n",
    "    \"visc\": 0.0000156,\n",
    "}"
   ]
  },
  {
   "cell_type": "code",
   "execution_count": 8,
   "metadata": {},
   "outputs": [],
   "source": [
    "airMovement = {\n",
    "    'alpha_s': 0.,\n",
    "    'alpha_e': 0.,\n",
    "    'beta_s': 0.,\n",
    "    'beta_e': 0.,\n",
    "    'phi_s': 0.,\n",
    "    'phi_e': 0.\n",
    "}\n",
    "bodies = []"
   ]
  },
  {
   "attachments": {},
   "cell_type": "markdown",
   "metadata": {},
   "source": [
    "### Wing"
   ]
  },
  {
   "cell_type": "code",
   "execution_count": 9,
   "metadata": {},
   "outputs": [],
   "source": [
    "bodies.append({\n",
    "    'NB': 1,\n",
    "    \"NACA\": 4415,\n",
    "    \"name\": \"Lwing\",\n",
    "    'bld': 'Lwing.bld',\n",
    "    'cld':  '4415.cld',\n",
    "    'NNB': 50,\n",
    "    'NCWB': 50,\n",
    "    'is_right': False,\n",
    "    \"x_0\": 0.,\n",
    "    \"z_0\": 0.,\n",
    "    \"y_0\": 0.,\n",
    "    \"pitch\": 2.8,\n",
    "    \"cone\": 0.,\n",
    "    \"wngang\": 0.,\n",
    "    \"x_end\": 0.,\n",
    "    \"z_end\": 0.,\n",
    "    \"y_end\": 1.130,\n",
    "    \"Root_chord\": 0.159,\n",
    "    \"Tip_chord\": 0.072\n",
    "})\n",
    "bodies.append({\n",
    "    'NB': 2,\n",
    "    \"NACA\": 4415,\n",
    "    \"name\": \"Rwing\",\n",
    "    'bld': 'Rwing.bld',\n",
    "    'cld':  '4415.cld',\n",
    "    'NNB': 50,\n",
    "    'NCWB': 50,\n",
    "    'is_right': True,\n",
    "    \"x_0\": 0.,\n",
    "    \"z_0\": 0.,\n",
    "    \"y_0\": 0.,\n",
    "    \"pitch\": 2.8,\n",
    "    \"cone\": 0.,\n",
    "    \"wngang\": 0.,\n",
    "    \"x_end\": 0.,\n",
    "    \"z_end\": 0.,\n",
    "    \"y_end\": 1.130,\n",
    "    \"Root_chord\": 0.159,\n",
    "    \"Tip_chord\": 0.072\n",
    "})"
   ]
  },
  {
   "attachments": {},
   "cell_type": "markdown",
   "metadata": {},
   "source": [
    "### Elevator"
   ]
  },
  {
   "cell_type": "code",
   "execution_count": 10,
   "metadata": {},
   "outputs": [],
   "source": [
    "bodies.append({\n",
    "    'NB': 3,\n",
    "    \"NACA\": '0008',\n",
    "    \"name\": \"Ltail\",\n",
    "    'bld': 'Ltail.bld',\n",
    "    'cld':  '0008.cld',\n",
    "    'NNB': 50,\n",
    "    'NCWB': 50,\n",
    "    'is_right': False,\n",
    "    \"x_0\": 0.54,\n",
    "    \"z_0\": 0.,\n",
    "    \"y_0\": 0.,\n",
    "    \"pitch\": 0.,\n",
    "    \"cone\": 0.,\n",
    "    \"wngang\": 0.,\n",
    "    \"x_end\": 0.,\n",
    "    \"z_end\": 0.,\n",
    "    \"y_end\": 0.169,\n",
    "    \"Root_chord\": 0.130,\n",
    "    \"Tip_chord\": 0.03\n",
    "})\n",
    "bodies.append({\n",
    "    'NB': 4,\n",
    "    \"NACA\": '0008',\n",
    "    \"name\": \"Rtail\",\n",
    "    'bld': 'Rtail.bld',\n",
    "    'cld':  '0008.cld',\n",
    "    'NNB': 50,\n",
    "    'NCWB': 50,\n",
    "    'is_right': True,\n",
    "    \"x_0\": 0.54,\n",
    "    \"z_0\": 0.,\n",
    "    \"y_0\": 0.,\n",
    "    \"pitch\": 0.,\n",
    "    \"cone\": 0.,\n",
    "    \"wngang\": 0.,\n",
    "    \"x_end\": 0.,\n",
    "    \"z_end\": 0.,\n",
    "    \"y_end\": 0.169,\n",
    "    \"Root_chord\": 0.130,\n",
    "    \"Tip_chord\": 0.03\n",
    "})"
   ]
  },
  {
   "attachments": {},
   "cell_type": "markdown",
   "metadata": {},
   "source": [
    "### Rudder"
   ]
  },
  {
   "cell_type": "code",
   "execution_count": 11,
   "metadata": {},
   "outputs": [],
   "source": [
    "bodies.append({\n",
    "    'NB': 5,\n",
    "    \"NACA\": '0008',\n",
    "    \"name\": \"rudder\",\n",
    "    'bld': 'rudder.bld',\n",
    "    'cld':  '0008.cld',\n",
    "    'NNB': 50,\n",
    "    'NCWB': 50,\n",
    "    'is_right': True,\n",
    "    \"x_0\": 0.54,\n",
    "    \"z_0\": 0.1,\n",
    "    \"y_0\": 0.,\n",
    "    \"pitch\": 0.,\n",
    "    \"cone\": 0.,\n",
    "    \"wngang\": 90.,\n",
    "    \"x_end\": 0.,\n",
    "    \"z_end\": 0.,\n",
    "    \"y_end\": 0.169,\n",
    "    \"Root_chord\": 0.130,\n",
    "    \"Tip_chord\": 0.03\n",
    "})"
   ]
  },
  {
   "cell_type": "code",
   "execution_count": 12,
   "metadata": {},
   "outputs": [],
   "source": [
    "masterDir = os.getcwd()"
   ]
  },
  {
   "cell_type": "code",
   "execution_count": 15,
   "metadata": {},
   "outputs": [
    {
     "data": {
      "text/plain": [
       "'/home/tryfonas/data/Uni/Semester9/Flight_Dynamics/Software/hermes/3D'"
      ]
     },
     "execution_count": 15,
     "metadata": {},
     "output_type": "execute_result"
    }
   ],
   "source": [
    "os.getcwd()"
   ]
  },
  {
   "cell_type": "code",
   "execution_count": 14,
   "metadata": {},
   "outputs": [
    {
     "ename": "FileNotFoundError",
     "evalue": "[Errno 2] No such file or directory: '3D/'",
     "output_type": "error",
     "traceback": [
      "\u001b[0;31m---------------------------------------------------------------------------\u001b[0m",
      "\u001b[0;31mFileNotFoundError\u001b[0m                         Traceback (most recent call last)",
      "Cell \u001b[0;32mIn [14], line 2\u001b[0m\n\u001b[1;32m      1\u001b[0m CASE \u001b[39m=\u001b[39m \u001b[39m\"\u001b[39m\u001b[39m3D/\u001b[39m\u001b[39m\"\u001b[39m\n\u001b[0;32m----> 2\u001b[0m gnvp\u001b[39m.\u001b[39;49mrunGNVP(airMovement, bodies, params, airfoils,cldata,Reynolds,angles,CASE)\n\u001b[1;32m      3\u001b[0m gnvp\u001b[39m.\u001b[39mremoveResults(CASE)\n\u001b[1;32m      5\u001b[0m os\u001b[39m.\u001b[39mchdir(CASE)\n",
      "File \u001b[0;32m~/data/Uni/Semester9/Flight_Dynamics/Software/hermes/airLibs/setupGNVP.py:27\u001b[0m, in \u001b[0;36mrunGNVP\u001b[0;34m(airMovement, bodies, params, airfoils, AeroData, Reynolds, angles, CASE)\u001b[0m\n\u001b[1;32m     25\u001b[0m \u001b[39mdef\u001b[39;00m \u001b[39mrunGNVP\u001b[39m(airMovement, bodies, params, airfoils, AeroData, Reynolds, angles, CASE):\n\u001b[1;32m     26\u001b[0m     masterDir \u001b[39m=\u001b[39m os\u001b[39m.\u001b[39mgetcwd()\n\u001b[0;32m---> 27\u001b[0m     os\u001b[39m.\u001b[39;49mchdir(CASE)\n\u001b[1;32m     28\u001b[0m     \u001b[39m# INPUT\u001b[39;00m\n\u001b[1;32m     29\u001b[0m     fname \u001b[39m=\u001b[39m \u001b[39m\"\u001b[39m\u001b[39minput\u001b[39m\u001b[39m\"\u001b[39m\n",
      "\u001b[0;31mFileNotFoundError\u001b[0m: [Errno 2] No such file or directory: '3D/'"
     ]
    }
   ],
   "source": [
    "CASE = \"3D/\"\n",
    "gnvp.runGNVP(airMovement, bodies, params, airfoils,cldata,Reynolds,angles,CASE)\n",
    "gnvp.removeResults(CASE)\n",
    "\n",
    "os.chdir(CASE)\n",
    "# os.system(\"./gnvp < input >> gnvp.out\")\n",
    "time.sleep(0.1)\n",
    "# os.system(f\"cat LOADS_aer.dat >>  res.dat\")\n",
    "os.chdir(masterDir)"
   ]
  },
  {
   "cell_type": "code",
   "execution_count": null,
   "metadata": {},
   "outputs": [],
   "source": [
    "AoAmax = 8\n",
    "AoAmin = -8\n",
    "NoAoA = (AoAmax - AoAmin) + 1\n",
    "angles = np.linspace(AoAmin, AoAmax, NoAoA)\n",
    "for i, angle in enumerate(angles):\n",
    "    print(f'ux ={-np.sin(angle)}')\n",
    "    print(f'uz ={np.cos(angle)}')"
   ]
  },
  {
   "cell_type": "code",
   "execution_count": null,
   "metadata": {},
   "outputs": [],
   "source": []
  }
 ],
 "metadata": {
  "kernelspec": {
   "display_name": "aero",
   "language": "python",
   "name": "python3"
  },
  "language_info": {
   "codemirror_mode": {
    "name": "ipython",
    "version": 3
   },
   "file_extension": ".py",
   "mimetype": "text/x-python",
   "name": "python",
   "nbconvert_exporter": "python",
   "pygments_lexer": "ipython3",
   "version": "3.10.8"
  },
  "orig_nbformat": 4,
  "vscode": {
   "interpreter": {
    "hash": "8acd08952dc410be23279ea6eab1a080d514a48a01ad47827aa392f9fbd61ae4"
   }
  }
 },
 "nbformat": 4,
 "nbformat_minor": 2
}
