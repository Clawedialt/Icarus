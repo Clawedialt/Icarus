{
 "cells": [
  {
   "cell_type": "code",
   "execution_count": null,
   "metadata": {},
   "outputs": [],
   "source": [
    "\n",
    "%load_ext autoreload\n",
    "%autoreload 2"
   ]
  },
  {
   "cell_type": "code",
   "execution_count": null,
   "metadata": {},
   "outputs": [],
   "source": [
    "import numpy as np\n",
    "import os\n",
    "import matplotlib.pyplot as plt\n",
    "from ICARUS.Vehicle.plane import Airplane\n",
    "from ICARUS.Vehicle.lifting_surface import Lifting_Surface\n",
    "from ICARUS.Vehicle.utils import define_linear_chord\n",
    "from ICARUS.Vehicle.utils import define_linear_span\n",
    "from ICARUS.Environment.definition import Environment\n",
    "import ICARUS.Computation.Solvers.AVL.input as avlinp\n",
    "import ICARUS.Computation.Solvers.AVL.polars as avlpol"
   ]
  },
  {
   "cell_type": "code",
   "execution_count": null,
   "metadata": {},
   "outputs": [],
   "source": [
    "os.getcwd()"
   ]
  },
  {
   "cell_type": "code",
   "execution_count": null,
   "metadata": {},
   "outputs": [],
   "source": [
    "mw = Lifting_Surface(\n",
    "    name=\"Main_Wing_1\",\n",
    "    airfoil=\"2412\",\n",
    "    origin=np.array([0., 0., 0.]),\n",
    "    orientation=np.array([0., 0., 0.]),\n",
    "    is_symmetric=True,\n",
    "    sweep_offset=0.1,\n",
    "    span=2.0,\n",
    "    dih_angle=0.0,\n",
    "    chord_fun=define_linear_chord,\n",
    "    chord=np.array([0.4, 0.4]),\n",
    "    span_fun=define_linear_span,\n",
    "    # twist_fun: Callable[[float, int], FloatArray],\n",
    "    N=30,\n",
    "    M=10,\n",
    "    mass=1.0,\n",
    ")\n",
    "el = Lifting_Surface(\n",
    "    name=\"Elevator\",\n",
    "    airfoil=\"0012\",\n",
    "    origin=np.array([1.25, 0, 0]),\n",
    "    orientation=np.array([0.0, 0.0, 0.0]),\n",
    "    is_symmetric=True,\n",
    "    sweep_offset=0.0,\n",
    "    span=1.0,\n",
    "    dih_angle=0.0,\n",
    "    chord_fun=define_linear_chord,\n",
    "    chord=np.array([0.2, 0.2]),\n",
    "    span_fun=define_linear_span,\n",
    "    # twist_fun: Callable[[float, int], FloatArray],\n",
    "    N=20,\n",
    "    M=5,\n",
    "    mass=1.0,\n",
    ")\n",
    "rud = Lifting_Surface(\n",
    "    name=\"Rudder\",\n",
    "    airfoil=\"0012\",\n",
    "    origin=np.array([1.3, 0, 0.2]),\n",
    "    orientation=np.array([0, 0., 90.0]),\n",
    "    is_symmetric=True,\n",
    "    sweep_offset=0.0,\n",
    "    span=1.0,\n",
    "    dih_angle=0.0,\n",
    "    chord_fun=define_linear_chord,\n",
    "    chord=np.array([0.1, 0.1]),\n",
    "    span_fun=define_linear_span,\n",
    "    # twist_fun: Callable[[float, int], FloatArray],\n",
    "    N=20,\n",
    "    M=5,\n",
    "    mass=1.0,\n",
    ")\n",
    "w_polar = np.array([[-1, 0.23, 1.375], [0.034, 0.0064, 0.04]])  # NACA 2412 at Re = 5e5\n",
    "el_polar = np.array(\n",
    "    [[-1.15, 0, 1.15], [0.038, 0.00768, 0.038]]\n",
    ")  # NACA 0012 at Re = 3e5\n",
    "rud_polar = el_polar\n",
    "\n",
    "pl = Airplane(\"plane_100\", [mw, el, rud])"
   ]
  },
  {
   "cell_type": "code",
   "execution_count": null,
   "metadata": {},
   "outputs": [],
   "source": [
    "Env = Environment(\"Default\")"
   ]
  },
  {
   "cell_type": "code",
   "execution_count": null,
   "metadata": {},
   "outputs": [],
   "source": [
    "pms = [(1.9, [-0.1, 0, 0.2], \"payload\"), (0.9, [-0.1, 0, 0.2], \"pa2\")]\n",
    "pl.add_point_masses(pms)"
   ]
  },
  {
   "cell_type": "code",
   "execution_count": null,
   "metadata": {},
   "outputs": [],
   "source": [
    "avlinp.avl_mass(pl,Env,1.)\n",
    "avlinp.avl_geo(pl,1.0,1.0,w_polar,1.0,el_polar,1.0,rud_polar,\"full\")\n",
    "avlinp.get_inertias(pl)\n"
   ]
  },
  {
   "cell_type": "code",
   "execution_count": null,
   "metadata": {},
   "outputs": [],
   "source": [
    "angles = np.linspace(-10,10,11)\n",
    "avlpol.case_def(pl, angles)\n",
    "avlpol.case_setup(pl)\n",
    "avlpol.case_run(pl,angles)\n",
    "from ICARUS.Computation.Solvers.AVL.post import polar_postprocess\n",
    "pol_df = polar_postprocess(pl,angles)"
   ]
  },
  {
   "cell_type": "code",
   "execution_count": null,
   "metadata": {},
   "outputs": [],
   "source": [
    "plt.plot(pol_df[0], pol_df[1])\n",
    "plt.plot(pol_df[0], pol_df[3])\n",
    "plt.axhline()\n",
    "plt.axvline()\n",
    "\n",
    "plt.grid(True)"
   ]
  },
  {
   "cell_type": "code",
   "execution_count": null,
   "metadata": {},
   "outputs": [],
   "source": [
    "Env.GRAVITY"
   ]
  },
  {
   "cell_type": "code",
   "execution_count": null,
   "metadata": {},
   "outputs": [],
   "source": []
  }
 ],
 "metadata": {
  "kernelspec": {
   "display_name": "myp",
   "language": "python",
   "name": "python3"
  },
  "language_info": {
   "codemirror_mode": {
    "name": "ipython",
    "version": 3
   },
   "file_extension": ".py",
   "mimetype": "text/x-python",
   "name": "python",
   "nbconvert_exporter": "python",
   "pygments_lexer": "ipython3",
   "version": "3.12.0"
  }
 },
 "nbformat": 4,
 "nbformat_minor": 2
}
