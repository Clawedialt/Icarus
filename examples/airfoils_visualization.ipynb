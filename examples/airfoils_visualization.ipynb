{
    "cells": [
        {
            "cell_type": "code",
            "execution_count": 1,
            "metadata": {},
            "outputs": [],
            "source": [
                "%load_ext autoreload\n",
                "%autoreload 2\n",
                "%matplotlib qt"
            ]
        },
        {
            "cell_type": "code",
            "execution_count": 2,
            "metadata": {},
            "outputs": [],
            "source": [
                "from time import sleep\n",
                "\n",
                "from ICARUS.Database import DB\n",
                "from ICARUS.Database import EXTERNAL_DB"
            ]
        },
        {
            "attachments": {},
            "cell_type": "markdown",
            "metadata": {},
            "source": [
                "# Load Database"
            ]
        },
        {
            "cell_type": "code",
            "execution_count": 3,
            "metadata": {},
            "outputs": [
                {
                    "data": {
                        "text/plain": [
                            "dict_keys(['NACA0008', 'NACA0012', 'NACA0015', 'NACA2412', 'NACA4415'])"
                        ]
                    },
                    "execution_count": 3,
                    "metadata": {},
                    "output_type": "execute_result"
                }
            ],
            "source": [
                "DB.foils_db.data.keys()"
            ]
        },
        {
            "cell_type": "code",
            "execution_count": 4,
            "metadata": {},
            "outputs": [
                {
                    "name": "stdout",
                    "output_type": "stream",
                    "text": [
                        "Airfoils that are computed are:\n",
                        "0: NACA0008\n",
                        "1: NACA0012\n",
                        "2: NACA0015\n",
                        "3: NACA2412\n",
                        "4: NACA4415\n"
                    ]
                }
            ],
            "source": [
                "db = DB.foils_db\n",
                "\n",
                "from ICARUS.Computation.Solvers.XFLR5.polars import read_polars_2d\n",
                "read_polars_2d(EXTERNAL_DB)\n",
                "\n",
                "airfoils = db.data\n",
                "\n",
                "print(f\"Airfoils that are computed are:\")\n",
                "for i , key in enumerate(list(airfoils.keys())):\n",
                "    print(f\"{i}: {key}\")\n",
                "sleep(1)\n",
                "# index = int(input(\"Select an airfoil: \"))\n",
                "index = 0\n",
                "airfoil: str = list(airfoils.keys())[index]"
            ]
        },
        {
            "attachments": {},
            "cell_type": "markdown",
            "metadata": {},
            "source": [
                "# Airfoil Polars"
            ]
        },
        {
            "cell_type": "code",
            "execution_count": 5,
            "metadata": {},
            "outputs": [],
            "source": [
                "from ICARUS.Visualization.airfoil.db_polars import plot_airfoil_polars"
            ]
        },
        {
            "cell_type": "code",
            "execution_count": 7,
            "metadata": {},
            "outputs": [
                {
                    "name": "stdout",
                    "output_type": "stream",
                    "text": [
                        "NACA 0008 polars are:\n",
                        "1.026e06 Foil2Wake\n",
                        "1.282e05 Foil2Wake\n",
                        "3.526e05 Foil2Wake\n",
                        "5.769e05 Foil2Wake\n",
                        "8.013e05 Foil2Wake\n",
                        "1.026e06 Xfoil\n",
                        "1.282e05 Xfoil\n",
                        "3.526e05 Xfoil\n",
                        "5.769e05 Xfoil\n",
                        "8.013e05 Xfoil\n",
                        "3.000e04 XFLR\n",
                        "4.000e04 XFLR\n",
                        "6.000e04 XFLR\n",
                        "8.000e04 XFLR\n",
                        "1.000e05 XFLR\n",
                        "1.500e05 XFLR\n",
                        "3.500e05 XFLR\n",
                        "5.000e05 XFLR\n",
                        "1.000e06 XFLR\n",
                        "2.000e06 XFLR\n"
                    ]
                }
            ],
            "source": [
                "print(f\"NACA {airfoil[4:]} polars are:\")\n",
                "axs, fig = plot_airfoil_polars(\n",
                "    airfoil_name=airfoil,\n",
                "    solvers = [\"Foil2Wake\" , \"XFLR\", \"Xfoil\"],\n",
                "    plots = [[\"AoA\", \"CL\"], [\"AoA\", \"CD\"], [\"AoA\", \"Cm\"]],\n",
                "    size=(10,9),\n",
                ")\n",
                "# axs[0].axvline(x=1.1, color='b', linestyle='-')\n",
                "# axs[0].axhline(y=1.52, color='b', linestyle='-')"
            ]
        },
        {
            "attachments": {},
            "cell_type": "markdown",
            "metadata": {},
            "source": [
                "# Select Reynolds number "
            ]
        },
        {
            "cell_type": "code",
            "execution_count": null,
            "metadata": {},
            "outputs": [],
            "source": [
                "reynolds = db.get_airfoil_reynolds(airfoil)\n",
                "\n",
                "if reynolds is not None:\n",
                "    print(f\"For NACA {airfoil[4:]} these Reynolds were Computed:\")\n",
                "    print(*[f\"{i}:\\t{reyn}\\n\" for i,reyn in enumerate(reynolds)])\n",
                "    index = int(input(\"Select Reynolds: \"))\n",
                "    reyn_to_plot = reynolds[index]\n",
                "else:\n",
                "    raise ValueError(f\"Reynolds for {airfoil} were not computed\")"
            ]
        },
        {
            "attachments": {},
            "cell_type": "markdown",
            "metadata": {},
            "source": [
                "# Plot Reynolds"
            ]
        },
        {
            "cell_type": "code",
            "execution_count": null,
            "metadata": {},
            "outputs": [],
            "source": [
                "from ICARUS.Visualization.airfoil.db_reynolds import plot_airfoil_reynolds"
            ]
        },
        {
            "cell_type": "code",
            "execution_count": null,
            "metadata": {},
            "outputs": [],
            "source": [
                "print(f\"NACA {airfoil[4:]} at Reynolds {reyn_to_plot} polars are:\")\n",
                "axs, fig = plot_airfoil_reynolds(\n",
                "    airfoil,\n",
                "    reynolds[5],\n",
                "    [\"All\"],\n",
                "    plots = [[\"AoA\", \"Cm\"], [\"AoA\", \"CD\"]],\n",
                "    size=(10,9),\n",
                "    title= \"NACA 64418 flapped polars\"\n",
                ")\n",
                "# axs[0].axvline(x=1.1, color='b', linestyle='-')\n",
                "# axs[0].axhline(y=1.52, color='b', linestyle='-')"
            ]
        }
    ],
    "metadata": {
        "kernelspec": {
            "display_name": "aero",
            "language": "python",
            "name": "python3"
        },
        "language_info": {
            "codemirror_mode": {
                "name": "ipython",
                "version": 3
            },
            "file_extension": ".py",
            "mimetype": "text/x-python",
            "name": "python",
            "nbconvert_exporter": "python",
            "pygments_lexer": "ipython3",
            "version": "3.12.0"
        },
        "vscode": {
            "interpreter": {
                "hash": "8acd08952dc410be23279ea6eab1a080d514a48a01ad47827aa392f9fbd61ae4"
            }
        }
    },
    "nbformat": 4,
    "nbformat_minor": 2
}
