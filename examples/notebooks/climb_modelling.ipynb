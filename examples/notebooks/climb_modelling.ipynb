{
 "cells": [
  {
   "cell_type": "code",
   "execution_count": 3,
   "metadata": {},
   "outputs": [],
   "source": [
    "import pandas as pd\n",
    "import numpy as np\n",
    "from typing import Callable\n",
    "from ICARUS.Database.db import DB\n",
    "import os\n",
    "import matplotlib.pyplot as plt\n",
    "from typing import Any\n",
    "from numpy import dtype, floating, ndarray\n",
    "from scipy.interpolate import CubicSpline\n",
    "\n",
    "plt.ion()\n",
    "import time"
   ]
  },
  {
   "cell_type": "code",
   "execution_count": 4,
   "metadata": {},
   "outputs": [],
   "source": [
    "t0 = 0\n",
    "tend = 60\n",
    "x0 =  [0, 20, np.deg2rad(0.1)]\n",
    "operating_floor = 12.5\n",
    "elevator_max_deflection = 15\n",
    "v_mag_0 = 17.38"
   ]
  },
  {
   "cell_type": "code",
   "execution_count": 6,
   "metadata": {},
   "outputs": [],
   "source": [
    "engine_dir = \"Data/Engine/Motor_1/\"\n",
    "prop_dfs: dict[str, pd.DataFrame] = {}\n",
    "for prop_data in os.listdir(engine_dir):\n",
    "    if prop_data.endswith(\".csv\"):\n",
    "        prop_name = prop_data[:-4]\n",
    "        prop_dfs[prop_name] = pd.read_csv(engine_dir + prop_data)"
   ]
  },
  {
   "cell_type": "code",
   "execution_count": 7,
   "metadata": {},
   "outputs": [],
   "source": [
    "prop_dfs.keys(  )\n",
    "motor = prop_dfs['12x6E'].sort_values(by=['Airspeed [m/s]'])\n",
    "motor[\"Thrust [N]\"] = motor[\"Thrust [g]\"] * 9.81 / 1000"
   ]
  },
  {
   "cell_type": "code",
   "execution_count": 8,
   "metadata": {},
   "outputs": [],
   "source": [
    "W = 4\n",
    "gamma = 3\n",
    "Cl_somewhat = 0.5\n",
    "CD_0 = 0.05\n"
   ]
  },
  {
   "cell_type": "code",
   "execution_count": 9,
   "metadata": {},
   "outputs": [],
   "source": [
    "def interpolate_polars(aoa, cldata):\n",
    "    cl =  np.interp(aoa, cldata['AoA'], cldata['CL_2D'])\n",
    "    cd = np.interp(aoa, cldata['AoA'], cldata['CD_2D'])\n",
    "    cm = np.interp(aoa, cldata['AoA'], cldata['Cm_2D'])\n",
    "    return cl, cd, cm\n",
    "\n",
    "def interpolate_thrust(velocity, motor):\n",
    "    throtle_levels = motor['Throttle [%]'].unique()\n",
    "    min_throtle = motor[motor['Throttle [%]'] == min(throtle_levels)]\n",
    "    max_throtle = motor[motor['Throttle [%]'] == max(throtle_levels)]\n",
    "\n",
    "    min_thrust = np.interp(velocity, min_throtle['Airspeed [m/s]'], min_throtle['Thrust [N]'])\n",
    "    max_thrust = np.interp(velocity, max_throtle['Airspeed [m/s]'], max_throtle['Thrust [N]'])\n",
    "\n",
    "    return (min_thrust, max_thrust)\n",
    "\n",
    "def get_lift_drag_torque(plane: Airplane, velocity, aoa, cldata):\n",
    "    aoa = np.rad2deg(aoa)\n",
    "    cl , cd, cm= interpolate_polars(aoa, cldata[['CL_2D', \"CD_2D\",\"Cm_2D\", \"AoA\"]])\n",
    "    density = 1.225\n",
    "    lift = cl * 0.5 * density * velocity**2 * plane.S\n",
    "    drag = cd * 0.5 * density * velocity**2 * plane.S\n",
    "    torque = cm * 0.5 * density * velocity**2 * plane.S * plane.mean_aerodynamic_chord\n",
    "\n",
    "    return lift, drag, torque\n",
    "\n",
    "def get_elevator_lift_over_cl(elevator, velocity, aoa):\n",
    "    aoa = np.rad2deg(aoa)\n",
    "    density = 1.225\n",
    "    lift_over_cl =  np.pi * density * velocity**2 * elevator.S\n",
    "\n",
    "    return lift_over_cl\n",
    "\n",
    "def get_thrust(alpha,velocity, thrust):\n",
    "    thrust = interpolate_thrust(velocity, thrust)\n",
    "    thrust_x = thrust * np.cos(alpha)\n",
    "    thrust_y = thrust * np.sin(alpha)\n",
    "    return thrust_x, thrust_y"
   ]
  },
  {
   "cell_type": "code",
   "execution_count": null,
   "metadata": {},
   "outputs": [],
   "source": []
  }
 ],
 "metadata": {
  "kernelspec": {
   "display_name": "aero",
   "language": "python",
   "name": "python3"
  },
  "language_info": {
   "codemirror_mode": {
    "name": "ipython",
    "version": 3
   },
   "file_extension": ".py",
   "mimetype": "text/x-python",
   "name": "python",
   "nbconvert_exporter": "python",
   "pygments_lexer": "ipython3",
   "version": "3.11.4"
  }
 },
 "nbformat": 4,
 "nbformat_minor": 2
}
