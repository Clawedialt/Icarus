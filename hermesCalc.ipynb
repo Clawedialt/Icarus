{
 "cells": [
  {
   "cell_type": "code",
   "execution_count": null,
   "metadata": {},
   "outputs": [],
   "source": [
    "import numpy as np\n",
    "import os, sys\n",
    "import matplotlib.pyplot as plt\n",
    "\n",
    "from airLibs import airfoil as af\n",
    "from airLibs import runF2w as f2w\n",
    "from airLibs import plotting as aplt\n",
    "from airLibs import runOpenFoam as of\n",
    "from airLibs import runXFoil as xf"
   ]
  },
  {
   "cell_type": "code",
   "execution_count": null,
   "metadata": {},
   "outputs": [],
   "source": [
    "masterDir = os.getcwd()"
   ]
  },
  {
   "attachments": {},
   "cell_type": "markdown",
   "metadata": {},
   "source": [
    "# Reynolds And Mach and AoA"
   ]
  },
  {
   "cell_type": "code",
   "execution_count": null,
   "metadata": {},
   "outputs": [],
   "source": [
    "def ms2mach(ms):\n",
    "    return ms / 340.29\n",
    "\n",
    "def Re(v, c, n):\n",
    "    return (v * c) / n"
   ]
  },
  {
   "cell_type": "code",
   "execution_count": null,
   "metadata": {},
   "outputs": [],
   "source": [
    "chordMax = 0.18\n",
    "chordMin = 0.11\n",
    "umax = 30\n",
    "umin = 5\n",
    "ne = 1.56e-5"
   ]
  },
  {
   "cell_type": "code",
   "execution_count": null,
   "metadata": {},
   "outputs": [],
   "source": [
    "Machmin = ms2mach(10)\n",
    "Machmax = ms2mach(30)\n",
    "Remax = Re(umax, chordMax, ne)\n",
    "Remin = Re(umin, chordMin, ne)\n",
    "AoAmax = 10\n",
    "AoAmin = -6\n",
    "NoAoA = (AoAmax - AoAmin) * 4 + 1\n",
    "\n",
    "angles = np.linspace(AoAmin, AoAmax, NoAoA)\n",
    "Reynolds = np.logspace(np.log10(Remin), np.log10(Remax), 20, base=10)\n",
    "Mach = np.linspace(Machmax, Machmin, 10)\n",
    "\n",
    "Reyn = Remin\n",
    "MACH = Machmax"
   ]
  },
  {
   "cell_type": "code",
   "execution_count": null,
   "metadata": {},
   "outputs": [],
   "source": [
    "os.chdir(masterDir)\n",
    "CASE = \"Elevator\"\n",
    "os.chdir(CASE)\n",
    "caseDir = f\"Reynolds_{np.format_float_scientific(Reyn,sign=False,precision=3).replace('+', '')}\"\n",
    "os.system(f\"mkdir -p {caseDir}\")\n",
    "os.chdir(caseDir)\n",
    "caseDir = os.getcwd()\n",
    "cleaning = False\n",
    "calcF2W = True\n",
    "calcOpenFoam = False\n",
    "calcXFoil = False"
   ]
  },
  {
   "attachments": {},
   "cell_type": "markdown",
   "metadata": {},
   "source": [
    "# Get Airfoil"
   ]
  },
  {
   "cell_type": "code",
   "execution_count": null,
   "metadata": {},
   "outputs": [],
   "source": [
    "for i in os.listdir('../'):\n",
    "    if i.startswith(\"naca\"):\n",
    "        airfile = i\n",
    "airfoil = airfile[4:]"
   ]
  },
  {
   "attachments": {},
   "cell_type": "markdown",
   "metadata": {},
   "source": [
    "# Generate Airfoil"
   ]
  },
  {
   "cell_type": "code",
   "execution_count": null,
   "metadata": {},
   "outputs": [],
   "source": [
    "n_points = 100\n",
    "pts = af.saveAirfoil([\"s\", airfile, airfoil, 0, n_points])\n",
    "x, y = pts.T\n",
    "plt.plot(x[: n_points ], y[: n_points], \"r\")\n",
    "plt.plot(x[n_points:], y[n_points:], \"b\")\n",
    "\n",
    "# plt.plot(x,y)\n",
    "plt.axis(\"scaled\")"
   ]
  },
  {
   "attachments": {},
   "cell_type": "markdown",
   "metadata": {},
   "source": [
    "# Foil2Wake"
   ]
  },
  {
   "cell_type": "code",
   "execution_count": null,
   "metadata": {},
   "outputs": [],
   "source": [
    "Ncrit = 9\n",
    "ftrip_low = {\"pos\": 0.01, \"neg\": 0.02}\n",
    "ftrip_up = {\"pos\": 0.01, \"neg\": 0.02}\n",
    "\n",
    "if cleaning == True:\n",
    "    f2w.removeResults(angles)\n",
    "if calcF2W == True:\n",
    "    f2w.setupF2W()\n",
    "    clcd = f2w.runFw2(Reyn, MACH, ftrip_low, ftrip_up, angles, airfile)\n",
    "clcdcmFW = f2w.makeCLCD(Reyn, MACH)"
   ]
  },
  {
   "attachments": {},
   "cell_type": "markdown",
   "metadata": {},
   "source": [
    "# Xfoil"
   ]
  },
  {
   "cell_type": "code",
   "execution_count": null,
   "metadata": {},
   "outputs": [],
   "source": [
    "clcdcmXF = xf.runXFoil(Reyn, MACH, angles, airfoil)"
   ]
  },
  {
   "attachments": {},
   "cell_type": "markdown",
   "metadata": {},
   "source": [
    "# OpenFoam"
   ]
  },
  {
   "cell_type": "code",
   "execution_count": null,
   "metadata": {},
   "outputs": [],
   "source": [
    "os.chdir(caseDir)\n",
    "maxITER = 10500\n",
    "if cleaning == True:\n",
    "    of.cleanOpenFoam()\n",
    "if calcOpenFoam == True:\n",
    "    of.makeMesh(airfile)\n",
    "    of.setupOpenFoam(Reyn, MACH, angles, silent=True, maxITER=maxITER)\n",
    "    of.runFoam(angles)\n",
    "clcdcmOF = of.makeCLCD(angles)"
   ]
  }
 ],
 "metadata": {
  "kernelspec": {
   "display_name": "aero",
   "language": "python",
   "name": "python3"
  },
  "language_info": {
   "codemirror_mode": {
    "name": "ipython",
    "version": 3
   },
   "file_extension": ".py",
   "mimetype": "text/x-python",
   "name": "python",
   "nbconvert_exporter": "python",
   "pygments_lexer": "ipython3",
   "version": "3.10.8 (main, Nov 24 2022, 14:13:03) [GCC 11.2.0]"
  },
  "orig_nbformat": 4,
  "vscode": {
   "interpreter": {
    "hash": "8acd08952dc410be23279ea6eab1a080d514a48a01ad47827aa392f9fbd61ae4"
   }
  }
 },
 "nbformat": 4,
 "nbformat_minor": 2
}
