{
    "cells": [
        {
            "cell_type": "code",
            "execution_count": 36,
            "metadata": {},
            "outputs": [
                {
                    "name": "stdout",
                    "output_type": "stream",
                    "text": [
                        "The autoreload extension is already loaded. To reload it, use:\n",
                        "  %reload_ext autoreload\n"
                    ]
                }
            ],
            "source": [
                "%load_ext autoreload\n",
                "%autoreload 2\n",
                "%matplotlib qt"
            ]
        },
        {
            "cell_type": "code",
            "execution_count": 37,
            "metadata": {},
            "outputs": [],
            "source": [
                "import numpy as np\n",
                "\n",
                "from ICARUS.Core.units import calc_mach, calc_reynolds\n",
                "from ICARUS.Database import DB\n",
                "from ICARUS.Airfoils.airfoil import Airfoil\n",
                "from ICARUS.Core.struct import Struct\n",
                "from ICARUS.Computation.Solvers.solver import Solver\n",
                "from ICARUS.Computation.Solvers.OpenFoam.files.setup_case import MeshType"
            ]
        },
        {
            "attachments": {},
            "cell_type": "markdown",
            "metadata": {},
            "source": [
                "# Reynolds And Mach and AoA"
            ]
        },
        {
            "cell_type": "code",
            "execution_count": null,
            "metadata": {},
            "outputs": [],
            "source": [
                "# Assumptions\n",
                "chord_max: float = 0.5\n",
                "chord_min: float = 0.1\n",
                "u_max: float = 30.0\n",
                "u_min: float = 5.0\n",
                "viscosity: float = 1.56e-5\n",
                "speed_of_sound: float = 340.3\n",
                "\n",
                "# MACH ESTIMATION\n",
                "mach_min: float = calc_mach(10, speed_of_sound)\n",
                "mach_max: float = calc_mach(30, speed_of_sound)\n",
                "mach = np.linspace(mach_max, mach_min, 10)\n",
                "MACH: float = mach_max\n",
                "\n",
                "# REYNOLDS ESTIMATION\n",
                "reynolds_max: float = calc_reynolds(u_max, chord_max, viscosity)\n",
                "reynolds_min: float = calc_reynolds(u_min, chord_min, viscosity)\n",
                "reynolds = np.logspace(\n",
                "    start=np.log10(reynolds_min),\n",
                "    stop=np.log10(reynolds_max),\n",
                "    num=5,\n",
                "    base=10,\n",
                ")\n",
                "REYN = reynolds_max\n",
                "\n",
                "# ANGLE OF ATTACK SETUP\n",
                "aoa_max: float = 2\n",
                "aoa_min: float = -2\n",
                "num_of_angles: float = (aoa_max - aoa_min) * 2 + 1\n",
                "angles = np.linspace(\n",
                "    start=aoa_min,\n",
                "    stop=aoa_max,\n",
                "    num=num_of_angles,\n",
                ")\n",
                "\n",
                "ftrip_low: dict[str, float] = {\"pos\": 0.1, \"neg\": 0.2}\n",
                "ftrip_up: dict[str, float] = {\"pos\": 0.2, \"neg\": 0.1}"
            ]
        },
        {
            "cell_type": "code",
            "execution_count": null,
            "metadata": {},
            "outputs": [],
            "source": [
                "cleaning = False\n",
                "calcF2W = False\n",
                "calcOpenFoam = False\n",
                "calcXFoil = True"
            ]
        },
        {
            "attachments": {},
            "cell_type": "markdown",
            "metadata": {},
            "source": [
                "# Get Airfoil"
            ]
        },
        {
            "cell_type": "code",
            "execution_count": null,
            "metadata": {},
            "outputs": [],
            "source": [
                "airfoil_names = list(DB.foils_db.airfoils.keys())"
            ]
        },
        {
            "cell_type": "code",
            "execution_count": null,
            "metadata": {},
            "outputs": [],
            "source": [
                "airfoils = [airfoil  for airfoil in airfoil_names if \n",
                "            (\n",
                "                airfoil.upper().startswith('S') or \n",
                "                airfoil.upper().startswith('AG') or \n",
                "                airfoil.upper().startswith('CLARK') or\n",
                "                airfoil.upper().startswith('DAE') or\n",
                "                airfoil.upper().startswith('E') or\n",
                "                airfoil.upper().startswith('H') or\n",
                "                airfoil.upper().startswith('M') or\n",
                "                airfoil.upper().startswith('N') or\n",
                "                airfoil.upper().startswith('O') or\n",
                "                airfoil.upper().startswith('W') \n",
                "            )\n",
                "]\n",
                "print(len(airfoils))\n"
            ]
        },
        {
            "attachments": {},
            "cell_type": "markdown",
            "metadata": {},
            "source": [
                "# Foil2Wake"
            ]
        },
        {
            "cell_type": "code",
            "execution_count": null,
            "metadata": {},
            "outputs": [],
            "source": [
                "if calcF2W :\n",
                "    # Import Solver\n",
                "    from ICARUS.Computation.Solvers.Foil2Wake.f2w_section import Foil2Wake\n",
                "    f2w_s: Solver = Foil2Wake()\n",
                "\n",
                "    # Import Analysis\n",
                "    analysis: str = f2w_s.get_analyses_names()[0]  # Run\n",
                "    f2w_s.select_analysis(analysis)\n",
                "\n",
                "    # Get Options\n",
                "    options: Struct = f2w_s.get_analysis_options(verbose=True)\n",
                "    solver_parameters: Struct = f2w_s.get_solver_parameters()\n",
                "\n",
                "    # Set Options\n",
                "    options.airfoil = DB.foils_db.airfoils[airfoils[0]]\n",
                "    options.reynolds = reynolds\n",
                "    options.mach = MACH\n",
                "    options.f_trip_low = ftrip_low\n",
                "    options.f_trip_upper = ftrip_up\n",
                "    options.angles = angles\n",
                "\n",
                "    # RUN\n",
                "    f2w_s.set_analysis_options(options)\n",
                "    f2w_s.print_analysis_options()\n",
                "    f2w_s.execute()\n",
                "\n",
                "    # Get Results\n",
                "    polars = f2w_s.get_results()\n"
            ]
        },
        {
            "attachments": {},
            "cell_type": "markdown",
            "metadata": {},
            "source": [
                "# Xfoil"
            ]
        },
        {
            "cell_type": "code",
            "execution_count": 35,
            "metadata": {},
            "outputs": [
                {
                    "name": "stdout",
                    "output_type": "stream",
                    "text": [
                        "Analysis Completed\n",
                        "\n",
                        "Running airfoil W1011\n",
                        "\n",
                        "Airfoil Polar Analysis For a multiple Reynolds zeroing BL\n",
                        "Available Options of Xfoil for Airfoil Polar Analysis For a multiple Reynolds zeroing BL: \n",
                        "\n",
                        "| VarName   | Value                    | Description                       |\n",
                        "|-----------|--------------------------|-----------------------------------|\n",
                        "| airfoil   | Complex Datatype (w1011) | Airfoil Object                    |\n",
                        "| mach      | Complex Datatype         | Mach number                       |\n",
                        "| reynolds  | Complex Datatype         | List of Reynold's numbers to run  |\n",
                        "| min_aoa   | -5                       | Minimum angle of attack           |\n",
                        "| max_aoa   | 5                        | Maximum angle of attack           |\n",
                        "| aoa_step  | 1                        | Step between each angle of attack |\n",
                        "\n",
                        "If there are Multiple Values, or complex datatypes, or N/A you should inspect them sepretly by calling the option name\n",
                        "\n",
                        "Running Solver XFoil:\n",
                        "\tAnalysis Airfoil Polar Analysis For a multiple Reynolds zeroing BL...\n"
                    ]
                },
                {
                    "data": {
                        "application/vnd.jupyter.widget-view+json": {
                            "model_id": "cedda937eaac41e49af5b445c5f31406",
                            "version_major": 2,
                            "version_minor": 0
                        },
                        "text/plain": [
                            "  0%|          | 0/5 [00:00<?, ?it/s]"
                        ]
                    },
                    "metadata": {},
                    "output_type": "display_data"
                },
                {
                    "name": "stdout",
                    "output_type": "stream",
                    "text": [
                        "Analysis Completed\n",
                        "\n",
                        "Running airfoil W1015\n",
                        "\n",
                        "Airfoil Polar Analysis For a multiple Reynolds zeroing BL\n",
                        "Available Options of Xfoil for Airfoil Polar Analysis For a multiple Reynolds zeroing BL: \n",
                        "\n",
                        "| VarName   | Value                    | Description                       |\n",
                        "|-----------|--------------------------|-----------------------------------|\n",
                        "| airfoil   | Complex Datatype (w1015) | Airfoil Object                    |\n",
                        "| mach      | Complex Datatype         | Mach number                       |\n",
                        "| reynolds  | Complex Datatype         | List of Reynold's numbers to run  |\n",
                        "| min_aoa   | -5                       | Minimum angle of attack           |\n",
                        "| max_aoa   | 5                        | Maximum angle of attack           |\n",
                        "| aoa_step  | 1                        | Step between each angle of attack |\n",
                        "\n",
                        "If there are Multiple Values, or complex datatypes, or N/A you should inspect them sepretly by calling the option name\n",
                        "\n",
                        "Running Solver XFoil:\n",
                        "\tAnalysis Airfoil Polar Analysis For a multiple Reynolds zeroing BL...\n"
                    ]
                },
                {
                    "data": {
                        "application/vnd.jupyter.widget-view+json": {
                            "model_id": "a50dbc4e8d104a37a43e965b05898cb1",
                            "version_major": 2,
                            "version_minor": 0
                        },
                        "text/plain": [
                            "  0%|          | 0/5 [00:00<?, ?it/s]"
                        ]
                    },
                    "metadata": {},
                    "output_type": "display_data"
                },
                {
                    "name": "stdout",
                    "output_type": "stream",
                    "text": [
                        "Analysis Completed\n",
                        "\n",
                        "Running airfoil WASPSM\n",
                        "\n",
                        "Airfoil Polar Analysis For a multiple Reynolds zeroing BL\n",
                        "Available Options of Xfoil for Airfoil Polar Analysis For a multiple Reynolds zeroing BL: \n",
                        "\n",
                        "| VarName   | Value                     | Description                       |\n",
                        "|-----------|---------------------------|-----------------------------------|\n",
                        "| airfoil   | Complex Datatype (waspsm) | Airfoil Object                    |\n",
                        "| mach      | Complex Datatype          | Mach number                       |\n",
                        "| reynolds  | Complex Datatype          | List of Reynold's numbers to run  |\n",
                        "| min_aoa   | -5                        | Minimum angle of attack           |\n",
                        "| max_aoa   | 5                         | Maximum angle of attack           |\n",
                        "| aoa_step  | 1                         | Step between each angle of attack |\n",
                        "\n",
                        "If there are Multiple Values, or complex datatypes, or N/A you should inspect them sepretly by calling the option name\n",
                        "\n",
                        "Running Solver XFoil:\n",
                        "\tAnalysis Airfoil Polar Analysis For a multiple Reynolds zeroing BL...\n"
                    ]
                },
                {
                    "data": {
                        "application/vnd.jupyter.widget-view+json": {
                            "model_id": "65660798599741db80cabdf58e52511d",
                            "version_major": 2,
                            "version_minor": 0
                        },
                        "text/plain": [
                            "  0%|          | 0/5 [00:00<?, ?it/s]"
                        ]
                    },
                    "metadata": {},
                    "output_type": "display_data"
                },
                {
                    "name": "stdout",
                    "output_type": "stream",
                    "text": [
                        "Analysis Completed\n",
                        "\n",
                        "Running airfoil WB13535SM\n",
                        "\n",
                        "Airfoil Polar Analysis For a multiple Reynolds zeroing BL\n",
                        "Available Options of Xfoil for Airfoil Polar Analysis For a multiple Reynolds zeroing BL: \n",
                        "\n",
                        "| VarName   | Value                        | Description                       |\n",
                        "|-----------|------------------------------|-----------------------------------|\n",
                        "| airfoil   | Complex Datatype (wb13535sm) | Airfoil Object                    |\n",
                        "| mach      | Complex Datatype             | Mach number                       |\n",
                        "| reynolds  | Complex Datatype             | List of Reynold's numbers to run  |\n",
                        "| min_aoa   | -5                           | Minimum angle of attack           |\n",
                        "| max_aoa   | 5                            | Maximum angle of attack           |\n",
                        "| aoa_step  | 1                            | Step between each angle of attack |\n",
                        "\n",
                        "If there are Multiple Values, or complex datatypes, or N/A you should inspect them sepretly by calling the option name\n",
                        "\n",
                        "Running Solver XFoil:\n",
                        "\tAnalysis Airfoil Polar Analysis For a multiple Reynolds zeroing BL...\n"
                    ]
                },
                {
                    "data": {
                        "application/vnd.jupyter.widget-view+json": {
                            "model_id": "e4a067f8f08f47e5a63779ba162fe348",
                            "version_major": 2,
                            "version_minor": 0
                        },
                        "text/plain": [
                            "  0%|          | 0/5 [00:00<?, ?it/s]"
                        ]
                    },
                    "metadata": {},
                    "output_type": "display_data"
                },
                {
                    "name": "stdout",
                    "output_type": "stream",
                    "text": [
                        "Analysis Completed\n",
                        "\n",
                        "Running airfoil WB140\n",
                        "\n",
                        "Airfoil Polar Analysis For a multiple Reynolds zeroing BL\n",
                        "Available Options of Xfoil for Airfoil Polar Analysis For a multiple Reynolds zeroing BL: \n",
                        "\n",
                        "| VarName   | Value                    | Description                       |\n",
                        "|-----------|--------------------------|-----------------------------------|\n",
                        "| airfoil   | Complex Datatype (wb140) | Airfoil Object                    |\n",
                        "| mach      | Complex Datatype         | Mach number                       |\n",
                        "| reynolds  | Complex Datatype         | List of Reynold's numbers to run  |\n",
                        "| min_aoa   | -5                       | Minimum angle of attack           |\n",
                        "| max_aoa   | 5                        | Maximum angle of attack           |\n",
                        "| aoa_step  | 1                        | Step between each angle of attack |\n",
                        "\n",
                        "If there are Multiple Values, or complex datatypes, or N/A you should inspect them sepretly by calling the option name\n",
                        "\n",
                        "Running Solver XFoil:\n",
                        "\tAnalysis Airfoil Polar Analysis For a multiple Reynolds zeroing BL...\n"
                    ]
                },
                {
                    "data": {
                        "application/vnd.jupyter.widget-view+json": {
                            "model_id": "d71a7548716146359518e219f88fd126",
                            "version_major": 2,
                            "version_minor": 0
                        },
                        "text/plain": [
                            "  0%|          | 0/5 [00:00<?, ?it/s]"
                        ]
                    },
                    "metadata": {},
                    "output_type": "display_data"
                },
                {
                    "name": "stdout",
                    "output_type": "stream",
                    "text": [
                        "Analysis Completed\n",
                        "\n",
                        "Running airfoil WHITCOMB\n",
                        "\n",
                        "Airfoil Polar Analysis For a multiple Reynolds zeroing BL\n",
                        "Available Options of Xfoil for Airfoil Polar Analysis For a multiple Reynolds zeroing BL: \n",
                        "\n",
                        "| VarName   | Value                       | Description                       |\n",
                        "|-----------|-----------------------------|-----------------------------------|\n",
                        "| airfoil   | Complex Datatype (whitcomb) | Airfoil Object                    |\n",
                        "| mach      | Complex Datatype            | Mach number                       |\n",
                        "| reynolds  | Complex Datatype            | List of Reynold's numbers to run  |\n",
                        "| min_aoa   | -5                          | Minimum angle of attack           |\n",
                        "| max_aoa   | 5                           | Maximum angle of attack           |\n",
                        "| aoa_step  | 1                           | Step between each angle of attack |\n",
                        "\n",
                        "If there are Multiple Values, or complex datatypes, or N/A you should inspect them sepretly by calling the option name\n",
                        "\n",
                        "Running Solver XFoil:\n",
                        "\tAnalysis Airfoil Polar Analysis For a multiple Reynolds zeroing BL...\n"
                    ]
                },
                {
                    "data": {
                        "application/vnd.jupyter.widget-view+json": {
                            "model_id": "f25a9060458b4bce88a418d83ffb1462",
                            "version_major": 2,
                            "version_minor": 0
                        },
                        "text/plain": [
                            "  0%|          | 0/5 [00:00<?, ?it/s]"
                        ]
                    },
                    "metadata": {},
                    "output_type": "display_data"
                },
                {
                    "name": "stdout",
                    "output_type": "stream",
                    "text": [
                        "Analysis Completed\n"
                    ]
                }
            ],
            "source": [
                "if calcXFoil:\n",
                "    from ICARUS.Computation.Solvers.Xfoil.xfoil import Xfoil \n",
                "    import matplotlib.pyplot as plt\n",
                "    import time\n",
                "\n",
                "    for airfoil in airfoils:\n",
                "        print(f\"\\nRunning airfoil {airfoil}\\n\")\n",
                "        # # Get airfoil\n",
                "        airf: Airfoil = DB.foils_db.airfoils[airfoil]\n",
                "        airf.selig = airf.to_selig()\n",
                "        # airf.plot()\n",
                "        xfoil: Solver = Xfoil()\n",
                "\n",
                "        # Import Analysis\n",
                "        analysis: str = xfoil.get_analyses_names()[1]  # Run\n",
                "        xfoil.select_analysis(analysis)\n",
                "\n",
                "        # Get Options\n",
                "        options = xfoil.get_analysis_options(verbose=False)\n",
                "        solver_parameters = xfoil.get_solver_parameters()\n",
                "\n",
                "        # Set Options\n",
                "        options.airfoil = airf\n",
                "        options.mach = MACH\n",
                "        options.reynolds = reynolds\n",
                "        options.min_aoa = -5\n",
                "        options.max_aoa = 5\n",
                "        options.aoa_step = 1\n",
                "\n",
                "        # Set Solver Options\n",
                "        solver_parameters.max_iter = 1000\n",
                "        solver_parameters.Ncrit = 9\n",
                "        solver_parameters.xtr = (0.1, 0.1)\n",
                "        solver_parameters.print = True\n",
                "        \n",
                "        xfoil.define_analysis(options, solver_parameters)\n",
                "        xfoil.print_analysis_options()\n",
                "        \n",
                "        # RUN\n",
                "        xfoil.execute()"
            ]
        },
        {
            "cell_type": "code",
            "execution_count": null,
            "metadata": {},
            "outputs": [],
            "source": [
                "print(airfoils[1])\n",
                "DB.foils_db.polars[airfoils[1]]"
            ]
        },
        {
            "attachments": {},
            "cell_type": "markdown",
            "metadata": {},
            "source": [
                "# Mapflow"
            ]
        },
        {
            "cell_type": "code",
            "execution_count": null,
            "metadata": {},
            "outputs": [],
            "source": []
        },
        {
            "cell_type": "markdown",
            "metadata": {},
            "source": [
                "# OpenFoam (NOT HIGH MACH)"
            ]
        },
        {
            "cell_type": "code",
            "execution_count": null,
            "metadata": {},
            "outputs": [],
            "source": [
                "if calcOpenFoam:\n",
                "    airfoils: list[str] = [airf.name]#[\"0008\"]\n",
                "    from ICARUS.Computation.Solvers.OpenFoam.open_foam import OpenFoam\n",
                "\n",
                "    for airfoil in airfoils:\n",
                "        print(f\"\\nRunning airfoil {airfoil}\\n\")\n",
                "        # # Get Airfoil\n",
                "        airf: Airfoil = Airfoil.naca(airfoil, n_points=200)\n",
                "        # airf.plot()\n",
                "        open_foam: Solver = OpenFoam()\n",
                "\n",
                "        # Import Analysis\n",
                "        analysis: str = open_foam.get_analyses_names()[0]  # Run\n",
                "        open_foam.select_analysis(analysis)\n",
                "\n",
                "        # Get Options\n",
                "        options = open_foam.get_analysis_options(verbose=True)\n",
                "        solver_parameters = open_foam.get_solver_parameters()\n",
                "\n",
                "        # Set Options\n",
                "        options.airfoil = airf\n",
                "        options.angles = angles\n",
                "        options.reynolds = REYN\n",
                "        options.mach = MACH\n",
                "        open_foam.print_analysis_options()\n",
                "\n",
                "        # Set Solver Options\n",
                "        solver_parameters.mesh_type = MeshType.structAirfoilMesher\n",
                "        solver_parameters.max_iterations = 20\n",
                "        solver_parameters.silent = False\n",
                "        \n",
                "        # RUN\n",
                "        open_foam.set_analysis_options(options)\n",
                "        open_foam.print_analysis_options()\n",
                "        open_foam.execute()"
            ]
        },
        {
            "cell_type": "code",
            "execution_count": null,
            "metadata": {},
            "outputs": [],
            "source": []
        }
    ],
    "metadata": {
        "kernelspec": {
            "display_name": "aero",
            "language": "python",
            "name": "python3"
        },
        "language_info": {
            "codemirror_mode": {
                "name": "ipython",
                "version": 3
            },
            "file_extension": ".py",
            "mimetype": "text/x-python",
            "name": "python",
            "nbconvert_exporter": "python",
            "pygments_lexer": "ipython3",
            "version": "3.12.0"
        },
        "vscode": {
            "interpreter": {
                "hash": "8acd08952dc410be23279ea6eab1a080d514a48a01ad47827aa392f9fbd61ae4"
            }
        }
    },
    "nbformat": 4,
    "nbformat_minor": 2
}
