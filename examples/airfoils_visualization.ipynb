{
    "cells": [
        {
            "cell_type": "code",
            "execution_count": 1,
            "metadata": {},
            "outputs": [],
            "source": [
                "%load_ext autoreload\n",
                "%autoreload 2\n",
                "%matplotlib qt"
            ]
        },
        {
            "cell_type": "code",
            "execution_count": 2,
            "metadata": {},
            "outputs": [
                {
                    "name": "stderr",
                    "output_type": "stream",
                    "text": [
                        "ERROR:root:Airfoil AG04 not found in DB2D or EXTERNAL DB\n"
                    ]
                },
                {
                    "name": "stdout",
                    "output_type": "stream",
                    "text": [
                        "Error loading airfoil AG03 from DB2D. Got error: attempt to get argmin of an empty sequence\n",
                        "Airfoil AG04 not found in DB2D or EXTERNAL DB\n"
                    ]
                },
                {
                    "name": "stderr",
                    "output_type": "stream",
                    "text": [
                        "ERROR:root:Airfoil images not found in DB2D or EXTERNAL DB\n"
                    ]
                },
                {
                    "name": "stdout",
                    "output_type": "stream",
                    "text": [
                        "Airfoil images not found in DB2D or EXTERNAL DB\n",
                        "Error in interpolating the airfoil data\n",
                        "Lower xs:\n",
                        "[0.000000e+00 6.870000e-05 7.181000e-04 1.878700e-03 3.843900e-03\n",
                        " 6.322100e-03 8.814300e-03 1.181410e-02 1.782690e-02 2.154460e-02\n",
                        " 2.756840e-02 3.359530e-02 3.962520e-02 4.565700e-02 5.169020e-02\n",
                        " 5.973630e-02 6.979530e-02 7.985710e-02 8.991900e-02 9.998280e-02\n",
                        " 1.100465e-01 1.251442e-01 1.402415e-01 1.553399e-01 1.704383e-01\n",
                        " 1.855357e-01 2.006342e-01 2.157315e-01 2.308300e-01 2.459284e-01\n",
                        " 2.610257e-01 2.761242e-01 2.912235e-01 3.113556e-01 3.314900e-01\n",
                        " 3.516258e-01 3.717628e-01 3.919010e-01 4.120401e-01 4.321793e-01\n",
                        " 4.523206e-01 4.724628e-01 4.926062e-01 5.127506e-01 5.328960e-01\n",
                        " 5.530424e-01 5.731888e-01 5.933372e-01 6.134868e-01 6.336375e-01\n",
                        " 6.537892e-01 6.739418e-01 6.940945e-01 7.142490e-01 7.344044e-01\n",
                        " 7.545605e-01 7.747174e-01 7.948748e-01 8.150318e-01 8.351902e-01\n",
                        " 8.553490e-01 8.755080e-01 8.956673e-01 9.158267e-01 9.259060e-01\n",
                        " 9.359855e-01 9.460661e-01 9.561460e-01 9.662273e-01 9.762995e-01\n",
                        " 9.863726e-01 9.964448e-01 1.000000e+00]\n",
                        "Upper xs:\n",
                        "[0.000000e+00 1.000000e-07 1.326000e-04 9.025000e-04 2.177700e-03\n",
                        " 4.270500e-03 6.861700e-03 9.439600e-03 1.252280e-02 1.866720e-02\n",
                        " 2.245200e-02 2.857120e-02 3.467730e-02 4.077250e-02 4.685900e-02\n",
                        " 5.293850e-02 6.103660e-02 7.114840e-02 8.125340e-02 9.135140e-02\n",
                        " 1.014458e-01 1.115353e-01 1.266648e-01 1.417878e-01 1.569077e-01\n",
                        " 1.720245e-01 1.871373e-01 2.022481e-01 2.173548e-01 2.324597e-01\n",
                        " 2.475623e-01 2.626617e-01 2.777603e-01 2.928576e-01 3.129842e-01\n",
                        " 3.331099e-01 3.532338e-01 3.733560e-01 3.934767e-01 4.135959e-01\n",
                        " 4.337125e-01 4.538288e-01 4.739435e-01 4.940568e-01 5.141689e-01\n",
                        " 5.342793e-01 5.543886e-01 5.744953e-01 5.946016e-01 6.147066e-01\n",
                        " 6.348101e-01 6.549124e-01 6.750130e-01 6.951115e-01 7.152095e-01\n",
                        " 7.353065e-01 7.554021e-01 7.754967e-01 7.955904e-01 8.156822e-01\n",
                        " 8.357743e-01 8.558658e-01 8.759568e-01 8.960472e-01 9.161372e-01\n",
                        " 9.261814e-01 9.362255e-01 9.462701e-01 9.563136e-01 9.663576e-01\n",
                        " 9.764083e-01 9.864605e-01 9.965117e-01 1.000000e+00 1.000000e+00]\n",
                        "i: 74, x: 1.0, x-1: 1.0\n",
                        "Error loading airfoil from C:\\Users\\tryfo\\Desktop\\Software\\Icarus\\Data\\2D\\SC1094R8\\sc1094r8\n",
                        "Error loading airfoil SC1094R8 from DB2D. Got error: `x` must be strictly increasing sequence.\n",
                        "Error in interpolating the airfoil data\n",
                        "Lower xs:\n",
                        "[-9.7045e-03 -7.0500e-04  2.2950e-03  8.2950e-03  1.2000e-02  1.8000e-02\n",
                        "  2.4000e-02  3.0000e-02  3.6000e-02  4.2000e-02  5.0000e-02  6.0000e-02\n",
                        "  7.0000e-02  8.0000e-02  9.0000e-02  1.0000e-01  1.1500e-01  1.3000e-01\n",
                        "  1.4500e-01  1.6000e-01  1.7500e-01  1.9000e-01  2.0500e-01  2.2000e-01\n",
                        "  2.3500e-01  2.5000e-01  2.6500e-01  2.8000e-01  3.0000e-01  3.2000e-01\n",
                        "  3.4000e-01  3.6000e-01  3.8000e-01  4.0000e-01  4.2000e-01  4.4000e-01\n",
                        "  4.6000e-01  4.8000e-01  5.0000e-01  5.2000e-01  5.4000e-01  5.6000e-01\n",
                        "  5.8000e-01  6.0000e-01  6.2000e-01  6.4000e-01  6.6000e-01  6.8000e-01\n",
                        "  7.0000e-01  7.2000e-01  7.4000e-01  7.6000e-01  7.8000e-01  8.0000e-01\n",
                        "  8.2000e-01  8.4000e-01  8.6000e-01  8.8000e-01  9.0000e-01  9.1000e-01\n",
                        "  9.2000e-01  9.3000e-01  9.4000e-01  9.5000e-01  9.6000e-01  9.7000e-01\n",
                        "  9.8000e-01  9.8350e-01]\n",
                        "Upper xs:\n",
                        "[-9.7045e-03 -9.6050e-03 -9.6050e-03 -8.9050e-03 -8.9050e-03 -7.7050e-03\n",
                        " -7.7050e-03 -5.7050e-03 -5.7050e-03 -3.2050e-03 -3.2050e-03 -7.0500e-04\n",
                        "  2.2950e-03  8.2950e-03  1.2000e-02  1.8000e-02  2.4000e-02  3.0000e-02\n",
                        "  3.6000e-02  4.2000e-02  5.0000e-02  6.0000e-02  7.0000e-02  8.0000e-02\n",
                        "  9.0000e-02  1.0000e-01  1.1500e-01  1.3000e-01  1.4500e-01  1.6000e-01\n",
                        "  1.7500e-01  1.9000e-01  2.0500e-01  2.2000e-01  2.3500e-01  2.5000e-01\n",
                        "  2.6500e-01  2.8000e-01  3.0000e-01  3.2000e-01  3.4000e-01  3.6000e-01\n",
                        "  3.8000e-01  4.0000e-01  4.2000e-01  4.4000e-01  4.6000e-01  4.8000e-01\n",
                        "  5.0000e-01  5.2000e-01  5.4000e-01  5.6000e-01  5.8000e-01  6.0000e-01\n",
                        "  6.2000e-01  6.4000e-01  6.6000e-01  6.8000e-01  7.0000e-01  7.2000e-01\n",
                        "  7.4000e-01  7.6000e-01  7.8000e-01  8.0000e-01  8.2000e-01  8.4000e-01\n",
                        "  8.6000e-01  8.8000e-01  9.0000e-01  9.1000e-01  9.2000e-01  9.3000e-01\n",
                        "  9.4000e-01  9.5000e-01  9.6000e-01  9.7000e-01  9.8000e-01  9.8350e-01\n",
                        "  9.8350e-01]\n",
                        "i: 2, x: -0.009605, x-1: -0.009605\n",
                        "i: 4, x: -0.008905, x-1: -0.008905\n",
                        "i: 6, x: -0.007705, x-1: -0.007705\n",
                        "i: 8, x: -0.005705, x-1: -0.005705\n",
                        "i: 10, x: -0.003205, x-1: -0.003205\n",
                        "i: 78, x: 0.9835, x-1: 0.9835\n",
                        "Error loading airfoil from C:\\Users\\tryfo\\Desktop\\Software\\Icarus\\Data\\2D\\SC1095R8\\sc1095r8\n",
                        "Error loading airfoil SC1095R8 from DB2D. Got error: `x` must be strictly increasing sequence.\n",
                        "Error in interpolating the airfoil data\n",
                        "Lower xs:\n",
                        "[0.     0.0125 0.025  0.05   0.075  0.1    0.125  0.15   0.175  0.175\n",
                        " 0.225  0.25   0.275  0.3    0.35   0.4    0.45   0.5    0.55   0.6\n",
                        " 0.65   0.7    0.75   0.8    0.85   0.9    0.95   1.    ]\n",
                        "i: 9, x: 0.175, x-1: 0.175\n",
                        "Upper xs:\n",
                        "[0.     0.0125 0.025  0.05   0.075  0.1    0.125  0.15   0.175  0.2\n",
                        " 0.225  0.25   0.275  0.3    0.35   0.4    0.45   0.5    0.55   0.6\n",
                        " 0.65   0.7    0.75   0.8    0.85   0.9    0.95   1.    ]\n",
                        "Error loading airfoil from C:\\Users\\tryfo\\Desktop\\Software\\Icarus\\Data\\2D\\WB140\\wb140\n",
                        "Error loading airfoil WB140 from DB2D. Got error: `x` must be strictly increasing sequence.\n"
                    ]
                }
            ],
            "source": [
                "from ICARUS.Database import DB\n",
                "from ICARUS.Database import EXTERNAL_DB\n",
                "DB.load_data()"
            ]
        },
        {
            "attachments": {},
            "cell_type": "markdown",
            "metadata": {},
            "source": [
                "# Load Database"
            ]
        },
        {
            "cell_type": "code",
            "execution_count": 3,
            "metadata": {},
            "outputs": [
                {
                    "name": "stdout",
                    "output_type": "stream",
                    "text": [
                        "We have a total of 95 airfoils\n"
                    ]
                }
            ],
            "source": [
                "db = DB.foils_db\n",
                "\n",
                "from ICARUS.Computation.Solvers.XFLR5.polars import read_polars_2d\n",
                "read_polars_2d(EXTERNAL_DB)\n",
                "\n",
                "airfoils = db._data\n",
                "\n",
                "# index = int(input(\"Select an airfoil: \"))\n",
                "index = 312\n",
                "airfoil_names: list[str] = list(airfoils.keys())\n",
                "print(f\"We have a total of {len(airfoil_names)} airfoils\")"
            ]
        },
        {
            "cell_type": "code",
            "execution_count": 4,
            "metadata": {},
            "outputs": [
                {
                    "name": "stdout",
                    "output_type": "stream",
                    "text": [
                        "We have a total of 5 NACA airfoils\n",
                        "We have a total of 9 Clark Y airfoils\n",
                        "We have a total of 0 S airfoils\n",
                        "We have a total of 33 A airfoils\n"
                    ]
                }
            ],
            "source": [
                "naca_airfoils = [airfoil_name for airfoil_name in airfoil_names if airfoil_name.startswith(\"NACA\")]\n",
                "print(f\"We have a total of {len(naca_airfoils)} NACA airfoils\")\n",
                "\n",
                "clarky_airfoils = [airfoil_name for airfoil_name in airfoil_names if airfoil_name.startswith(\"C\")]\n",
                "print(f\"We have a total of {len(clarky_airfoils)} Clark Y airfoils\")\n",
                "\n",
                "s_airfoils = [airfoil_name for airfoil_name in airfoil_names if airfoil_name.startswith(\"S\")]\n",
                "print(f\"We have a total of {len(s_airfoils)} S airfoils\")\n",
                "\n",
                "a_airfoils = [airfoil_name for airfoil_name in airfoil_names if airfoil_name.startswith(\"A\")]\n",
                "print(f\"We have a total of {len(a_airfoils)} A airfoils\")"
            ]
        },
        {
            "attachments": {},
            "cell_type": "markdown",
            "metadata": {},
            "source": [
                "# Airfoil Polars"
            ]
        },
        {
            "cell_type": "code",
            "execution_count": 5,
            "metadata": {},
            "outputs": [],
            "source": [
                "from ICARUS.Visualization.airfoil.db_polars import plot_airfoils_polars"
            ]
        },
        {
            "cell_type": "code",
            "execution_count": 6,
            "metadata": {},
            "outputs": [
                {
                    "name": "stdout",
                    "output_type": "stream",
                    "text": [
                        "Skipping Foil2Wake is not in ['Xfoil']\n",
                        "Skipping Foil2Wake is not in ['Xfoil']\n",
                        "Skipping Foil2Wake is not in ['Xfoil']\n",
                        "Skipping Foil2Wake is not in ['Xfoil']\n"
                    ]
                }
            ],
            "source": [
                "axs, fig = plot_airfoils_polars(\n",
                "    airfoil_names= a_airfoils,\n",
                "    solvers = [\"Xfoil\" ],\n",
                "    reynolds= 1e6,\n",
                "    plots = [[\"AoA\", \"CL\"], [\"AoA\", \"CD\"], [\"AoA\", \"Cm\"], [\"AoA\", \"CL/CD\"]],\n",
                "    size=(10,9),\n",
                ")\n",
                "# axs[0].axvline(x=1.1, color='b', linestyle='-')\n",
                "# axs[0].axhline(y=1.52, color='b', linestyle='-')"
            ]
        },
        {
            "cell_type": "code",
            "execution_count": 10,
            "metadata": {},
            "outputs": [
                {
                    "name": "stdout",
                    "output_type": "stream",
                    "text": [
                        "'Xfoil'\n",
                        "Saved C:\\Users\\tryfo\\Desktop\\Software\\Icarus\\Data\\images\\AG08_polars_xfoil.png\n",
                        "Saved C:\\Users\\tryfo\\Desktop\\Software\\Icarus\\Data\\images\\AG09_polars_xfoil.png\n",
                        "Saved C:\\Users\\tryfo\\Desktop\\Software\\Icarus\\Data\\images\\AG10_polars_xfoil.png\n",
                        "'Xfoil'\n",
                        "Saved C:\\Users\\tryfo\\Desktop\\Software\\Icarus\\Data\\images\\AG12_polars_xfoil.png\n",
                        "Saved C:\\Users\\tryfo\\Desktop\\Software\\Icarus\\Data\\images\\AG13_polars_xfoil.png\n",
                        "Saved C:\\Users\\tryfo\\Desktop\\Software\\Icarus\\Data\\images\\AG14_polars_xfoil.png\n",
                        "'Xfoil'\n",
                        "'Xfoil'\n",
                        "'Xfoil'\n",
                        "'Xfoil'\n",
                        "'Xfoil'\n",
                        "Saved C:\\Users\\tryfo\\Desktop\\Software\\Icarus\\Data\\images\\AG24_polars_xfoil.png\n",
                        "Saved C:\\Users\\tryfo\\Desktop\\Software\\Icarus\\Data\\images\\AG25_polars_xfoil.png\n",
                        "Saved C:\\Users\\tryfo\\Desktop\\Software\\Icarus\\Data\\images\\AG26_polars_xfoil.png\n",
                        "Saved C:\\Users\\tryfo\\Desktop\\Software\\Icarus\\Data\\images\\AG27_polars_xfoil.png\n",
                        "'Xfoil'\n",
                        "'Xfoil'\n",
                        "Saved C:\\Users\\tryfo\\Desktop\\Software\\Icarus\\Data\\images\\AG37_polars_xfoil.png\n",
                        "'Xfoil'\n",
                        "Saved C:\\Users\\tryfo\\Desktop\\Software\\Icarus\\Data\\images\\AG44CT02R_polars_xfoil.png\n",
                        "Saved C:\\Users\\tryfo\\Desktop\\Software\\Icarus\\Data\\images\\AG455CT02R_polars_xfoil.png\n",
                        "'Xfoil'\n",
                        "Saved C:\\Users\\tryfo\\Desktop\\Software\\Icarus\\Data\\images\\AG45CT02R_polars_xfoil.png\n",
                        "'Xfoil'\n",
                        "Saved C:\\Users\\tryfo\\Desktop\\Software\\Icarus\\Data\\images\\AG46CT02R_polars_xfoil.png\n",
                        "'Xfoil'\n",
                        "Saved C:\\Users\\tryfo\\Desktop\\Software\\Icarus\\Data\\images\\AG47CT02R_polars_xfoil.png\n",
                        "Saved C:\\Users\\tryfo\\Desktop\\Software\\Icarus\\Data\\images\\AG52_polars_xfoil.png\n",
                        "Saved C:\\Users\\tryfo\\Desktop\\Software\\Icarus\\Data\\images\\AG53_polars_xfoil.png\n",
                        "Saved C:\\Users\\tryfo\\Desktop\\Software\\Icarus\\Data\\images\\AG54_polars_xfoil.png\n",
                        "Saved C:\\Users\\tryfo\\Desktop\\Software\\Icarus\\Data\\images\\AG55_polars_xfoil.png\n",
                        "Saved C:\\Users\\tryfo\\Desktop\\Software\\Icarus\\Data\\images\\CLARKK_polars_xfoil.png\n",
                        "Saved C:\\Users\\tryfo\\Desktop\\Software\\Icarus\\Data\\images\\CLARKV_polars_xfoil.png\n",
                        "Saved C:\\Users\\tryfo\\Desktop\\Software\\Icarus\\Data\\images\\CLARKW_polars_xfoil.png\n",
                        "Saved C:\\Users\\tryfo\\Desktop\\Software\\Icarus\\Data\\images\\CLARKX_polars_xfoil.png\n",
                        "Saved C:\\Users\\tryfo\\Desktop\\Software\\Icarus\\Data\\images\\CLARKY_polars_xfoil.png\n",
                        "Saved C:\\Users\\tryfo\\Desktop\\Software\\Icarus\\Data\\images\\CLARKYH_polars_xfoil.png\n",
                        "Saved C:\\Users\\tryfo\\Desktop\\Software\\Icarus\\Data\\images\\CLARKYS_polars_xfoil.png\n",
                        "Saved C:\\Users\\tryfo\\Desktop\\Software\\Icarus\\Data\\images\\CLARKYSM_polars_xfoil.png\n",
                        "Saved C:\\Users\\tryfo\\Desktop\\Software\\Icarus\\Data\\images\\CLARKZ_polars_xfoil.png\n",
                        "Saved C:\\Users\\tryfo\\Desktop\\Software\\Icarus\\Data\\images\\DAE11_polars_xfoil.png\n",
                        "Saved C:\\Users\\tryfo\\Desktop\\Software\\Icarus\\Data\\images\\DAE21_polars_xfoil.png\n",
                        "Saved C:\\Users\\tryfo\\Desktop\\Software\\Icarus\\Data\\images\\DAE31_polars_xfoil.png\n",
                        "'Xfoil'\n",
                        "Saved C:\\Users\\tryfo\\Desktop\\Software\\Icarus\\Data\\images\\E1098_polars_xfoil.png\n",
                        "Saved C:\\Users\\tryfo\\Desktop\\Software\\Icarus\\Data\\images\\E1200_polars_xfoil.png\n",
                        "Saved C:\\Users\\tryfo\\Desktop\\Software\\Icarus\\Data\\images\\E1210_polars_xfoil.png\n",
                        "Saved C:\\Users\\tryfo\\Desktop\\Software\\Icarus\\Data\\images\\E1211_polars_xfoil.png\n",
                        "'Xfoil'\n",
                        "Saved C:\\Users\\tryfo\\Desktop\\Software\\Icarus\\Data\\images\\E1212MOD_polars_xfoil.png\n",
                        "Saved C:\\Users\\tryfo\\Desktop\\Software\\Icarus\\Data\\images\\E1213_polars_xfoil.png\n",
                        "Saved C:\\Users\\tryfo\\Desktop\\Software\\Icarus\\Data\\images\\E1214_polars_xfoil.png\n",
                        "'Xfoil'\n",
                        "Saved C:\\Users\\tryfo\\Desktop\\Software\\Icarus\\Data\\images\\E1233_polars_xfoil.png\n",
                        "Saved C:\\Users\\tryfo\\Desktop\\Software\\Icarus\\Data\\images\\E168_polars_xfoil.png\n",
                        "Saved C:\\Users\\tryfo\\Desktop\\Software\\Icarus\\Data\\images\\E169_polars_xfoil.png\n",
                        "Saved C:\\Users\\tryfo\\Desktop\\Software\\Icarus\\Data\\images\\E171_polars_xfoil.png\n",
                        "'Xfoil'\n",
                        "Saved C:\\Users\\tryfo\\Desktop\\Software\\Icarus\\Data\\images\\E176_polars_xfoil.png\n",
                        "Saved C:\\Users\\tryfo\\Desktop\\Software\\Icarus\\Data\\images\\E178_polars_xfoil.png\n",
                        "Saved C:\\Users\\tryfo\\Desktop\\Software\\Icarus\\Data\\images\\E180_polars_xfoil.png\n",
                        "'Xfoil'\n",
                        "Saved C:\\Users\\tryfo\\Desktop\\Software\\Icarus\\Data\\images\\E184_polars_xfoil.png\n",
                        "Saved C:\\Users\\tryfo\\Desktop\\Software\\Icarus\\Data\\images\\E186_polars_xfoil.png\n",
                        "'Xfoil'\n",
                        "Saved C:\\Users\\tryfo\\Desktop\\Software\\Icarus\\Data\\images\\E195_polars_xfoil.png\n",
                        "Saved C:\\Users\\tryfo\\Desktop\\Software\\Icarus\\Data\\images\\E197_polars_xfoil.png\n",
                        "Saved C:\\Users\\tryfo\\Desktop\\Software\\Icarus\\Data\\images\\E201_polars_xfoil.png\n",
                        "Saved C:\\Users\\tryfo\\Desktop\\Software\\Icarus\\Data\\images\\E203_polars_xfoil.png\n",
                        "Saved C:\\Users\\tryfo\\Desktop\\Software\\Icarus\\Data\\images\\E205_polars_xfoil.png\n",
                        "Saved C:\\Users\\tryfo\\Desktop\\Software\\Icarus\\Data\\images\\E207_polars_xfoil.png\n",
                        "Saved C:\\Users\\tryfo\\Desktop\\Software\\Icarus\\Data\\images\\E209_polars_xfoil.png\n",
                        "Saved C:\\Users\\tryfo\\Desktop\\Software\\Icarus\\Data\\images\\E210_polars_xfoil.png\n",
                        "Saved C:\\Users\\tryfo\\Desktop\\Software\\Icarus\\Data\\images\\E211_polars_xfoil.png\n",
                        "'Xfoil'\n",
                        "Saved C:\\Users\\tryfo\\Desktop\\Software\\Icarus\\Data\\images\\E214_polars_xfoil.png\n",
                        "'Xfoil'\n",
                        "Saved C:\\Users\\tryfo\\Desktop\\Software\\Icarus\\Data\\images\\E220_polars_xfoil.png\n",
                        "'Xfoil'\n",
                        "Saved C:\\Users\\tryfo\\Desktop\\Software\\Icarus\\Data\\images\\E222_polars_xfoil.png\n",
                        "Saved C:\\Users\\tryfo\\Desktop\\Software\\Icarus\\Data\\images\\E224_polars_xfoil.png\n",
                        "'Xfoil'\n",
                        "Saved C:\\Users\\tryfo\\Desktop\\Software\\Icarus\\Data\\images\\E228_polars_xfoil.png\n",
                        "'Xfoil'\n",
                        "Saved C:\\Users\\tryfo\\Desktop\\Software\\Icarus\\Data\\images\\E231_polars_xfoil.png\n",
                        "Saved C:\\Users\\tryfo\\Desktop\\Software\\Icarus\\Data\\images\\E266_polars_xfoil.png\n",
                        "Saved C:\\Users\\tryfo\\Desktop\\Software\\Icarus\\Data\\images\\E297_polars_xfoil.png\n",
                        "'Xfoil'\n"
                    ]
                }
            ],
            "source": [
                "from ICARUS import APPHOME\n",
                "from ICARUS.Airfoils.airfoil_polars import Polars\n",
                "import os\n",
                "\n",
                "s_polars = [polar for k,polar in db.polars.items()]\n",
                "for p in s_polars:\n",
                "    try:\n",
                "        polar: Polars = p['Xfoil']\n",
                "        # polar.plot()\n",
                "        airfoil_folder = os.path.join(APPHOME,\"Data\",\"images\")\n",
                "        polar.save_polar_plot_img(airfoil_folder, desc='xfoil')\n",
                "    except Exception as e:\n",
                "        print(e)\n",
                "        continue"
            ]
        },
        {
            "attachments": {},
            "cell_type": "markdown",
            "metadata": {},
            "source": [
                "# Select Reynolds number "
            ]
        },
        {
            "cell_type": "code",
            "execution_count": null,
            "metadata": {},
            "outputs": [],
            "source": [
                "reynolds = db.polars[airfoil_names[0]][\"Xfoil\"].reynolds_keys\n",
                "\n",
                "if reynolds is not None:\n",
                "    print(f\"For NACA {airfoil_names[0][4:]} these Reynolds were Computed:\")\n",
                "    print(*[f\"{i}:\\t{reyn}\\n\" for i,reyn in enumerate(reynolds)])\n",
                "    index = int(input(\"Select Reynolds: \"))\n",
                "    reyn_to_plot = reynolds[index]\n",
                "else:\n",
                "    raise ValueError(f\"Reynolds for {airfoil_names[0]} were not computed\")"
            ]
        },
        {
            "attachments": {},
            "cell_type": "markdown",
            "metadata": {},
            "source": [
                "# Plot Reynolds"
            ]
        },
        {
            "cell_type": "code",
            "execution_count": null,
            "metadata": {},
            "outputs": [],
            "source": [
                "from ICARUS.Visualization.airfoil.airfoil_reynolds import plot_airfoil_reynolds"
            ]
        },
        {
            "cell_type": "code",
            "execution_count": null,
            "metadata": {},
            "outputs": [],
            "source": [
                "print(f\"NACA {airfoil_names[0][4:]} at Reynolds {reyn_to_plot} polars are:\")\n",
                "axs, fig = plot_airfoil_reynolds(\n",
                "    airfoil_names[0],\n",
                "    reynolds[0],\n",
                "    [\"All\"],\n",
                "    plots = [[\"AoA\", \"Cm\"], [\"AoA\", \"CD\"]],\n",
                "    size=(10,9),\n",
                ")\n",
                "# axs[0].axvline(x=1.1, color='b', linestyle='-')\n",
                "# axs[0].axhline(y=1.52, color='b', linestyle='-')"
            ]
        },
        {
            "cell_type": "code",
            "execution_count": null,
            "metadata": {},
            "outputs": [],
            "source": []
        }
    ],
    "metadata": {
        "kernelspec": {
            "display_name": "aero",
            "language": "python",
            "name": "python3"
        },
        "language_info": {
            "codemirror_mode": {
                "name": "ipython",
                "version": 3
            },
            "file_extension": ".py",
            "mimetype": "text/x-python",
            "name": "python",
            "nbconvert_exporter": "python",
            "pygments_lexer": "ipython3",
            "version": "3.12.0"
        },
        "vscode": {
            "interpreter": {
                "hash": "8acd08952dc410be23279ea6eab1a080d514a48a01ad47827aa392f9fbd61ae4"
            }
        }
    },
    "nbformat": 4,
    "nbformat_minor": 2
}
