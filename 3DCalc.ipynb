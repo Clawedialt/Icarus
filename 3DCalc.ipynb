{
 "cells": [
  {
   "cell_type": "code",
   "execution_count": null,
   "metadata": {},
   "outputs": [],
   "source": [
    "%load_ext autoreload\n",
    "%autoreload 2\n"
   ]
  },
  {
   "cell_type": "code",
   "execution_count": null,
   "metadata": {},
   "outputs": [],
   "source": [
    "import numpy as np\n",
    "import os\n",
    "import time\n",
    "\n",
    "from Software.GenuVP import runGNVP as gnvp\n",
    "\n",
    "from PlaneDefinition.plane import Airplane as Plane\n",
    "from PlaneDefinition.wing import Wing as wg\n",
    "import PlaneDefinition.wing as wing\n",
    "\n",
    "from Database.getresults import Database_2D\n",
    "from Database import DB3D , BASEGNVP\n",
    "from Visualization import plotting as aplt"
   ]
  },
  {
   "cell_type": "code",
   "execution_count": null,
   "metadata": {},
   "outputs": [],
   "source": [
    "HOMEDIR = os.getcwd()"
   ]
  },
  {
   "attachments": {},
   "cell_type": "markdown",
   "metadata": {},
   "source": [
    "# Airfoil Data"
   ]
  },
  {
   "cell_type": "code",
   "execution_count": null,
   "metadata": {},
   "outputs": [],
   "source": [
    "db = Database_2D(HOMEDIR)\n",
    "airfoils = db.getAirfoils()\n",
    "polars = db.Data"
   ]
  },
  {
   "attachments": {},
   "cell_type": "markdown",
   "metadata": {},
   "source": [
    "# Get Plane"
   ]
  },
  {
   "cell_type": "code",
   "execution_count": null,
   "metadata": {},
   "outputs": [],
   "source": [
    "Origin = np.array([0, 0, 0])"
   ]
  },
  {
   "cell_type": "code",
   "execution_count": null,
   "metadata": {},
   "outputs": [],
   "source": [
    "wingPos = np.array([0,0,0])\n",
    "wingOrientation = np.array([0,0,0])\n",
    "\n",
    "mainWing = wg(name=\"wing\",\n",
    "              airfoil=airfoils['NACA4415'],\n",
    "              Origin=Origin + wingPos,\n",
    "              Orientation=wingOrientation,           \n",
    "              isSymmetric=True,\n",
    "              span=2 * 1.130,\n",
    "              sweepOffset=0,\n",
    "              dihAngle=0,\n",
    "              chordFun=wing.linearChord,\n",
    "              chord=[0.159, 0.072],\n",
    "              spanFun=wing.linSpan)\n",
    "# mainWing.plotWing()"
   ]
  },
  {
   "cell_type": "code",
   "execution_count": null,
   "metadata": {},
   "outputs": [],
   "source": [
    "elevatorPos = np.array([0.54,0,0])\n",
    "elevatorOrientantion = np.array([0,0,0])\n",
    "\n",
    "elevator = wg(name = \"tail\",\n",
    "              airfoil=airfoils['NACA0008'],\n",
    "              Origin=Origin+ elevatorPos,\n",
    "              Orientation=elevatorOrientantion,\n",
    "              isSymmetric=True,\n",
    "              span= 2 * 0.169,\n",
    "              sweepOffset=0,\n",
    "              dihAngle=0,\n",
    "              chordFun=wing.linearChord,\n",
    "              chord=[0.130, 0.03],\n",
    "              spanFun=wing.linSpan)\n",
    "# elevator.plotWing()"
   ]
  },
  {
   "cell_type": "code",
   "execution_count": null,
   "metadata": {},
   "outputs": [],
   "source": [
    "rudderPos = np.array([0.54, 0, 0.1])\n",
    "rudderOrientantion = np.array([0,0,90])\n",
    "\n",
    "rudder = wg(name= \"rudder\",\n",
    "            airfoil=airfoils['NACA0008'],\n",
    "            Origin=Origin + elevatorPos,\n",
    "            Orientation= rudderOrientantion,\n",
    "            isSymmetric=False,\n",
    "            span= 0.169,\n",
    "            sweepOffset=0,\n",
    "            dihAngle=0,\n",
    "            chordFun=wing.linearChord,\n",
    "            chord=[0.130, 0.03],\n",
    "            spanFun=wing.linSpan)\n",
    "# rudder.plotWing()\n"
   ]
  },
  {
   "cell_type": "code",
   "execution_count": null,
   "metadata": {},
   "outputs": [],
   "source": [
    "liftingSurfaces = [mainWing, elevator, rudder]\n",
    "\n",
    "ap = Plane(\"Plane\",liftingSurfaces)\n",
    "ap.accessDB(HOMEDIR,DB3D)\n",
    "# ap.visAirplane()"
   ]
  },
  {
   "cell_type": "code",
   "execution_count": null,
   "metadata": {},
   "outputs": [],
   "source": [
    "cleaning = False\n",
    "calcGenu = True\n",
    "calcBatchGenu = True"
   ]
  },
  {
   "attachments": {},
   "cell_type": "markdown",
   "metadata": {},
   "source": [
    "## Batch Run"
   ]
  },
  {
   "cell_type": "code",
   "execution_count": null,
   "metadata": {},
   "outputs": [],
   "source": [
    "AoAmax = 15\n",
    "AoAmin = -6\n",
    "NoAoA = (AoAmax - AoAmin) + 1\n",
    "angles = np.linspace(AoAmin, AoAmax, NoAoA)\n",
    "\n",
    "Uinf = 20"
   ]
  },
  {
   "cell_type": "code",
   "execution_count": null,
   "metadata": {},
   "outputs": [],
   "source": [
    "ap.batchangles(angles)\n",
    "if calcBatchGenu == True:\n",
    "    genuBatchArgs = [ap, BASEGNVP, polars,\"Xfoil\",Uinf, angles]\n",
    "    ap.runSolver(gnvp.runGNVP,genuBatchArgs)\n"
   ]
  },
  {
   "cell_type": "code",
   "execution_count": null,
   "metadata": {},
   "outputs": [],
   "source": []
  }
 ],
 "metadata": {
  "kernelspec": {
   "display_name": "aero",
   "language": "python",
   "name": "python3"
  },
  "language_info": {
   "codemirror_mode": {
    "name": "ipython",
    "version": 3
   },
   "file_extension": ".py",
   "mimetype": "text/x-python",
   "name": "python",
   "nbconvert_exporter": "python",
   "pygments_lexer": "ipython3",
   "version": "3.10.8"
  },
  "orig_nbformat": 4,
  "vscode": {
   "interpreter": {
    "hash": "8acd08952dc410be23279ea6eab1a080d514a48a01ad47827aa392f9fbd61ae4"
   }
  }
 },
 "nbformat": 4,
 "nbformat_minor": 2
}
