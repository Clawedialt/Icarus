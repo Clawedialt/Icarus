{
    "cells": [
        {
            "cell_type": "markdown",
            "metadata": {},
            "source": [
                "# AIRFOIL ANALYSIS NOTEBOOK"
            ]
        },
        {
            "cell_type": "markdown",
            "metadata": {},
            "source": [
                "## Setup"
            ]
        },
        {
            "cell_type": "code",
            "execution_count": 1,
            "metadata": {},
            "outputs": [],
            "source": [
                "%load_ext autoreload\n",
                "%autoreload 2\n",
                "%matplotlib qt"
            ]
        },
        {
            "cell_type": "code",
            "execution_count": 2,
            "metadata": {},
            "outputs": [],
            "source": [
                "import numpy as np\n",
                "\n",
                "from ICARUS.Core.units import calc_mach, calc_reynolds\n",
                "from ICARUS.Airfoils.airfoil import Airfoil\n",
                "from ICARUS.Core.struct import Struct\n",
                "from ICARUS.Computation.Solvers.solver import Solver\n",
                "from ICARUS.Computation.Solvers.OpenFoam.files.setup_case import MeshType"
            ]
        },
        {
            "cell_type": "markdown",
            "metadata": {},
            "source": [
                "# Load DB"
            ]
        },
        {
            "cell_type": "code",
            "execution_count": 3,
            "metadata": {},
            "outputs": [],
            "source": [
                "from ICARUS.Database import DB\n",
                "DB.load_data()"
            ]
        },
        {
            "cell_type": "code",
            "execution_count": 4,
            "metadata": {},
            "outputs": [
                {
                    "name": "stdout",
                    "output_type": "stream",
                    "text": [
                        "Total number of loaded airfoils 1156\n",
                        "Total number of computed airfoil data 7\n",
                        "Total number of computed airfoil polars 7\n"
                    ]
                }
            ],
            "source": [
                "print(f\"Total number of loaded airfoils {len(list(DB.foils_db.airfoils.keys()))}\")\n",
                "print(f\"Total number of computed airfoil data {len(list(DB.foils_db._data.keys()))}\")\n",
                "print(f\"Total number of computed airfoil polars {len(list(DB.foils_db.polars.keys()))}\")"
            ]
        },
        {
            "attachments": {},
            "cell_type": "markdown",
            "metadata": {},
            "source": [
                "# Reynolds And Mach and AoA"
            ]
        },
        {
            "cell_type": "code",
            "execution_count": 5,
            "metadata": {},
            "outputs": [
                {
                    "name": "stdout",
                    "output_type": "stream",
                    "text": [
                        "Mach range: 0.029385836027034967 - 0.08815750808110491\n",
                        "Mach:\n",
                        "[0.08815751 0.08162732 0.07509714 0.06856695 0.06203676 0.05550658\n",
                        " 0.04897639 0.04244621 0.03591602 0.02938584]\n",
                        "\n",
                        "Reynolds range: 32051.28205128205 - 1121794.8717948718\n",
                        "Re:\n",
                        "[  32051.28205128  153133.9031339   274216.52421652  395299.14529915\n",
                        "  516381.76638177  637464.38746439  758547.00854701  879629.62962963\n",
                        " 1000712.25071225 1121794.87179487]\n",
                        "\n",
                        "Angles of attack:\n",
                        "[-10.   -9.5  -9.   -8.5  -8.   -7.5  -7.   -6.5  -6.   -5.5  -5.   -4.5\n",
                        "  -4.   -3.5  -3.   -2.5  -2.   -1.5  -1.   -0.5   0.    0.5   1.    1.5\n",
                        "   2.    2.5   3.    3.5   4.    4.5   5.    5.5   6.    6.5   7.    7.5\n",
                        "   8.    8.5   9.    9.5  10.   10.5  11.   11.5  12. ]\n",
                        "\n"
                    ]
                }
            ],
            "source": [
                "# Assumptions\n",
                "chord_max: float = 0.5\n",
                "chord_min: float = 0.1\n",
                "u_max: float = 35.0\n",
                "u_min: float = 5.0\n",
                "viscosity: float = 1.56e-5\n",
                "speed_of_sound: float = 340.3\n",
                "\n",
                "# MACH ESTIMATION\n",
                "mach_min: float = calc_mach(10, speed_of_sound)\n",
                "mach_max: float = calc_mach(30, speed_of_sound)\n",
                "mach = np.linspace(mach_max, mach_min, 10)\n",
                "MACH: float = mach_max\n",
                "print(f\"Mach range: {mach_min} - {mach_max}\")\n",
                "print(f\"Mach:\\n{mach}\\n\")\n",
                "\n",
                "# REYNOLDS ESTIMATION\n",
                "reynolds_max: float = calc_reynolds(u_max, chord_max, viscosity)\n",
                "reynolds_min: float = calc_reynolds(u_min, chord_min, viscosity)\n",
                "reynolds = np.linspace(reynolds_min, reynolds_max, 10)\n",
                "REYN = reynolds_max\n",
                "print(f\"Reynolds range: {reynolds_min} - {reynolds_max}\")\n",
                "print(f\"Re:\\n{reynolds}\\n\")\n",
                "# ANGLE OF ATTACK SETUP\n",
                "aoa_max: float = 12\n",
                "aoa_min: float = -10\n",
                "num_of_angles: float = (aoa_max - aoa_min) * 2 + 1\n",
                "angles = np.linspace(\n",
                "    start=aoa_min,\n",
                "    stop=aoa_max,\n",
                "    num=num_of_angles,\n",
                ")\n",
                "\n",
                "print(f\"Angles of attack:\\n{angles}\\n\")\n",
                "\n",
                "ftrip_low: dict[str, float] = {\"pos\": 0.1, \"neg\": 0.2}\n",
                "ftrip_up: dict[str, float] = {\"pos\": 0.2, \"neg\": 0.1}"
            ]
        },
        {
            "cell_type": "code",
            "execution_count": 6,
            "metadata": {},
            "outputs": [],
            "source": [
                "cleaning = False\n",
                "calcF2W = True\n",
                "calcOpenFoam = False\n",
                "calcXFoil = True"
            ]
        },
        {
            "attachments": {},
            "cell_type": "markdown",
            "metadata": {},
            "source": [
                "# Get Airfoils"
            ]
        },
        {
            "cell_type": "code",
            "execution_count": 10,
            "metadata": {},
            "outputs": [
                {
                    "name": "stdout",
                    "output_type": "stream",
                    "text": [
                        "2\n"
                    ]
                }
            ],
            "source": [
                "all_airfoils = list(DB.foils_db.airfoils.keys())\n",
                "\n",
                "airfoils_to_compute = [airfoil  for airfoil in all_airfoils if \n",
                "            (\n",
                "                airfoil.upper().startswith('S') or \n",
                "                airfoil.upper().startswith('AG') or \n",
                "                airfoil.upper().startswith('CLARK') or\n",
                "                airfoil.upper().startswith('DAE') or\n",
                "                airfoil.upper().startswith('E') or\n",
                "                airfoil.upper().startswith('H') or\n",
                "                airfoil.upper().startswith('M') or\n",
                "                airfoil.upper().startswith('N') or\n",
                "                airfoil.upper().startswith('O') or\n",
                "                airfoil.upper().startswith('W') \n",
                "            )\n",
                "]\n",
                "print(len(airfoils_to_compute[:2]))\n"
            ]
        },
        {
            "attachments": {},
            "cell_type": "markdown",
            "metadata": {},
            "source": [
                "# Xfoil"
            ]
        },
        {
            "cell_type": "code",
            "execution_count": 11,
            "metadata": {},
            "outputs": [
                {
                    "name": "stdout",
                    "output_type": "stream",
                    "text": [
                        "\n",
                        "Running airfoil AG03\n",
                        "\n",
                        "Airfoil Polar Analysis For a multiple Reynolds using aseq\n",
                        "Available Options of Xfoil for Airfoil Polar Analysis For a multiple Reynolds using aseq: \n",
                        "\n",
                        "| VarName   | Value                   | Description                       |\n",
                        "|-----------|-------------------------|-----------------------------------|\n",
                        "| airfoil   | Complex Datatype (ag03) | Airfoil Object                    |\n",
                        "| mach      | Complex Datatype        | Mach number                       |\n",
                        "| reynolds  | Complex Datatype        | List of Reynold's numbers to run  |\n",
                        "| min_aoa   | -10                     | Minimum angle of attack           |\n",
                        "| max_aoa   | 12                      | Maximum angle of attack           |\n",
                        "| aoa_step  | 0.5                     | Step between each angle of attack |\n",
                        "\n",
                        "If there are Multiple Values, or complex datatypes, or N/A you should inspect them sepretly by calling the option name\n",
                        "\n",
                        "Running Solver XFoil:\n",
                        "\tAnalysis Airfoil Polar Analysis For a multiple Reynolds using aseq...\n"
                    ]
                },
                {
                    "data": {
                        "application/vnd.jupyter.widget-view+json": {
                            "model_id": "27e4ba4689314ba8a570c9b369913546",
                            "version_major": 2,
                            "version_minor": 0
                        },
                        "text/plain": [
                            "\t\tTotal Progres   0%|                              | 0/10 [00:00<?, ?it/s]"
                        ]
                    },
                    "metadata": {},
                    "output_type": "display_data"
                },
                {
                    "name": "stdout",
                    "output_type": "stream",
                    "text": [
                        "Analysis Completed\n",
                        "\n",
                        "Running airfoil AG04\n",
                        "\n",
                        "Airfoil Polar Analysis For a multiple Reynolds using aseq\n",
                        "Available Options of Xfoil for Airfoil Polar Analysis For a multiple Reynolds using aseq: \n",
                        "\n",
                        "| VarName   | Value                   | Description                       |\n",
                        "|-----------|-------------------------|-----------------------------------|\n",
                        "| airfoil   | Complex Datatype (ag04) | Airfoil Object                    |\n",
                        "| mach      | Complex Datatype        | Mach number                       |\n",
                        "| reynolds  | Complex Datatype        | List of Reynold's numbers to run  |\n",
                        "| min_aoa   | -10                     | Minimum angle of attack           |\n",
                        "| max_aoa   | 12                      | Maximum angle of attack           |\n",
                        "| aoa_step  | 0.5                     | Step between each angle of attack |\n",
                        "\n",
                        "If there are Multiple Values, or complex datatypes, or N/A you should inspect them sepretly by calling the option name\n",
                        "\n",
                        "Running Solver XFoil:\n",
                        "\tAnalysis Airfoil Polar Analysis For a multiple Reynolds using aseq...\n"
                    ]
                },
                {
                    "data": {
                        "application/vnd.jupyter.widget-view+json": {
                            "model_id": "44122ccd05784853b56e4157cc1755fe",
                            "version_major": 2,
                            "version_minor": 0
                        },
                        "text/plain": [
                            "\t\tTotal Progres   0%|                              | 0/10 [00:00<?, ?it/s]"
                        ]
                    },
                    "metadata": {},
                    "output_type": "display_data"
                }
            ],
            "source": [
                "if calcXFoil:\n",
                "    from ICARUS.Computation.Solvers.Xfoil.xfoil import Xfoil \n",
                "\n",
                "    for airfoil in airfoils_to_compute[:2]:\n",
                "        print(f\"\\nRunning airfoil {airfoil}\\n\")\n",
                "        # # Get airfoil\n",
                "        airf: Airfoil = DB.foils_db.airfoils[airfoil]\n",
                "        airf.repanel(120, distribution=\"cosine\")\n",
                "        # airf.plot()\n",
                "        xfoil: Solver = Xfoil()\n",
                "\n",
                "        # Import Analysis\n",
                "        analysis: str = xfoil.get_analyses_names()[1]  # Run\n",
                "        xfoil.select_analysis(analysis)\n",
                "\n",
                "        # Get Options\n",
                "        options = xfoil.get_analysis_options(verbose=False)\n",
                "        solver_parameters = xfoil.get_solver_parameters()\n",
                "\n",
                "        # Set Options\n",
                "        options.airfoil = airf\n",
                "        options.mach = MACH\n",
                "        options.reynolds = reynolds\n",
                "        options.min_aoa = aoa_min\n",
                "        options.max_aoa = aoa_max\n",
                "        options.aoa_step = 0.5\n",
                "\n",
                "        # Set Solver Options\n",
                "        solver_parameters.max_iter = 100\n",
                "        solver_parameters.Ncrit = 9\n",
                "        solver_parameters.xtr = (0.1, 1)\n",
                "        solver_parameters.print = False\n",
                "        \n",
                "        xfoil.define_analysis(options, solver_parameters)\n",
                "        xfoil.print_analysis_options()\n",
                "        \n",
                "        # RUN\n",
                "        xfoil.execute(parallel=True)"
            ]
        },
        {
            "attachments": {},
            "cell_type": "markdown",
            "metadata": {},
            "source": [
                "# Foil2Wake"
            ]
        },
        {
            "cell_type": "code",
            "execution_count": null,
            "metadata": {},
            "outputs": [],
            "source": [
                "if calcF2W :\n",
                "    # Import Solver\n",
                "    from ICARUS.Computation.Solvers.Foil2Wake.f2w_section import Foil2Wake\n",
                "    f2w_s: Solver = Foil2Wake()\n",
                "\n",
                "    for airfoil in airfoils_to_compute[:1]:\n",
                "        print(f\"\\nRunning airfoil {airfoil}\\n\")\n",
                "        # Import Analysis\n",
                "        analysis: str = f2w_s.get_analyses_names()[1]  # Run\n",
                "        f2w_s.select_analysis(analysis)\n",
                "\n",
                "        # Get Options\n",
                "        options: Struct = f2w_s.get_analysis_options(verbose=False)\n",
                "        solver_parameters: Struct = f2w_s.get_solver_parameters()\n",
                "\n",
                "        # Set Options\n",
                "        options.airfoil = DB.foils_db.airfoils[airfoil]\n",
                "        options.reynolds = reynolds\n",
                "        options.mach = MACH\n",
                "        options.angles = angles\n",
                "\n",
                "        solver_parameters.f_trip_upper = 0.03\n",
                "        solver_parameters.f_trip_low = 0.1\n",
                "\n",
                "        # RUN\n",
                "        f2w_s.define_analysis(options, solver_parameters)\n",
                "        f2w_s.print_analysis_options()\n",
                "        f2w_s.execute(parallel=True)\n",
                "\n",
                "        # Get Results\n",
                "        polars = f2w_s.get_results()\n"
            ]
        },
        {
            "cell_type": "code",
            "execution_count": null,
            "metadata": {},
            "outputs": [],
            "source": [
                "print(airfoils_to_compute[1])\n",
                "DB.foils_db.polars[airfoils_to_compute[1]]"
            ]
        },
        {
            "attachments": {},
            "cell_type": "markdown",
            "metadata": {},
            "source": [
                "# Mapflow"
            ]
        },
        {
            "cell_type": "code",
            "execution_count": null,
            "metadata": {},
            "outputs": [],
            "source": [
                "# Not Implemented"
            ]
        },
        {
            "cell_type": "markdown",
            "metadata": {},
            "source": [
                "# OpenFoam (NOT HIGH MACH)"
            ]
        },
        {
            "cell_type": "code",
            "execution_count": null,
            "metadata": {},
            "outputs": [],
            "source": [
                "if calcOpenFoam:\n",
                "    airfoils_to_compute: list[str] = [airf.name]#[\"0008\"]\n",
                "    from ICARUS.Computation.Solvers.OpenFoam.open_foam import OpenFoam\n",
                "\n",
                "    for airfoil in airfoils_to_compute:\n",
                "        print(f\"\\nRunning airfoil {airfoil}\\n\")\n",
                "        # # Get Airfoil\n",
                "        airf: Airfoil = Airfoil.naca(airfoil, n_points=200)\n",
                "        # airf.plot()\n",
                "        open_foam: Solver = OpenFoam()\n",
                "\n",
                "        # Import Analysis\n",
                "        analysis: str = open_foam.get_analyses_names()[0]  # Run\n",
                "        open_foam.select_analysis(analysis)\n",
                "\n",
                "        # Get Options\n",
                "        options = open_foam.get_analysis_options(verbose=True)\n",
                "        solver_parameters = open_foam.get_solver_parameters()\n",
                "\n",
                "        # Set Options\n",
                "        options.airfoil = airf\n",
                "        options.angles = angles\n",
                "        options.reynolds = REYN\n",
                "        options.mach = MACH\n",
                "        open_foam.print_analysis_options()\n",
                "\n",
                "        # Set Solver Options\n",
                "        solver_parameters.mesh_type = MeshType.structAirfoilMesher\n",
                "        solver_parameters.max_iterations = 20\n",
                "        solver_parameters.silent = False\n",
                "        \n",
                "        # RUN\n",
                "        open_foam.set_analysis_options(options)\n",
                "        open_foam.print_analysis_options()\n",
                "        open_foam.execute()"
            ]
        },
        {
            "cell_type": "code",
            "execution_count": null,
            "metadata": {},
            "outputs": [],
            "source": []
        }
    ],
    "metadata": {
        "kernelspec": {
            "display_name": "aero",
            "language": "python",
            "name": "python3"
        },
        "language_info": {
            "codemirror_mode": {
                "name": "ipython",
                "version": 3
            },
            "file_extension": ".py",
            "mimetype": "text/x-python",
            "name": "python",
            "nbconvert_exporter": "python",
            "pygments_lexer": "ipython3",
            "version": "3.12.0"
        },
        "vscode": {
            "interpreter": {
                "hash": "8acd08952dc410be23279ea6eab1a080d514a48a01ad47827aa392f9fbd61ae4"
            }
        }
    },
    "nbformat": 4,
    "nbformat_minor": 2
}
