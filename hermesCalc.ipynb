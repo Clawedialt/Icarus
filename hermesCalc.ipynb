{
 "cells": [
  {
   "cell_type": "code",
   "execution_count": 1,
   "metadata": {},
   "outputs": [],
   "source": [
    "import numpy as np\n",
    "import os, sys\n",
    "import matplotlib.pyplot as plt\n",
    "\n",
    "from airLibs import airfoil as af\n",
    "from airLibs import runF2w as f2w\n",
    "from airLibs import plotting as aplt\n",
    "from airLibs import runOpenFoam as of\n",
    "from airLibs import runXFoil as xf"
   ]
  },
  {
   "cell_type": "code",
   "execution_count": 2,
   "metadata": {},
   "outputs": [],
   "source": [
    "masterDir = os.getcwd()"
   ]
  },
  {
   "attachments": {},
   "cell_type": "markdown",
   "metadata": {},
   "source": [
    "# Reynolds And Mach and AoA"
   ]
  },
  {
   "cell_type": "code",
   "execution_count": 3,
   "metadata": {},
   "outputs": [],
   "source": [
    "def ms2mach(ms):\n",
    "    return ms / 340.29\n",
    "\n",
    "def Re(v, c, n):\n",
    "    return (v * c) / n"
   ]
  },
  {
   "cell_type": "code",
   "execution_count": 4,
   "metadata": {},
   "outputs": [],
   "source": [
    "chordMax = 0.18\n",
    "chordMin = 0.11\n",
    "umax = 30\n",
    "umin = 5\n",
    "ne = 1.56e-5"
   ]
  },
  {
   "cell_type": "code",
   "execution_count": 5,
   "metadata": {},
   "outputs": [],
   "source": [
    "Machmin = ms2mach(10)\n",
    "Machmax = ms2mach(30)\n",
    "Remax = Re(umax, chordMax, ne)\n",
    "Remin = Re(umin, chordMin, ne)\n",
    "AoAmax = 15\n",
    "AoAmin = -6\n",
    "NoAoA = (AoAmax - AoAmin) * 2 + 1\n",
    "\n",
    "angles = np.linspace(AoAmin, AoAmax, NoAoA)\n",
    "Reynolds = np.logspace(np.log10(Remin), np.log10(Remax), 20, base=10)\n",
    "Mach = np.linspace(Machmax, Machmin, 10)\n",
    "\n",
    "Reyn = Remin\n",
    "MACH = Machmax"
   ]
  },
  {
   "cell_type": "code",
   "execution_count": 6,
   "metadata": {},
   "outputs": [
    {
     "data": {
      "text/plain": [
       "0.08816009873931058"
      ]
     },
     "execution_count": 6,
     "metadata": {},
     "output_type": "execute_result"
    }
   ],
   "source": [
    "MACH"
   ]
  },
  {
   "cell_type": "code",
   "execution_count": 6,
   "metadata": {},
   "outputs": [],
   "source": [
    "os.chdir(masterDir)\n",
    "CASE = \"Rudder\"\n",
    "os.chdir(CASE)\n",
    "caseDir = f\"Reynolds_{np.format_float_scientific(Reyn,sign=False,precision=3).replace('+', '')}\"\n",
    "os.system(f\"mkdir -p {caseDir}\")\n",
    "os.chdir(caseDir)\n",
    "caseDir = os.getcwd()\n",
    "cleaning = False\n",
    "calcF2W = False\n",
    "calcOpenFoam = True\n",
    "calcXFoil = False"
   ]
  },
  {
   "attachments": {},
   "cell_type": "markdown",
   "metadata": {},
   "source": [
    "# Get Airfoil"
   ]
  },
  {
   "cell_type": "code",
   "execution_count": 7,
   "metadata": {},
   "outputs": [],
   "source": [
    "for i in os.listdir('../'):\n",
    "    if i.startswith(\"naca\"):\n",
    "        airfile = i\n",
    "airfoil = airfile[4:]"
   ]
  },
  {
   "attachments": {},
   "cell_type": "markdown",
   "metadata": {},
   "source": [
    "# Generate Airfoil"
   ]
  },
  {
   "cell_type": "code",
   "execution_count": 8,
   "metadata": {},
   "outputs": [
    {
     "data": {
      "text/plain": [
       "(-0.05, 1.05, -0.04401097495392642, 0.04401097495392642)"
      ]
     },
     "execution_count": 8,
     "metadata": {},
     "output_type": "execute_result"
    },
    {
     "data": {
      "image/png": "[encoded data removed]",
      "text/plain": [
       "<Figure size 640x480 with 1 Axes>"
      ]
     },
     "metadata": {},
     "output_type": "display_data"
    }
   ],
   "source": [
    "n_points = 100\n",
    "pts = af.saveAirfoil([\"s\", airfile, airfoil, 0, n_points])\n",
    "x, y = pts.T\n",
    "plt.plot(x[: n_points ], y[: n_points], \"r\")\n",
    "plt.plot(x[n_points:], y[n_points:], \"b\")\n",
    "\n",
    "# plt.plot(x,y)\n",
    "plt.axis(\"scaled\")"
   ]
  },
  {
   "attachments": {},
   "cell_type": "markdown",
   "metadata": {},
   "source": [
    "# Foil2Wake"
   ]
  },
  {
   "cell_type": "code",
   "execution_count": 9,
   "metadata": {},
   "outputs": [
    {
     "name": "stdout",
     "output_type": "stream",
     "text": [
      "OK\n"
     ]
    }
   ],
   "source": [
    "Ncrit = 9\n",
    "ftrip_low = {\"pos\": 0.01, \"neg\": 0.02}\n",
    "ftrip_up = {\"pos\": 0.01, \"neg\": 0.02}\n",
    "\n",
    "if cleaning == True:\n",
    "    f2w.removeResults(angles)\n",
    "if calcF2W == True:\n",
    "    f2w.setupF2W()\n",
    "    clcd = f2w.runFw2(Reyn, MACH, ftrip_low, ftrip_up, angles, airfile)\n",
    "clcdcmFW = f2w.makeCLCD(Reyn, MACH)"
   ]
  },
  {
   "attachments": {},
   "cell_type": "markdown",
   "metadata": {},
   "source": [
    "# Xfoil"
   ]
  },
  {
   "cell_type": "code",
   "execution_count": 10,
   "metadata": {},
   "outputs": [],
   "source": [
    "clcdcmXF = xf.runXFoil(Reyn, MACH, angles, airfoil)"
   ]
  },
  {
   "attachments": {},
   "cell_type": "markdown",
   "metadata": {},
   "source": [
    "# OpenFoam"
   ]
  },
  {
   "cell_type": "code",
   "execution_count": 15,
   "metadata": {},
   "outputs": [
    {
     "name": "stderr",
     "output_type": "stream",
     "text": [
      "bash: cannot set terminal process group (2269): Inappropriate ioctl for device\n",
      "bash: no job control in this shell\n",
      "open terminal failed: not a terminal\n"
     ]
    },
    {
     "name": "stdout",
     "output_type": "stream",
     "text": [
      "5.5 deg: Simulation Over\n",
      "6.0 deg: Simulation Over\n",
      "6.5 deg: Simulation Over\n",
      "7.0 deg: Simulation Over\n",
      "7.5 deg: Simulation Over\n",
      "8.0 deg: Simulation Over\n",
      "8.5 deg: Simulation Over\n",
      "9.0 deg: Simulation Over\n",
      "9.5 deg: Simulation Over\n",
      "10.0 deg: Simulation Over\n",
      "10.5 deg: Simulation Over\n",
      "11.0 deg: Simulation Over\n",
      "11.5 deg: Simulation Over\n",
      "12.0 deg: Simulation Over\n",
      "12.5 deg: Simulation Over\n",
      "13.0 deg: Simulation Over\n",
      "13.5 deg: Simulation Over\n",
      "14.0 deg: Simulation Over\n",
      "14.5 deg: Simulation Over\n",
      "15.0 deg: Simulation Over\n"
     ]
    }
   ],
   "source": [
    "os.chdir(caseDir)\n",
    "maxITER = 10500\n",
    "if cleaning == True:\n",
    "    of.cleanOpenFoam()\n",
    "if calcOpenFoam == True:\n",
    "    of.makeMesh(airfile)\n",
    "    of.setupOpenFoam(Reyn, MACH, angles, silent=True, maxITER=maxITER)\n",
    "    of.runFoam(angles)\n",
    "clcdcmOF = of.makeCLCD(angles)"
   ]
  },
  {
   "cell_type": "code",
   "execution_count": null,
   "metadata": {},
   "outputs": [],
   "source": []
  }
 ],
 "metadata": {
  "kernelspec": {
   "display_name": "aero",
   "language": "python",
   "name": "python3"
  },
  "language_info": {
   "codemirror_mode": {
    "name": "ipython",
    "version": 3
   },
   "file_extension": ".py",
   "mimetype": "text/x-python",
   "name": "python",
   "nbconvert_exporter": "python",
   "pygments_lexer": "ipython3",
   "version": "3.10.8"
  },
  "orig_nbformat": 4,
  "vscode": {
   "interpreter": {
    "hash": "8acd08952dc410be23279ea6eab1a080d514a48a01ad47827aa392f9fbd61ae4"
   }
  }
 },
 "nbformat": 4,
 "nbformat_minor": 2
}
