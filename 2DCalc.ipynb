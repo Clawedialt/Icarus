{
 "cells": [
  {
   "cell_type": "code",
   "execution_count": 1,
   "metadata": {},
   "outputs": [],
   "source": [
    "%load_ext autoreload\n",
    "%autoreload 2\n"
   ]
  },
  {
   "cell_type": "code",
   "execution_count": 2,
   "metadata": {},
   "outputs": [],
   "source": [
    "import numpy as np\n",
    "import os, sys\n",
    "import matplotlib.pyplot as plt\n",
    "\n",
    "from Airfoils import airfoil as af\n",
    "\n",
    "from Software.Foil2Wake import runF2w as f2w\n",
    "from Software.OpenFoam import runOpenFoam as of\n",
    "from Software.Xfoil import runXFoil as xf\n",
    "from Database import BASEFOIL2W , BASEOPENFOAM, DB2D"
   ]
  },
  {
   "cell_type": "code",
   "execution_count": 3,
   "metadata": {},
   "outputs": [],
   "source": [
    "HOMEDIR = os.getcwd()"
   ]
  },
  {
   "attachments": {},
   "cell_type": "markdown",
   "metadata": {},
   "source": [
    "# Reynolds And Mach and AoA"
   ]
  },
  {
   "cell_type": "code",
   "execution_count": 4,
   "metadata": {},
   "outputs": [],
   "source": [
    "def ms2mach(ms):\n",
    "    return ms / 340.29\n",
    "\n",
    "def Re(v, c, n):\n",
    "    return (v * c) / n"
   ]
  },
  {
   "cell_type": "code",
   "execution_count": 5,
   "metadata": {},
   "outputs": [],
   "source": [
    "chordMax = 0.18\n",
    "chordMin = 0.11\n",
    "umax = 30\n",
    "umin = 5\n",
    "ne = 1.56e-5"
   ]
  },
  {
   "cell_type": "code",
   "execution_count": 6,
   "metadata": {},
   "outputs": [
    {
     "name": "stdout",
     "output_type": "stream",
     "text": [
      "Nominal: Mach 0.08816009873931058\tReynolds 110472.35858726977\n"
     ]
    }
   ],
   "source": [
    "Machmin = ms2mach(10)\n",
    "Machmax = ms2mach(30)\n",
    "Remax = Re(umax, chordMax, ne)\n",
    "Remin = Re(umin, chordMin, ne)\n",
    "AoAmax = 15\n",
    "AoAmin = -6\n",
    "NoAoA = (AoAmax - AoAmin) * 2 + 1\n",
    "\n",
    "angles = np.linspace(AoAmin, AoAmax, NoAoA)\n",
    "Reynolds = np.logspace(np.log10(Remin), np.log10(Remax), 5, base=10)\n",
    "Mach = np.linspace(Machmax, Machmin, 10)\n",
    "\n",
    "Reyn = Reynolds[2]\n",
    "MACH = Machmax\n",
    "print(f\"Nominal: Mach {MACH}\\tReynolds {Reyn}\")"
   ]
  },
  {
   "cell_type": "code",
   "execution_count": 7,
   "metadata": {},
   "outputs": [],
   "source": [
    "cleaning = False\n",
    "calcF2W = False\n",
    "calcOpenFoam = False\n",
    "calcXFoil = True"
   ]
  },
  {
   "attachments": {},
   "cell_type": "markdown",
   "metadata": {},
   "source": [
    "# Get Airfoil"
   ]
  },
  {
   "cell_type": "code",
   "execution_count": 8,
   "metadata": {},
   "outputs": [
    {
     "data": {
      "image/png": "[encoded data removed]",
      "text/plain": [
       "<Figure size 640x480 with 1 Axes>"
      ]
     },
     "metadata": {},
     "output_type": "display_data"
    }
   ],
   "source": [
    "airf = af.AirfoilData.NACA('4415',n_points=200)\n",
    "airf.accessDB(HOMEDIR,DB2D)\n",
    "airf.plotAirfoil()"
   ]
  },
  {
   "attachments": {},
   "cell_type": "markdown",
   "metadata": {},
   "source": [
    "# Foil2Wake"
   ]
  },
  {
   "cell_type": "code",
   "execution_count": 9,
   "metadata": {},
   "outputs": [
    {
     "name": "stdout",
     "output_type": "stream",
     "text": [
      "Making Polars\n"
     ]
    }
   ],
   "source": [
    "ftrip_low = {\"pos\": 0.1, \"neg\": 0.2}\n",
    "ftrip_up = {\"pos\": 0.2, \"neg\": 0.1}\n",
    "Ncrit = 9\n",
    "airf.reynCASE(Reyn)\n",
    "\n",
    "if cleaning == True:\n",
    "    airf.cleanRes(f2w.removeResults, [airf.REYNDIR, airf.HOMEDIR,angles])\n",
    "if calcF2W == True:\n",
    "    f2wargs = [airf.REYNDIR,airf.HOMEDIR,Reyn, MACH, ftrip_low, ftrip_up, angles, f\"naca{airf.name}\"]\n",
    "    airf.setupSolver(f2w.setupF2W,[BASEFOIL2W,airf.HOMEDIR,airf.REYNDIR])\n",
    "    airf.runSolver(f2w.runF2W,f2wargs)\n",
    "airf.makePolars(f2w.makeCLCD2,\"Foil2Wake\",[airf.REYNDIR, airf.HOMEDIR])"
   ]
  },
  {
   "attachments": {},
   "cell_type": "markdown",
   "metadata": {},
   "source": [
    "# Xfoil"
   ]
  },
  {
   "cell_type": "code",
   "execution_count": 13,
   "metadata": {},
   "outputs": [
    {
     "name": "stdout",
     "output_type": "stream",
     "text": [
      "\n",
      "Running airfoil 4415\n",
      "\n",
      "#################################### 35256.41025641024 ######################################\n",
      "/home/tryfonas/data/Uni/Semester9/Flight_Dynamics/Software/hermes/Database/2D/NACA4415/Reynolds_3.526e04\n",
      "#################################### 62408.80383684699 ######################################\n",
      "/home/tryfonas/data/Uni/Semester9/Flight_Dynamics/Software/hermes/Database/2D/NACA4415/Reynolds_6.241e04\n",
      "#################################### 110472.35858726977 ######################################\n",
      "/home/tryfonas/data/Uni/Semester9/Flight_Dynamics/Software/hermes/Database/2D/NACA4415/Reynolds_1.105e05\n",
      "#################################### 195551.6090925112 ######################################\n",
      "/home/tryfonas/data/Uni/Semester9/Flight_Dynamics/Software/hermes/Database/2D/NACA4415/Reynolds_1.956e05\n",
      "#################################### 346153.84615384624 ######################################\n",
      "/home/tryfonas/data/Uni/Semester9/Flight_Dynamics/Software/hermes/Database/2D/NACA4415/Reynolds_3.462e05\n",
      "\n",
      "Running airfoil 0008\n",
      "\n",
      "#################################### 35256.41025641024 ######################################\n",
      "/home/tryfonas/data/Uni/Semester9/Flight_Dynamics/Software/hermes/Database/2D/NACA0008/Reynolds_3.526e04\n",
      "#################################### 62408.80383684699 ######################################\n",
      "/home/tryfonas/data/Uni/Semester9/Flight_Dynamics/Software/hermes/Database/2D/NACA0008/Reynolds_6.241e04\n",
      "#################################### 110472.35858726977 ######################################\n",
      "/home/tryfonas/data/Uni/Semester9/Flight_Dynamics/Software/hermes/Database/2D/NACA0008/Reynolds_1.105e05\n",
      "#################################### 195551.6090925112 ######################################\n",
      "/home/tryfonas/data/Uni/Semester9/Flight_Dynamics/Software/hermes/Database/2D/NACA0008/Reynolds_1.956e05\n",
      "#################################### 346153.84615384624 ######################################\n",
      "/home/tryfonas/data/Uni/Semester9/Flight_Dynamics/Software/hermes/Database/2D/NACA0008/Reynolds_3.462e05\n"
     ]
    }
   ],
   "source": [
    "# LOOP\n",
    "airfoils = [\"4415\", \"0008\"]\n",
    "for airfoil in airfoils:\n",
    "    airf = af.AirfoilData.NACA(airfoil, n_points=200)\n",
    "    airf.accessDB(HOMEDIR, DB2D)\n",
    "    \n",
    "    print(f\"\\nRunning airfoil {airfoil}\\n\")\n",
    "# if calcXFoil == True:\n",
    "    for Rey in Reynolds:\n",
    "        airf.reynCASE(Rey)\n",
    "        print(\n",
    "            f\"#################################### {Rey} ######################################\")\n",
    "\n",
    "        print(airf.REYNDIR)\n",
    "        xfargs = [airf.REYNDIR, HOMEDIR, Rey, MACH,\n",
    "                    min(angles), max(angles), 0.5, airf.selig.T]\n",
    "        XRES = airf.makePolars(xf.runAndSave, \"XFOIL\", xfargs)\n"
   ]
  },
  {
   "cell_type": "code",
   "execution_count": 11,
   "metadata": {},
   "outputs": [
    {
     "name": "stdout",
     "output_type": "stream",
     "text": [
      "None\n"
     ]
    }
   ],
   "source": [
    "print(XRES)"
   ]
  },
  {
   "attachments": {},
   "cell_type": "markdown",
   "metadata": {},
   "source": [
    "# OpenFoam"
   ]
  },
  {
   "cell_type": "code",
   "execution_count": 12,
   "metadata": {},
   "outputs": [],
   "source": [
    "airf.reynCASE(Reyn)\n",
    "os.chdir(airf.REYNDIR)\n",
    "maxITER = 50\n",
    "if cleaning == True:\n",
    "    airf.cleanRes(of.cleanOpenFoam,[HOMEDIR,airf.REYNDIR])\n",
    "if calcOpenFoam == True:\n",
    "    ofSetupargs = [BASEOPENFOAM, airf.REYNDIR, airf.HOMEDIR,\n",
    "                   airf.airfile, airf.fname, Reyn, MACH, angles]\n",
    "    ofSetupkwargs = {\"silent\": True, \"maxITER\": maxITER}\n",
    "    ofRunargs = [angles]\n",
    "    airf.setupSolver(of.setupOpenFoam,ofSetupargs,ofSetupkwargs)\n",
    "    airf.runSolver(of.runFoam,[airf.REYNDIR, airf.HOMEDIR, angles])\n",
    "airf.makePolars(of.makeCLCD,\"OpenFoam\",[airf.REYNDIR, airf.HOMEDIR,angles])\n"
   ]
  }
 ],
 "metadata": {
  "kernelspec": {
   "display_name": "aero",
   "language": "python",
   "name": "python3"
  },
  "language_info": {
   "codemirror_mode": {
    "name": "ipython",
    "version": 3
   },
   "file_extension": ".py",
   "mimetype": "text/x-python",
   "name": "python",
   "nbconvert_exporter": "python",
   "pygments_lexer": "ipython3",
   "version": "3.10.8"
  },
  "orig_nbformat": 4,
  "vscode": {
   "interpreter": {
    "hash": "8acd08952dc410be23279ea6eab1a080d514a48a01ad47827aa392f9fbd61ae4"
   }
  }
 },
 "nbformat": 4,
 "nbformat_minor": 2
}
