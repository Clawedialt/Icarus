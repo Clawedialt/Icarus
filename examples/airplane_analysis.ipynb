{
    "cells": [
        {
            "cell_type": "code",
            "execution_count": 1,
            "metadata": {},
            "outputs": [],
            "source": [
                "%load_ext autoreload\n",
                "%autoreload 2\n",
                "%matplotlib qt"
            ]
        },
        {
            "cell_type": "code",
            "execution_count": 2,
            "metadata": {},
            "outputs": [],
            "source": [
                "import numpy as np"
            ]
        },
        {
            "attachments": {},
            "cell_type": "markdown",
            "metadata": {},
            "source": [
                "# Load Foil Data"
            ]
        },
        {
            "cell_type": "code",
            "execution_count": 3,
            "metadata": {},
            "outputs": [],
            "source": [
                "from ICARUS.Computation.Solvers.XFLR5.polars import read_polars_2d\n",
                "from ICARUS.Database import DB\n",
                "from ICARUS.Core.struct import Struct\n",
                "from ICARUS.Database import EXTERNAL_DB"
            ]
        },
        {
            "attachments": {},
            "cell_type": "markdown",
            "metadata": {},
            "source": [
                "# Get Plane"
            ]
        },
        {
            "cell_type": "code",
            "execution_count": 150,
            "metadata": {},
            "outputs": [],
            "source": [
                "# from examples.Planes.hermes import hermes\n",
                "# airplane = hermes(airfoils ,\"Hermes\")\n",
                "\n",
                "from ICARUS.Computation.Solvers.XFLR5.parser import parse_xfl_project\n",
                "filename: str = f\"{EXTERNAL_DB}/plane_1.xml\"\n",
                "airplane = parse_xfl_project(filename)\n",
                "# airplane.name = \"Embraer_E190_Cruise\"\n",
                "airplane.visualize()\n",
                "\n",
                "\n",
                "# airplane = DB.vehicles_db.planes['hermes_3']\n",
                "# airplane.save()"
            ]
        },
        {
            "attachments": {},
            "cell_type": "markdown",
            "metadata": {},
            "source": [
                "# Import Environment and Set State"
            ]
        },
        {
            "cell_type": "code",
            "execution_count": null,
            "metadata": {},
            "outputs": [],
            "source": [
                "from ICARUS.Environment.definition import EARTH_ISA\n",
                "from ICARUS.Flight_Dynamics.state import State\n",
                "\n",
                "u_freestream = 20\n",
                "unstick = State(\n",
                "    name= \"unstick\",\n",
                "    airplane= airplane,\n",
                "    environment= EARTH_ISA,\n",
                "    u_freestream= u_freestream\n",
                ")"
            ]
        },
        {
            "attachments": {},
            "cell_type": "markdown",
            "metadata": {},
            "source": [
                "# Get Solver"
            ]
        },
        {
            "cell_type": "code",
            "execution_count": null,
            "metadata": {},
            "outputs": [],
            "source": [
                "from ICARUS.Computation.Solvers.GenuVP.gnvp3 import GenuVP3\n",
                "gnvp3 = GenuVP3()\n",
                "\n",
                "from ICARUS.Computation.Solvers.GenuVP.gnvp7 import GenuVP7\n",
                "gnvp7 = GenuVP7()\n",
                "\n",
                "from ICARUS.Computation.Solvers.Icarus_LSPT.wing_lspt import LSPT\n",
                "lspt = LSPT()\n",
                "\n",
                "# print(lspt)\n",
                "print(gnvp3)\n",
                "# print(gnvp7)"
            ]
        },
        {
            "attachments": {},
            "cell_type": "markdown",
            "metadata": {},
            "source": [
                "## AoA Run"
            ]
        },
        {
            "cell_type": "code",
            "execution_count": null,
            "metadata": {},
            "outputs": [],
            "source": [
                "analysis: str = gnvp3.get_analyses_names()[0]\n",
                "print(f\"Selecting Analysis: {analysis}\")\n",
                "gnvp3.select_analysis(analysis)"
            ]
        },
        {
            "cell_type": "code",
            "execution_count": null,
            "metadata": {},
            "outputs": [],
            "source": [
                "options: Struct = gnvp3.get_analysis_options(verbose=True)\n",
                "solver_parameters: Struct = gnvp3.get_solver_parameters(verbose=True)"
            ]
        },
        {
            "cell_type": "code",
            "execution_count": null,
            "metadata": {},
            "outputs": [],
            "source": [
                "AoAmin = -6\n",
                "AoAmax = 8\n",
                "NoAoA = (AoAmax - AoAmin) + 1\n",
                "angles = np.linspace(AoAmin, AoAmax, NoAoA, dtype= float)\n",
                "# airplane.define_dynamic_pressure(u_freestream, EARTH.air_density)\n",
                "\n",
                "options.plane         = airplane\n",
                "options.state         = unstick\n",
                "options.solver2D      = 'Foil2Wake'\n",
                "options.maxiter       = 100\n",
                "options.timestep      = 0.001\n",
                "options.angles        = angles\n",
                "\n",
                "solver_parameters.Use_Grid = 0\n",
                "\n",
                "gnvp3.define_analysis(options, solver_parameters)\n",
                "gnvp3.print_analysis_options()\n",
                "gnvp3.execute()\n",
                "polars = gnvp3.get_results()\n",
                "airplane.save()"
            ]
        },
        {
            "attachments": {},
            "cell_type": "markdown",
            "metadata": {},
            "source": [
                "# Dynamics"
            ]
        },
        {
            "attachments": {},
            "cell_type": "markdown",
            "metadata": {},
            "source": [
                "### Define and Trim Plane"
            ]
        },
        {
            "cell_type": "code",
            "execution_count": null,
            "metadata": {},
            "outputs": [],
            "source": [
                "from ICARUS.Flight_Dynamics.state import State\n",
                "if isinstance(polars,int):\n",
                "    raise Exception(\"No Polars\")\n",
                "unstick = State(\"Unstick\",airplane,environment= EARTH_ISA, u_freestream= u_freestream)"
            ]
        },
        {
            "attachments": {},
            "cell_type": "markdown",
            "metadata": {},
            "source": [
                "### Pertrubations"
            ]
        },
        {
            "cell_type": "code",
            "execution_count": null,
            "metadata": {},
            "outputs": [],
            "source": [
                "unstick.add_all_pertrubations(\"Central\")\n",
                "unstick.get_pertrub()"
            ]
        },
        {
            "cell_type": "code",
            "execution_count": null,
            "metadata": {},
            "outputs": [],
            "source": [
                "analysis = gnvp3.get_analyses_names(verbose=True)[1] # ANGLES PARALLEL\n",
                "print(f\"Selecting Analysis: {analysis}\")\n",
                "gnvp3.select_analysis(analysis)\n",
                "options = gnvp3.get_analysis_options(verbose=True)"
            ]
        },
        {
            "cell_type": "code",
            "execution_count": null,
            "metadata": {},
            "outputs": [],
            "source": [
                "options.plane         = airplane\n",
                "options.state         = unstick\n",
                "options.environment   = EARTH_ISA\n",
                "options.solver2D      = 'XFLR'\n",
                "options.maxiter       = 200\n",
                "options.timestep      = 5e-3\n",
                "options.u_freestream  = unstick.trim['U']\n",
                "options.angle        = unstick.trim['AoA']\n",
                "\n",
                "gnvp3.print_analysis_options()\n",
                "gnvp3.define_analysis(options, solver_parameters)\n",
                "gnvp3.execute()\n",
                "gnvp3.get_results()"
            ]
        },
        {
            "attachments": {},
            "cell_type": "markdown",
            "metadata": {},
            "source": [
                "# Sensitivity Analysis"
            ]
        },
        {
            "cell_type": "code",
            "execution_count": null,
            "metadata": {},
            "outputs": [],
            "source": [
                "# if sensAnalysisGNVP3 :\n",
                "#     for var in ['u','w','q','theta','v','p','r','phi']:\n",
                "#         space = np.logspace(np.log10(0.00001), np.log10(1), 10, base=10)\n",
                "#         space =[*-space,*space]\n",
                "#         maxiter = 2\n",
                "#         timestep = 5e-2\n",
                "#         dyn.sensitivityAnalysis(var, space)\n",
                "#         GNVP3BatchArgs = [dyn, var, foildb, \"Xfoil\",\n",
                "#                         maxiter, timestep,\n",
                "#                         dyn.trim['U'], dyn.trim['AoA']]\n",
                "#         dyn.executeAnalysis(runGNVPsensitivityParallel, GNVP3BatchArgs)\n",
                "#         perDIR = os.path.join(dyn.CASEDIR, f\"Sensitivity_{var}\")\n",
                "#         dyn.sensResults[var] = pertrResults(perDIR, HOMEDIR)\n",
                "#     dyn.save()"
            ]
        },
        {
            "cell_type": "code",
            "execution_count": null,
            "metadata": {},
            "outputs": [],
            "source": []
        }
    ],
    "metadata": {
        "kernelspec": {
            "display_name": "aero",
            "language": "python",
            "name": "python3"
        },
        "language_info": {
            "codemirror_mode": {
                "name": "ipython",
                "version": 3
            },
            "file_extension": ".py",
            "mimetype": "text/x-python",
            "name": "python",
            "nbconvert_exporter": "python",
            "pygments_lexer": "ipython3",
            "version": "3.12.0"
        },
        "vscode": {
            "interpreter": {
                "hash": "8acd08952dc410be23279ea6eab1a080d514a48a01ad47827aa392f9fbd61ae4"
            }
        }
    },
    "nbformat": 4,
    "nbformat_minor": 2
}
