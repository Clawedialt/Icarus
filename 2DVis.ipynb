{
 "cells": [
  {
   "cell_type": "code",
   "execution_count": null,
   "metadata": {},
   "outputs": [],
   "source": [
    "import os\n",
    "import numpy as np\n",
    "\n",
    "from Airfoils import airfoil as af\n",
    "\n",
    "from Visualization import plotting as aplt\n",
    "from Database.getresults import Database_2D"
   ]
  },
  {
   "cell_type": "code",
   "execution_count": null,
   "metadata": {},
   "outputs": [],
   "source": [
    "HOMEDIR = os.getcwd()"
   ]
  },
  {
   "cell_type": "code",
   "execution_count": null,
   "metadata": {},
   "outputs": [],
   "source": [
    "db = Database_2D(HOMEDIR)\n",
    "airfoil = db.getAirfoils()[0]\n",
    "reynolds = db.getReynolds(airfoil)[0]\n",
    "polars = db.Data[airfoil][reynolds]\n"
   ]
  },
  {
   "cell_type": "code",
   "execution_count": null,
   "metadata": {},
   "outputs": [],
   "source": [
    "f2wD = [polars[\"Foil2Wake\"].values, \"rx\", f\"Re = {reynolds} |Foil2Wake tripped\"]\n",
    "Xfoil = [polars[\"Xfoil\"].values, \"bx\", f\"Re = {reynolds} |XFoil\"]\n",
    "openF = [polars[\"OpenFoam\"].values, \"kx\", f\"Re = {reynolds} |OpenFoam\"]\n",
    "aplt.plotAeorCoeffs([openF,Xfoil,f2wD],(10,10),airfoil)"
   ]
  }
 ],
 "metadata": {
  "kernelspec": {
   "display_name": "aero",
   "language": "python",
   "name": "python3"
  },
  "language_info": {
   "codemirror_mode": {
    "name": "ipython",
    "version": 3
   },
   "file_extension": ".py",
   "mimetype": "text/x-python",
   "name": "python",
   "nbconvert_exporter": "python",
   "pygments_lexer": "ipython3",
   "version": "3.10.8"
  },
  "orig_nbformat": 4,
  "vscode": {
   "interpreter": {
    "hash": "8acd08952dc410be23279ea6eab1a080d514a48a01ad47827aa392f9fbd61ae4"
   }
  }
 },
 "nbformat": 4,
 "nbformat_minor": 2
}
