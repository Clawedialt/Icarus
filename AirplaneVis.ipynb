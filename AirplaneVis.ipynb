{
 "cells": [
  {
   "cell_type": "code",
   "execution_count": null,
   "metadata": {},
   "outputs": [],
   "source": [
    "%load_ext autoreload\n",
    "%autoreload 2\n",
    "%matplotlib qt"
   ]
  },
  {
   "cell_type": "code",
   "execution_count": null,
   "metadata": {},
   "outputs": [],
   "source": [
    "import numpy as np\n",
    "import os\n",
    "\n",
    "import ICARUS.Visualization as vis\n",
    "from ICARUS.Database.Database_3D import Database_3D"
   ]
  },
  {
   "cell_type": "code",
   "execution_count": null,
   "metadata": {},
   "outputs": [],
   "source": [
    "HOMEDIR = os.getcwd()"
   ]
  },
  {
   "attachments": {},
   "cell_type": "markdown",
   "metadata": {},
   "source": [
    "# Open Database"
   ]
  },
  {
   "cell_type": "code",
   "execution_count": null,
   "metadata": {},
   "outputs": [],
   "source": [
    "db = Database_3D(HOMEDIR)\n"
   ]
  },
  {
   "attachments": {},
   "cell_type": "markdown",
   "metadata": {},
   "source": [
    "### Select Plane"
   ]
  },
  {
   "cell_type": "code",
   "execution_count": null,
   "metadata": {},
   "outputs": [],
   "source": [
    "planenames = db.getPlanes()\n",
    "for i, planename in enumerate(planenames):\n",
    "    print(f\"{i} : `{planename}\")\n",
    "# index = int(input(\"Select a plane: \"))\n",
    "# planenames = [planenames[index]]\n",
    "\n",
    "plane = db.Planes[planenames[1]]\n",
    "planenames = [planenames[1]]\n",
    "# dynplane = db.dynPlanes[planenames[0]]"
   ]
  },
  {
   "attachments": {},
   "cell_type": "markdown",
   "metadata": {},
   "source": [
    "# Add XFLR Polars"
   ]
  },
  {
   "cell_type": "code",
   "execution_count": null,
   "metadata": {},
   "outputs": [],
   "source": [
    "for name in planenames:\n",
    "    try:\n",
    "        db.importXFLRpolar(f\"{HOMEDIR}/ICARUS/XFLR5/{name}.txt\", name)\n",
    "        print(f\"Imported XFLR polar for {name}\")\n",
    "        planenames.append(f\"XFLR_{name}\")\n",
    "    except FileNotFoundError:\n",
    "        print(f\"No XFLR polar found for {name}\")\n",
    "        # db.importXFLRpolar(f\"{HOMEDIR}/ICARUS/XFLR5/polar.txt\")"
   ]
  },
  {
   "attachments": {},
   "cell_type": "markdown",
   "metadata": {},
   "source": [
    "# Airplane Visualization"
   ]
  },
  {
   "cell_type": "code",
   "execution_count": null,
   "metadata": {},
   "outputs": [],
   "source": [
    "plane.visAirplane()"
   ]
  },
  {
   "attachments": {},
   "cell_type": "markdown",
   "metadata": {},
   "source": [
    "# Polars"
   ]
  },
  {
   "cell_type": "code",
   "execution_count": null,
   "metadata": {},
   "outputs": [],
   "source": [
    "from ICARUS.Visualization.airplanePolars import plotAirplanePolars"
   ]
  },
  {
   "cell_type": "code",
   "execution_count": null,
   "metadata": {},
   "outputs": [],
   "source": [
    "db.makeData()\n",
    "plotAirplanePolars(db.Data,planenames,[\"2D\"],size=(10,10))"
   ]
  },
  {
   "attachments": {},
   "cell_type": "markdown",
   "metadata": {},
   "source": [
    "# Case Convergence"
   ]
  },
  {
   "cell_type": "code",
   "execution_count": null,
   "metadata": {},
   "outputs": [],
   "source": [
    "from ICARUS.Visualization.convergence import plotConvergence"
   ]
  },
  {
   "cell_type": "code",
   "execution_count": null,
   "metadata": {},
   "outputs": [],
   "source": [
    "angles2show = [-6.,-3., 0.]\n",
    "plotConvergence(db.Convergence, plane.name, ['All'],\n",
    "                solvers= [\"2D\"],plotError = False,size=(16,7))"
   ]
  },
  {
   "attachments": {},
   "cell_type": "markdown",
   "metadata": {},
   "source": [
    "# Sensitivity Plot"
   ]
  },
  {
   "cell_type": "code",
   "execution_count": null,
   "metadata": {},
   "outputs": [],
   "source": [
    "from ICARUS.Visualization.sensitivity import plotSensitivity"
   ]
  },
  {
   "cell_type": "code",
   "execution_count": null,
   "metadata": {},
   "outputs": [],
   "source": [
    "# pertr = dynplane.pertubResults\n",
    "# print(dynplane.trim)\n",
    "# trim = pertr[pertr['Type'] == 'Trim']\n",
    "# dynplane.sensResults['u'].sort_values(by=['Epsilon'])\n",
    "# plotSensitivity(dynplane.sensResults,dynplane,trim,relative = 0,vars2s=['r'])"
   ]
  },
  {
   "attachments": {},
   "cell_type": "markdown",
   "metadata": {},
   "source": [
    "# Wake Visualization"
   ]
  },
  {
   "cell_type": "code",
   "execution_count": null,
   "metadata": {},
   "outputs": [],
   "source": [
    "from ICARUS.Visualization.GNVPwake import GNVPwake\n",
    "from ICARUS.Database.Database_3D  import ang2case"
   ]
  },
  {
   "cell_type": "code",
   "execution_count": null,
   "metadata": {},
   "outputs": [],
   "source": [
    "CASE = ang2case(-6.)\n",
    "GNVPwake(db.Planes[planenames[0]],CASE)"
   ]
  },
  {
   "attachments": {},
   "cell_type": "markdown",
   "metadata": {},
   "source": [
    "# Loads Visualization"
   ]
  },
  {
   "cell_type": "code",
   "execution_count": null,
   "metadata": {},
   "outputs": [],
   "source": [
    "from ICARUS.Visualization.GNVPstrips import GNVPstrips\n",
    "\n",
    "stripDATA = GNVPstrips(db.Planes[planenames[0]],CASE,HOMEDIR)\n",
    "stripDATA"
   ]
  }
 ],
 "metadata": {
  "kernelspec": {
   "display_name": "aero",
   "language": "python",
   "name": "python3"
  },
  "language_info": {
   "codemirror_mode": {
    "name": "ipython",
    "version": 3
   },
   "file_extension": ".py",
   "mimetype": "text/x-python",
   "name": "python",
   "nbconvert_exporter": "python",
   "pygments_lexer": "ipython3",
   "version": "3.10.8"
  }
 },
 "nbformat": 4,
 "nbformat_minor": 2
}
