{
 "cells": [
  {
   "cell_type": "code",
   "execution_count": null,
   "metadata": {},
   "outputs": [],
   "source": [
    "import numpy as np\n",
    "import os\n",
    "from Software.GenuVP import setupGNVP as gnvp\n",
    "import pandas as pd\n",
    "import matplotlib.pyplot as plt\n",
    "from Visualization import plotting as aplt"
   ]
  },
  {
   "cell_type": "code",
   "execution_count": null,
   "metadata": {},
   "outputs": [],
   "source": [
    "CASE = '3D/Plane/'"
   ]
  },
  {
   "attachments": {},
   "cell_type": "markdown",
   "metadata": {},
   "source": [
    "# Get Alpha Angles "
   ]
  },
  {
   "cell_type": "code",
   "execution_count": null,
   "metadata": {},
   "outputs": [],
   "source": [
    "AoAmin = -6.0\n",
    "AoAmax = 15\n",
    "NoAoA = round(2*(AoAmax - AoAmin) + 1) \n",
    "angles = np.linspace(AoAmin, AoAmax, NoAoA)"
   ]
  },
  {
   "attachments": {},
   "cell_type": "markdown",
   "metadata": {},
   "source": [
    "# Get Genu"
   ]
  },
  {
   "cell_type": "code",
   "execution_count": null,
   "metadata": {},
   "outputs": [],
   "source": [
    "U0 = 20\n",
    "Swing = 0.261 \n",
    "dens = 1.225\n",
    "Q = 0.5 * dens * U0**2\n",
    "MAC = 0.121"
   ]
  },
  {
   "cell_type": "code",
   "execution_count": null,
   "metadata": {},
   "outputs": [],
   "source": [
    "genu = gnvp.getData(CASE,angles,Q,Swing,MAC)"
   ]
  },
  {
   "attachments": {},
   "cell_type": "markdown",
   "metadata": {},
   "source": [
    "# Plot"
   ]
  },
  {
   "cell_type": "code",
   "execution_count": null,
   "metadata": {},
   "outputs": [],
   "source": [
    "genuPOT = np.vstack((angles, genu[\"CL_Pot\"],genu[\"CD_Pot\"],genu[\"Cm_Pot\"])).T\n",
    "genu2D = np.vstack((angles, genu[\"CL_2D\"],genu[\"CD_2D\"],genu[\"Cm_2D\"])).T\n",
    "genuONERA = np.vstack((angles, genu[\"CL_ONERA\"],genu[\"CD_ONERA\"],genu[\"Cm_ONERA\"])).T\n",
    "xflr5 = np.vstack((xflr[\"alpha\"], xflr[\"CL\"],xflr['CD'],xflr[\"Cm\"])).T\n",
    "\n",
    "pot = [genuPOT, \"rx\",     f\"Potential Genu\"]\n",
    "twoD = [genu2D, \"ko\",     f\"2D\"]\n",
    "# onera = [genuONERA, \"bx\",     f\"ONERA\"]\n",
    "xflrP = [xflr5, \"mx\",     f\"XFLR5\"]\n",
    "\n",
    "aplt.plotAeorCoeffs([pot,twoD,onera,xflrP],(10,10),'Polars')"
   ]
  },
  {
   "cell_type": "code",
   "execution_count": null,
   "metadata": {},
   "outputs": [],
   "source": []
  }
 ],
 "metadata": {
  "kernelspec": {
   "display_name": "aero",
   "language": "python",
   "name": "python3"
  },
  "language_info": {
   "codemirror_mode": {
    "name": "ipython",
    "version": 3
   },
   "file_extension": ".py",
   "mimetype": "text/x-python",
   "name": "python",
   "nbconvert_exporter": "python",
   "pygments_lexer": "ipython3",
   "version": "3.10.8"
  },
  "orig_nbformat": 4,
  "vscode": {
   "interpreter": {
    "hash": "8acd08952dc410be23279ea6eab1a080d514a48a01ad47827aa392f9fbd61ae4"
   }
  }
 },
 "nbformat": 4,
 "nbformat_minor": 2
}
