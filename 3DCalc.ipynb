{
 "cells": [
  {
   "cell_type": "code",
   "execution_count": null,
   "metadata": {},
   "outputs": [],
   "source": [
    "import numpy as np\n",
    "import os\n",
    "import time\n",
    "\n",
    "from Airfoils import airfoil as af\n",
    "\n",
    "from Software.GenuVP import setupGNVP as gnvp\n",
    "from Plane.planeDefinition import Airplane as Plane\n",
    "\n",
    "from Database.getresults import Database_2D\n",
    "from Database import DB3D , BASEGNVP\n",
    "from Visualization import plotting as aplt"
   ]
  },
  {
   "cell_type": "code",
   "execution_count": null,
   "metadata": {},
   "outputs": [],
   "source": [
    "HOMEDIR = os.getcwd()"
   ]
  },
  {
   "cell_type": "code",
   "execution_count": null,
   "metadata": {},
   "outputs": [],
   "source": [
    "db = Database_2D(HOMEDIR)\n",
    "airfoils = db.getAirfoils()\n",
    "polars = db.Data"
   ]
  },
  {
   "cell_type": "code",
   "execution_count": null,
   "metadata": {},
   "outputs": [],
   "source": [
    "WindAngle = 0.\n",
    "ap = Plane(airfoils, WindAngle)\n",
    "ap.accessDB(HOMEDIR,DB3D)\n",
    "# ap.visAirplane()"
   ]
  },
  {
   "cell_type": "code",
   "execution_count": null,
   "metadata": {},
   "outputs": [],
   "source": [
    "cleaning = False\n",
    "calcGenu = False\n",
    "calcBatchGenu = True"
   ]
  },
  {
   "attachments": {},
   "cell_type": "markdown",
   "metadata": {},
   "source": [
    "## Single Run"
   ]
  },
  {
   "cell_type": "code",
   "execution_count": null,
   "metadata": {},
   "outputs": [],
   "source": [
    "ap.angleCASE(WindAngle)\n",
    "if cleaning == True:\n",
    "    ap.cleanRes(gnvp.removeResults,[ap.ANGLEDIR,ap.HOMEDIR])\n",
    "if calcGenu == True:\n",
    "    genuSetupArgs = [ap.ANGLEDIR,ap.HOMEDIR, BASEGNVP,\n",
    "                     ap.airMovement,ap.bodies,ap.params,\n",
    "                     ap.airfoils, polars,\"Xfoil\"]\n",
    "    ap.setupSolver(gnvp.makeInput,genuSetupArgs)\n",
    "    ap.runSolver(gnvp.runGNVP,[HOMEDIR,ap.ANGLEDIR])\n",
    "# ap.makePolars(gnvp.getData,\"GNVP\")"
   ]
  },
  {
   "attachments": {},
   "cell_type": "markdown",
   "metadata": {},
   "source": [
    "## Batch Run"
   ]
  },
  {
   "cell_type": "code",
   "execution_count": null,
   "metadata": {},
   "outputs": [],
   "source": [
    "AoAmax = 15\n",
    "AoAmin = -6\n",
    "NoAoA = (AoAmax - AoAmin) + 1\n",
    "angles = np.linspace(AoAmin, AoAmax, NoAoA)"
   ]
  },
  {
   "cell_type": "code",
   "execution_count": null,
   "metadata": {},
   "outputs": [],
   "source": [
    "ap.batchangles(angles)\n",
    "if calcBatchGenu == True:\n",
    "    genuBatchArgs = [ap.CASEDIR,ap.HOMEDIR, BASEGNVP,\n",
    "                     ap.airMovement,ap.bodies,ap.params,\n",
    "                     ap.airfoils, polars,\"Xfoil\",angles]\n",
    "    ap.runSolver(gnvp.batchRun,genuBatchArgs)\n",
    "    "
   ]
  }
 ],
 "metadata": {
  "kernelspec": {
   "display_name": "aero",
   "language": "python",
   "name": "python3"
  },
  "language_info": {
   "codemirror_mode": {
    "name": "ipython",
    "version": 3
   },
   "file_extension": ".py",
   "mimetype": "text/x-python",
   "name": "python",
   "nbconvert_exporter": "python",
   "pygments_lexer": "ipython3",
   "version": "3.10.8"
  },
  "orig_nbformat": 4,
  "vscode": {
   "interpreter": {
    "hash": "8acd08952dc410be23279ea6eab1a080d514a48a01ad47827aa392f9fbd61ae4"
   }
  }
 },
 "nbformat": 4,
 "nbformat_minor": 2
}
