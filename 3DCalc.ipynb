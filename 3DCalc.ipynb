{
 "cells": [
  {
   "cell_type": "code",
   "execution_count": null,
   "metadata": {},
   "outputs": [],
   "source": [
    "%load_ext autoreload\n",
    "%autoreload 2\n"
   ]
  },
  {
   "cell_type": "code",
   "execution_count": null,
   "metadata": {},
   "outputs": [],
   "source": [
    "import numpy as np\n",
    "import os\n",
    "\n",
    "from Software.GenuVP import runGNVP as gnvp\n",
    "\n",
    "from PlaneDefinition.plane import Airplane as Plane\n",
    "from PlaneDefinition.wing import Wing as wg\n",
    "import PlaneDefinition.wing as wing\n",
    "\n",
    "from Flight_Dynamics.disturbances import disturbance as disturb\n",
    "\n",
    "from Database.getresults import Database_2D\n",
    "from Database import DB3D , BASEGNVP"
   ]
  },
  {
   "cell_type": "code",
   "execution_count": null,
   "metadata": {},
   "outputs": [],
   "source": [
    "HOMEDIR = os.getcwd()"
   ]
  },
  {
   "attachments": {},
   "cell_type": "markdown",
   "metadata": {},
   "source": [
    "# Airfoil Data"
   ]
  },
  {
   "cell_type": "code",
   "execution_count": null,
   "metadata": {},
   "outputs": [],
   "source": [
    "db = Database_2D(HOMEDIR)\n",
    "airfoils = db.getAirfoils()\n",
    "polars2D = db.Data"
   ]
  },
  {
   "attachments": {},
   "cell_type": "markdown",
   "metadata": {},
   "source": [
    "# Get Plane"
   ]
  },
  {
   "cell_type": "code",
   "execution_count": null,
   "metadata": {},
   "outputs": [],
   "source": [
    "Origin = np.array([0., 0., 0.])"
   ]
  },
  {
   "cell_type": "code",
   "execution_count": null,
   "metadata": {},
   "outputs": [],
   "source": [
    "wingPos = np.array([0.0,0.0,0.0])\n",
    "wingOrientation = np.array([2.8,0.0,0.0])\n",
    "\n",
    "mainWing = wg(name=\"wing\",\n",
    "              airfoil=airfoils['NACA4415'],\n",
    "              Origin=Origin + wingPos,\n",
    "              Orientation=wingOrientation,           \n",
    "              isSymmetric=True,\n",
    "              span=2 * 1.130,\n",
    "              sweepOffset=0,\n",
    "              dihAngle=0,\n",
    "              chordFun=wing.linearChord,\n",
    "              chord=[0.159, 0.072],\n",
    "              spanFun=wing.linSpan,\n",
    "              N = 20,\n",
    "              M = 5,\n",
    "              mass = 0.670)\n",
    "# mainWing.plotWing()"
   ]
  },
  {
   "cell_type": "code",
   "execution_count": null,
   "metadata": {},
   "outputs": [],
   "source": [
    "elevatorPos = np.array([0.54,0.,0.])\n",
    "elevatorOrientantion = np.array([0.,0.,0.])\n",
    "\n",
    "elevator = wg(name = \"tail\",\n",
    "              airfoil=airfoils['NACA0008'],\n",
    "              Origin=Origin+ elevatorPos,\n",
    "              Orientation=elevatorOrientantion,\n",
    "              isSymmetric=True,\n",
    "              span= 2 * 0.169,\n",
    "              sweepOffset=0,\n",
    "              dihAngle=0,\n",
    "              chordFun=wing.linearChord,\n",
    "              chord=[0.130, 0.03],\n",
    "              spanFun=wing.linSpan,\n",
    "              N = 15,\n",
    "              M = 5,\n",
    "              mass = 0.06)\n",
    "# elevator.plotWing()"
   ]
  },
  {
   "cell_type": "code",
   "execution_count": null,
   "metadata": {},
   "outputs": [],
   "source": [
    "rudderPos = np.array([0.47, 0., 0.01])\n",
    "rudderOrientantion = np.array([0.0,0.0,90.0])\n",
    "\n",
    "rudder = wg(name= \"rudder\",\n",
    "            airfoil=airfoils['NACA0008'],\n",
    "            Origin=Origin + rudderPos,\n",
    "            Orientation= rudderOrientantion,\n",
    "            isSymmetric=False,\n",
    "            span= 0.160,\n",
    "            sweepOffset=0.1,\n",
    "            dihAngle=0,\n",
    "            chordFun=wing.linearChord,\n",
    "            chord=[0.2, 0.1],\n",
    "            spanFun=wing.linSpan,\n",
    "            N = 15,\n",
    "            M = 5,\n",
    "            mass = 0.04)\n",
    "# rudder.plotWing()"
   ]
  },
  {
   "cell_type": "code",
   "execution_count": null,
   "metadata": {},
   "outputs": [],
   "source": [
    "liftingSurfaces = [mainWing, elevator, rudder]\n",
    "# liftingSurfaces = [rudder]\n",
    "addedMasses = [\n",
    "    (0.500 , np.array([-0.40, 0.0, 0.0])), # Motor\n",
    "    (1.000 , np.array([0.090, 0.0, 0.0])), # Battery\n",
    "    (0.900 , np.array([0.130, 0.0, 0.0])), # Payload\n",
    "    ]\n",
    "ap = Plane(\"Hermes\", liftingSurfaces)\n",
    "ap.accessDB(HOMEDIR, DB3D)\n",
    "ap.visAirplane()\n",
    "ap.addMasses(addedMasses)"
   ]
  },
  {
   "cell_type": "code",
   "execution_count": null,
   "metadata": {},
   "outputs": [],
   "source": [
    "cleaning = False\n",
    "calcGenu = True\n",
    "calcBatchGenu = True\n",
    "petrubationAnalysis = True\n",
    "sensitivityAnalysis = True"
   ]
  },
  {
   "attachments": {},
   "cell_type": "markdown",
   "metadata": {},
   "source": [
    "## AoA Run"
   ]
  },
  {
   "cell_type": "code",
   "execution_count": null,
   "metadata": {},
   "outputs": [],
   "source": [
    "AoAmax = 10\n",
    "AoAmin = -6\n",
    "NoAoA = (AoAmax - AoAmin) + 1\n",
    "angles = np.linspace(AoAmin, AoAmax, NoAoA)\n",
    "\n",
    "Uinf = 20\n",
    "maxiter = 50\n",
    "timestep = 5e-2"
   ]
  },
  {
   "cell_type": "code",
   "execution_count": null,
   "metadata": {},
   "outputs": [],
   "source": [
    "ap.CASEDIR"
   ]
  },
  {
   "cell_type": "code",
   "execution_count": null,
   "metadata": {},
   "outputs": [],
   "source": [
    "if calcBatchGenu == True:\n",
    "    genuBatchArgs = [ap, BASEGNVP, polars2D,\"Xfoil\",\n",
    "                     maxiter,timestep,Uinf, angles]\n",
    "    ap.runSolver(gnvp.runGNVPangles,genuBatchArgs)\n",
    "genuPolarArgs = [ap.CASEDIR, HOMEDIR]\n",
    "ap.makePolars(gnvp.makePolar,genuPolarArgs)\n",
    "ap.defineSim(Uinf, 1.225)\n",
    "ap.save()\n"
   ]
  },
  {
   "attachments": {},
   "cell_type": "markdown",
   "metadata": {},
   "source": [
    "# Dynamics"
   ]
  },
  {
   "cell_type": "code",
   "execution_count": null,
   "metadata": {},
   "outputs": [],
   "source": [
    "from Flight_Dynamics.dyn_plane import dyn_plane as dp"
   ]
  },
  {
   "attachments": {},
   "cell_type": "markdown",
   "metadata": {},
   "source": [
    "### Define and Trim Plane"
   ]
  },
  {
   "cell_type": "code",
   "execution_count": null,
   "metadata": {},
   "outputs": [],
   "source": [
    "dyn = dp(ap,polars2D)"
   ]
  },
  {
   "attachments": {},
   "cell_type": "markdown",
   "metadata": {},
   "source": [
    "### Pertrubations"
   ]
  },
  {
   "cell_type": "code",
   "execution_count": null,
   "metadata": {},
   "outputs": [],
   "source": [
    "dyn.allPerturb(\"Central\")\n",
    "dyn.disturbances = [dyn.disturbances[-1]]\n",
    "dyn.get_pertrub()"
   ]
  },
  {
   "cell_type": "code",
   "execution_count": null,
   "metadata": {},
   "outputs": [],
   "source": [
    "if petrubationAnalysis == True:\n",
    "    genuBatchArgs = [dyn, BASEGNVP, polars2D,\"Xfoil\",\n",
    "                     maxiter, timestep,\n",
    "                     dyn.trim['U'], dyn.trim['AoA']]\n",
    "    dyn.accessDB(HOMEDIR)\n",
    "    dyn.runAnalysis(gnvp.runGNVPpertr,genuBatchArgs)\n",
    "genuLogArgs = [dyn.DynDir, HOMEDIR]\n",
    "dyn.logResults(gnvp.logResults,genuLogArgs)\n",
    "dyn.save()"
   ]
  },
  {
   "cell_type": "code",
   "execution_count": null,
   "metadata": {},
   "outputs": [],
   "source": [
    "if sensitivityAnalysis == True:\n",
    "    for var in ['u','w','q','theta','v','p','r','phi']:\n",
    "        space = np.logspace(np.log10(0.00001), np.log10(1), 10, base=10)\n",
    "        space =[*-space,*space]\n",
    "\n",
    "        dyn.sensitivityAnalysis(var, space)\n",
    "        genuBatchArgs = [dyn, var, BASEGNVP, polars2D, \"Xfoil\",\n",
    "                        maxiter, timestep,\n",
    "                        dyn.trim['U'], dyn.trim['AoA']]\n",
    "        # dyn.runAnalysis(gnvp.runGNVPsensitivity, genuBatchArgs)\n",
    "        dyn.sensResults[var] = gnvp.logResults(\n",
    "            f\"{dyn.CASEDIR}/Sensitivity_{var}\", HOMEDIR)\n",
    "    dyn.save()"
   ]
  },
  {
   "cell_type": "code",
   "execution_count": null,
   "metadata": {},
   "outputs": [],
   "source": [
    "dyn.trim"
   ]
  },
  {
   "cell_type": "code",
   "execution_count": null,
   "metadata": {},
   "outputs": [],
   "source": [
    "dyn.scheme = \"Backward\"\n",
    "dyn.longitudalStability('2D')\n",
    "dyn.lateralStability('Potential')"
   ]
  },
  {
   "cell_type": "code",
   "execution_count": null,
   "metadata": {},
   "outputs": [],
   "source": [
    "    #   Longitudinal derivatives\n",
    "    #   Xu=    -0.16379         Cxu=   -0.049477\n",
    "    #   Xw=      1.1494         Cxa=     0.34723\n",
    "    #   Zu=     -3.0117         Czu=  -0.0035415\n",
    "    #   Zw=     -19.528         CLa=      5.8991\n",
    "    #   Zq=     -1.8321         CLq=      9.1645\n",
    "    #   Mu= -0.00060463         Cmu=  -0.0015122\n",
    "    #   Mw=    -0.45664         Cma=     -1.1421\n",
    "    #   Mq=    -0.39098         Cmq=     -16.193\n",
    "\n",
    "    #   Lateral derivatives\n",
    "    #   Yv=     -0.5496         CYb=    -0.16602\n",
    "    #   Yp=   -0.017022         CYp=  -0.0045504\n",
    "    #   Yr=     0.32383         CYr=    0.086568\n",
    "    #   Lv=    0.039731         Clb=   0.0053106\n",
    "    #   Lp=     -5.6227         Clp=     -0.6651\n",
    "    #   Lr=      1.0377         Clr=     0.12275\n",
    "    #   Nv=     0.28879         Cnb=    0.038602\n",
    "    #   Np=    -0.57586         Cnp=   -0.068117\n",
    "    #   Nr=     -0.1259         Cnr=   -0.014893"
   ]
  },
  {
   "cell_type": "code",
   "execution_count": null,
   "metadata": {},
   "outputs": [],
   "source": [
    "print(dyn.Along)\n",
    "# [xu, xw, xq, xth]\n",
    "# [zu, zw, zq, zth]\n",
    "# [mu, mw, mq, mth]\n",
    "# [0,  1 , 0 ,  0 ]\n",
    "\n",
    "# Eigenvalue:  -4.524 + -8.045i | -4.524 + 8.045i           | -0.01025 + -0.602i        |-0.01025 + 0.602i\n",
    "#   _____________________________________________________________________________________________________\n",
    "# Eigenvector:           1 + 0i | 1 + 0i                    | 1 + 0i                   | 1 + 0i\n",
    "         #      25.53 + -19.47i | 25.53 + 19.47i            | -0.03335 + 0.004629i     | -0.03335+-0.004629i\n",
    "      #     -5.653+   -11.77i   |      -5.653+    11.77i    |      0.0371+ 0.002409i   |      0.0371+-0.002409i\n",
    "      #      1.412+  0.09123i   |       1.412+ -0.09123i    |   -0.005049+  0.06154i   |   -0.005049+ -0.06154i\n",
    "# dyn.AstarLong\n",
    "\n",
    "print(\"\\n\\nEIGENVALUES:\")\n",
    "np.linalg.eig(dyn.Along)\n",
    "\n",
    "eigvalLong, eigvecLong = np.linalg.eig(dyn.Along)\n",
    "print(eigvalLong)\n"
   ]
  },
  {
   "cell_type": "code",
   "execution_count": null,
   "metadata": {},
   "outputs": [],
   "source": [
    "print(dyn.Alat)\n",
    "# [yv, yp , yr, yphi]\n",
    "# [lv, lp , lr, lphi]\n",
    "# [nv, n_p, nr, nph ]\n",
    "# [0 , 1  , 0 , 0   ]\n",
    "\n",
    "# XFLR5\n",
    "# -0.173375         -0.00536967              -20.63                9.81\n",
    "#  0.243269             -30.274             5.56351                   0\n",
    "#  0.902122            -2.37023            -0.28454                   0\n",
    "#         0                   1                   0                   0\n",
    "\n",
    "# dyn.AstarLat\n",
    "\n",
    "print(\"\\n\\nEIGENVALUES:\")\n",
    "eigvalLat, eigvecLat =  np.linalg.eig(dyn.Alat)\n",
    "print(eigvalLat)"
   ]
  },
  {
   "cell_type": "code",
   "execution_count": null,
   "metadata": {},
   "outputs": [],
   "source": [
    "# plot the complex numbers\n",
    "import matplotlib.pyplot as plt \n",
    "\n",
    "# extract real part\n",
    "x = [ele.real for ele in eigvalLong]\n",
    "# extract imaginary part\n",
    "y=[ele.imag for ele in eigvalLong]\n",
    "plt.scatter(x, y, color = \"r\")\n",
    "\n",
    "# extract real part\n",
    "x = [ele.real for ele in eigvalLat]\n",
    "# extract imaginary part\n",
    "y = [ele.imag for ele in eigvalLat]\n",
    "plt.scatter(x, y, color=\"b\",marker = 'x')\n",
    "\n",
    "plt.ylabel('Imaginary')\n",
    "plt.xlabel('Real')\n",
    "plt.grid()\n",
    "plt.show()"
   ]
  },
  {
   "cell_type": "code",
   "execution_count": null,
   "metadata": {},
   "outputs": [],
   "source": [
    "liftingSurfaces = [mainWing, elevator, rudder]\n",
    "# liftingSurfaces = [rudder]\n",
    "addedMasses = [\n",
    "    (0.500, np.array([-0.40, 0.0, 0.0])),  # Motor\n",
    "    (1.000, np.array([0.090, 0.0, 0.0])),  # Battery\n",
    "    (0.900, np.array([0.130, 0.0, 0.0])),  # Payload\n",
    "]\n",
    "ap = Plane(\"Hermes2\", liftingSurfaces)\n",
    "ap.accessDB(HOMEDIR, DB3D)\n",
    "ap.visAirplane()\n",
    "ap.addMasses(addedMasses)\n",
    "\n",
    "AoAmax = 10\n",
    "AoAmin = -6\n",
    "NoAoA = (AoAmax - AoAmin) + 1\n",
    "angles = np.linspace(AoAmin, AoAmax, NoAoA)\n",
    "\n",
    "Uinf = 20\n",
    "maxiter = 70\n",
    "timestep = 1e-1\n",
    "\n",
    "\n",
    "if calcBatchGenu == True:\n",
    "    genuBatchArgs = [ap, BASEGNVP, polars2D, \"Xfoil\",\n",
    "                     maxiter, timestep, Uinf, angles]\n",
    "    ap.runSolver(gnvp.runGNVPangles, genuBatchArgs)\n",
    "genuPolarArgs = [ap.CASEDIR, HOMEDIR]\n",
    "ap.makePolars(gnvp.makePolar, genuPolarArgs)\n",
    "ap.defineSim(Uinf, 1.225)\n",
    "ap.save()\n"
   ]
  },
  {
   "cell_type": "code",
   "execution_count": null,
   "metadata": {},
   "outputs": [],
   "source": []
  }
 ],
 "metadata": {
  "kernelspec": {
   "display_name": "aero",
   "language": "python",
   "name": "python3"
  },
  "language_info": {
   "codemirror_mode": {
    "name": "ipython",
    "version": 3
   },
   "file_extension": ".py",
   "mimetype": "text/x-python",
   "name": "python",
   "nbconvert_exporter": "python",
   "pygments_lexer": "ipython3",
   "version": "3.10.8"
  },
  "vscode": {
   "interpreter": {
    "hash": "8acd08952dc410be23279ea6eab1a080d514a48a01ad47827aa392f9fbd61ae4"
   }
  }
 },
 "nbformat": 4,
 "nbformat_minor": 2
}
