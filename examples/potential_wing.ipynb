{
 "cells": [
  {
   "cell_type": "code",
   "execution_count": 1,
   "metadata": {},
   "outputs": [],
   "source": [
    "%load_ext autoreload\n",
    "%autoreload 2\n",
    "%matplotlib qt"
   ]
  },
  {
   "cell_type": "code",
   "execution_count": 2,
   "metadata": {},
   "outputs": [],
   "source": [
    "from ICARUS.Aerodynamics.Potential.wing_lspt import Wing_LSPT\n",
    "from ICARUS.Aerodynamics.Potential.vorticity import symm_wing_panels\n",
    "\n",
    "from ICARUS.Database import DB as db\n",
    "from ICARUS.Vehicle.plane import Airplane\n",
    "\n",
    "import numpy as np\n",
    "import pandas as pd\n"
   ]
  },
  {
   "cell_type": "markdown",
   "metadata": {},
   "source": [
    "# Import Plane"
   ]
  },
  {
   "cell_type": "code",
   "execution_count": 5,
   "metadata": {},
   "outputs": [],
   "source": [
    "from Vehicles.Planes.e190_cruise import e190_cruise\n",
    "from Vehicles.Planes.e190_takeoff import e190_takeoff_generator\n",
    "\n",
    "# embraer_cruise: Airplane = e190_cruise(name=\"e190_cruise_3\")\n",
    "embraer_to: Airplane = e190_takeoff_generator(name=\"e190_takeoff_3\")\n",
    "# from examples.Planes.simple_wing import airplane\n",
    "# plane: Airplane = airplane\n",
    "embraer_to.visualize()\n",
    "plane: Airplane = embraer_to"
   ]
  },
  {
   "cell_type": "markdown",
   "metadata": {},
   "source": [
    "# Import and setup Environment"
   ]
  },
  {
   "cell_type": "code",
   "execution_count": 6,
   "metadata": {},
   "outputs": [],
   "source": [
    "from ICARUS.Environment.definition import EARTH_ISA\n",
    "\n",
    "ALTITUDE: dict[str, int] = {\n",
    "    'e190_cruise_3': 12000,\n",
    "    'e190_takeoff_3': 0,\n",
    "    'bmark': 0\n",
    "}\n",
    "\n",
    "# OUR ATMOSPHERIC MODEL IS NOT COMPLETE TO HANDLE TEMPERATURE VS ALTITUDE\n",
    "TEMPERATURE: dict[str, int] = {\n",
    "    'e190_cruise_3': 273 - 50,\n",
    "    'e190_takeoff_3': 273 + 15,\n",
    "    'bmark': 273+15\n",
    "}\n",
    "\n",
    "EARTH_ISA._set_pressure_from_altitude_and_temperature(ALTITUDE[plane.name],  TEMPERATURE[plane.name])"
   ]
  },
  {
   "cell_type": "markdown",
   "metadata": {},
   "source": [
    "# Create Simulation Object And set parameters"
   ]
  },
  {
   "cell_type": "code",
   "execution_count": 8,
   "metadata": {},
   "outputs": [],
   "source": [
    "UMAG: dict[str, float] = {\n",
    "    'e190_cruise_3': 232,\n",
    "    'e190_takeoff_3':20,\n",
    "    'bmark': 20\n",
    "}\n",
    "\n",
    "plane_pot = Wing_LSPT(\n",
    "    plane=plane,\n",
    "    environment= EARTH_ISA,\n",
    "    alpha= 0,\n",
    "    beta= 0, \n",
    ")\n"
   ]
  },
  {
   "cell_type": "code",
   "execution_count": 9,
   "metadata": {},
   "outputs": [],
   "source": [
    "plane_pot.plot_grid(show_wake=False)"
   ]
  },
  {
   "cell_type": "markdown",
   "metadata": {},
   "source": [
    "# Run Simulation"
   ]
  },
  {
   "cell_type": "code",
   "execution_count": 10,
   "metadata": {},
   "outputs": [
    {
     "name": "stdout",
     "output_type": "stream",
     "text": [
      "Solving for a and b\n",
      "\tCould not interpolate polars! Got error:\n",
      "\tReynolds 7558878.474675898 not in database! Min Reynolds is 18430000.0\n",
      "\tCould not interpolate polars! Got error:\n",
      "\tReynolds 7558876.799184084 not in database! Min Reynolds is 18430000.0\n",
      "\tCould not interpolate polars! Got error:\n",
      "\tReynolds 7558876.837926163 not in database! Min Reynolds is 18430000.0\n",
      "\tCould not interpolate polars! Got error:\n",
      "\tReynolds 7558878.590890306 not in database! Min Reynolds is 18430000.0\n",
      "\tCould not interpolate polars! Got error:\n",
      "\tReynolds 7558882.0575413555 not in database! Min Reynolds is 18430000.0\n",
      "\tCould not interpolate polars! Got error:\n",
      "\tReynolds 7558887.236820976 not in database! Min Reynolds is 18430000.0\n",
      "\tCould not interpolate polars! Got error:\n",
      "\tReynolds 7558894.127147988 not in database! Min Reynolds is 18430000.0\n",
      "\tCould not interpolate polars! Got error:\n",
      "\tReynolds 7558902.726418861 not in database! Min Reynolds is 18430000.0\n",
      "\tCould not interpolate polars! Got error:\n",
      "\tReynolds 7558913.03200834 not in database! Min Reynolds is 18430000.0\n",
      "\tCould not interpolate polars! Got error:\n",
      "\tReynolds 7558925.040770279 not in database! Min Reynolds is 18430000.0\n",
      "\tCould not interpolate polars! Got error:\n",
      "\tReynolds 7558938.749038577 not in database! Min Reynolds is 18430000.0\n",
      "\tCould not interpolate polars! Got error:\n",
      "\tReynolds 7558954.152628332 not in database! Min Reynolds is 18430000.0\n",
      "\tCould not interpolate polars! Got error:\n",
      "\tReynolds 7558971.246837112 not in database! Min Reynolds is 18430000.0\n",
      "\tCould not interpolate polars! Got error:\n",
      "\tReynolds 7558990.026446406 not in database! Min Reynolds is 18430000.0\n",
      "\tCould not interpolate polars! Got error:\n",
      "\tReynolds 7559010.485723222 not in database! Min Reynolds is 18430000.0\n",
      "\tCould not interpolate polars! Got error:\n",
      "\tReynolds 7559032.618421855 not in database! Min Reynolds is 18430000.0\n",
      "\tCould not interpolate polars! Got error:\n",
      "\tReynolds 7559056.417785804 not in database! Min Reynolds is 18430000.0\n",
      "\tCould not interpolate polars! Got error:\n",
      "\tReynolds 7559081.876549845 not in database! Min Reynolds is 18430000.0\n",
      "\tCould not interpolate polars! Got error:\n",
      "\tReynolds 7559108.986942263 not in database! Min Reynolds is 18430000.0\n",
      "\tCould not interpolate polars! Got error:\n",
      "\tReynolds 7559137.740687251 not in database! Min Reynolds is 18430000.0\n",
      "\tCould not interpolate polars! Got error:\n",
      "\tReynolds 7559168.129007435 not in database! Min Reynolds is 18430000.0\n",
      "\tCould not interpolate polars! Got error:\n",
      "\tReynolds 7559200.142626584 not in database! Min Reynolds is 18430000.0\n",
      "\tCould not interpolate polars! Got error:\n",
      "\tReynolds 7559233.7717724545 not in database! Min Reynolds is 18430000.0\n",
      "\tCould not interpolate polars! Got error:\n",
      "\tReynolds 7559269.006179794 not in database! Min Reynolds is 18430000.0\n",
      "\tCould not interpolate polars! Got error:\n",
      "\tReynolds 7559305.835093485 not in database! Min Reynolds is 18430000.0\n",
      "\tCould not interpolate polars! Got error:\n",
      "\tReynolds 7559344.247271868 not in database! Min Reynolds is 18430000.0\n",
      "\tCould not interpolate polars! Got error:\n",
      "\tReynolds 7559384.230990177 not in database! Min Reynolds is 18430000.0\n",
      "\tCould not interpolate polars! Got error:\n",
      "\tReynolds 7559425.774044145 not in database! Min Reynolds is 18430000.0\n",
      "\tCould not interpolate polars! Got error:\n",
      "\tReynolds 7559468.863753756 not in database! Min Reynolds is 18430000.0\n",
      "\tCould not interpolate polars! Got error:\n",
      "\tReynolds 7559513.486967131 not in database! Min Reynolds is 18430000.0\n",
      "\tCould not interpolate polars! Got error:\n",
      "\tReynolds 7559559.630064578 not in database! Min Reynolds is 18430000.0\n",
      "\tCould not interpolate polars! Got error:\n",
      "\tReynolds 7559607.278962757 not in database! Min Reynolds is 18430000.0\n",
      "\tCould not interpolate polars! Got error:\n",
      "\tReynolds 7559656.419119023 not in database! Min Reynolds is 18430000.0\n"
     ]
    }
   ],
   "source": [
    "angles = np.linspace(-6, 10, 2*(10-(-6))+1)\n",
    "df: pd.DataFrame = plane_pot.aseq(\n",
    "    angles=angles,\n",
    "    umag = UMAG[plane.name],\n",
    "    solver_fun= symm_wing_panels,\n",
    ")\n"
   ]
  },
  {
   "cell_type": "markdown",
   "metadata": {},
   "source": [
    "# Plot Polars"
   ]
  },
  {
   "cell_type": "code",
   "execution_count": null,
   "metadata": {},
   "outputs": [],
   "source": [
    "import matplotlib.pyplot as plt\n",
    "\n",
    "fig, ax = plt.subplots(2,2)\n",
    "\n",
    "ax[1,0].plot(df['AoA'], df['CL'],label = \"Potential\")\n",
    "ax[1,0].plot(df['AoA'], df['CL_2D'], label = \"2D\")\n",
    "ax[1,0].set_xlabel(\"AoA\")\n",
    "ax[1,0].set_ylabel(\"CL\")\n",
    "\n",
    "ax[0,1].plot(df['AoA'], df['CD'],label = \"Potential\")\n",
    "ax[0,1].plot(df['AoA'], df['CD_2D'], label = \"2D\")\n",
    "ax[0,1].set_xlabel(\"AoA\")\n",
    "ax[0,1].set_ylabel(\"CD\")\n",
    "\n",
    "ax[0,0].plot(df['AoA'], df['Cm'],label = \"Potential\")\n",
    "ax[0,0].plot(df['AoA'], df['Cm_2D'], label = \"2D\")\n",
    "ax[0,0].set_xlabel(\"AoA\")\n",
    "ax[0,0].set_ylabel(\"Cm\")\n",
    "\n",
    "ax[1,1].plot(df['CD'], df['CL'],label = \"Potential\")\n",
    "ax[1,1].plot(df['CD_2D'], df['CL_2D'], label = \"2D\")\n",
    "ax[1,1].set_xlabel(\"CD\")\n",
    "ax[1,1].set_ylabel(\"CL\")\n",
    "\n",
    "for a in ax.flatten():\n",
    "    a.grid()\n",
    "    a.minorticks_on()\n",
    "    a.axvline(0, color=\"black\", linestyle=\"-\")\n",
    "    a.axhline(0, color=\"black\", linestyle=\"-\")\n",
    "ax[0,0].legend() \n",
    "\n",
    "plt.show()"
   ]
  },
  {
   "cell_type": "markdown",
   "metadata": {},
   "source": [
    "# Save Results to DB"
   ]
  },
  {
   "cell_type": "code",
   "execution_count": null,
   "metadata": {},
   "outputs": [],
   "source": [
    "from ICARUS.Aerodynamics.Potential.lifting_line import save_results\n",
    "\n",
    "save_results(\n",
    "    db =db,\n",
    "    plane = plane,\n",
    "    df = df,\n",
    ")"
   ]
  },
  {
   "cell_type": "markdown",
   "metadata": {},
   "source": [
    "# RUN A SPECIFIC CASE TO GET MORE RESULTS"
   ]
  },
  {
   "cell_type": "code",
   "execution_count": 18,
   "metadata": {},
   "outputs": [
    {
     "name": "stdout",
     "output_type": "stream",
     "text": [
      "Using previous solution for a and b! Be smart\n",
      "\tCould not interpolate polars! Got error:\n",
      "\tReynolds 3840789.40673543 not in database! Min Reynolds is 4495000.0\n",
      "- Angle 1.0\n",
      "\t--Using no penetration condition:\n",
      "\t\tL:19982.660794256233\t|\tD (Trefftz Plane):863.0024024801555\tD2:762.6456278997453\t|\tMy:23407.983667594683\n",
      "\t\tCL:0.8200579494083021\t|\tCD_ind:0.035416303554316325\t|\tCm:0.3755285544936944\n"
     ]
    }
   ],
   "source": [
    "plane_pot.alpha = 1*np.pi / 180\n",
    "Uinf = UMAG[plane.name] * np.cos(plane_pot.alpha) * np.cos(plane_pot.beta)\n",
    "Vinf = UMAG[plane.name] * np.cos(plane_pot.alpha) * np.sin(plane_pot.beta)\n",
    "Winf = UMAG[plane.name] * np.sin(plane_pot.alpha) * np.cos(plane_pot.beta)\n",
    "Q = np.array((Uinf, Vinf, Winf))\n",
    "\n",
    "plane_pot.solve_wing_panels(Q,symm_wing_panels)\n",
    "plane_pot.get_gamma_distribution()\n",
    "plane_pot.get_gamma_distribution()\n",
    "plane_pot.get_strip_reynolds(UMAG[plane.name])\n",
    "plane_pot.get_aerodynamic_loads(UMAG[plane.name])\n",
    "plane_pot.calculate_strip_induced_velocities()\n",
    "plane_pot.calculate_strip_gamma()\n"
   ]
  },
  {
   "cell_type": "code",
   "execution_count": 21,
   "metadata": {},
   "outputs": [],
   "source": [
    "# plane_pot.plot_w_induced_strips(umag=UMAG[plane.name])\n",
    "# plane_pot.plot_gamma_distribution()\n",
    "plane_pot.plot_lift_drag_strips()\n",
    "plane_pot.plot_lift_drag_panels(umag= UMAG[plane.name])"
   ]
  },
  {
   "cell_type": "code",
   "execution_count": 23,
   "metadata": {},
   "outputs": [],
   "source": [
    "plane_pot.strip_reynolds\n",
    "import matplotlib.pyplot as plt"
   ]
  },
  {
   "cell_type": "code",
   "execution_count": 24,
   "metadata": {},
   "outputs": [
    {
     "data": {
      "text/plain": [
       "[<matplotlib.lines.Line2D at 0x7f7463d77750>]"
      ]
     },
     "execution_count": 24,
     "metadata": {},
     "output_type": "execute_result"
    }
   ],
   "source": [
    "plt.plot(plane_pot.strip_reynolds\n",
    "         )"
   ]
  },
  {
   "cell_type": "code",
   "execution_count": null,
   "metadata": {},
   "outputs": [],
   "source": []
  }
 ],
 "metadata": {
  "kernelspec": {
   "display_name": "aero",
   "language": "python",
   "name": "python3"
  },
  "language_info": {
   "codemirror_mode": {
    "name": "ipython",
    "version": 3
   },
   "file_extension": ".py",
   "mimetype": "text/x-python",
   "name": "python",
   "nbconvert_exporter": "python",
   "pygments_lexer": "ipython3",
   "version": "3.11.4"
  }
 },
 "nbformat": 4,
 "nbformat_minor": 2
}
