{
    "cells": [
        {
            "cell_type": "code",
            "execution_count": 1,
            "metadata": {},
            "outputs": [],
            "source": [
                "%load_ext autoreload\n",
                "%autoreload 2\n",
                "%matplotlib qt"
            ]
        },
        {
            "cell_type": "code",
            "execution_count": 2,
            "metadata": {},
            "outputs": [],
            "source": [
                "from ICARUS.Database import DB\n",
                "from ICARUS.Database.Database_3D import Database_3D\n",
                "from time import sleep"
            ]
        },
        {
            "attachments": {},
            "cell_type": "markdown",
            "metadata": {},
            "source": [
                "# Open Database"
            ]
        },
        {
            "cell_type": "code",
            "execution_count": 3,
            "metadata": {},
            "outputs": [],
            "source": [
                "db3d: Database_3D = DB.vehicles_db"
            ]
        },
        {
            "attachments": {},
            "cell_type": "markdown",
            "metadata": {},
            "source": [
                "### Select Plane"
            ]
        },
        {
            "cell_type": "code",
            "execution_count": 4,
            "metadata": {},
            "outputs": [
                {
                    "name": "stdout",
                    "output_type": "stream",
                    "text": [
                        "0 : `bmark\n",
                        "1 : `plane_1\n"
                    ]
                }
            ],
            "source": [
                "planenames: list[str] = db3d.get_planenames()\n",
                "for i, planename in enumerate(planenames):\n",
                "    print(f\"{i} : `{planename}\") \n",
                "sleep(1)\n",
                "\n",
                "indexes = [1]# range(0,len(planenames))\n",
                "plane = db3d.planes[planenames[indexes[0]]]\n",
                "# dynplane = db3d.dyn_planes[planenames[index]]\n",
                "planenames = [planenames[i] for i in indexes]"
            ]
        },
        {
            "attachments": {},
            "cell_type": "markdown",
            "metadata": {},
            "source": [
                "# Add XFLR Polars"
            ]
        },
        {
            "cell_type": "code",
            "execution_count": 5,
            "metadata": {},
            "outputs": [
                {
                    "name": "stdout",
                    "output_type": "stream",
                    "text": [
                        "Imported XFLR polar for plane_1\n"
                    ]
                }
            ],
            "source": [
                "from ICARUS.Solvers.XFLR5.polars import read_polars_3d\n",
                "from ICARUS.Database import EXTERNAL_DB\n",
                "for name in planenames:\n",
                "    if name.startswith(\"XFLR\"):\n",
                "        continue\n",
                "    if name.endswith(\"_hd\"):\n",
                "        name = name[:-3]\n",
                "    if name.endswith(\"_3\") or name.endswith(\"_7\"):\n",
                "        name = name[:-2]\n",
                "        \n",
                "    if f\"XFLR_{name}\" not in planenames: \n",
                "        try:\n",
                "            import os\n",
                "            XFLR5PLANEDIR: str = os.path.join(EXTERNAL_DB,f\"{name}.txt\")\n",
                "            read_polars_3d(XFLR5PLANEDIR, name)\n",
                "            print(f\"Imported XFLR polar for {name}\")\n",
                "            planenames.append(f\"XFLR_{name}\")\n",
                "        except FileNotFoundError:\n",
                "            pass\n",
                "            # print(f\"No XFLR polar found for {name}\")\n",
                "        "
            ]
        },
        {
            "cell_type": "code",
            "execution_count": 6,
            "metadata": {},
            "outputs": [],
            "source": [
                "# planenames =[planenames[0]]\n",
                "# planenames[0] = \"Embraer_E190_Cruise 2D\"\n",
                "# db3d.data[planenames[0]] = db3d.data[\"XFLR_e190_cruise\"]"
            ]
        },
        {
            "cell_type": "code",
            "execution_count": 7,
            "metadata": {},
            "outputs": [],
            "source": [
                "# try:\n",
                "#     XFLR5PLANEDIR = os.path.join(EXTERNAL_DB,f\"e190_takeoff.txt\")\n",
                "#     read_polars_3d(db3d, XFLR5PLANEDIR, 'XFLR5_e190_takeoff')\n",
                "#     planenames.append('Embraer_E190_takeoff')\n",
                "#     planenames[-1]= \"Embraer_E190_takeoff\"\n",
                "# except FileNotFoundError:\n",
                "#     print(\"No XFLR polar found for e190_takeoff.txt\")"
            ]
        },
        {
            "cell_type": "code",
            "execution_count": 8,
            "metadata": {},
            "outputs": [],
            "source": [
                "# db3d.data[planenames[1]] = db3d.data[\"XFLR_Embraer_E190_takeoff\"]"
            ]
        },
        {
            "attachments": {},
            "cell_type": "markdown",
            "metadata": {},
            "source": [
                "# Airplane Visualization"
            ]
        },
        {
            "cell_type": "code",
            "execution_count": 9,
            "metadata": {},
            "outputs": [],
            "source": [
                "# plane.visualize()"
            ]
        },
        {
            "attachments": {},
            "cell_type": "markdown",
            "metadata": {},
            "source": [
                "# Polars"
            ]
        },
        {
            "cell_type": "code",
            "execution_count": 10,
            "metadata": {},
            "outputs": [],
            "source": [
                "from ICARUS.Visualization.airplane.db_polars import plot_airplane_polars \n",
                "solvers = [\n",
                "            \"GNVP3 Potential\",\n",
                "            \"GNVP3 2D\", \n",
                "            # \"GNVP3 ONERA\",\n",
                "            # \"GNVP7 Potential\",\n",
                "            # \"GNVP7 2D\",\n",
                "            # \"LSPT Potential\",\n",
                "            # \"LSPT 2D\"\n",
                "        ]\n",
                "axs, fig = plot_airplane_polars(\n",
                "    planenames,\n",
                "    solvers,\n",
                "    plots = [[\"AoA\", \"CL\"], [\"AoA\", \"CD\"], [\"AoA\", \"Cm\"]],\n",
                "    size=(6,7),\n",
                ")"
            ]
        },
        {
            "cell_type": "code",
            "execution_count": 11,
            "metadata": {},
            "outputs": [],
            "source": [
                "# from ICARUS.Visualization.airplane.cg_investigation import cg_investigation\n",
                "\n",
                "# cg_investigation(\n",
                "#     planenames[0],\n",
                "#     solvers,\n",
                "#     size=(10,7),\n",
                "# )"
            ]
        },
        {
            "cell_type": "code",
            "execution_count": 12,
            "metadata": {},
            "outputs": [
                {
                    "data": {
                        "text/plain": [
                            "'0012'"
                        ]
                    },
                    "execution_count": 12,
                    "metadata": {},
                    "output_type": "execute_result"
                }
            ],
            "source": [
                "plane.surfaces[1].airfoil.name"
            ]
        },
        {
            "attachments": {},
            "cell_type": "markdown",
            "metadata": {},
            "source": [
                "# Case Convergence"
            ]
        },
        {
            "cell_type": "code",
            "execution_count": 13,
            "metadata": {},
            "outputs": [],
            "source": [
                "from ICARUS.Visualization.airplane.gnvp_convergence import plot_convergence"
            ]
        },
        {
            "cell_type": "code",
            "execution_count": 22,
            "metadata": {},
            "outputs": [
                {
                    "ename": "IndexError",
                    "evalue": "single positional indexer is out-of-bounds",
                    "output_type": "error",
                    "traceback": [
                        "\u001b[1;31m---------------------------------------------------------------------------\u001b[0m",
                        "\u001b[1;31mIndexError\u001b[0m                                Traceback (most recent call last)",
                        "\u001b[1;32mc:\\Users\\tryfo\\Desktop\\Software\\Icarus\\examples\\airplanes_visualization.ipynb Cell 20\u001b[0m line \u001b[0;36m2\n\u001b[0;32m      <a href='vscode-notebook-cell:/c%3A/Users/tryfo/Desktop/Software/Icarus/examples/airplanes_visualization.ipynb#X25sZmlsZQ%3D%3D?line=0'>1</a>\u001b[0m angles2show \u001b[39m=\u001b[39m [\u001b[39m0.\u001b[39m]\u001b[39m# All\u001b[39;00m\n\u001b[1;32m----> <a href='vscode-notebook-cell:/c%3A/Users/tryfo/Desktop/Software/Icarus/examples/airplanes_visualization.ipynb#X25sZmlsZQ%3D%3D?line=1'>2</a>\u001b[0m plot_convergence(\n\u001b[0;32m      <a href='vscode-notebook-cell:/c%3A/Users/tryfo/Desktop/Software/Icarus/examples/airplanes_visualization.ipynb#X25sZmlsZQ%3D%3D?line=2'>3</a>\u001b[0m     plane\u001b[39m.\u001b[39;49mname,\n\u001b[0;32m      <a href='vscode-notebook-cell:/c%3A/Users/tryfo/Desktop/Software/Icarus/examples/airplanes_visualization.ipynb#X25sZmlsZQ%3D%3D?line=3'>4</a>\u001b[0m     angles \u001b[39m=\u001b[39;49m angles2show,\n\u001b[0;32m      <a href='vscode-notebook-cell:/c%3A/Users/tryfo/Desktop/Software/Icarus/examples/airplanes_visualization.ipynb#X25sZmlsZQ%3D%3D?line=4'>5</a>\u001b[0m     solvers\u001b[39m=\u001b[39;49m [\u001b[39m\"\u001b[39;49m\u001b[39mAll\u001b[39;49m\u001b[39m\"\u001b[39;49m],\n\u001b[0;32m      <a href='vscode-notebook-cell:/c%3A/Users/tryfo/Desktop/Software/Icarus/examples/airplanes_visualization.ipynb#X25sZmlsZQ%3D%3D?line=5'>6</a>\u001b[0m     plot_error \u001b[39m=\u001b[39;49m \u001b[39mTrue\u001b[39;49;00m,\n\u001b[0;32m      <a href='vscode-notebook-cell:/c%3A/Users/tryfo/Desktop/Software/Icarus/examples/airplanes_visualization.ipynb#X25sZmlsZQ%3D%3D?line=6'>7</a>\u001b[0m     size\u001b[39m=\u001b[39;49m(\u001b[39m16\u001b[39;49m,\u001b[39m7\u001b[39;49m)\n\u001b[0;32m      <a href='vscode-notebook-cell:/c%3A/Users/tryfo/Desktop/Software/Icarus/examples/airplanes_visualization.ipynb#X25sZmlsZQ%3D%3D?line=7'>8</a>\u001b[0m )\n",
                        "File \u001b[1;32m~\\Desktop\\Software\\Icarus\\ICARUS\\Visualization\\airplane\\gnvp_convergence.py:89\u001b[0m, in \u001b[0;36mplot_convergence\u001b[1;34m(plane, angles, solvers, plot_error, size)\u001b[0m\n\u001b[0;32m     87\u001b[0m \u001b[39mtry\u001b[39;00m:\n\u001b[0;32m     88\u001b[0m     it \u001b[39m=\u001b[39m runHist[\u001b[39m\"\u001b[39m\u001b[39mTTIME\u001b[39m\u001b[39m\"\u001b[39m]\u001b[39m.\u001b[39mastype(\u001b[39mfloat\u001b[39m)\n\u001b[1;32m---> 89\u001b[0m     it \u001b[39m=\u001b[39m it \u001b[39m/\u001b[39m it\u001b[39m.\u001b[39;49miloc[\u001b[39m0\u001b[39;49m]\n\u001b[0;32m     91\u001b[0m     fx \u001b[39m=\u001b[39m np\u001b[39m.\u001b[39mabs(runHist[\u001b[39mf\u001b[39m\u001b[39m\"\u001b[39m\u001b[39mTFORC\u001b[39m\u001b[39m{\u001b[39;00msolver\u001b[39m}\u001b[39;00m\u001b[39m(1)\u001b[39m\u001b[39m\"\u001b[39m]\u001b[39m.\u001b[39mastype(\u001b[39mfloat\u001b[39m))\n\u001b[0;32m     92\u001b[0m     fy \u001b[39m=\u001b[39m np\u001b[39m.\u001b[39mabs(runHist[\u001b[39mf\u001b[39m\u001b[39m\"\u001b[39m\u001b[39mTFORC\u001b[39m\u001b[39m{\u001b[39;00msolver\u001b[39m}\u001b[39;00m\u001b[39m(2)\u001b[39m\u001b[39m\"\u001b[39m]\u001b[39m.\u001b[39mastype(\u001b[39mfloat\u001b[39m))\n",
                        "File \u001b[1;32mc:\\Users\\tryfo\\anaconda3\\envs\\aero\\Lib\\site-packages\\pandas\\core\\indexing.py:1153\u001b[0m, in \u001b[0;36m_LocationIndexer.__getitem__\u001b[1;34m(self, key)\u001b[0m\n\u001b[0;32m   1150\u001b[0m axis \u001b[39m=\u001b[39m \u001b[39mself\u001b[39m\u001b[39m.\u001b[39maxis \u001b[39mor\u001b[39;00m \u001b[39m0\u001b[39m\n\u001b[0;32m   1152\u001b[0m maybe_callable \u001b[39m=\u001b[39m com\u001b[39m.\u001b[39mapply_if_callable(key, \u001b[39mself\u001b[39m\u001b[39m.\u001b[39mobj)\n\u001b[1;32m-> 1153\u001b[0m \u001b[39mreturn\u001b[39;00m \u001b[39mself\u001b[39;49m\u001b[39m.\u001b[39;49m_getitem_axis(maybe_callable, axis\u001b[39m=\u001b[39;49maxis)\n",
                        "File \u001b[1;32mc:\\Users\\tryfo\\anaconda3\\envs\\aero\\Lib\\site-packages\\pandas\\core\\indexing.py:1714\u001b[0m, in \u001b[0;36m_iLocIndexer._getitem_axis\u001b[1;34m(self, key, axis)\u001b[0m\n\u001b[0;32m   1711\u001b[0m     \u001b[39mraise\u001b[39;00m \u001b[39mTypeError\u001b[39;00m(\u001b[39m\"\u001b[39m\u001b[39mCannot index by location index with a non-integer key\u001b[39m\u001b[39m\"\u001b[39m)\n\u001b[0;32m   1713\u001b[0m \u001b[39m# validate the location\u001b[39;00m\n\u001b[1;32m-> 1714\u001b[0m \u001b[39mself\u001b[39;49m\u001b[39m.\u001b[39;49m_validate_integer(key, axis)\n\u001b[0;32m   1716\u001b[0m \u001b[39mreturn\u001b[39;00m \u001b[39mself\u001b[39m\u001b[39m.\u001b[39mobj\u001b[39m.\u001b[39m_ixs(key, axis\u001b[39m=\u001b[39maxis)\n",
                        "File \u001b[1;32mc:\\Users\\tryfo\\anaconda3\\envs\\aero\\Lib\\site-packages\\pandas\\core\\indexing.py:1647\u001b[0m, in \u001b[0;36m_iLocIndexer._validate_integer\u001b[1;34m(self, key, axis)\u001b[0m\n\u001b[0;32m   1645\u001b[0m len_axis \u001b[39m=\u001b[39m \u001b[39mlen\u001b[39m(\u001b[39mself\u001b[39m\u001b[39m.\u001b[39mobj\u001b[39m.\u001b[39m_get_axis(axis))\n\u001b[0;32m   1646\u001b[0m \u001b[39mif\u001b[39;00m key \u001b[39m>\u001b[39m\u001b[39m=\u001b[39m len_axis \u001b[39mor\u001b[39;00m key \u001b[39m<\u001b[39m \u001b[39m-\u001b[39mlen_axis:\n\u001b[1;32m-> 1647\u001b[0m     \u001b[39mraise\u001b[39;00m \u001b[39mIndexError\u001b[39;00m(\u001b[39m\"\u001b[39m\u001b[39msingle positional indexer is out-of-bounds\u001b[39m\u001b[39m\"\u001b[39m)\n",
                        "\u001b[1;31mIndexError\u001b[0m: single positional indexer is out-of-bounds"
                    ]
                }
            ],
            "source": [
                "angles2show = [0.]# All\n",
                "plot_convergence(\n",
                "    plane.name,\n",
                "    angles = angles2show,\n",
                "    solvers= [\"All\"],\n",
                "    plot_error = True,\n",
                "    size=(16,7)\n",
                ")"
            ]
        },
        {
            "attachments": {},
            "cell_type": "markdown",
            "metadata": {},
            "source": [
                "# Wake Visualization"
            ]
        },
        {
            "cell_type": "code",
            "execution_count": 17,
            "metadata": {},
            "outputs": [],
            "source": [
                "from ICARUS.Visualization.airplane.gnvp_wake import plot_gnvp_wake\n",
                "from ICARUS.Database.utils  import angle_to_case"
            ]
        },
        {
            "cell_type": "code",
            "execution_count": 18,
            "metadata": {},
            "outputs": [],
            "source": [
                "from ICARUS.Database import DB3D\n",
                "plane.CASEDIR =  os.path.join(DB3D, plane.name)"
            ]
        },
        {
            "cell_type": "code",
            "execution_count": 19,
            "metadata": {},
            "outputs": [
                {
                    "ename": "IndexError",
                    "evalue": "too many indices for array: array is 1-dimensional, but 2 were indexed",
                    "output_type": "error",
                    "traceback": [
                        "\u001b[1;31m---------------------------------------------------------------------------\u001b[0m",
                        "\u001b[1;31mIndexError\u001b[0m                                Traceback (most recent call last)",
                        "\u001b[1;32mc:\\Users\\tryfo\\Desktop\\Software\\Icarus\\examples\\airplanes_visualization.ipynb Cell 24\u001b[0m line \u001b[0;36m5\n\u001b[0;32m      <a href='vscode-notebook-cell:/c%3A/Users/tryfo/Desktop/Software/Icarus/examples/airplanes_visualization.ipynb#X32sZmlsZQ%3D%3D?line=1'>2</a>\u001b[0m plane \u001b[39m=\u001b[39m db3d\u001b[39m.\u001b[39mplanes[plane\u001b[39m.\u001b[39mname]\n\u001b[0;32m      <a href='vscode-notebook-cell:/c%3A/Users/tryfo/Desktop/Software/Icarus/examples/airplanes_visualization.ipynb#X32sZmlsZQ%3D%3D?line=2'>3</a>\u001b[0m \u001b[39m# plane = db3d.planes['bmark']\u001b[39;00m\n\u001b[0;32m      <a href='vscode-notebook-cell:/c%3A/Users/tryfo/Desktop/Software/Icarus/examples/airplanes_visualization.ipynb#X32sZmlsZQ%3D%3D?line=3'>4</a>\u001b[0m \u001b[39m# plane.visualize()\u001b[39;00m\n\u001b[1;32m----> <a href='vscode-notebook-cell:/c%3A/Users/tryfo/Desktop/Software/Icarus/examples/airplanes_visualization.ipynb#X32sZmlsZQ%3D%3D?line=4'>5</a>\u001b[0m plot_gnvp_wake(\u001b[39m3\u001b[39;49m,plane,CASE, scale \u001b[39m=\u001b[39;49m \u001b[39m\"\u001b[39;49m\u001b[39m\"\u001b[39;49m)\n",
                        "File \u001b[1;32m~\\Desktop\\Software\\Icarus\\ICARUS\\Visualization\\airplane\\gnvp_wake.py:59\u001b[0m, in \u001b[0;36mplot_gnvp_wake\u001b[1;34m(gnvp_version, plane, case, scale, figsize)\u001b[0m\n\u001b[0;32m     56\u001b[0m ax\u001b[39m.\u001b[39mset_ylim(\u001b[39m-\u001b[39mplane\u001b[39m.\u001b[39mspan \u001b[39m/\u001b[39m \u001b[39m2\u001b[39m, plane\u001b[39m.\u001b[39mspan \u001b[39m/\u001b[39m \u001b[39m2\u001b[39m)\n\u001b[0;32m     57\u001b[0m ax\u001b[39m.\u001b[39mset_zlim(\u001b[39m-\u001b[39m\u001b[39m1\u001b[39m, \u001b[39m1\u001b[39m)\n\u001b[1;32m---> 59\u001b[0m ax\u001b[39m.\u001b[39mscatter(A1[:, \u001b[39m0\u001b[39;49m], A1[:, \u001b[39m1\u001b[39m], A1[:, \u001b[39m2\u001b[39m], color\u001b[39m=\u001b[39m\u001b[39m\"\u001b[39m\u001b[39mr\u001b[39m\u001b[39m\"\u001b[39m, s\u001b[39m=\u001b[39m\u001b[39m5.0\u001b[39m)  \u001b[39m# WAKE\u001b[39;00m\n\u001b[0;32m     60\u001b[0m ax\u001b[39m.\u001b[39mscatter(B1[:, \u001b[39m0\u001b[39m], B1[:, \u001b[39m1\u001b[39m], B1[:, \u001b[39m2\u001b[39m], color\u001b[39m=\u001b[39m\u001b[39m\"\u001b[39m\u001b[39mk\u001b[39m\u001b[39m\"\u001b[39m, s\u001b[39m=\u001b[39m\u001b[39m5.0\u001b[39m)  \u001b[39m# NEARWAKE\u001b[39;00m\n\u001b[0;32m     61\u001b[0m ax\u001b[39m.\u001b[39mscatter(C1[:, \u001b[39m0\u001b[39m], C1[:, \u001b[39m1\u001b[39m], C1[:, \u001b[39m2\u001b[39m], color\u001b[39m=\u001b[39m\u001b[39m\"\u001b[39m\u001b[39mg\u001b[39m\u001b[39m\"\u001b[39m, s\u001b[39m=\u001b[39m\u001b[39m5.0\u001b[39m)  \u001b[39m# GRID\u001b[39;00m\n",
                        "\u001b[1;31mIndexError\u001b[0m: too many indices for array: array is 1-dimensional, but 2 were indexed"
                    ]
                }
            ],
            "source": [
                "CASE: str = angle_to_case(0.)\n",
                "plane = db3d.planes[plane.name]\n",
                "# plane = db3d.planes['bmark']\n",
                "# plane.visualize()\n",
                "plot_gnvp_wake(3,plane,CASE, scale = \"\")"
            ]
        },
        {
            "attachments": {},
            "cell_type": "markdown",
            "metadata": {},
            "source": [
                " # Loads Visualization"
            ]
        },
        {
            "cell_type": "code",
            "execution_count": null,
            "metadata": {},
            "outputs": [],
            "source": [
                "from ICARUS.Visualization.airplane.gnvp_strips import gnvp_strips_2d, gnvp_strips_3d\n",
                "NBs = [i+1 for i in range(len(plane.surfaces))]\n",
                "print(plane)\n",
                "print(\"NBs to Visualize: \",NBs)\n",
                "\n",
                "stripData = gnvp_strips_2d(plane,CASE, NBs[1], category= 'Wind')"
            ]
        },
        {
            "attachments": {},
            "cell_type": "markdown",
            "metadata": {},
            "source": [
                "# Dynamics"
            ]
        },
        {
            "cell_type": "code",
            "execution_count": null,
            "metadata": {},
            "outputs": [],
            "source": [
                "states = db3d.states['plane_1']\n",
                "for i,name in enumerate(states):\n",
                "    print(f\"{i}: {name}\")"
            ]
        },
        {
            "cell_type": "code",
            "execution_count": null,
            "metadata": {},
            "outputs": [],
            "source": [
                "db3d.states['plane_1']"
            ]
        },
        {
            "cell_type": "code",
            "execution_count": null,
            "metadata": {},
            "outputs": [],
            "source": [
                "# name = 'atlas'\n",
                "from ICARUS.Flight_Dynamics.state import State\n",
                "\n",
                "\n",
                "state: State = states['plane_1']\n",
                "state.stability_fd()\n",
                "state.eigenvalue_analysis()\n",
                "print(state)\n",
                "state.plot_eigenvalues()\n",
                "#   Longitudinal derivatives\n",
                "#   Xu=    -0.16379         Cxu=   -0.049477\n",
                "#   Xw=      1.1494         Cxa=     0.34723\n",
                "#   Zu=     -3.0117         Czu=  -0.0035415\n",
                "#   Zw=     -19.528         CLa=      5.8991\n",
                "#   Zq=     -1.8321         CLq=      9.1645\n",
                "#   Mu= -0.00060463         Cmu=  -0.0015122\n",
                "#   Mw=    -0.45664         Cma=     -1.1421\n",
                "#   Mq=    -0.39098         Cmq=     -16.193\n",
                "\n",
                "#   Lateral derivatives\n",
                "#   Yv=     -0.5496         CYb=    -0.16602\n",
                "#   Yp=   -0.017022         CYp=  -0.0045504\n",
                "#   Yr=     0.32383         CYr=    0.086568\n",
                "#   Lv=    0.039731         Clb=   0.0053106\n",
                "#   Lp=     -5.6227         Clp=     -0.6651\n",
                "#   Lr=      1.0377         Clr=     0.12275\n",
                "#   Nv=     0.28879         Cnb=    0.038602\n",
                "#   Np=    -0.57586         Cnp=   -0.068117\n",
                "#   Nr=     -0.1259         Cnr=   -0.014893\n"
            ]
        },
        {
            "cell_type": "code",
            "execution_count": null,
            "metadata": {},
            "outputs": [],
            "source": [
                "state.SBderivativesDS.tree()"
            ]
        },
        {
            "attachments": {},
            "cell_type": "markdown",
            "metadata": {},
            "source": [
                "# Sensitivity Plot"
            ]
        },
        {
            "cell_type": "code",
            "execution_count": null,
            "metadata": {},
            "outputs": [],
            "source": [
                "from ICARUS.Visualization.airplane.gnvp_sensitivity import plot_sensitivity "
            ]
        },
        {
            "cell_type": "code",
            "execution_count": null,
            "metadata": {},
            "outputs": [],
            "source": [
                "# pertr = dynplane.pertubResults\n",
                "# print(dynplane.trim)\n",
                "# trim = pertr[pertr['Type'] == 'Trim']\n",
                "# dynplane.sensResults['u'].sort_values(by=['Epsilon'])\n",
                "# plotSensitivity(dynplane.sensResults,dynplane,trim,relative = 0,vars2s=['r'])"
            ]
        },
        {
            "cell_type": "code",
            "execution_count": null,
            "metadata": {},
            "outputs": [],
            "source": []
        }
    ],
    "metadata": {
        "kernelspec": {
            "display_name": "aero",
            "language": "python",
            "name": "python3"
        },
        "language_info": {
            "codemirror_mode": {
                "name": "ipython",
                "version": 3
            },
            "file_extension": ".py",
            "mimetype": "text/x-python",
            "name": "python",
            "nbconvert_exporter": "python",
            "pygments_lexer": "ipython3",
            "version": "3.12.0"
        }
    },
    "nbformat": 4,
    "nbformat_minor": 2
}
