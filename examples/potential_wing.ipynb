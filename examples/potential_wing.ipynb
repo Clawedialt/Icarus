{
 "cells": [
  {
   "cell_type": "code",
   "execution_count": 1,
   "metadata": {},
   "outputs": [],
   "source": [
    "%load_ext autoreload\n",
    "%autoreload 2\n",
    "%matplotlib qt"
   ]
  },
  {
   "cell_type": "code",
   "execution_count": 2,
   "metadata": {},
   "outputs": [],
   "source": [
    "from ICARUS.Aerodynamics.Potential.core.lifting_line import Wing_LLT\n",
    "from ICARUS.Aerodynamics.Potential.core.vorticity import symm_wing_panels\n",
    "\n",
    "from ICARUS.Database.db import DB\n",
    "from ICARUS.Database.Database_3D import Database_3D\n",
    "from ICARUS.Vehicle.plane import Airplane\n",
    "\n",
    "import numpy as np"
   ]
  },
  {
   "cell_type": "code",
   "execution_count": 3,
   "metadata": {},
   "outputs": [
    {
     "name": "stdout",
     "output_type": "stream",
     "text": [
      "Error decoding Plane object bmark! Got error list index out of range\n"
     ]
    }
   ],
   "source": [
    "db = DB()\n",
    "db.load_data()\n",
    "db3d: Database_3D = db.vehiclesDB"
   ]
  },
  {
   "cell_type": "code",
   "execution_count": null,
   "metadata": {},
   "outputs": [],
   "source": [
    "from examples.Planes.e190_cruise import e190_cruise\n",
    "from examples.Planes.e190_takeoff import e190_takeoff\n",
    "\n",
    "embraer_cruise: Airplane = e190_cruise(name=\"e190_cruise_3\")\n",
    "embraer_to: Airplane = e190_takeoff(name=\"e190_takeoff_3\")"
   ]
  },
  {
   "cell_type": "code",
   "execution_count": null,
   "metadata": {},
   "outputs": [],
   "source": [
    "plane_pot = Wing_LLT(\n",
    "    wing_segments=embraer_cruise.surfaces,\n",
    "    alpha= 0,\n",
    "    beta= 0, \n",
    ")"
   ]
  },
  {
   "cell_type": "code",
   "execution_count": null,
   "metadata": {},
   "outputs": [],
   "source": [
    "plane_pot.plot_grid()"
   ]
  },
  {
   "cell_type": "code",
   "execution_count": null,
   "metadata": {},
   "outputs": [],
   "source": [
    "AoAs, CLs, CDs = plane_pot.aseq(\n",
    "    aoa_min= -10,\n",
    "    aoa_max= 10,\n",
    "    aoa_step= 1,\n",
    "    umag = 20,\n",
    "    dens = 1.225,\n",
    "    solver_fun= symm_wing_panels,\n",
    ")"
   ]
  },
  {
   "cell_type": "code",
   "execution_count": null,
   "metadata": {},
   "outputs": [],
   "source": [
    "import matplotlib.pyplot as plt\n",
    "fig = plt.figure()\n",
    "ax = fig.add_subplot(111)\n",
    "ax.plot(AoAs, CLs, label=\"CL\")\n",
    "ax.plot(AoAs, CDs, label=\"CD\")\n",
    "ax.legend()\n",
    "ax.grid()\n",
    "plt.show()"
   ]
  },
  {
   "cell_type": "code",
   "execution_count": null,
   "metadata": {},
   "outputs": [],
   "source": [
    "Umag = 20\n",
    "dens = 1.225\n",
    "Uinf = Umag * np.cos(plane_pot.alpha) * np.cos(plane_pot.beta)\n",
    "Vinf = Umag * np.cos(plane_pot.alpha) * np.sin(plane_pot.beta)\n",
    "Winf = Umag * np.sin(plane_pot.alpha) * np.cos(plane_pot.beta)\n",
    "Q = np.array((Uinf, Vinf, Winf))\n",
    "\n",
    "plane_pot.solve_wing_panels(Q,symm_wing_panels)\n",
    "plane_pot.get_gamma_distribution()\n",
    "plane_pot.get_aerodynamic_loads(dens, Umag)\n",
    "plane_pot.calculate_induced_velocities()\n"
   ]
  },
  {
   "cell_type": "code",
   "execution_count": null,
   "metadata": {},
   "outputs": [],
   "source": [
    "# pot_wing.plot_w_induced_strips()\n",
    "# pot_wing.plot_lift_drag_strips()\n",
    "# plane_pot.plot_lift_drag_panels()"
   ]
  },
  {
   "cell_type": "code",
   "execution_count": null,
   "metadata": {},
   "outputs": [],
   "source": []
  }
 ],
 "metadata": {
  "kernelspec": {
   "display_name": "aero",
   "language": "python",
   "name": "python3"
  },
  "language_info": {
   "codemirror_mode": {
    "name": "ipython",
    "version": 3
   },
   "file_extension": ".py",
   "mimetype": "text/x-python",
   "name": "python",
   "nbconvert_exporter": "python",
   "pygments_lexer": "ipython3",
   "version": "3.11.4"
  }
 },
 "nbformat": 4,
 "nbformat_minor": 2
}
