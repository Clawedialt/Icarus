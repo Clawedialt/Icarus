{
 "cells": [
  {
   "cell_type": "code",
   "execution_count": 4,
   "metadata": {},
   "outputs": [
    {
     "name": "stdout",
     "output_type": "stream",
     "text": [
      "The autoreload extension is already loaded. To reload it, use:\n",
      "  %reload_ext autoreload\n"
     ]
    }
   ],
   "source": [
    "%load_ext autoreload\n",
    "%autoreload 2\n",
    "# %matplotlib inline"
   ]
  },
  {
   "cell_type": "code",
   "execution_count": 5,
   "metadata": {},
   "outputs": [],
   "source": [
    "import numpy as np"
   ]
  },
  {
   "attachments": {},
   "cell_type": "markdown",
   "metadata": {},
   "source": [
    "# Load Foil Data"
   ]
  },
  {
   "cell_type": "code",
   "execution_count": 6,
   "metadata": {},
   "outputs": [],
   "source": [
    "from ICARUS.Software.XFLR5.polars import read_polars_2d\n",
    "from ICARUS.Database.db import DB\n",
    "from ICARUS.Database import XFLRDB"
   ]
  },
  {
   "cell_type": "code",
   "execution_count": 7,
   "metadata": {},
   "outputs": [],
   "source": [
    "db = DB()\n",
    "foildb = db.foilsDB\n",
    "foildb.load_data()\n",
    "read_polars_2d(foildb,XFLRDB)\n",
    "airfoils = foildb.set_available_airfoils()"
   ]
  },
  {
   "attachments": {},
   "cell_type": "markdown",
   "metadata": {},
   "source": [
    "# Get Plane"
   ]
  },
  {
   "cell_type": "code",
   "execution_count": 8,
   "metadata": {},
   "outputs": [],
   "source": [
    "from Data.Planes.hermes import hermes\n",
    "airplane = hermes(airfoils ,\"Hermes\")"
   ]
  },
  {
   "attachments": {},
   "cell_type": "markdown",
   "metadata": {},
   "source": [
    "# Import Enviroment"
   ]
  },
  {
   "cell_type": "code",
   "execution_count": 9,
   "metadata": {},
   "outputs": [
    {
     "name": "stdout",
     "output_type": "stream",
     "text": [
      "Environment: Earth\n"
     ]
    }
   ],
   "source": [
    "from ICARUS.Enviroment.definition import EARTH\n",
    "print(EARTH)"
   ]
  },
  {
   "attachments": {},
   "cell_type": "markdown",
   "metadata": {},
   "source": [
    "# Get Solver"
   ]
  },
  {
   "cell_type": "code",
   "execution_count": 10,
   "metadata": {},
   "outputs": [
    {
     "name": "stdout",
     "output_type": "stream",
     "text": [
      "3D Solver gnvp3:\n",
      "Available Analyses Are: \n",
      "------------------- \n",
      "0) rerun \n",
      "1) Angles_Serial \n",
      "2) Angles_Parallel \n",
      "3) Pertrubation_Serial \n",
      "4) Pertrubation_Parallel \n",
      "\n"
     ]
    }
   ],
   "source": [
    "from ICARUS.Software.GenuVP3.gnvp3 import get_gnvp3\n",
    "gnvp3 = get_gnvp3(db)\n",
    "print(gnvp3)"
   ]
  },
  {
   "attachments": {},
   "cell_type": "markdown",
   "metadata": {},
   "source": [
    "## AoA Run"
   ]
  },
  {
   "cell_type": "code",
   "execution_count": 11,
   "metadata": {},
   "outputs": [
    {
     "name": "stdout",
     "output_type": "stream",
     "text": [
      "Selecting Analysis: Angles_Parallel\n",
      "\n"
     ]
    }
   ],
   "source": [
    "analysis = gnvp3.available_analyses_names()[2] # ANGLES PARALLEL\n",
    "print(f\"Selecting Analysis: {analysis}\")\n",
    "gnvp3.set_analyses(analysis)\n",
    "options = gnvp3.get_analysis_options(verbose=True)\n",
    "solver_parameters = gnvp3.get_solver_parameters()"
   ]
  },
  {
   "cell_type": "code",
   "execution_count": 12,
   "metadata": {},
   "outputs": [
    {
     "name": "stdout",
     "output_type": "stream",
     "text": [
      "\n",
      "Getting Results\n",
      "Making Polars\n"
     ]
    }
   ],
   "source": [
    "AoAmin = -6\n",
    "AoAmax = 8\n",
    "NoAoA = (AoAmax - AoAmin) + 1\n",
    "angles = np.linspace(AoAmin, AoAmax, NoAoA)\n",
    "u_freestream = 20\n",
    "# airplane.defineSim(u_freestream, EARTH.air_density)\n",
    "\n",
    "options.plane.value         = airplane\n",
    "options.environment.value   = EARTH\n",
    "options.db.value            = db\n",
    "options.solver2D.value      = 'XFLR'\n",
    "options.maxiter.value       = 100\n",
    "options.timestep.value      = 5e-2\n",
    "options.u_freestream.value  = u_freestream\n",
    "options.angles.value        = angles\n",
    "\n",
    "gnvp3.print_analysis_options()\n",
    "# gnvp3.run()\n",
    "polars = gnvp3.get_results()\n",
    "airplane.save()"
   ]
  },
  {
   "attachments": {},
   "cell_type": "markdown",
   "metadata": {},
   "source": [
    "# Dynamics"
   ]
  },
  {
   "attachments": {},
   "cell_type": "markdown",
   "metadata": {},
   "source": [
    "### Define and Trim Plane"
   ]
  },
  {
   "cell_type": "code",
   "execution_count": 13,
   "metadata": {},
   "outputs": [
    {
     "name": "stdout",
     "output_type": "stream",
     "text": [
      "Index(['CL', 'CD', 'Cm', 'Cn', 'Cl', 'AoA'], dtype='object')\n",
      "Cm is 0.005523873782960887 instead of 0 at AoA = -1.0\n",
      "Interpolated values are: AoA = -0.7075245433130413 , Cm = -8.673617379884035e-19, Cl = 0.47095391336948783\n",
      "Trim velocity is 20.322478445096582 m/s\n"
     ]
    }
   ],
   "source": [
    "from ICARUS.Flight_Dynamics.state import State\n",
    "if isinstance(polars,int):\n",
    "    raise Exception(\"No Polars\")\n",
    "unstick = State(\"Unstick\",airplane,polars,EARTH)"
   ]
  },
  {
   "attachments": {},
   "cell_type": "markdown",
   "metadata": {},
   "source": [
    "### Pertrubations"
   ]
  },
  {
   "cell_type": "code",
   "execution_count": 14,
   "metadata": {},
   "outputs": [
    {
     "name": "stdout",
     "output_type": "stream",
     "text": [
      "u disturbance:\tType:\tDerivative and \tAmplitude:\t0.01.\n",
      "u disturbance:\tType:\tDerivative and \tAmplitude:\t-0.01.\n",
      "w disturbance:\tType:\tDerivative and \tAmplitude:\t0.01.\n",
      "w disturbance:\tType:\tDerivative and \tAmplitude:\t-0.01.\n",
      "q disturbance:\tType:\tDerivative and \tAmplitude:\t0.25.\n",
      "q disturbance:\tType:\tDerivative and \tAmplitude:\t-0.25.\n",
      "theta disturbance:\tType:\tValue and \tAmplitude:\t0.01.\n",
      "theta disturbance:\tType:\tValue and \tAmplitude:\t-0.01.\n",
      "v disturbance:\tType:\tDerivative and \tAmplitude:\t0.01.\n",
      "v disturbance:\tType:\tDerivative and \tAmplitude:\t-0.01.\n",
      "p disturbance:\tType:\tDerivative and \tAmplitude:\t0.25.\n",
      "p disturbance:\tType:\tDerivative and \tAmplitude:\t-0.25.\n",
      "r disturbance:\tType:\tDerivative and \tAmplitude:\t0.25.\n",
      "r disturbance:\tType:\tDerivative and \tAmplitude:\t-0.25.\n",
      "phi disturbance:\tType:\tValue and \tAmplitude:\t0.01.\n",
      "phi disturbance:\tType:\tValue and \tAmplitude:\t-0.01.\n",
      "Trim:\tType:\tNone and \tAmplitude:\tNone.\n"
     ]
    }
   ],
   "source": [
    "unstick.add_all_pertrubations(\"Central\")\n",
    "unstick.get_pertrub()"
   ]
  },
  {
   "cell_type": "code",
   "execution_count": 15,
   "metadata": {},
   "outputs": [
    {
     "name": "stdout",
     "output_type": "stream",
     "text": [
      "3D Solver gnvp3:\n",
      "Available Analyses Are: \n",
      "------------------- \n",
      "0) rerun \n",
      "1) Angles_Serial \n",
      "2) Angles_Parallel \n",
      "3) Pertrubation_Serial \n",
      "4) Pertrubation_Parallel \n",
      "\n",
      "Selecting Analysis: Pertrubation_Parallel\n",
      "\n"
     ]
    }
   ],
   "source": [
    "analysis = gnvp3.available_analyses_names(verbose=True)[4] # ANGLES PARALLEL\n",
    "print(f\"Selecting Analysis: {analysis}\")\n",
    "gnvp3.set_analyses(analysis)\n",
    "options = gnvp3.get_analysis_options(verbose=True)"
   ]
  },
  {
   "cell_type": "code",
   "execution_count": 17,
   "metadata": {},
   "outputs": [
    {
     "name": "stdout",
     "output_type": "stream",
     "text": [
      "\n",
      "Running Solver gnvp3:\n",
      "\tAnalysis Pertrubation_Parallel...\n"
     ]
    },
    {
     "ename": "TypeError",
     "evalue": "run_pertrubation_parallel() got an unexpected keyword argument 'angles'",
     "output_type": "error",
     "traceback": [
      "\u001b[0;31m---------------------------------------------------------------------------\u001b[0m",
      "\u001b[0;31mTypeError\u001b[0m                                 Traceback (most recent call last)",
      "Cell \u001b[0;32mIn[17], line 12\u001b[0m\n\u001b[1;32m      9\u001b[0m options\u001b[39m.\u001b[39mangles\u001b[39m.\u001b[39mvalue        \u001b[39m=\u001b[39m unstick\u001b[39m.\u001b[39mtrim[\u001b[39m'\u001b[39m\u001b[39mAoA\u001b[39m\u001b[39m'\u001b[39m]\n\u001b[1;32m     11\u001b[0m gnvp3\u001b[39m.\u001b[39mprint_analysis_options()\n\u001b[0;32m---> 12\u001b[0m gnvp3\u001b[39m.\u001b[39;49mrun()\n\u001b[1;32m     13\u001b[0m gnvp3\u001b[39m.\u001b[39mget_results()\n\u001b[1;32m     14\u001b[0m unstick\u001b[39m.\u001b[39msave()\n",
      "File \u001b[0;32m~/Desktop/Icarus/ICARUS/Workers/solver.py:209\u001b[0m, in \u001b[0;36mSolver.run\u001b[0;34m(self, analysis_name)\u001b[0m\n\u001b[1;32m    206\u001b[0m         f\u001b[39m.\u001b[39mwrite(analysis\u001b[39m.\u001b[39mtoJSON())\n\u001b[1;32m    208\u001b[0m saveAnalysis(analysis)\n\u001b[0;32m--> 209\u001b[0m res \u001b[39m=\u001b[39m analysis()\n\u001b[1;32m    210\u001b[0m \u001b[39mreturn\u001b[39;00m res\n",
      "File \u001b[0;32m~/Desktop/Icarus/ICARUS/Workers/analysis.py:192\u001b[0m, in \u001b[0;36mAnalysis.__call__\u001b[0;34m(self)\u001b[0m\n\u001b[1;32m    185\u001b[0m kwargs: \u001b[39mdict\u001b[39m[\u001b[39mstr\u001b[39m, Any] \u001b[39m=\u001b[39m {\n\u001b[1;32m    186\u001b[0m     option: \u001b[39mself\u001b[39m\u001b[39m.\u001b[39moptions[option]\u001b[39m.\u001b[39mvalue \u001b[39mfor\u001b[39;00m option \u001b[39min\u001b[39;00m \u001b[39mself\u001b[39m\u001b[39m.\u001b[39moptions\u001b[39m.\u001b[39mkeys()\n\u001b[1;32m    187\u001b[0m }\n\u001b[1;32m    188\u001b[0m solver_options: \u001b[39mdict\u001b[39m[\u001b[39mstr\u001b[39m, Any] \u001b[39m=\u001b[39m {\n\u001b[1;32m    189\u001b[0m     option: \u001b[39mself\u001b[39m\u001b[39m.\u001b[39msolver_options[option]\u001b[39m.\u001b[39mvalue\n\u001b[1;32m    190\u001b[0m     \u001b[39mfor\u001b[39;00m option \u001b[39min\u001b[39;00m \u001b[39mself\u001b[39m\u001b[39m.\u001b[39msolver_options\u001b[39m.\u001b[39mkeys()\n\u001b[1;32m    191\u001b[0m }\n\u001b[0;32m--> 192\u001b[0m res: Any \u001b[39m=\u001b[39m \u001b[39mself\u001b[39;49m\u001b[39m.\u001b[39;49mexecute(\u001b[39m*\u001b[39;49m\u001b[39m*\u001b[39;49mkwargs, solver_options\u001b[39m=\u001b[39;49msolver_options)\n\u001b[1;32m    193\u001b[0m \u001b[39mprint\u001b[39m(\u001b[39m\"\u001b[39m\u001b[39mAnalysis Completed\u001b[39m\u001b[39m\"\u001b[39m)\n\u001b[1;32m    194\u001b[0m \u001b[39mreturn\u001b[39;00m res\n",
      "\u001b[0;31mTypeError\u001b[0m: run_pertrubation_parallel() got an unexpected keyword argument 'angles'"
     ]
    }
   ],
   "source": [
    "options.plane.value         = airplane\n",
    "options.state.value         = unstick\n",
    "options.environment.value   = EARTH\n",
    "options.db.value            = db\n",
    "options.solver2D.value      = 'XFLR'\n",
    "options.maxiter.value       = 200\n",
    "options.timestep.value      = 5e-3\n",
    "options.u_freestream.value  = unstick.trim['U']\n",
    "options.angle.value        = unstick.trim['AoA']\n",
    "\n",
    "gnvp3.print_analysis_options()\n",
    "gnvp3.run()\n",
    "gnvp3.get_results()\n",
    "unstick.save()"
   ]
  },
  {
   "attachments": {},
   "cell_type": "markdown",
   "metadata": {},
   "source": [
    "# Sensitivity Analysis"
   ]
  },
  {
   "cell_type": "code",
   "execution_count": null,
   "metadata": {},
   "outputs": [],
   "source": [
    "# if sensAnalysisGNVP3 :\n",
    "#     for var in ['u','w','q','theta','v','p','r','phi']:\n",
    "#         space = np.logspace(np.log10(0.00001), np.log10(1), 10, base=10)\n",
    "#         space =[*-space,*space]\n",
    "#         maxiter = 2\n",
    "#         timestep = 5e-2\n",
    "#         dyn.sensitivityAnalysis(var, space)\n",
    "#         GNVP3BatchArgs = [dyn, var, foildb, \"Xfoil\",\n",
    "#                         maxiter, timestep,\n",
    "#                         dyn.trim['U'], dyn.trim['AoA']]\n",
    "#         dyn.runAnalysis(runGNVPsensitivityParallel, GNVP3BatchArgs)\n",
    "#         perDIR = os.path.join(dyn.CASEDIR, f\"Sensitivity_{var}\")\n",
    "#         dyn.sensResults[var] = pertrResults(perDIR, HOMEDIR)\n",
    "#     dyn.save()"
   ]
  },
  {
   "cell_type": "code",
   "execution_count": null,
   "metadata": {},
   "outputs": [],
   "source": []
  }
 ],
 "metadata": {
  "kernelspec": {
   "display_name": "aero",
   "language": "python",
   "name": "python3"
  },
  "language_info": {
   "codemirror_mode": {
    "name": "ipython",
    "version": 3
   },
   "file_extension": ".py",
   "mimetype": "text/x-python",
   "name": "python",
   "nbconvert_exporter": "python",
   "pygments_lexer": "ipython3",
   "version": "3.11.3"
  },
  "vscode": {
   "interpreter": {
    "hash": "8acd08952dc410be23279ea6eab1a080d514a48a01ad47827aa392f9fbd61ae4"
   }
  }
 },
 "nbformat": 4,
 "nbformat_minor": 2
}
