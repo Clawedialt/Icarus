{
 "cells": [
  {
   "cell_type": "code",
   "execution_count": 1,
   "metadata": {},
   "outputs": [],
   "source": [
    "%load_ext autoreload\n",
    "%autoreload 2\n",
    "%matplotlib qt"
   ]
  },
  {
   "cell_type": "code",
   "execution_count": 2,
   "metadata": {},
   "outputs": [],
   "source": [
    "from ICARUS.Aerodynamics.Potential.wing_lspt import Wing_LSPT\n",
    "from ICARUS.Aerodynamics.Potential.vorticity import symm_wing_panels\n",
    "\n",
    "from ICARUS.Database import DB as db\n",
    "from ICARUS.Vehicle.plane import Airplane\n",
    "\n",
    "import numpy as np\n",
    "import pandas as pd\n"
   ]
  },
  {
   "cell_type": "markdown",
   "metadata": {},
   "source": [
    "# Import Plane"
   ]
  },
  {
   "cell_type": "code",
   "execution_count": 10,
   "metadata": {},
   "outputs": [],
   "source": [
    "from examples.Planes.e190_cruise import e190_cruise\n",
    "from examples.Planes.e190_takeoff import e190_takeoff_generator\n",
    "\n",
    "# embraer_cruise: Airplane = e190_cruise(name=\"e190_cruise_3\")\n",
    "embraer_to: Airplane = e190_takeoff_generator(name=\"e190_takeoff_3\")\n",
    "# from examples.Planes.simple_wing import airplane\n",
    "# plane: Airplane = airplane\n",
    "embraer_to.visualize()\n",
    "plane: Airplane = embraer_to"
   ]
  },
  {
   "cell_type": "markdown",
   "metadata": {},
   "source": [
    "# Import and setup Environment"
   ]
  },
  {
   "cell_type": "code",
   "execution_count": 11,
   "metadata": {},
   "outputs": [],
   "source": [
    "from ICARUS.Environment.definition import EARTH_ISA\n",
    "\n",
    "ALTITUDE: dict[str, int] = {\n",
    "    'e190_cruise_3': 12000,\n",
    "    'e190_takeoff_3': 0,\n",
    "    'bmark': 0\n",
    "}\n",
    "\n",
    "# OUR ATMOSPHERIC MODEL IS NOT COMPLETE TO HANDLE TEMPERATURE VS ALTITUDE\n",
    "TEMPERATURE: dict[str, int] = {\n",
    "    'e190_cruise_3': 273 - 50,\n",
    "    'e190_takeoff_3': 273 + 15,\n",
    "    'bmark': 273+15\n",
    "}\n",
    "\n",
    "EARTH_ISA._set_pressure_from_altitude_and_temperature(ALTITUDE[plane.name],  TEMPERATURE[plane.name])"
   ]
  },
  {
   "cell_type": "markdown",
   "metadata": {},
   "source": [
    "# Create Simulation Object And set parameters"
   ]
  },
  {
   "cell_type": "code",
   "execution_count": 15,
   "metadata": {},
   "outputs": [],
   "source": [
    "UMAG: dict[str, float] = {\n",
    "    'e190_cruise_3': 232,\n",
    "    'e190_takeoff_3':20,\n",
    "    'bmark': 20\n",
    "}\n",
    "\n",
    "plane_pot = Wing_LSPT(\n",
    "    db = db,\n",
    "    plane=plane,\n",
    "    environment= EARTH_ISA,\n",
    "    alpha= 0,\n",
    "    beta= 0, \n",
    ")\n"
   ]
  },
  {
   "cell_type": "code",
   "execution_count": 16,
   "metadata": {},
   "outputs": [],
   "source": [
    "plane_pot.plot_grid(show_wake=False)"
   ]
  },
  {
   "cell_type": "markdown",
   "metadata": {},
   "source": [
    "# Run Simulation"
   ]
  },
  {
   "cell_type": "code",
   "execution_count": 17,
   "metadata": {},
   "outputs": [
    {
     "name": "stdout",
     "output_type": "stream",
     "text": [
      "Solving for a and b\n",
      "We should be using LU decomposition\n",
      "\tCould not interpolate polars! Got error:\n",
      "\tReynolds 3842844.86076447 not in database! Min Reynolds is 4495000.0\n",
      "- Angle -6.0\n",
      "\t--Using no penetration condition:\n",
      "\t\tL:9747.259745349835\t|\tD (Trefftz Plane):251.07915485914907\tD2:259.85253933972245\t|\tMy:8236.484166169581\n",
      "\t\tCL:0.40001268707014503\t|\tCD_ind:0.010303905920884497\t|\tCm:0.13213590016784615\n",
      "Using previous solution for a and b! Be smart\n",
      "\tCould not interpolate polars! Got error:\n",
      "\tReynolds 3842692.5774607207 not in database! Min Reynolds is 4495000.0\n",
      "- Angle -5.499999999999999\n",
      "\t--Using no penetration condition:\n",
      "\t\tL:10485.003789092545\t|\tD (Trefftz Plane):280.49634426095247\tD2:284.82483258429426\t|\tMy:9310.61304451252\n",
      "\t\tCL:0.4302885784506229\t|\tCD_ind:0.01151114254800738\t|\tCm:0.1493678869443264\n",
      "Using previous solution for a and b! Be smart\n",
      "\tCould not interpolate polars! Got error:\n",
      "\tReynolds 3842540.952496163 not in database! Min Reynolds is 4495000.0\n",
      "- Angle -5.0\n",
      "\t--Using no penetration condition:\n",
      "\t\tL:11221.949359202366\t|\tD (Trefftz Plane):312.15823463541705\tD2:311.51863595610973\t|\tMy:10386.583071665793\n",
      "\t\tCL:0.4605317016899215\t|\tCD_ind:0.01281049828257187\t|\tCm:0.16662941082067698\n",
      "Using previous solution for a and b! Be smart\n",
      "\tCould not interpolate polars! Got error:\n",
      "\tReynolds 3842390.0321378913 not in database! Min Reynolds is 4495000.0\n",
      "- Angle -4.5\n",
      "\t--Using no penetration condition:\n",
      "\t\tL:11958.040334420944\t|\tD (Trefftz Plane):346.0551814640176\tD2:339.9258182640723\t|\tMy:11464.303150502516\n",
      "\t\tCL:0.49073975365711564\t|\tCD_ind:0.01420157732823402\t|\tCm:0.18391901034798097\n",
      "Using previous solution for a and b! Be smart\n",
      "\tCould not interpolate polars! Got error:\n",
      "\tReynolds 3842239.862443439 not in database! Min Reynolds is 4495000.0\n",
      "- Angle -4.0\n",
      "\t--Using no penetration condition:\n",
      "\t\tL:12693.220658570623\t|\tD (Trefftz Plane):382.17685940838066\tD2:370.03772640526574\t|\tMy:12543.681474010858\n",
      "\t\tCL:0.5209104338920926\t|\tCD_ind:0.015683955948840738\t|\tCm:0.20123521268881103\n",
      "Using previous solution for a and b! Be smart\n",
      "\tCould not interpolate polars! Got error:\n",
      "\tReynolds 3842090.48924664 not in database! Min Reynolds is 4495000.0\n",
      "- Angle -3.5\n",
      "\t--Using no penetration condition:\n",
      "\t\tL:13427.434344823345\t|\tD (Trefftz Plane):420.51226545548894\tD2:401.84518800076785\t|\tMy:13624.625535250667\n",
      "\t\tCL:0.5510414447807418\t|\tCD_ind:0.017257182597504184\t|\tCm:0.21857653377696096\n",
      "Using previous solution for a and b! Be smart\n",
      "\tCould not interpolate polars! Got error:\n",
      "\tReynolds 3841941.9581435667 not in database! Min Reynolds is 4495000.0\n",
      "- Angle -3.0\n",
      "\t--Using no penetration condition:\n",
      "\t\tL:14160.62547996428\t|\tD (Trefftz Plane):461.0497222692952\tD2:435.3385141896527\t|\tMy:14707.04213753829\n",
      "\t\tCL:0.5811304917299271\t|\tCD_ind:0.018920778054146922\t|\tCm:0.23594147848083838\n",
      "Using previous solution for a and b! Be smart\n",
      "\tCould not interpolate polars! Got error:\n",
      "\tReynolds 3841794.314478514 not in database! Min Reynolds is 4495000.0\n",
      "- Angle -2.5\n",
      "\t--Using no penetration condition:\n",
      "\t\tL:14892.738228649834\t|\tD (Trefftz Plane):503.77688174777103\tD2:470.50750258030473\t|\tMy:15790.837404857482\n",
      "\t\tCL:0.6111752833422294\t|\tCD_ind:0.020674235571477736\t|\tCm:0.2533285407704843\n",
      "Using previous solution for a and b! Be smart\n",
      "\tCould not interpolate polars! Got error:\n",
      "\tReynolds 3841647.603330075 not in database! Min Reynolds is 4495000.0\n",
      "- Angle -2.0\n",
      "\t--Using no penetration condition:\n",
      "\t\tL:15623.716837659691\t|\tD (Trefftz Plane):548.6807287842109\tD2:507.3414403581695\t|\tMy:16875.916792494983\n",
      "\t\tCL:0.6411735315904437\t|\tCD_ind:0.022517021029349868\t|\tCm:0.2707362038881972\n",
      "Using previous solution for a and b! Be smart\n",
      "\tCould not interpolate polars! Got error:\n",
      "\tReynolds 3841501.8694972754 not in database! Min Reynolds is 4495000.0\n",
      "- Angle -1.5\n",
      "\t--Using no penetration condition:\n",
      "\t\tL:16353.505640142677\t|\tD (Trefftz Plane):595.7475852318263\tD2:545.8291075489849\t|\tMy:17962.185097898677\n",
      "\t\tCL:0.6711229519918228\t|\tCD_ind:0.024448573097461877\t|\tCm:0.2881629405227277\n",
      "Using previous solution for a and b! Be smart\n",
      "\tCould not interpolate polars! Got error:\n",
      "\tReynolds 3841357.1574858027 not in database! Min Reynolds is 4495000.0\n",
      "- Angle -1.0\n",
      "\t--Using no penetration condition:\n",
      "\t\tL:17082.049059856006\t|\tD (Trefftz Plane):644.9631140701946\tD2:585.9587804364846\t|\tMy:19049.546471756505\n",
      "\t\tCL:0.7010212637820502\t|\tCD_ind:0.026468303406342382\t|\tCm:0.30560721298701493\n",
      "Using previous solution for a and b! Be smart\n",
      "\tCould not interpolate polars! Got error:\n",
      "\tReynolds 3841213.5114943 not in database! Min Reynolds is 4495000.0\n",
      "- Angle -0.5\n",
      "\t--Using no penetration condition:\n",
      "\t\tL:17809.29161539758\t|\tD (Trefftz Plane):696.3123237724699\tD2:627.7182351335584\t|\tMy:20137.904429293707\n",
      "\t\tCL:0.7308661900889261\t|\tCD_ind:0.028575596726573716\t|\tCm:0.3230674733994255\n",
      "Using previous solution for a and b! Be smart\n",
      "\tCould not interpolate polars! Got error:\n",
      "\tReynolds 3841070.9754007715 not in database! Min Reynolds is 4495000.0\n",
      "- Angle 0.0\n",
      "\t--Using no penetration condition:\n",
      "\t\tL:18535.177924431162\t|\tD (Trefftz Plane):749.7795728719465\tD2:671.0947513057814\t|\tMy:21227.161861787434\n",
      "\t\tCL:0.7606554581057631\t|\tCD_ind:0.030769811156196758\t|\tCm:0.3405421638684792\n",
      "Using previous solution for a and b! Be smart\n",
      "\tCould not interpolate polars! Got error:\n",
      "\tReynolds 3840929.5927490583 not in database! Min Reynolds is 4495000.0\n",
      "- Angle 0.5\n",
      "\t--Using no penetration condition:\n",
      "\t\tL:19259.65270790394\t|\tD (Trefftz Plane):805.3485747266006\tD2:716.0751160461195\t|\tMy:22317.22104829499\n",
      "\t\tCL:0.7903867992644681\t|\tCD_ind:0.033050278316240446\t|\tCm:0.3580297166810029\n",
      "Using previous solution for a and b! Be smart\n",
      "\tCould not interpolate polars! Got error:\n",
      "\tReynolds 3840789.40673543 not in database! Min Reynolds is 4495000.0\n",
      "- Angle 1.0\n",
      "\t--Using no penetration condition:\n",
      "\t\tL:19982.660794256233\t|\tD (Trefftz Plane):863.0024024801555\tD2:762.6456278997453\t|\tMy:23407.983667594683\n",
      "\t\tCL:0.8200579494083021\t|\tCD_ind:0.035416303554316325\t|\tCm:0.3755285544936944\n",
      "Using previous solution for a and b! Be smart\n",
      "\tCould not interpolate polars! Got error:\n",
      "\tReynolds 3840650.4601952615 not in database! Min Reynolds is 4495000.0\n",
      "- Angle 1.5\n",
      "\t--Using no penetration condition:\n",
      "\t\tL:20704.147123623028\t|\tD (Trefftz Plane):922.7234942181645\tD2:810.7921010376091\t|\tMy:24499.35081033692\n",
      "\t\tCL:0.8496666489643052\t|\tCD_ind:0.03786716615621637\t|\tCm:0.39303709052805924\n",
      "Using previous solution for a and b! Be smart\n",
      "\tCould not interpolate polars! Got error:\n",
      "\tReynolds 3840512.7955898275 not in database! Min Reynolds is 4495000.0\n",
      "- Angle 2.0\n",
      "\t--Using no penetration condition:\n",
      "\t\tL:21424.05675202699\t|\tD (Trefftz Plane):984.4936583175731\tD2:860.4998695775837\t|\tMy:25591.222991402345\n",
      "\t\tCL:0.8792106431153714\t|\tCD_ind:0.04040211956545081\t|\tCm:0.4105537287686698\n",
      "Using previous solution for a and b! Be smart\n",
      "\tCould not interpolate polars! Got error:\n",
      "\tReynolds 3840376.4549932 not in database! Min Reynolds is 4495000.0\n",
      "- Angle 2.5\n",
      "\t--Using no penetration condition:\n",
      "\t\tL:22142.334855562687\t|\tD (Trefftz Plane):1048.2940789880067\tD2:911.7537920518444\t|\tMy:26683.500162465498\n",
      "\t\tCL:0.9086876819719624\t|\tCD_ind:0.0430203916106542\t|\tCm:0.42807686416472057\n",
      "Using previous solution for a and b! Be smart\n",
      "\tCould not interpolate polars! Got error:\n",
      "\tReynolds 3840241.4800792634 not in database! Min Reynolds is 4495000.0\n",
      "- Angle 3.0\n",
      "\t--Using no penetration condition:\n",
      "\t\tL:22858.926734571593\t|\tD (Trefftz Plane):1114.105322003287\tD2:964.5382560190957\t|\tMy:27776.081724761527\n",
      "\t\tCL:0.9380955207434436\t|\tCD_ind:0.04572118474079805\t|\tCm:0.44560488283484173\n",
      "Using previous solution for a and b! Be smart\n",
      "\tCould not interpolate polars! Got error:\n",
      "\tReynolds 3840107.9121088404 not in database! Min Reynolds is 4495000.0\n",
      "- Angle 3.5\n",
      "\t--Using no penetration condition:\n",
      "\t\tL:23573.777817807728\t|\tD (Trefftz Plane):1181.907340621242\tD2:1018.8371828202838\t|\tMy:28868.866542052165\n",
      "\t\tCL:0.9674319199090357\t|\tCD_ind:0.048503676268130874\t|\tCm:0.46313616227510873\n",
      "Using previous solution for a and b! Be smart\n",
      "\tCould not interpolate polars! Got error:\n",
      "\tReynolds 3839975.7919169534 not in database! Min Reynolds is 4495000.0\n",
      "- Angle 4.0\n",
      "\t--Using no penetration condition:\n",
      "\t\tL:24286.833666593448\t|\tD (Trefftz Plane):1251.6794816902036\tD2:1074.6340324762937\t|\tMy:29961.752953790485\n",
      "\t\tCL:0.9966946453883618\t|\tCD_ind:0.051367018618779486\t|\tCm:0.48066907157024175\n",
      "Using previous solution for a and b! Be smart\n",
      "\tCould not interpolate polars! Got error:\n",
      "\tReynolds 3839845.1599001996 not in database! Min Reynolds is 4495000.0\n",
      "- Angle 4.5\n",
      "\t--Using no penetration condition:\n",
      "\t\tL:24998.039978965146\t|\tD (Trefftz Plane):1323.4004919400888\tD2:1131.9118087262054\t|\tMy:31054.638788479588\n",
      "\t\tCL:1.025881468711581\t|\tCD_ind:0.05431033959092542\t|\tCm:0.4982019716079153\n",
      "Using previous solution for a and b! Be smart\n",
      "\tCould not interpolate polars! Got error:\n",
      "\tReynolds 3839716.056004258 not in database! Min Reynolds is 4495000.0\n",
      "- Angle 5.0\n",
      "\t--Using no penetration condition:\n",
      "\t\tL:25707.342593808607\t|\tD (Trefftz Plane):1397.0485244564386\tD2:1190.653064204509\t|\tMy:32147.42137722382\n",
      "\t\tCL:1.0549901671890964\t|\tCD_ind:0.05733274262048962\t|\tCm:0.5157332152961577\n",
      "Using previous solution for a and b! Be smart\n",
      "\tCould not interpolate polars! Got error:\n",
      "\tReynolds 3839588.5197115424 not in database! Min Reynolds is 4495000.0\n",
      "- Angle 5.499999999999999\n",
      "\t--Using no penetration condition:\n",
      "\t\tL:26414.687494983533\t|\tD (Trefftz Plane):1472.6011453350552\tD2:1250.8399057557608\t|\tMy:33239.997567470105\n",
      "\t\tCL:1.0840185240808204\t|\tCD_ind:0.06043330705422859\t|\tCm:0.5332611477837992\n",
      "Using previous solution for a and b! Be smart\n",
      "\tCould not interpolate polars! Got error:\n",
      "\tReynolds 3839462.5900289756 not in database! Min Reynolds is 4495000.0\n",
      "- Angle 6.0\n",
      "\t--Using no penetration condition:\n",
      "\t\tL:27120.02081543707\t|\tD (Trefftz Plane):1550.0353405157693\tD2:1312.4539998849623\t|\tMy:34332.26373693416\n",
      "\t\tCL:1.1129643287649862\t|\tCD_ind:0.06361108843018184\t|\tCm:0.5507841066838876\n",
      "Using previous solution for a and b! Be smart\n",
      "\tCould not interpolate polars! Got error:\n",
      "\tReynolds 3839338.30547592 not in database! Min Reynolds is 4495000.0\n",
      "- Angle 6.500000000000001\n",
      "\t--Using no penetration condition:\n",
      "\t\tL:27823.288841306116\t|\tD (Trefftz Plane):1629.3275227925574\tD2:1375.4765783421872\t|\tMy:35424.11580771221\n",
      "\t\tCL:1.1418253769065012\t|\tCD_ind:0.06686511876535635\t|\tCm:0.5683004223000783\n",
      "Using previous solution for a and b! Be smart\n",
      "\tCould not interpolate polars! Got error:\n",
      "\tReynolds 3839215.7040722463 not in database! Min Reynolds is 4495000.0\n",
      "- Angle 7.0\n",
      "\t--Using no penetration condition:\n",
      "\t\tL:28524.438016007633\t|\tD (Trefftz Plane):1710.4535389986013\tD2:1439.888443839502\t|\tMy:36515.449260571986\n",
      "\t\tCL:1.1705994706248073\t|\tCD_ind:0.07019440685059052\t|\tCm:0.5858084178559021\n",
      "Using previous solution for a and b! Be smart\n",
      "\tCould not interpolate polars! Got error:\n",
      "\tReynolds 3839094.823326557 not in database! Min Reynolds is 4495000.0\n",
      "- Angle 7.499999999999999\n",
      "\t--Using no penetration condition:\n",
      "\t\tL:29223.414944317374\t|\tD (Trefftz Plane):1793.3886773634997\tD2:1505.6699758987206\t|\tMy:37606.15914942235\n",
      "\t\tCL:1.1992844186612648\t|\tCD_ind:0.07359793855248287\t|\tCm:0.6033064097268971\n",
      "Using previous solution for a and b! Be smart\n",
      "\tCould not interpolate polars! Got error:\n",
      "\tReynolds 3838975.7002245584 not in database! Min Reynolds is 4495000.0\n",
      "- Angle 8.0\n",
      "\t--Using no penetration condition:\n",
      "\t\tL:29920.166396436067\t|\tD (Trefftz Plane):1878.107675040683\tD2:1572.801136827953\t|\tMy:38696.14011595702\n",
      "\t\tCL:1.2278780365460236\t|\tCD_ind:0.07707467712230572\t|\tCm:0.6207927076755348\n",
      "Using previous solution for a and b! Be smart\n",
      "\tCould not interpolate polars! Got error:\n",
      "\tReynolds 3838858.3712175987 not in database! Min Reynolds is 4495000.0\n",
      "- Angle 8.5\n",
      "\t--Using no penetration condition:\n",
      "\t\tL:30614.63931204303\t|\tD (Trefftz Plane):1964.5847258027522\tD2:1641.2614778252394\t|\tMy:39785.28640446896\n",
      "\t\tCL:1.256378146764376\t|\tCD_ind:0.08062356351181017\t|\tCm:0.6382656150888836\n",
      "Using previous solution for a and b! Be smart\n",
      "\tCould not interpolate polars! Got error:\n",
      "\tReynolds 3838742.872211357 not in database! Min Reynolds is 4495000.0\n",
      "- Angle 9.0\n",
      "\t--Using no penetration condition:\n",
      "\t\tL:31306.780804336984\t|\tD (Trefftz Plane):2052.793487902313\tD2:1711.0301452075278\t|\tMy:40873.491876835\n",
      "\t\tCL:1.2847825789225864\t|\tCD_ind:0.08424351669582271\t|\tCm:0.6557234292190033\n",
      "Using previous solution for a and b! Be smart\n",
      "\tCould not interpolate polars! Got error:\n",
      "\tReynolds 3838629.238554707 not in database! Min Reynolds is 4495000.0\n",
      "- Angle 9.5\n",
      "\t--Using no penetration condition:\n",
      "\t\tL:31996.538164063568\t|\tD (Trefftz Plane):2142.707092095997\tD2:1782.0858867628845\t|\tMy:41960.65002766371\n",
      "\t\tCL:1.3130891699131741\t|\tCD_ind:0.08793343400153888\t|\tCm:0.6731644414259591\n",
      "Using previous solution for a and b! Be smart\n",
      "\tCould not interpolate polars! Got error:\n",
      "\tReynolds 3838517.5050287447 not in database! Min Reynolds is 4495000.0\n",
      "- Angle 10.0\n",
      "\t--Using no penetration condition:\n",
      "\t\tL:32683.858863529305\t|\tD (Trefftz Plane):2234.2981498288746\tD2:1854.407058224076\t|\tMy:43046.6539996048\n",
      "\t\tCL:1.341295764079641\t|\tCD_ind:0.09169219144439907\t|\tCm:0.6905869374234265\n"
     ]
    }
   ],
   "source": [
    "angles = np.linspace(-6, 10, 2*(10-(-6))+1)\n",
    "df: pd.DataFrame = plane_pot.aseq(\n",
    "    angles=angles,\n",
    "    umag = UMAG[plane.name],\n",
    "    solver_fun= symm_wing_panels,\n",
    ")\n"
   ]
  },
  {
   "cell_type": "markdown",
   "metadata": {},
   "source": [
    "# Plot Polars"
   ]
  },
  {
   "cell_type": "code",
   "execution_count": null,
   "metadata": {},
   "outputs": [],
   "source": [
    "import matplotlib.pyplot as plt\n",
    "\n",
    "fig, ax = plt.subplots(2,2)\n",
    "\n",
    "ax[1,0].plot(df['AoA'], df['CL'],label = \"Potential\")\n",
    "ax[1,0].plot(df['AoA'], df['CL_2D'], label = \"2D\")\n",
    "ax[1,0].set_xlabel(\"AoA\")\n",
    "ax[1,0].set_ylabel(\"CL\")\n",
    "\n",
    "ax[0,1].plot(df['AoA'], df['CD'],label = \"Potential\")\n",
    "ax[0,1].plot(df['AoA'], df['CD_2D'], label = \"2D\")\n",
    "ax[0,1].set_xlabel(\"AoA\")\n",
    "ax[0,1].set_ylabel(\"CD\")\n",
    "\n",
    "ax[0,0].plot(df['AoA'], df['Cm'],label = \"Potential\")\n",
    "ax[0,0].plot(df['AoA'], df['Cm_2D'], label = \"2D\")\n",
    "ax[0,0].set_xlabel(\"AoA\")\n",
    "ax[0,0].set_ylabel(\"Cm\")\n",
    "\n",
    "ax[1,1].plot(df['CD'], df['CL'],label = \"Potential\")\n",
    "ax[1,1].plot(df['CD_2D'], df['CL_2D'], label = \"2D\")\n",
    "ax[1,1].set_xlabel(\"CD\")\n",
    "ax[1,1].set_ylabel(\"CL\")\n",
    "\n",
    "for a in ax.flatten():\n",
    "    a.grid()\n",
    "    a.minorticks_on()\n",
    "    a.axvline(0, color=\"black\", linestyle=\"-\")\n",
    "    a.axhline(0, color=\"black\", linestyle=\"-\")\n",
    "ax[0,0].legend() \n",
    "\n",
    "plt.show()"
   ]
  },
  {
   "cell_type": "markdown",
   "metadata": {},
   "source": [
    "# Save Results to DB"
   ]
  },
  {
   "cell_type": "code",
   "execution_count": null,
   "metadata": {},
   "outputs": [],
   "source": [
    "from ICARUS.Aerodynamics.Potential.lifting_line import save_results\n",
    "\n",
    "save_results(\n",
    "    db =db,\n",
    "    plane = plane,\n",
    "    df = df,\n",
    ")"
   ]
  },
  {
   "cell_type": "markdown",
   "metadata": {},
   "source": [
    "# RUN A SPECIFIC CASE TO GET MORE RESULTS"
   ]
  },
  {
   "cell_type": "code",
   "execution_count": 18,
   "metadata": {},
   "outputs": [
    {
     "name": "stdout",
     "output_type": "stream",
     "text": [
      "Using previous solution for a and b! Be smart\n",
      "\tCould not interpolate polars! Got error:\n",
      "\tReynolds 3840789.40673543 not in database! Min Reynolds is 4495000.0\n",
      "- Angle 1.0\n",
      "\t--Using no penetration condition:\n",
      "\t\tL:19982.660794256233\t|\tD (Trefftz Plane):863.0024024801555\tD2:762.6456278997453\t|\tMy:23407.983667594683\n",
      "\t\tCL:0.8200579494083021\t|\tCD_ind:0.035416303554316325\t|\tCm:0.3755285544936944\n"
     ]
    }
   ],
   "source": [
    "plane_pot.alpha = 1*np.pi / 180\n",
    "Uinf = UMAG[plane.name] * np.cos(plane_pot.alpha) * np.cos(plane_pot.beta)\n",
    "Vinf = UMAG[plane.name] * np.cos(plane_pot.alpha) * np.sin(plane_pot.beta)\n",
    "Winf = UMAG[plane.name] * np.sin(plane_pot.alpha) * np.cos(plane_pot.beta)\n",
    "Q = np.array((Uinf, Vinf, Winf))\n",
    "\n",
    "plane_pot.solve_wing_panels(Q,symm_wing_panels)\n",
    "plane_pot.get_gamma_distribution()\n",
    "plane_pot.get_gamma_distribution()\n",
    "plane_pot.get_strip_reynolds(UMAG[plane.name])\n",
    "plane_pot.get_aerodynamic_loads(UMAG[plane.name])\n",
    "plane_pot.calculate_strip_induced_velocities()\n",
    "plane_pot.calculate_strip_gamma()\n"
   ]
  },
  {
   "cell_type": "code",
   "execution_count": 21,
   "metadata": {},
   "outputs": [],
   "source": [
    "# plane_pot.plot_w_induced_strips(umag=UMAG[plane.name])\n",
    "# plane_pot.plot_gamma_distribution()\n",
    "plane_pot.plot_lift_drag_strips()\n",
    "plane_pot.plot_lift_drag_panels(umag= UMAG[plane.name])"
   ]
  },
  {
   "cell_type": "code",
   "execution_count": 23,
   "metadata": {},
   "outputs": [],
   "source": [
    "plane_pot.strip_reynolds\n",
    "import matplotlib.pyplot as plt"
   ]
  },
  {
   "cell_type": "code",
   "execution_count": 24,
   "metadata": {},
   "outputs": [
    {
     "data": {
      "text/plain": [
       "[<matplotlib.lines.Line2D at 0x7f7463d77750>]"
      ]
     },
     "execution_count": 24,
     "metadata": {},
     "output_type": "execute_result"
    }
   ],
   "source": [
    "plt.plot(plane_pot.strip_reynolds\n",
    "         )"
   ]
  },
  {
   "cell_type": "code",
   "execution_count": null,
   "metadata": {},
   "outputs": [],
   "source": []
  }
 ],
 "metadata": {
  "kernelspec": {
   "display_name": "aero",
   "language": "python",
   "name": "python3"
  },
  "language_info": {
   "codemirror_mode": {
    "name": "ipython",
    "version": 3
   },
   "file_extension": ".py",
   "mimetype": "text/x-python",
   "name": "python",
   "nbconvert_exporter": "python",
   "pygments_lexer": "ipython3",
   "version": "3.11.4"
  }
 },
 "nbformat": 4,
 "nbformat_minor": 2
}
