{
 "cells": [
  {
   "cell_type": "code",
   "execution_count": 1,
   "metadata": {},
   "outputs": [],
   "source": [
    "%load_ext autoreload\n",
    "%autoreload 2\n",
    "%matplotlib qt"
   ]
  },
  {
   "cell_type": "code",
   "execution_count": 2,
   "metadata": {},
   "outputs": [],
   "source": [
    "from ICARUS.Database.db import DB\n",
    "from time import sleep\n",
    "import os"
   ]
  },
  {
   "attachments": {},
   "cell_type": "markdown",
   "metadata": {},
   "source": [
    "# Open Database"
   ]
  },
  {
   "cell_type": "code",
   "execution_count": 3,
   "metadata": {},
   "outputs": [],
   "source": [
    "db = DB()\n",
    "db.load_data()\n",
    "db3d = db.vehiclesDB"
   ]
  },
  {
   "attachments": {},
   "cell_type": "markdown",
   "metadata": {},
   "source": [
    "### Select Plane"
   ]
  },
  {
   "cell_type": "code",
   "execution_count": 4,
   "metadata": {},
   "outputs": [
    {
     "name": "stdout",
     "output_type": "stream",
     "text": [
      "0 : `orthogonal_7\n"
     ]
    }
   ],
   "source": [
    "planenames = db3d.get_planenames()\n",
    "for i, planename in enumerate(planenames):\n",
    "    print(f\"{i} : `{planename}\") \n",
    "sleep(1)\n",
    "indexes = [0]\n",
    "#index = int(input(\"Select a plane: \"))\n",
    "plane = db3d.planes[planenames[0]]\n",
    "# dynplane = db3d.dyn_planes[planenames[index]]\n",
    "planenames = [planenames[i] for i in indexes]\n"
   ]
  },
  {
   "attachments": {},
   "cell_type": "markdown",
   "metadata": {},
   "source": [
    "# Add XFLR Polars"
   ]
  },
  {
   "cell_type": "code",
   "execution_count": 5,
   "metadata": {},
   "outputs": [
    {
     "name": "stdout",
     "output_type": "stream",
     "text": [
      "No XFLR polar found for orthogonal_7\n"
     ]
    }
   ],
   "source": [
    "from ICARUS.Software.XFLR5.polars import read_polars_3d\n",
    "from ICARUS.Database import XFLRDB\n",
    "for name in planenames:\n",
    "    if name.startswith(\"XFLR\"):\n",
    "        continue\n",
    "    try:\n",
    "        XFLR5PLANEDIR = os.path.join(XFLRDB,f\"{name}.txt\")\n",
    "        read_polars_3d(db3d,XFLR5PLANEDIR, name)\n",
    "        print(f\"Imported XFLR polar for {name}\")\n",
    "        planenames.append(f\"XFLR_{name}\")\n",
    "    except FileNotFoundError:\n",
    "        print(f\"No XFLR polar found for {name}\")\n",
    "        \n",
    "# if \"Hermes\" not in planenames:\n",
    "#     print(f\"Importing XFLR polar for Hermes\")\n",
    "#     if \"XFLR_Hermes\" not in planenames:\n",
    "#         XFLR5PLANEDIR = os.path.join(XFLRDB,f\"Hermes.txt\")\n",
    "#         readPolars3D(db3d,XFLR5PLANEDIR, 'Hermes')\n",
    "#         planenames.append(f\"XFLR_Hermes\")"
   ]
  },
  {
   "attachments": {},
   "cell_type": "markdown",
   "metadata": {},
   "source": [
    "# Airplane Visualization"
   ]
  },
  {
   "attachments": {},
   "cell_type": "markdown",
   "metadata": {},
   "source": [
    "# Polars"
   ]
  },
  {
   "cell_type": "code",
   "execution_count": null,
   "metadata": {},
   "outputs": [],
   "source": [
    "from ICARUS.Visualization.airplane.gnvp_polars import plot_airplane_polars "
   ]
  },
  {
   "cell_type": "code",
   "execution_count": null,
   "metadata": {},
   "outputs": [],
   "source": [
    "# db.makeData()\n",
    "plot_airplane_polars(db3d.data,planenames,[\"Potential\",\"2D\"],size=(16,7))"
   ]
  },
  {
   "attachments": {},
   "cell_type": "markdown",
   "metadata": {},
   "source": [
    "# Case Convergence"
   ]
  },
  {
   "cell_type": "code",
   "execution_count": null,
   "metadata": {},
   "outputs": [],
   "source": [
    "from ICARUS.Visualization.airplane.gnvp_convergence import plot_convergence"
   ]
  },
  {
   "cell_type": "code",
   "execution_count": null,
   "metadata": {},
   "outputs": [],
   "source": [
    "angles2show = [1.,2.]# All\n",
    "plot_convergence(db3d.convergence_data, plane.name, angles = angles2show,\n",
    "                solvers= [\"2D\"],plot_error = False,size=(16,7))"
   ]
  },
  {
   "attachments": {},
   "cell_type": "markdown",
   "metadata": {},
   "source": [
    "# Sensitivity Plot"
   ]
  },
  {
   "cell_type": "code",
   "execution_count": null,
   "metadata": {},
   "outputs": [],
   "source": [
    "from ICARUS.Visualization.airplane.gnvp_sensitivity import plot_sensitivity "
   ]
  },
  {
   "cell_type": "code",
   "execution_count": null,
   "metadata": {},
   "outputs": [],
   "source": [
    "# pertr = dynplane.pertubResults\n",
    "# print(dynplane.trim)\n",
    "# trim = pertr[pertr['Type'] == 'Trim']\n",
    "# dynplane.sensResults['u'].sort_values(by=['Epsilon'])\n",
    "# plotSensitivity(dynplane.sensResults,dynplane,trim,relative = 0,vars2s=['r'])"
   ]
  },
  {
   "attachments": {},
   "cell_type": "markdown",
   "metadata": {},
   "source": [
    "# Wake Visualization"
   ]
  },
  {
   "cell_type": "code",
   "execution_count": null,
   "metadata": {},
   "outputs": [],
   "source": [
    "from ICARUS.Visualization.airplane.gnvp_wake import gnvp_wake\n",
    "from ICARUS.Database.utils  import angle_to_case"
   ]
  },
  {
   "cell_type": "code",
   "execution_count": null,
   "metadata": {},
   "outputs": [],
   "source": [
    "CASE = angle_to_case(-3.)\n",
    "plane = db3d.planes[\"bmark\"]\n",
    "# plane.visualize()\n",
    "gnvp_wake(7,plane,CASE)"
   ]
  },
  {
   "attachments": {},
   "cell_type": "markdown",
   "metadata": {},
   "source": [
    " # Loads Visualization"
   ]
  },
  {
   "cell_type": "code",
   "execution_count": null,
   "metadata": {},
   "outputs": [],
   "source": [
    "from ICARUS.Visualization.airplane.gnvp_strips import gnvp_strips_2d, gnvp_strips_3d\n",
    "NBs = [i+1 for i in range(len(plane.surfaces))]\n",
    "print(plane)\n",
    "print(\"NBs to Visualize: \",NBs)\n",
    "\n",
    "stripData = gnvp_strips_2d(plane,CASE, NBs[0], category= 'Wind')"
   ]
  },
  {
   "attachments": {},
   "cell_type": "markdown",
   "metadata": {},
   "source": [
    "# Dynamics"
   ]
  },
  {
   "cell_type": "code",
   "execution_count": null,
   "metadata": {},
   "outputs": [],
   "source": [
    "states = db3d.states['atlas']\n",
    "for i,name in enumerate(states):\n",
    "    print(f\"{i}: {name}\")\n",
    "state = states[name]"
   ]
  },
  {
   "cell_type": "code",
   "execution_count": null,
   "metadata": {},
   "outputs": [],
   "source": [
    "state.stability_fd()\n",
    "state.eigenvalue_analysis()\n",
    "print(state)\n",
    "state.plot_eigenvalues()\n",
    "#   Longitudinal derivatives\n",
    "#   Xu=    -0.16379         Cxu=   -0.049477\n",
    "#   Xw=      1.1494         Cxa=     0.34723\n",
    "#   Zu=     -3.0117         Czu=  -0.0035415\n",
    "#   Zw=     -19.528         CLa=      5.8991\n",
    "#   Zq=     -1.8321         CLq=      9.1645\n",
    "#   Mu= -0.00060463         Cmu=  -0.0015122\n",
    "#   Mw=    -0.45664         Cma=     -1.1421\n",
    "#   Mq=    -0.39098         Cmq=     -16.193\n",
    "\n",
    "#   Lateral derivatives\n",
    "#   Yv=     -0.5496         CYb=    -0.16602\n",
    "#   Yp=   -0.017022         CYp=  -0.0045504\n",
    "#   Yr=     0.32383         CYr=    0.086568\n",
    "#   Lv=    0.039731         Clb=   0.0053106\n",
    "#   Lp=     -5.6227         Clp=     -0.6651\n",
    "#   Lr=      1.0377         Clr=     0.12275\n",
    "#   Nv=     0.28879         Cnb=    0.038602\n",
    "#   Np=    -0.57586         Cnp=   -0.068117\n",
    "#   Nr=     -0.1259         Cnr=   -0.014893\n"
   ]
  },
  {
   "cell_type": "code",
   "execution_count": null,
   "metadata": {},
   "outputs": [],
   "source": []
  }
 ],
 "metadata": {
  "kernelspec": {
   "display_name": "aero",
   "language": "python",
   "name": "python3"
  },
  "language_info": {
   "codemirror_mode": {
    "name": "ipython",
    "version": 3
   },
   "file_extension": ".py",
   "mimetype": "text/x-python",
   "name": "python",
   "nbconvert_exporter": "python",
   "pygments_lexer": "ipython3",
   "version": "3.11.4"
  }
 },
 "nbformat": 4,
 "nbformat_minor": 2
}
