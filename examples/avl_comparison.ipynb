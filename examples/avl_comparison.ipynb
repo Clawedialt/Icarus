{
 "cells": [
  {
   "cell_type": "code",
   "execution_count": null,
   "metadata": {},
   "outputs": [],
   "source": [
    "%load_ext autoreload\n",
    "%autoreload 2\n",
    "%matplotlib qt"
   ]
  },
  {
   "cell_type": "code",
   "execution_count": null,
   "metadata": {},
   "outputs": [],
   "source": [
    "import numpy as np"
   ]
  },
  {
   "attachments": {},
   "cell_type": "markdown",
   "metadata": {},
   "source": [
    "# Load Foil Data"
   ]
  },
  {
   "cell_type": "code",
   "execution_count": null,
   "metadata": {},
   "outputs": [],
   "source": [
    "from ICARUS.Input_Output.XFLR5.polars import read_polars_2d\n",
    "from ICARUS.Database import DB\n",
    "from ICARUS.Core.struct import Struct\n",
    "from ICARUS.Database import EXTERNAL_DB"
   ]
  },
  {
   "cell_type": "code",
   "execution_count": null,
   "metadata": {},
   "outputs": [],
   "source": [
    "read_polars_2d(EXTERNAL_DB)\n",
    "airfoils: Struct = DB.foils_db.set_available_airfoils()"
   ]
  },
  {
   "cell_type": "code",
   "execution_count": null,
   "metadata": {},
   "outputs": [],
   "source": [
    "airfoils_names = list(airfoils.keys())\n",
    "print(airfoils_names)\n",
    "DB.foils_db.get_airfoil_solvers(airfoil_name=airfoils_names[4])"
   ]
  },
  {
   "attachments": {},
   "cell_type": "markdown",
   "metadata": {},
   "source": [
    "# Get Plane"
   ]
  },
  {
   "cell_type": "code",
   "execution_count": null,
   "metadata": {},
   "outputs": [],
   "source": [
    "# from examples.Planes.hermes import hermes\n",
    "# airplane = hermes(airfoils ,\"Hermes\")\n",
    "\n",
    "from ICARUS.Input_Output.XFLR5.parser import parse_xfl_project\n",
    "filename: str = \"Data/3d_Party/plane_1.xml\"\n",
    "airplane = parse_xfl_project(filename)\n",
    "# airplane.name = \"Embraer_E190_Cruise\"\n",
    "airplane.visualize()\n",
    "\n",
    "\n",
    "# airplane = DB.vehicles_db.planes['hermes_3']\n",
    "# airplane.save()"
   ]
  },
  {
   "cell_type": "code",
   "execution_count": null,
   "metadata": {},
   "outputs": [],
   "source": [
    "# airplane.surfaces = [airplane.surfaces[i] for i in [2]]\n",
    "# airplane.visualize()\n",
    "airplane.airfoils"
   ]
  },
  {
   "attachments": {},
   "cell_type": "markdown",
   "metadata": {},
   "source": [
    "# Import Environment"
   ]
  },
  {
   "cell_type": "code",
   "execution_count": null,
   "metadata": {},
   "outputs": [],
   "source": [
    "from ICARUS.Environment.definition import EARTH_ISA"
   ]
  },
  {
   "attachments": {},
   "cell_type": "markdown",
   "metadata": {},
   "source": [
    "# Get Solver"
   ]
  },
  {
   "cell_type": "code",
   "execution_count": null,
   "metadata": {},
   "outputs": [],
   "source": [
    "from ICARUS.Solvers.Airplane.gnvp3 import get_gnvp3\n",
    "gnvp3 = get_gnvp3()\n",
    "\n",
    "# from ICARUS.Solvers.Airplane.gnvp7 import get_gnvp7\n",
    "# gnvp7 = get_gnvp7()\n",
    "\n",
    "# print(gnvp3)\n",
    "print(gnvp3)"
   ]
  },
  {
   "attachments": {},
   "cell_type": "markdown",
   "metadata": {},
   "source": [
    "## AoA Run"
   ]
  },
  {
   "cell_type": "code",
   "execution_count": null,
   "metadata": {},
   "outputs": [],
   "source": [
    "analysis: str = gnvp3.available_analyses_names()[2] \n",
    "print(f\"Selecting Analysis: {analysis}\")\n",
    "gnvp3.set_analyses(analysis)\n",
    "options: Struct = gnvp3.get_analysis_options(verbose=True)\n",
    "solver_parameters: Struct = gnvp3.get_solver_parameters(verbose=True)"
   ]
  },
  {
   "cell_type": "code",
   "execution_count": null,
   "metadata": {},
   "outputs": [],
   "source": [
    "AoAmin = -6\n",
    "AoAmax = 8\n",
    "NoAoA = (AoAmax - AoAmin) + 1\n",
    "angles = np.linspace(AoAmin, AoAmax, NoAoA, dtype= float)\n",
    "u_freestream = 20\n",
    "# airplane.define_dynamic_pressure(u_freestream, EARTH.air_density)\n",
    "\n",
    "options.plane.value         = airplane\n",
    "options.environment.value   = EARTH_ISA\n",
    "options.solver2D.value      = 'XFLR'\n",
    "options.maxiter.value       = 100\n",
    "options.timestep.value      = 0.001\n",
    "options.u_freestream.value  = u_freestream\n",
    "options.angles.value        = angles\n",
    "\n",
    "solver_parameters.Use_Grid.value = 1\n",
    "\n",
    "gnvp3.print_analysis_options()\n",
    "gnvp3.run()\n",
    "polars = gnvp3.get_results()\n",
    "airplane.save()"
   ]
  },
  {
   "attachments": {},
   "cell_type": "markdown",
   "metadata": {},
   "source": [
    "# Dynamics"
   ]
  },
  {
   "attachments": {},
   "cell_type": "markdown",
   "metadata": {},
   "source": [
    "### Define and Trim Plane"
   ]
  },
  {
   "cell_type": "code",
   "execution_count": null,
   "metadata": {},
   "outputs": [],
   "source": [
    "from ICARUS.Flight_Dynamics.state import State\n",
    "if isinstance(polars,int):\n",
    "    raise Exception(\"No Polars\")\n",
    "unstick = State(\"Unstick\",airplane,polars,EARTH_ISA)"
   ]
  },
  {
   "attachments": {},
   "cell_type": "markdown",
   "metadata": {},
   "source": [
    "### Pertrubations"
   ]
  },
  {
   "cell_type": "code",
   "execution_count": null,
   "metadata": {},
   "outputs": [],
   "source": [
    "unstick.add_all_pertrubations(\"Central\")\n",
    "unstick.get_pertrub()"
   ]
  },
  {
   "cell_type": "code",
   "execution_count": null,
   "metadata": {},
   "outputs": [],
   "source": [
    "analysis = gnvp3.available_analyses_names(verbose=True)[4] # ANGLES PARALLEL\n",
    "print(f\"Selecting Analysis: {analysis}\")\n",
    "gnvp3.set_analyses(analysis)\n",
    "options = gnvp3.get_analysis_options(verbose=True)"
   ]
  },
  {
   "cell_type": "code",
   "execution_count": null,
   "metadata": {},
   "outputs": [],
   "source": [
    "options.plane.value         = airplane\n",
    "options.state.value         = unstick\n",
    "options.environment.value   = EARTH_ISA\n",
    "options.solver2D.value      = 'XFLR'\n",
    "options.maxiter.value       = 200\n",
    "options.timestep.value      = 5e-3\n",
    "options.u_freestream.value  = unstick.trim['U']\n",
    "options.angle.value        = unstick.trim['AoA']\n",
    "\n",
    "gnvp3.print_analysis_options()\n",
    "gnvp3.run()\n",
    "gnvp3.get_results()\n",
    "unstick.save()"
   ]
  },
  {
   "attachments": {},
   "cell_type": "markdown",
   "metadata": {},
   "source": [
    "# Sensitivity Analysis"
   ]
  },
  {
   "cell_type": "code",
   "execution_count": null,
   "metadata": {},
   "outputs": [],
   "source": [
    "# if sensAnalysisGNVP3 :\n",
    "#     for var in ['u','w','q','theta','v','p','r','phi']:\n",
    "#         space = np.logspace(np.log10(0.00001), np.log10(1), 10, base=10)\n",
    "#         space =[*-space,*space]\n",
    "#         maxiter = 2\n",
    "#         timestep = 5e-2\n",
    "#         dyn.sensitivityAnalysis(var, space)\n",
    "#         GNVP3BatchArgs = [dyn, var, foildb, \"Xfoil\",\n",
    "#                         maxiter, timestep,\n",
    "#                         dyn.trim['U'], dyn.trim['AoA']]\n",
    "#         dyn.runAnalysis(runGNVPsensitivityParallel, GNVP3BatchArgs)\n",
    "#         perDIR = os.path.join(dyn.CASEDIR, f\"Sensitivity_{var}\")\n",
    "#         dyn.sensResults[var] = pertrResults(perDIR, HOMEDIR)\n",
    "#     dyn.save()"
   ]
  },
  {
   "cell_type": "code",
   "execution_count": null,
   "metadata": {},
   "outputs": [],
   "source": []
  }
 ],
 "metadata": {
  "kernelspec": {
   "display_name": "aero",
   "language": "python",
   "name": "python3"
  },
  "language_info": {
   "codemirror_mode": {
    "name": "ipython",
    "version": 3
   },
   "file_extension": ".py",
   "mimetype": "text/x-python",
   "name": "python",
   "nbconvert_exporter": "python",
   "pygments_lexer": "ipython3",
   "version": "3.11.4"
  },
  "vscode": {
   "interpreter": {
    "hash": "8acd08952dc410be23279ea6eab1a080d514a48a01ad47827aa392f9fbd61ae4"
   }
  }
 },
 "nbformat": 4,
 "nbformat_minor": 2
}
