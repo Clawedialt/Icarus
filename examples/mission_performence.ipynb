{
    "cells": [
        {
            "cell_type": "code",
            "execution_count": null,
            "metadata": {},
            "outputs": [],
            "source": [
                "%load_ext autoreload\n",
                "%autoreload 2\n",
                "# %matplotlib inline"
            ]
        },
        {
            "cell_type": "code",
            "execution_count": 1,
            "metadata": {},
            "outputs": [],
            "source": [
                "from ICARUS.Database.Database_3D import Database_3D\n",
                "from ICARUS.Mission.analyis import MissionAnalysis\n",
                "from ICARUS.Mission.segment import MissionSegment\n",
                "from ICARUS.Mission.performence import Fitness\n",
                "from ICARUS.Mission.definition import Mission\n",
                "from ICARUS.Computation.Solvers.solver import Solver\n",
                "from ICARUS.Environment.definition import Environment\n",
                "from ICARUS.Mission.path import Path"
            ]
        }
    ],
    "metadata": {
        "kernelspec": {
            "display_name": "aero",
            "language": "python",
            "name": "python3"
        },
        "language_info": {
            "codemirror_mode": {
                "name": "ipython",
                "version": 3
            },
            "file_extension": ".py",
            "mimetype": "text/x-python",
            "name": "python",
            "nbconvert_exporter": "python",
            "pygments_lexer": "ipython3",
            "version": "3.11.4"
        }
    },
    "nbformat": 4,
    "nbformat_minor": 2
}
