{
 "cells": [
  {
   "cell_type": "code",
   "execution_count": null,
   "metadata": {},
   "outputs": [],
   "source": [
    "%load_ext autoreload\n",
    "%autoreload 2\n",
    "%matplotlib qt"
   ]
  },
  {
   "cell_type": "code",
   "execution_count": null,
   "metadata": {},
   "outputs": [],
   "source": [
    "from examples.Planes.e190 import e190\n",
    "from ICARUS.Vehicle.plane import Airplane\n",
    "e190_p: Airplane = e190(\"EMBRAER_E190_main_wing_flapped\")\n",
    "# e190_p.visualize()"
   ]
  },
  {
   "cell_type": "code",
   "execution_count": 2,
   "metadata": {},
   "outputs": [
    {
     "data": {
      "image/png": "[encoded data removed]",
      "text/plain": [
       "<Figure size 640x480 with 1 Axes>"
      ]
     },
     "metadata": {},
     "output_type": "display_data"
    },
    {
     "name": "stdout",
     "output_type": "stream",
     "text": [
      "[1.0, 0.95037, 0.90077, 0.85108, 0.80127, 0.75135, 0.70131, 0.65114, 0.60086, 0.55047, 0.5, 0.44945, 0.39885, 0.34823, 0.29763, 0.24707, 0.19657, 0.14617, 0.09595, 0.07095, 0.04609, 0.02152, 0.0095, 0.00486, 0.00263, 0.0, 0.00737, 0.01014, 0.0155, 0.02848, 0.05391, 0.07905, 0.10405, 0.15383, 0.20343, 0.25293, 0.30237, 0.35177, 0.40115, 0.45055, 0.5, 0.54953, 0.59914, 0.64886, 0.69869, 0.74865, 0.79873, 0.84892, 0.94963, 1.0]\n"
     ]
    },
    {
     "ename": "ValueError",
     "evalue": "could not convert string to float: '64418_flapped'",
     "output_type": "error",
     "traceback": [
      "\u001b[0;31m---------------------------------------------------------------------------\u001b[0m",
      "\u001b[0;31mValueError\u001b[0m                                Traceback (most recent call last)",
      "\u001b[1;32m/home/tryfonas/data/Uni/Software/hermes/embraer.ipynb Cell 3\u001b[0m line \u001b[0;36m5\n\u001b[1;32m      <a href='vscode-notebook-cell:/home/tryfonas/data/Uni/Software/hermes/embraer.ipynb#X45sZmlsZQ%3D%3D?line=2'>3</a>\u001b[0m \u001b[39mimport\u001b[39;00m \u001b[39mos\u001b[39;00m\n\u001b[1;32m      <a href='vscode-notebook-cell:/home/tryfonas/data/Uni/Software/hermes/embraer.ipynb#X45sZmlsZQ%3D%3D?line=3'>4</a>\u001b[0m naca64418: AirfoilD \u001b[39m=\u001b[39m AirfoilD\u001b[39m.\u001b[39mload_from_file(os\u001b[39m.\u001b[39mpath\u001b[39m.\u001b[39mjoin(XFLRDB, \u001b[39m'\u001b[39m\u001b[39mnaca64418.dat\u001b[39m\u001b[39m'\u001b[39m))\n\u001b[0;32m----> <a href='vscode-notebook-cell:/home/tryfonas/data/Uni/Software/hermes/embraer.ipynb#X45sZmlsZQ%3D%3D?line=4'>5</a>\u001b[0m naca64418_fl: AirfoilD \u001b[39m=\u001b[39m AirfoilD\u001b[39m.\u001b[39mload_from_file(os\u001b[39m.\u001b[39mpath\u001b[39m.\u001b[39mjoin(DB2D,\u001b[39m\"\u001b[39m\u001b[39mNACA64418_flapped\u001b[39m\u001b[39m\"\u001b[39m, \u001b[39m'\u001b[39m\u001b[39mnaca64418_flapped\u001b[39m\u001b[39m'\u001b[39m))\n",
      "File \u001b[0;32m~/data/Uni/Software/hermes/ICARUS/Airfoils/airfoilD.py:135\u001b[0m, in \u001b[0;36mAirfoilD.load_from_file\u001b[0;34m(cls, filename)\u001b[0m\n\u001b[1;32m    133\u001b[0m         \u001b[39mif\u001b[39;00m line \u001b[39m==\u001b[39m \u001b[39m\"\u001b[39m\u001b[39m\\n\u001b[39;00m\u001b[39m\"\u001b[39m:\n\u001b[1;32m    134\u001b[0m             \u001b[39mcontinue\u001b[39;00m\n\u001b[0;32m--> 135\u001b[0m         x\u001b[39m.\u001b[39mappend(\u001b[39mfloat\u001b[39m(line\u001b[39m.\u001b[39msplit()[\u001b[39m0\u001b[39m]))\n\u001b[1;32m    136\u001b[0m         y\u001b[39m.\u001b[39mappend(\u001b[39mfloat\u001b[39m(line\u001b[39m.\u001b[39msplit()[\u001b[39m1\u001b[39m]))\n\u001b[1;32m    137\u001b[0m \u001b[39m# find index of x = 0\u001b[39;00m\n",
      "\u001b[0;31mValueError\u001b[0m: could not convert string to float: '64418_flapped'"
     ]
    }
   ],
   "source": [
    "from ICARUS.Airfoils.airfoilD import AirfoilD\n",
    "from ICARUS.Database import DB2D, XFLRDB\n",
    "import os\n",
    "naca64418: AirfoilD = AirfoilD.load_from_file(os.path.join(XFLRDB, 'naca64418.dat'))\n",
    "naca64418_fl: AirfoilD = AirfoilD.load_from_file(os.path.join(DB2D,\"NACA64418_flapped\", 'naca64418_flapped'))\n",
    "# naca64418_fl: AirfoilD = naca64418.flap_airfoil(0.75, 1.3, 35)"
   ]
  },
  {
   "cell_type": "code",
   "execution_count": null,
   "metadata": {},
   "outputs": [],
   "source": [
    "naca64418.fix_le()"
   ]
  },
  {
   "attachments": {},
   "cell_type": "markdown",
   "metadata": {},
   "source": [
    "# Load Foil Data"
   ]
  },
  {
   "cell_type": "code",
   "execution_count": null,
   "metadata": {},
   "outputs": [],
   "source": [
    "from ICARUS.Software.XFLR5.polars import read_polars_2d\n",
    "from ICARUS.Database.db import DB\n",
    "from ICARUS.Core.struct import Struct\n",
    "from ICARUS.Database import XFLRDB"
   ]
  },
  {
   "cell_type": "code",
   "execution_count": null,
   "metadata": {},
   "outputs": [],
   "source": [
    "db = DB()\n",
    "foildb = db.foilsDB\n",
    "foildb.load_data()\n",
    "read_polars_2d(foildb,XFLRDB)\n",
    "airfoils: Struct = foildb.set_available_airfoils()"
   ]
  },
  {
   "cell_type": "code",
   "execution_count": null,
   "metadata": {},
   "outputs": [],
   "source": [
    "airfoils.keys()"
   ]
  },
  {
   "cell_type": "code",
   "execution_count": null,
   "metadata": {},
   "outputs": [],
   "source": [
    "from ICARUS.Airfoils.airfoilD import AirfoilD\n",
    "naca64418: AirfoilD = db.foilsDB.set_available_airfoils()[\"NACA64418\"]\n",
    "naca64418_fl: AirfoilD = naca64418.flap_airfoil(0.75, 1.3, 35)"
   ]
  },
  {
   "attachments": {},
   "cell_type": "markdown",
   "metadata": {},
   "source": [
    "# Get Plane"
   ]
  },
  {
   "cell_type": "code",
   "execution_count": null,
   "metadata": {},
   "outputs": [],
   "source": [
    "from examples.Planes.hermes import hermes\n",
    "from ICARUS.Vehicle.plane import Airplane\n",
    "# airplane = hermes(airfoils ,\"Hermes\")\n",
    "from ICARUS.Software.XFLR5.parser import parse_xfl_project\n",
    "filename: str = \"Data/XFLR5/embraer_cruise.xml\"\n",
    "airplane: Airplane = parse_xfl_project(filename)\n",
    "\n",
    "airplane.name = \"Embraer_E190_Cruise\"\n",
    "airplane.visualize()\n",
    "\n",
    "\n",
    "# airplane.save()"
   ]
  },
  {
   "attachments": {},
   "cell_type": "markdown",
   "metadata": {},
   "source": [
    "# Import Enviroment"
   ]
  },
  {
   "cell_type": "code",
   "execution_count": null,
   "metadata": {},
   "outputs": [],
   "source": [
    "from ICARUS.Enviroment.definition import EARTH"
   ]
  },
  {
   "attachments": {},
   "cell_type": "markdown",
   "metadata": {},
   "source": [
    "# Get Solver"
   ]
  },
  {
   "cell_type": "code",
   "execution_count": null,
   "metadata": {},
   "outputs": [],
   "source": [
    "from ICARUS.Software.GenuVP.gnvp3 import get_gnvp3\n",
    "gnvp3 = get_gnvp3(db)\n",
    "print(gnvp3)"
   ]
  },
  {
   "attachments": {},
   "cell_type": "markdown",
   "metadata": {},
   "source": [
    "## AoA Run"
   ]
  },
  {
   "cell_type": "code",
   "execution_count": null,
   "metadata": {},
   "outputs": [],
   "source": [
    "analysis: str = gnvp3.available_analyses_names()[1] # ANGLES PARALLEL\n",
    "print(f\"Selecting Analysis: {analysis}\")\n",
    "gnvp3.set_analyses(analysis)\n",
    "options: Struct = gnvp3.get_analysis_options(verbose=True)\n",
    "solver_parameters: Struct = gnvp3.get_solver_parameters(verbose=True)"
   ]
  },
  {
   "cell_type": "code",
   "execution_count": null,
   "metadata": {},
   "outputs": [],
   "source": [
    "AoAmin = -6\n",
    "AoAmax = 8\n",
    "NoAoA = (AoAmax - AoAmin) + 1\n",
    "angles = np.linspace(AoAmin, AoAmax, NoAoA, dtype= float)\n",
    "u_freestream = 20\n",
    "# airplane.define_dynamic_pressure(u_freestream, EARTH.air_density)\n",
    "\n",
    "options.plane.value         = airplane\n",
    "options.environment.value   = EARTH\n",
    "options.db.value            = db\n",
    "options.solver2D.value      = 'XFLR'\n",
    "options.maxiter.value       = 100\n",
    "options.timestep.value      = 1e-2\n",
    "options.u_freestream.value  = u_freestream\n",
    "options.angles.value        = angles\n",
    "\n",
    "solver_parameters.Use_Grid.value = 0\n",
    "\n",
    "gnvp3.print_analysis_options()\n",
    "gnvp3.run()\n",
    "polars = gnvp3.get_results()\n",
    "airplane.save()"
   ]
  },
  {
   "attachments": {},
   "cell_type": "markdown",
   "metadata": {},
   "source": [
    "# Dynamics"
   ]
  },
  {
   "attachments": {},
   "cell_type": "markdown",
   "metadata": {},
   "source": [
    "### Define and Trim Plane"
   ]
  },
  {
   "cell_type": "code",
   "execution_count": null,
   "metadata": {},
   "outputs": [],
   "source": [
    "from ICARUS.Flight_Dynamics.state import State\n",
    "if isinstance(polars,int):\n",
    "    raise Exception(\"No Polars\")\n",
    "unstick = State(\"Unstick\",airplane,polars,EARTH)"
   ]
  },
  {
   "attachments": {},
   "cell_type": "markdown",
   "metadata": {},
   "source": [
    "### Pertrubations"
   ]
  },
  {
   "cell_type": "code",
   "execution_count": null,
   "metadata": {},
   "outputs": [],
   "source": [
    "unstick.add_all_pertrubations(\"Central\")\n",
    "unstick.get_pertrub()"
   ]
  },
  {
   "cell_type": "code",
   "execution_count": null,
   "metadata": {},
   "outputs": [],
   "source": [
    "analysis = gnvp3.available_analyses_names(verbose=True)[4] # ANGLES PARALLEL\n",
    "print(f\"Selecting Analysis: {analysis}\")\n",
    "gnvp3.set_analyses(analysis)\n",
    "options = gnvp3.get_analysis_options(verbose=True)"
   ]
  },
  {
   "cell_type": "code",
   "execution_count": null,
   "metadata": {},
   "outputs": [],
   "source": [
    "options.plane.value         = airplane\n",
    "options.state.value         = unstick\n",
    "options.environment.value   = EARTH\n",
    "options.db.value            = db\n",
    "options.solver2D.value      = 'XFLR'\n",
    "options.maxiter.value       = 200\n",
    "options.timestep.value      = 5e-3\n",
    "options.u_freestream.value  = unstick.trim['U']\n",
    "options.angle.value        = unstick.trim['AoA']\n",
    "\n",
    "gnvp3.print_analysis_options()\n",
    "gnvp3.run()\n",
    "gnvp3.get_results()\n",
    "unstick.save()"
   ]
  },
  {
   "attachments": {},
   "cell_type": "markdown",
   "metadata": {},
   "source": [
    "# Sensitivity Analysis"
   ]
  },
  {
   "cell_type": "code",
   "execution_count": null,
   "metadata": {},
   "outputs": [],
   "source": [
    "# if sensAnalysisGNVP3 :\n",
    "#     for var in ['u','w','q','theta','v','p','r','phi']:\n",
    "#         space = np.logspace(np.log10(0.00001), np.log10(1), 10, base=10)\n",
    "#         space =[*-space,*space]\n",
    "#         maxiter = 2\n",
    "#         timestep = 5e-2\n",
    "#         dyn.sensitivityAnalysis(var, space)\n",
    "#         GNVP3BatchArgs = [dyn, var, foildb, \"Xfoil\",\n",
    "#                         maxiter, timestep,\n",
    "#                         dyn.trim['U'], dyn.trim['AoA']]\n",
    "#         dyn.runAnalysis(runGNVPsensitivityParallel, GNVP3BatchArgs)\n",
    "#         perDIR = os.path.join(dyn.CASEDIR, f\"Sensitivity_{var}\")\n",
    "#         dyn.sensResults[var] = pertrResults(perDIR, HOMEDIR)\n",
    "#     dyn.save()"
   ]
  },
  {
   "cell_type": "code",
   "execution_count": null,
   "metadata": {},
   "outputs": [],
   "source": []
  }
 ],
 "metadata": {
  "kernelspec": {
   "display_name": "aero",
   "language": "python",
   "name": "python3"
  },
  "language_info": {
   "codemirror_mode": {
    "name": "ipython",
    "version": 3
   },
   "file_extension": ".py",
   "mimetype": "text/x-python",
   "name": "python",
   "nbconvert_exporter": "python",
   "pygments_lexer": "ipython3",
   "version": "3.11.4"
  },
  "vscode": {
   "interpreter": {
    "hash": "8acd08952dc410be23279ea6eab1a080d514a48a01ad47827aa392f9fbd61ae4"
   }
  }
 },
 "nbformat": 4,
 "nbformat_minor": 2
}
