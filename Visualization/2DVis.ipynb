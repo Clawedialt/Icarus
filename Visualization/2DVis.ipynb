{
 "cells": [
  {
   "cell_type": "code",
   "execution_count": 1,
   "metadata": {},
   "outputs": [],
   "source": [
    "import os\n",
    "import numpy as np\n",
    "\n",
    "from airLibs import airfoil as af\n",
    "from airLibs import runF2w as f2w\n",
    "from airLibs import plotting as aplt\n",
    "from airLibs import runOpenFoam as of\n",
    "from airLibs import runXFoil as xf"
   ]
  },
  {
   "attachments": {},
   "cell_type": "markdown",
   "metadata": {},
   "source": [
    "# Reynolds And Mach and AoA"
   ]
  },
  {
   "cell_type": "code",
   "execution_count": 2,
   "metadata": {},
   "outputs": [],
   "source": [
    "def ms2mach(ms):\n",
    "    return ms / 340.29\n",
    "\n",
    "def Re(v, c, n):\n",
    "    return (v * c) / n"
   ]
  },
  {
   "cell_type": "code",
   "execution_count": 3,
   "metadata": {},
   "outputs": [],
   "source": [
    "chordMax = 0.18\n",
    "chordMin = 0.11\n",
    "umax = 30\n",
    "umin = 5\n",
    "ne = 1.56e-5"
   ]
  },
  {
   "cell_type": "code",
   "execution_count": 4,
   "metadata": {},
   "outputs": [],
   "source": [
    "Machmin = ms2mach(10)\n",
    "Machmax = ms2mach(30)\n",
    "Remax = Re(umax, chordMax, ne)\n",
    "Remin = Re(umin, chordMin, ne)\n",
    "AoAmax = 15\n",
    "AoAmin = -6\n",
    "NoAoA = (AoAmax - AoAmin) * 2 + 1\n",
    "\n",
    "angles = np.linspace(AoAmin, AoAmax, NoAoA)\n",
    "Reynolds = np.logspace(np.log10(Remin), np.log10(Remax), 5, base=10)\n",
    "Mach = np.linspace(Machmax, Machmin, 10)\n",
    "\n",
    "Reyn = Remax\n",
    "MACH = Machmax"
   ]
  },
  {
   "cell_type": "code",
   "execution_count": 5,
   "metadata": {},
   "outputs": [],
   "source": [
    "CASE = \"Rudder\"\n",
    "os.chdir(CASE)\n",
    "caseDir = f\"Reynolds_{np.format_float_scientific(Reyn,sign=False,precision=3).replace('+', '')}\"\n",
    "os.system(f\"mkdir -p {caseDir}\")\n",
    "os.chdir(caseDir)\n",
    "caseDir = os.getcwd()"
   ]
  },
  {
   "cell_type": "code",
   "execution_count": 6,
   "metadata": {},
   "outputs": [],
   "source": [
    "for i in os.listdir():\n",
    "    if i.startswith(\"naca\"):\n",
    "        airfile = i\n",
    "airfoil = airfile[4:]\n"
   ]
  },
  {
   "cell_type": "code",
   "execution_count": 7,
   "metadata": {},
   "outputs": [
    {
     "name": "stdout",
     "output_type": "stream",
     "text": [
      "OK\n"
     ]
    }
   ],
   "source": [
    "clcdcmFW = f2w.makeCLCD(Reyn, MACH)\n",
    "clcdcmXF_t = xf.runXFoil(Reyn, MACH, angles, airfoil,0.1,0.1)\n",
    "\n",
    "clcdcmXF = xf.runXFoil(Reyn, MACH, angles, airfoil,1,1)\n",
    "Xfoil = [clcdcmXF, \"bx\",    f\"Re = {np.format_float_scientific(Reyn,sign=False,precision=1).replace('+', '')}  |XFoil\"]\n",
    "\n",
    "clcdcmOF = of.makeCLCD(angles)\n",
    "f2wD = [clcdcmFW, \"rx\",     f\"Re = {np.format_float_scientific(Reyn,sign=False,precision=1).replace('+', '')}  |Foil2Wake tripped\"]\n",
    "openF = [clcdcmOF, \"kx\",    f\"Re = {np.format_float_scientific(Reyn,sign=False,precision=1).replace('+', '')}  |OpenFoam\"]\n",
    "Xfoil_t = [clcdcmXF_t, \"g-.\",    f\"Re = {np.format_float_scientific(Reyn,sign=False,precision=1).replace('+', '')}  |XFoil tripped\"]\n",
    "\n",
    "aplt.plotAeorCoeffs([openF,Xfoil,Xfoil_t,f2wD],(10,10),airfoil)"
   ]
  }
 ],
 "metadata": {
  "kernelspec": {
   "display_name": "aero",
   "language": "python",
   "name": "python3"
  },
  "language_info": {
   "codemirror_mode": {
    "name": "ipython",
    "version": 3
   },
   "file_extension": ".py",
   "mimetype": "text/x-python",
   "name": "python",
   "nbconvert_exporter": "python",
   "pygments_lexer": "ipython3",
   "version": "3.10.8"
  },
  "orig_nbformat": 4,
  "vscode": {
   "interpreter": {
    "hash": "8acd08952dc410be23279ea6eab1a080d514a48a01ad47827aa392f9fbd61ae4"
   }
  }
 },
 "nbformat": 4,
 "nbformat_minor": 2
}
