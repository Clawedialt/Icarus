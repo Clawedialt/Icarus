{
 "cells": [
  {
   "cell_type": "code",
   "execution_count": null,
   "metadata": {},
   "outputs": [],
   "source": [
    "%load_ext autoreload\n",
    "%autoreload 2\n",
    "%matplotlib qt"
   ]
  },
  {
   "cell_type": "code",
   "execution_count": null,
   "metadata": {},
   "outputs": [],
   "source": [
    "import numpy as np"
   ]
  },
  {
   "attachments": {},
   "cell_type": "markdown",
   "metadata": {},
   "source": [
    "# Load Foil Data"
   ]
  },
  {
   "cell_type": "code",
   "execution_count": null,
   "metadata": {},
   "outputs": [],
   "source": [
    "from ICARUS.Software.XFLR5.polars import read_polars_2d\n",
    "from ICARUS.Database.db import DB\n",
    "from ICARUS.Core.struct import Struct\n",
    "from ICARUS.Database import XFLRDB"
   ]
  },
  {
   "cell_type": "code",
   "execution_count": null,
   "metadata": {},
   "outputs": [],
   "source": [
    "db = DB()\n",
    "foildb = db.foilsDB\n",
    "foildb.load_data()\n",
    "read_polars_2d(foildb,XFLRDB)\n",
    "airfoils: Struct = foildb.set_available_airfoils()"
   ]
  },
  {
   "attachments": {},
   "cell_type": "markdown",
   "metadata": {},
   "source": [
    "# Get Plane"
   ]
  },
  {
   "cell_type": "code",
   "execution_count": null,
   "metadata": {},
   "outputs": [],
   "source": [
    "from Data.Planes.hermes import hermes\n",
    "# airplane = hermes(airfoils ,\"Hermes\")\n",
    "from ICARUS.Software.XFLR5.parser import parse_xfl_project\n",
    "filename: str = 'Data/XFLR5/atlas.xml'\n",
    "airplane = parse_xfl_project(filename)\n",
    "airplane.visualize()\n",
    "# airplane.save()"
   ]
  },
  {
   "cell_type": "code",
   "execution_count": null,
   "metadata": {},
   "outputs": [],
   "source": [
    "# airplane.surfaces = [airplane.surfaces[i] for i in [2]]\n",
    "# airplane.visualize()"
   ]
  },
  {
   "attachments": {},
   "cell_type": "markdown",
   "metadata": {},
   "source": [
    "# Import Enviroment"
   ]
  },
  {
   "cell_type": "code",
   "execution_count": null,
   "metadata": {},
   "outputs": [],
   "source": [
    "from ICARUS.Enviroment.definition import EARTH"
   ]
  },
  {
   "attachments": {},
   "cell_type": "markdown",
   "metadata": {},
   "source": [
    "# Get Solver"
   ]
  },
  {
   "cell_type": "code",
   "execution_count": null,
   "metadata": {},
   "outputs": [],
   "source": [
    "from ICARUS.Software.GenuVP.gnvp3 import get_gnvp3\n",
    "gnvp3 = get_gnvp3(db)\n",
    "print(gnvp3)"
   ]
  },
  {
   "attachments": {},
   "cell_type": "markdown",
   "metadata": {},
   "source": [
    "## AoA Run"
   ]
  },
  {
   "cell_type": "code",
   "execution_count": null,
   "metadata": {},
   "outputs": [],
   "source": [
    "analysis: str = gnvp3.available_analyses_names()[2] # ANGLES PARALLEL\n",
    "print(f\"Selecting Analysis: {analysis}\")\n",
    "gnvp3.set_analyses(analysis)\n",
    "options: Struct = gnvp3.get_analysis_options(verbose=True)\n",
    "solver_parameters: Struct = gnvp3.get_solver_parameters(verbose=True)"
   ]
  },
  {
   "cell_type": "code",
   "execution_count": 11,
   "metadata": {},
   "outputs": [
    {
     "name": "stderr",
     "output_type": "stream",
     "text": [
      "\n",
      "\n",
      "\n",
      "\n",
      "\n",
      "\n",
      "\n",
      "\n",
      "\n",
      "\n",
      "\n",
      "\u001b[A\u001b[A\u001b[A\u001b[A\u001b[A\u001b[A\u001b[A\u001b[A\u001b[A\u001b[A\u001b[A\n",
      "\n",
      "\n",
      "\n",
      "\n",
      "\n",
      "\n",
      "\n",
      "\n",
      "\n",
      "\n",
      "\n",
      "\u001b[A\u001b[A\u001b[A\u001b[A\u001b[A\u001b[A\u001b[A\u001b[A\u001b[A\u001b[A\u001b[A\u001b[A\n",
      "\n",
      "\n",
      "\n",
      "\n",
      "\n",
      "\n",
      "\n",
      "\n",
      "\n",
      "\n",
      "\n",
      "\n",
      "\u001b[A\u001b[A\u001b[A\u001b[A\u001b[A\u001b[A\u001b[A\u001b[A\u001b[A\u001b[A\u001b[A\u001b[A\u001b[A"
     ]
    }
   ],
   "source": [
    "AoAmin = -6\n",
    "AoAmax = 8\n",
    "NoAoA = (AoAmax - AoAmin) + 1\n",
    "angles = np.linspace(AoAmin, AoAmax, NoAoA, dtype= float)\n",
    "u_freestream = 20\n",
    "# airplane.define_dynamic_pressure(u_freestream, EARTH.air_density)\n",
    "\n",
    "options.plane.value         = airplane\n",
    "options.environment.value   = EARTH\n",
    "options.db.value            = db\n",
    "options.solver2D.value      = 'Foil2Wake'\n",
    "options.maxiter.value       = 100\n",
    "options.timestep.value      = 1e-2\n",
    "options.u_freestream.value  = u_freestream\n",
    "options.angles.value        = angles\n",
    "\n",
    "solver_parameters.Use_Grid.value = 0\n",
    "\n",
    "gnvp3.print_analysis_options()\n",
    "gnvp3.run()\n",
    "polars = gnvp3.get_results()\n",
    "airplane.save()"
   ]
  },
  {
   "attachments": {},
   "cell_type": "markdown",
   "metadata": {},
   "source": [
    "# Dynamics"
   ]
  },
  {
   "attachments": {},
   "cell_type": "markdown",
   "metadata": {},
   "source": [
    "### Define and Trim Plane"
   ]
  },
  {
   "cell_type": "code",
   "execution_count": null,
   "metadata": {},
   "outputs": [],
   "source": [
    "from ICARUS.Flight_Dynamics.state import State\n",
    "if isinstance(polars,int):\n",
    "    raise Exception(\"No Polars\")\n",
    "unstick = State(\"Unstick\",airplane,polars,EARTH)"
   ]
  },
  {
   "attachments": {},
   "cell_type": "markdown",
   "metadata": {},
   "source": [
    "### Pertrubations"
   ]
  },
  {
   "cell_type": "code",
   "execution_count": null,
   "metadata": {},
   "outputs": [],
   "source": [
    "unstick.add_all_pertrubations(\"Central\")\n",
    "unstick.get_pertrub()"
   ]
  },
  {
   "cell_type": "code",
   "execution_count": null,
   "metadata": {},
   "outputs": [],
   "source": [
    "analysis = gnvp3.available_analyses_names(verbose=True)[4] # ANGLES PARALLEL\n",
    "print(f\"Selecting Analysis: {analysis}\")\n",
    "gnvp3.set_analyses(analysis)\n",
    "options = gnvp3.get_analysis_options(verbose=True)"
   ]
  },
  {
   "cell_type": "code",
   "execution_count": null,
   "metadata": {},
   "outputs": [],
   "source": [
    "options.plane.value         = airplane\n",
    "options.state.value         = unstick\n",
    "options.environment.value   = EARTH\n",
    "options.db.value            = db\n",
    "options.solver2D.value      = 'XFLR'\n",
    "options.maxiter.value       = 200\n",
    "options.timestep.value      = 5e-3\n",
    "options.u_freestream.value  = unstick.trim['U']\n",
    "options.angle.value        = unstick.trim['AoA']\n",
    "\n",
    "gnvp3.print_analysis_options()\n",
    "gnvp3.run()\n",
    "gnvp3.get_results()\n",
    "unstick.save()"
   ]
  },
  {
   "attachments": {},
   "cell_type": "markdown",
   "metadata": {},
   "source": [
    "# Sensitivity Analysis"
   ]
  },
  {
   "cell_type": "code",
   "execution_count": null,
   "metadata": {},
   "outputs": [],
   "source": [
    "# if sensAnalysisGNVP3 :\n",
    "#     for var in ['u','w','q','theta','v','p','r','phi']:\n",
    "#         space = np.logspace(np.log10(0.00001), np.log10(1), 10, base=10)\n",
    "#         space =[*-space,*space]\n",
    "#         maxiter = 2\n",
    "#         timestep = 5e-2\n",
    "#         dyn.sensitivityAnalysis(var, space)\n",
    "#         GNVP3BatchArgs = [dyn, var, foildb, \"Xfoil\",\n",
    "#                         maxiter, timestep,\n",
    "#                         dyn.trim['U'], dyn.trim['AoA']]\n",
    "#         dyn.runAnalysis(runGNVPsensitivityParallel, GNVP3BatchArgs)\n",
    "#         perDIR = os.path.join(dyn.CASEDIR, f\"Sensitivity_{var}\")\n",
    "#         dyn.sensResults[var] = pertrResults(perDIR, HOMEDIR)\n",
    "#     dyn.save()"
   ]
  },
  {
   "cell_type": "code",
   "execution_count": null,
   "metadata": {},
   "outputs": [],
   "source": []
  }
 ],
 "metadata": {
  "kernelspec": {
   "display_name": "aero",
   "language": "python",
   "name": "python3"
  },
  "language_info": {
   "codemirror_mode": {
    "name": "ipython",
    "version": 3
   },
   "file_extension": ".py",
   "mimetype": "text/x-python",
   "name": "python",
   "nbconvert_exporter": "python",
   "pygments_lexer": "ipython3",
   "version": "3.11.4"
  },
  "vscode": {
   "interpreter": {
    "hash": "8acd08952dc410be23279ea6eab1a080d514a48a01ad47827aa392f9fbd61ae4"
   }
  }
 },
 "nbformat": 4,
 "nbformat_minor": 2
}
