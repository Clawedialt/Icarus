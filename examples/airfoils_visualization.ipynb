{
    "cells": [
        {
            "cell_type": "code",
            "execution_count": 1,
            "metadata": {},
            "outputs": [],
            "source": [
                "%load_ext autoreload\n",
                "%autoreload 2\n",
                "%matplotlib qt"
            ]
        },
        {
            "cell_type": "code",
            "execution_count": 2,
            "metadata": {},
            "outputs": [
                {
                    "name": "stdout",
                    "output_type": "stream",
                    "text": [
                        "Error in interpolating the airfoil data\n",
                        "[1.000001]\n",
                        "[0.00000e+00 1.68000e-04 7.39000e-04 1.80200e-03 3.17200e-03 4.59500e-03\n",
                        " 5.43900e-03 6.04600e-03 8.71200e-03 8.79200e-03 1.27730e-02 1.38630e-02\n",
                        " 1.75660e-02 1.81400e-02 2.20620e-02 2.33160e-02 2.62620e-02 2.86980e-02\n",
                        " 3.10540e-02 3.50310e-02 3.64570e-02 4.25610e-02 4.29620e-02 4.94990e-02\n",
                        " 4.95560e-02 5.34950e-02 5.77730e-02 5.86310e-02 6.23920e-02 6.74010e-02\n",
                        " 7.19270e-02 7.28710e-02 7.89040e-02 8.21510e-02 8.55960e-02 8.92320e-02\n",
                        " 8.98770e-02 9.31030e-02 9.72340e-02 1.00111e-01 1.01665e-01 1.06436e-01\n",
                        " 1.10525e-01 1.11468e-01 1.16940e-01 1.23123e-01 1.30026e-01 1.31335e-01\n",
                        " 1.37640e-01 1.45974e-01 1.52178e-01 1.54818e-01 1.64581e-01 1.73013e-01\n",
                        " 1.75065e-01 1.86268e-01 1.93880e-01 1.98181e-01 2.10803e-01 2.14740e-01\n",
                        " 2.24444e-01 2.35642e-01 2.37872e-01 2.51821e-01 2.56537e-01 2.65388e-01\n",
                        " 2.77434e-01 2.84224e-01 2.98354e-01 3.18398e-01 3.19257e-01 3.40251e-01\n",
                        " 3.41795e-01 3.63549e-01 3.65089e-01 4.10853e-01 4.12367e-01 4.34460e-01\n",
                        " 4.35951e-01 4.81480e-01 4.82914e-01 5.28608e-01 5.29968e-01 5.75743e-01\n",
                        " 5.77016e-01 6.22883e-01 6.24058e-01 6.69930e-01 6.70993e-01 7.17182e-01\n",
                        " 7.18124e-01 7.64238e-01 7.65050e-01 8.17397e-01 8.18071e-01 8.58563e-01\n",
                        " 8.59090e-01 9.05732e-01 9.06103e-01 9.52805e-01 9.53013e-01 9.76443e-01\n",
                        " 9.76566e-01 1.00000e+00]\n",
                        "Error loading airfoil from C:\\Users\\tryfo\\Desktop\\Software\\Icarus\\Data\\2D\\NPL9615\\npl9615\n",
                        "Error loading airfoil NPL9615 from DB2D. Got error: `x` must contain at least 2 elements.\n"
                    ]
                }
            ],
            "source": [
                "from ICARUS.Database import DB\n",
                "from ICARUS.Database import EXTERNAL_DB"
            ]
        },
        {
            "attachments": {},
            "cell_type": "markdown",
            "metadata": {},
            "source": [
                "# Load Database"
            ]
        },
        {
            "cell_type": "code",
            "execution_count": 3,
            "metadata": {},
            "outputs": [
                {
                    "name": "stdout",
                    "output_type": "stream",
                    "text": [
                        "We have a total of 745 airfoils\n"
                    ]
                }
            ],
            "source": [
                "db = DB.foils_db\n",
                "\n",
                "from ICARUS.Computation.Solvers.XFLR5.polars import read_polars_2d\n",
                "read_polars_2d(EXTERNAL_DB)\n",
                "\n",
                "airfoils = db.data\n",
                "\n",
                "# index = int(input(\"Select an airfoil: \"))\n",
                "index = 312\n",
                "airfoil_names: list[str] = list(airfoils.keys())\n",
                "print(f\"We have a total of {len(airfoil_names)} airfoils\")"
            ]
        },
        {
            "cell_type": "code",
            "execution_count": 4,
            "metadata": {},
            "outputs": [
                {
                    "name": "stdout",
                    "output_type": "stream",
                    "text": [
                        "We have a total of 107 NACA airfoils\n",
                        "We have a total of 9 Clark Y airfoils\n",
                        "We have a total of 138 S airfoils\n"
                    ]
                }
            ],
            "source": [
                "naca_airfoils = [airfoil_name for airfoil_name in airfoil_names if airfoil_name.startswith(\"NACA\")]\n",
                "print(f\"We have a total of {len(naca_airfoils)} NACA airfoils\")\n",
                "\n",
                "clarky_airfoils = [airfoil_name for airfoil_name in airfoil_names if airfoil_name.startswith(\"C\")]\n",
                "print(f\"We have a total of {len(clarky_airfoils)} Clark Y airfoils\")\n",
                "\n",
                "s_airfoils = [airfoil_name for airfoil_name in airfoil_names if airfoil_name.startswith(\"S\")]\n",
                "print(f\"We have a total of {len(s_airfoils)} S airfoils\")"
            ]
        },
        {
            "attachments": {},
            "cell_type": "markdown",
            "metadata": {},
            "source": [
                "# Airfoil Polars"
            ]
        },
        {
            "cell_type": "code",
            "execution_count": 10,
            "metadata": {},
            "outputs": [],
            "source": [
                "from ICARUS.Visualization.airfoil.db_polars import plot_airfoils_polars"
            ]
        },
        {
            "cell_type": "code",
            "execution_count": 12,
            "metadata": {},
            "outputs": [
                {
                    "name": "stdout",
                    "output_type": "stream",
                    "text": [
                        "Skipping Foil2Wake is not in ['Xfoil']\n",
                        "Skipping XFLR is not in ['Xfoil']\n",
                        "Skipping Foil2Wake is not in ['Xfoil']\n",
                        "Skipping XFLR is not in ['Xfoil']\n",
                        "Skipping Foil2Wake is not in ['Xfoil']\n",
                        "Skipping XFLR is not in ['Xfoil']\n",
                        "Skipping Foil2Wake is not in ['Xfoil']\n",
                        "Skipping XFLR is not in ['Xfoil']\n",
                        "Skipping XFLR is not in ['Xfoil']\n"
                    ]
                }
            ],
            "source": [
                "axs, fig = plot_airfoils_polars(\n",
                "    airfoil_names= naca_airfoils,\n",
                "    solvers = [\"Xfoil\" ],\n",
                "    reynolds= 1e6,\n",
                "    plots = [[\"AoA\", \"CL\"], [\"AoA\", \"CD\"], [\"AoA\", \"Cm\"], [\"CD\", \"CL\"]],\n",
                "    size=(10,9),\n",
                ")\n",
                "# axs[0].axvline(x=1.1, color='b', linestyle='-')\n",
                "# axs[0].axhline(y=1.52, color='b', linestyle='-')"
            ]
        },
        {
            "cell_type": "code",
            "execution_count": 14,
            "metadata": {},
            "outputs": [],
            "source": [
                "from ICARUS.Airfoils.airfoil_polars import Polars\n",
                "\n",
                "polars = Polars(DB.foils_db.data[airfoil_names[0]]['Xfoil'])"
            ]
        },
        {
            "attachments": {},
            "cell_type": "markdown",
            "metadata": {},
            "source": [
                "# Select Reynolds number "
            ]
        },
        {
            "cell_type": "code",
            "execution_count": null,
            "metadata": {},
            "outputs": [],
            "source": [
                "reynolds = db.polars[airfoil_names[0]][\"Xfoil\"].reynolds_keys\n",
                "reynolds"
            ]
        },
        {
            "cell_type": "code",
            "execution_count": 15,
            "metadata": {},
            "outputs": [
                {
                    "name": "stdout",
                    "output_type": "stream",
                    "text": [
                        "For NACA  these Reynolds were Computed:\n",
                        "0:\t1.756e05\n",
                        " 1:\t3.205e04\n",
                        " 2:\t4.109e05\n",
                        " 3:\t7.501e04\n",
                        " 4:\t9.615e05\n",
                        "\n"
                    ]
                }
            ],
            "source": [
                "reynolds = db.polars[airfoil_names[0]][\"Xfoil\"].reynolds_keys\n",
                "\n",
                "if reynolds is not None:\n",
                "    print(f\"For NACA {airfoil_names[0][4:]} these Reynolds were Computed:\")\n",
                "    print(*[f\"{i}:\\t{reyn}\\n\" for i,reyn in enumerate(reynolds)])\n",
                "    index = int(input(\"Select Reynolds: \"))\n",
                "    reyn_to_plot = reynolds[index]\n",
                "else:\n",
                "    raise ValueError(f\"Reynolds for {airfoil_names[0]} were not computed\")"
            ]
        },
        {
            "attachments": {},
            "cell_type": "markdown",
            "metadata": {},
            "source": [
                "# Plot Reynolds"
            ]
        },
        {
            "cell_type": "code",
            "execution_count": 17,
            "metadata": {},
            "outputs": [],
            "source": [
                "from ICARUS.Visualization.airfoil.airfoil_reynolds import plot_airfoil_reynolds"
            ]
        },
        {
            "cell_type": "code",
            "execution_count": 19,
            "metadata": {},
            "outputs": [
                {
                    "name": "stdout",
                    "output_type": "stream",
                    "text": [
                        "NACA  at Reynolds 3.205e04 polars are:\n",
                        "Run Doesn't Exist: AG03,1.756e05,'Foil2Wake'\n",
                        "Run Doesn't Exist: AG03,1.756e05,'OpenFoam'\n",
                        "Run Doesn't Exist: AG03,1.756e05,'XFLR'\n"
                    ]
                }
            ],
            "source": [
                "print(f\"NACA {airfoil_names[0][4:]} at Reynolds {reyn_to_plot} polars are:\")\n",
                "axs, fig = plot_airfoil_reynolds(\n",
                "    airfoil_names[0],\n",
                "    reynolds[0],\n",
                "    [\"All\"],\n",
                "    plots = [[\"AoA\", \"Cm\"], [\"AoA\", \"CD\"]],\n",
                "    size=(10,9),\n",
                ")\n",
                "# axs[0].axvline(x=1.1, color='b', linestyle='-')\n",
                "# axs[0].axhline(y=1.52, color='b', linestyle='-')"
            ]
        },
        {
            "cell_type": "code",
            "execution_count": null,
            "metadata": {},
            "outputs": [],
            "source": []
        }
    ],
    "metadata": {
        "kernelspec": {
            "display_name": "aero",
            "language": "python",
            "name": "python3"
        },
        "language_info": {
            "codemirror_mode": {
                "name": "ipython",
                "version": 3
            },
            "file_extension": ".py",
            "mimetype": "text/x-python",
            "name": "python",
            "nbconvert_exporter": "python",
            "pygments_lexer": "ipython3",
            "version": "3.12.0"
        },
        "vscode": {
            "interpreter": {
                "hash": "8acd08952dc410be23279ea6eab1a080d514a48a01ad47827aa392f9fbd61ae4"
            }
        }
    },
    "nbformat": 4,
    "nbformat_minor": 2
}
