{
 "cells": [
  {
   "cell_type": "code",
   "execution_count": 1,
   "metadata": {},
   "outputs": [],
   "source": [
    "%load_ext autoreload\n",
    "%autoreload 2\n",
    "%matplotlib qt"
   ]
  },
  {
   "cell_type": "code",
   "execution_count": 2,
   "metadata": {},
   "outputs": [],
   "source": [
    "from time import sleep\n",
    "\n",
    "from ICARUS.Database.Database_2D import Database_2D\n",
    "from ICARUS.Database import XFLRDB"
   ]
  },
  {
   "attachments": {},
   "cell_type": "markdown",
   "metadata": {},
   "source": [
    "# Load Database"
   ]
  },
  {
   "cell_type": "code",
   "execution_count": 3,
   "metadata": {},
   "outputs": [
    {
     "name": "stdout",
     "output_type": "stream",
     "text": [
      "Airfoils that are computed are:\n",
      "0: NACA0008\n",
      "1: NACA0012\n",
      "2: NACA0015\n",
      "3: NACA2412\n",
      "4: NACA4415\n"
     ]
    }
   ],
   "source": [
    "db = Database_2D()\n",
    "db.load_data()\n",
    "airfoils = db.data\n",
    "\n",
    "print(f\"Airfoils that are computed are:\")\n",
    "for i , key in enumerate(list(airfoils.keys())):\n",
    "    print(f\"{i}: {key}\")\n",
    "sleep(1)\n",
    "# index = int(input(\"Select an Airfoil: \"))\n",
    "index = 4\n",
    "airfoil = list(airfoils.keys())[index]"
   ]
  },
  {
   "cell_type": "code",
   "execution_count": 4,
   "metadata": {},
   "outputs": [],
   "source": [
    "from ICARUS.Software.XFLR5.polars import read_polars_2d\n",
    "read_polars_2d(db, XFLRDB)"
   ]
  },
  {
   "attachments": {},
   "cell_type": "markdown",
   "metadata": {},
   "source": [
    "# Airfoil Polars"
   ]
  },
  {
   "cell_type": "code",
   "execution_count": 5,
   "metadata": {},
   "outputs": [],
   "source": [
    "from ICARUS.Visualization.airfoilPolars import plot_airfoil_polars"
   ]
  },
  {
   "cell_type": "code",
   "execution_count": 6,
   "metadata": {},
   "outputs": [
    {
     "name": "stdout",
     "output_type": "stream",
     "text": [
      "NACA 4415 polars are:\n"
     ]
    }
   ],
   "source": [
    "print(f\"NACA {airfoil[4:]} polars are:\")\n",
    "plot_airfoil_polars(db.data,airfoil,[\"All\"],size=(16,9))"
   ]
  },
  {
   "attachments": {},
   "cell_type": "markdown",
   "metadata": {},
   "source": [
    "# Select Reynolds number "
   ]
  },
  {
   "cell_type": "code",
   "execution_count": 8,
   "metadata": {},
   "outputs": [
    {
     "name": "stdout",
     "output_type": "stream",
     "text": [
      "For NACA 4415 these Reynolds were Computed:\n",
      "0:\t1.105e05\n",
      " 1:\t1.956e05\n",
      " 2:\t3.462e05\n",
      " 3:\t3.526e04\n",
      " 4:\t6.241e04\n",
      " 5:\t1.105e05\n",
      " 6:\t1.956e05\n",
      " 7:\t3.462e05\n",
      " 8:\t3.526e04\n",
      " 9:\t6.241e04\n",
      " 10:\t3.e04\n",
      " 11:\t4.e04\n",
      " 12:\t6.e04\n",
      " 13:\t8.e04\n",
      " 14:\t1.e05\n",
      " 15:\t1.5e05\n",
      " 16:\t3.5e05\n",
      " 17:\t5.e05\n",
      " 18:\t1.e06\n",
      " 19:\t2.e06\n",
      "\n"
     ]
    }
   ],
   "source": [
    "reynolds = db.get_airfoil_reynolds(airfoil)\n",
    "if reynolds:\n",
    "    print(f\"For NACA {airfoil[4:]} these Reynolds were Computed:\")\n",
    "    print(*[f\"{i}:\\t{reyn}\\n\" for i,reyn in enumerate(reynolds)])\n",
    "    index = int(input(\"Select Reynolds: \"))\n",
    "    reyn_to_plot = reynolds[index]\n",
    "else:\n",
    "    raise ValueError(f\"Reynolds for {airfoil} were not computed\")"
   ]
  },
  {
   "attachments": {},
   "cell_type": "markdown",
   "metadata": {},
   "source": [
    "# Plot Reynolds"
   ]
  },
  {
   "cell_type": "code",
   "execution_count": 9,
   "metadata": {},
   "outputs": [],
   "source": [
    "from ICARUS.Visualization.airfoilReynolds import plot_airfoil_reynolds"
   ]
  },
  {
   "cell_type": "code",
   "execution_count": 11,
   "metadata": {},
   "outputs": [
    {
     "name": "stdout",
     "output_type": "stream",
     "text": [
      "For Reynolds= 6.241e04 polars are:\n",
      "Run Doesn't Exist: NACA4415,6.241e04,'OpenFoam'\n",
      "Run Doesn't Exist: NACA4415,6.241e04,'6.241e04'\n"
     ]
    }
   ],
   "source": [
    "print(f\"For Reynolds= {reyn_to_plot} polars are:\")\n",
    "plot_airfoil_reynolds(db.data,airfoil,reyn_to_plot,['All'],size=(10,10))"
   ]
  },
  {
   "cell_type": "code",
   "execution_count": null,
   "metadata": {},
   "outputs": [],
   "source": []
  }
 ],
 "metadata": {
  "kernelspec": {
   "display_name": "aero",
   "language": "python",
   "name": "python3"
  },
  "language_info": {
   "codemirror_mode": {
    "name": "ipython",
    "version": 3
   },
   "file_extension": ".py",
   "mimetype": "text/x-python",
   "name": "python",
   "nbconvert_exporter": "python",
   "pygments_lexer": "ipython3",
   "version": "3.10.10"
  },
  "vscode": {
   "interpreter": {
    "hash": "8acd08952dc410be23279ea6eab1a080d514a48a01ad47827aa392f9fbd61ae4"
   }
  }
 },
 "nbformat": 4,
 "nbformat_minor": 2
}
