{
 "cells": [
  {
   "cell_type": "code",
   "execution_count": 1,
   "metadata": {},
   "outputs": [],
   "source": [
    "using GLMakie\n",
    "using FileIO\n",
    "\n",
    "# GLMakie.activate!(; screen_config...)"
   ]
  },
  {
   "cell_type": "code",
   "execution_count": 2,
   "metadata": {},
   "outputs": [],
   "source": [
    "file_name = \"/home/tryfonas/data/Uni/Software/hermes/Data/3D/e190_takeoff_3_hd/m4.0000_AoA/wake.dat\"\n",
    "\n",
    "WAKE_DATA = Vector{Vector{Vector{Float64}}}(undef, 0)\n",
    "open(file_name, \"r\") do file\n",
    "    # Read the file. The format is as follows:\n",
    "    # Each batch of data starts with NTime = n and then there are k lines of data\n",
    "    # each containing 3 floats (x, y, z).\n",
    "    # After that there is an empty line and the next batch starts.\n",
    "    # The file ends with an empty line.\n",
    "\n",
    "    # Read until EOF\n",
    "    while !eof(file)\n",
    "        # Read the first line\n",
    "        line = readline(file)\n",
    "        NTime = parse(Int, line[8:end])\n",
    "        \n",
    "        # Push an empty array to the WAKE_DATA array\n",
    "        push!(WAKE_DATA, Vector{Vector{Float64}}(undef, 0))\n",
    "\n",
    "        # Read the rest of the batch until the empty line\n",
    "        while line != \" \"\n",
    "            line = readline(file)\n",
    "            # Add the data to an array.\n",
    "            # The data is in the form of a string, so we need to split it.\n",
    "            # The data is also in the form of a string, so we need to parse it.\n",
    "            if line != \" \"\n",
    "                push!(WAKE_DATA[NTime], parse.(Float64, split(line)))\n",
    "            end\n",
    "        end \n",
    "    end\n",
    "end"
   ]
  },
  {
   "cell_type": "code",
   "execution_count": 3,
   "metadata": {},
   "outputs": [
    {
     "data": {
      "text/plain": [
       "GLMakie.Screen(...)"
      ]
     },
     "metadata": {},
     "output_type": "display_data"
    }
   ],
   "source": [
    "# Plot all the data\n",
    "# Create a figure\n",
    "fig = Figure(resolution = (800, 600))\n",
    "ax = Axis3(fig[1, 1])\n",
    "\n",
    "# Plot the data for the \n",
    "for j in 1:4 # length(WAKE_DATA)\n",
    "    for i in 1:length(WAKE_DATA[j]) \n",
    "        scatter!(ax, WAKE_DATA[j][i][1], WAKE_DATA[j][i][2], WAKE_DATA[j][i][3], markersize = 0.5)\n",
    "    end\n",
    "end\n",
    "\n",
    "\n",
    "# Set the axis labels\n",
    "ax.xlabel = \"x\"\n",
    "ax.ylabel = \"y\"\n",
    "ax.zlabel = \"z\"\n",
    "\n",
    "# Set the axis title\n",
    "ax.title = \"Wake formation\"\n",
    "\n",
    "# Show the figure\n",
    "display(fig)"
   ]
  },
  {
   "cell_type": "code",
   "execution_count": 31,
   "metadata": {},
   "outputs": [
    {
     "data": {
      "text/plain": [
       "GLMakie.Screen(...)"
      ]
     },
     "metadata": {},
     "output_type": "display_data"
    }
   ],
   "source": [
    "# Make an animation of the wake formation over time\n",
    "\n",
    "# Create a figure\n",
    "fig = Figure(resolution = (1500, 800))\n",
    "ax = Axis3(fig[1, 1])\n",
    "\n",
    "# Set the axis labels\n",
    "ax.xlabel = \"x\"\n",
    "ax.ylabel = \"y\"\n",
    "ax.zlabel = \"z\"\n",
    "\n",
    "# Set the axis title\n",
    "ax.title = \"Wake formation\"\n",
    "\n",
    "# Create a slider\n",
    "slider = Slider(fig[2, 1], range=1:1:length(WAKE_DATA), startvalue=1,)\n",
    "\n",
    "# Create a callback function for the slider\n",
    "function update_plot(value, ax)\n",
    "    # Clear the axis\n",
    "    ax[1] = []\n",
    "\n",
    "    # Plot the data for the \n",
    "    for i in 1:length(WAKE_DATA[value]) \n",
    "        scatter!(ax, WAKE_DATA[value][i][1], WAKE_DATA[value][i][2], WAKE_DATA[value][i][3], markersize = 0.5)\n",
    "    end\n",
    "\n",
    "    # Set the axis title\n",
    "    ax.title = \"Wake formation $(slider.value)\"\n",
    "end\n",
    "\n",
    "# Add the callback function to the slider\n",
    "on(slider.value) do value\n",
    "    update_plot(value, ax)\n",
    "end\n",
    "\n",
    "# Show the figure\n",
    "display(fig)\n"
   ]
  },
  {
   "cell_type": "code",
   "execution_count": null,
   "metadata": {},
   "outputs": [],
   "source": []
  }
 ],
 "metadata": {
  "kernelspec": {
   "display_name": "Julia 1.9.2",
   "language": "julia",
   "name": "julia-1.9"
  },
  "language_info": {
   "file_extension": ".jl",
   "mimetype": "application/julia",
   "name": "julia",
   "version": "1.9.2"
  },
  "orig_nbformat": 4
 },
 "nbformat": 4,
 "nbformat_minor": 2
}
