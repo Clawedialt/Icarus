{
 "cells": [
  {
   "cell_type": "code",
   "execution_count": null,
   "metadata": {},
   "outputs": [],
   "source": [
    "%load_ext autoreload\n",
    "%autoreload 2\n",
    "%matplotlib qt"
   ]
  },
  {
   "cell_type": "code",
   "execution_count": null,
   "metadata": {},
   "outputs": [],
   "source": [
    "import numpy as np\n",
    "\n",
    "from ICARUS.Database.Database_3D import Database_3D"
   ]
  },
  {
   "cell_type": "code",
   "execution_count": null,
   "metadata": {},
   "outputs": [],
   "source": [
    "import os\n",
    "HOMEDIR = os.getcwd()"
   ]
  },
  {
   "attachments": {},
   "cell_type": "markdown",
   "metadata": {},
   "source": [
    "# Open Database"
   ]
  },
  {
   "cell_type": "code",
   "execution_count": null,
   "metadata": {},
   "outputs": [],
   "source": [
    "db = Database_3D(HOMEDIR)"
   ]
  },
  {
   "attachments": {},
   "cell_type": "markdown",
   "metadata": {},
   "source": [
    "### Select Plane"
   ]
  },
  {
   "cell_type": "code",
   "execution_count": null,
   "metadata": {},
   "outputs": [],
   "source": [
    "planenames = db.getPlanes()\n",
    "for i, planename in enumerate(planenames):\n",
    "    print(f\"{i} : `{planename}\")\n",
    "# index = int(input(\"Select a plane: \"))\n",
    "\n",
    "plane = db.Planes[planenames[0]]\n",
    "planenames = planenames[0:1]\n",
    "# dynplane = db.dynPlanes[planenames[index]]"
   ]
  },
  {
   "attachments": {},
   "cell_type": "markdown",
   "metadata": {},
   "source": [
    "# Add XFLR Polars"
   ]
  },
  {
   "cell_type": "code",
   "execution_count": null,
   "metadata": {},
   "outputs": [],
   "source": [
    "from ICARUS.Software.XFLR5.polars import readPolars3D\n",
    "from ICARUS.Database import XFLRDB\n",
    "for name in planenames:\n",
    "    if name.startswith(\"XFLR\"):\n",
    "        continue\n",
    "    try:\n",
    "        XFLR5PLANEDIR = os.path.join(XFLRDB,f\"{name}.txt\")\n",
    "        readPolars3D(db,XFLR5PLANEDIR, name)\n",
    "        print(f\"Imported XFLR polar for {name}\")\n",
    "        planenames.append(f\"XFLR_{name}\")\n",
    "    except FileNotFoundError:\n",
    "        print(f\"No XFLR polar found for {name}\")\n",
    "        print(f\"Importing XFLR polar for Hermes\")\n",
    "        if \"XFLR_Hermes\" not in planenames:\n",
    "            XFLR5PLANEDIR = os.path.join(XFLRDB,f\"Hermes.txt\")\n",
    "            readPolars3D(db,XFLR5PLANEDIR, 'Hermes')\n",
    "            planenames.append(f\"XFLR_Hermes\")"
   ]
  },
  {
   "attachments": {},
   "cell_type": "markdown",
   "metadata": {},
   "source": [
    "# Airplane Visualization"
   ]
  },
  {
   "cell_type": "code",
   "execution_count": null,
   "metadata": {},
   "outputs": [],
   "source": [
    "plane.visAirplane()"
   ]
  },
  {
   "attachments": {},
   "cell_type": "markdown",
   "metadata": {},
   "source": [
    "# Polars"
   ]
  },
  {
   "cell_type": "code",
   "execution_count": null,
   "metadata": {},
   "outputs": [],
   "source": [
    "from ICARUS.Visualization.airplanePolars import plotAirplanePolars"
   ]
  },
  {
   "cell_type": "code",
   "execution_count": null,
   "metadata": {},
   "outputs": [],
   "source": [
    "db.makeData()\n",
    "plotAirplanePolars(db.Data,planenames,[\"2D\",'Potential'],size=(16,7))"
   ]
  },
  {
   "attachments": {},
   "cell_type": "markdown",
   "metadata": {},
   "source": [
    "# Case Convergence"
   ]
  },
  {
   "cell_type": "code",
   "execution_count": null,
   "metadata": {},
   "outputs": [],
   "source": [
    "from ICARUS.Visualization.convergence import plotConvergence"
   ]
  },
  {
   "cell_type": "code",
   "execution_count": null,
   "metadata": {},
   "outputs": [],
   "source": [
    "angles2show = np.arange(-1,3) # All\n",
    "plotConvergence(db.Convergence, plane.name, angles = angles2show,\n",
    "                solvers= [\"2D\"],plotError = False,size=(16,7))"
   ]
  },
  {
   "attachments": {},
   "cell_type": "markdown",
   "metadata": {},
   "source": [
    "# Sensitivity Plot"
   ]
  },
  {
   "cell_type": "code",
   "execution_count": null,
   "metadata": {},
   "outputs": [],
   "source": [
    "from ICARUS.Visualization.sensitivity import plotSensitivity"
   ]
  },
  {
   "cell_type": "code",
   "execution_count": null,
   "metadata": {},
   "outputs": [],
   "source": [
    "# pertr = dynplane.pertubResults\n",
    "# print(dynplane.trim)\n",
    "# trim = pertr[pertr['Type'] == 'Trim']\n",
    "# dynplane.sensResults['u'].sort_values(by=['Epsilon'])\n",
    "# plotSensitivity(dynplane.sensResults,dynplane,trim,relative = 0,vars2s=['r'])"
   ]
  },
  {
   "attachments": {},
   "cell_type": "markdown",
   "metadata": {},
   "source": [
    "# Wake Visualization"
   ]
  },
  {
   "cell_type": "code",
   "execution_count": null,
   "metadata": {},
   "outputs": [],
   "source": [
    "from ICARUS.Visualization.GNVPwake import GNVPwake\n",
    "from ICARUS.Database.Database_3D  import ang2case"
   ]
  },
  {
   "cell_type": "code",
   "execution_count": null,
   "metadata": {},
   "outputs": [],
   "source": [
    "CASE = ang2case(1.)\n",
    "GNVPwake(db.Planes[\"Hermes\"],CASE)"
   ]
  },
  {
   "attachments": {},
   "cell_type": "markdown",
   "metadata": {},
   "source": [
    "# Loads Visualization"
   ]
  },
  {
   "cell_type": "code",
   "execution_count": null,
   "metadata": {},
   "outputs": [],
   "source": [
    "from ICARUS.Visualization.GNVPstrips import GNVPstrips3D,GNVPstrips2D\n",
    "plane = db.Planes['Hermes']\n",
    "NBs = [i+1 for i in range(len(plane.surfaces))]\n",
    "print(plane)\n",
    "print(\"NBs to Visualize: \",NBs)\n",
    "\n",
    "stripData = GNVPstrips2D(plane,CASE, NBs[2], category= 'Wind')"
   ]
  },
  {
   "attachments": {},
   "cell_type": "markdown",
   "metadata": {},
   "source": [
    "# Dynamics"
   ]
  },
  {
   "cell_type": "code",
   "execution_count": null,
   "metadata": {},
   "outputs": [],
   "source": [
    "dyn = db.dynPlanes['Hermes_MRes']"
   ]
  },
  {
   "cell_type": "code",
   "execution_count": null,
   "metadata": {},
   "outputs": [],
   "source": [
    "dyn.stabilityFD()\n",
    "print(dyn.SBderivativesDS)\n",
    "#   Longitudinal derivatives\n",
    "#   Xu=    -0.16379         Cxu=   -0.049477\n",
    "#   Xw=      1.1494         Cxa=     0.34723\n",
    "#   Zu=     -3.0117         Czu=  -0.0035415\n",
    "#   Zw=     -19.528         CLa=      5.8991\n",
    "#   Zq=     -1.8321         CLq=      9.1645\n",
    "#   Mu= -0.00060463         Cmu=  -0.0015122\n",
    "#   Mw=    -0.45664         Cma=     -1.1421\n",
    "#   Mq=    -0.39098         Cmq=     -16.193\n",
    "\n",
    "#   Lateral derivatives\n",
    "#   Yv=     -0.5496         CYb=    -0.16602\n",
    "#   Yp=   -0.017022         CYp=  -0.0045504\n",
    "#   Yr=     0.32383         CYr=    0.086568\n",
    "#   Lv=    0.039731         Clb=   0.0053106\n",
    "#   Lp=     -5.6227         Clp=     -0.6651\n",
    "#   Lr=      1.0377         Clr=     0.12275\n",
    "#   Nv=     0.28879         Cnb=    0.038602\n",
    "#   Np=    -0.57586         Cnp=   -0.068117\n",
    "#   Nr=     -0.1259         Cnr=   -0.014893\n"
   ]
  },
  {
   "cell_type": "code",
   "execution_count": null,
   "metadata": {},
   "outputs": [],
   "source": [
    "from ICARUS.Flight_Dynamics.Stability.state import State\n",
    "\n",
    "a = State(dyn, 'Trim', dyn.trim)\n",
    "a.plotEig()\n"
   ]
  },
  {
   "cell_type": "code",
   "execution_count": null,
   "metadata": {},
   "outputs": [],
   "source": []
  }
 ],
 "metadata": {
  "kernelspec": {
   "display_name": "aero",
   "language": "python",
   "name": "python3"
  },
  "language_info": {
   "codemirror_mode": {
    "name": "ipython",
    "version": 3
   },
   "file_extension": ".py",
   "mimetype": "text/x-python",
   "name": "python",
   "nbconvert_exporter": "python",
   "pygments_lexer": "ipython3",
   "version": "3.10.10"
  }
 },
 "nbformat": 4,
 "nbformat_minor": 2
}
