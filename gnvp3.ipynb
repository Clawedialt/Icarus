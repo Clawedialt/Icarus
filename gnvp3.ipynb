{
 "cells": [
  {
   "cell_type": "code",
   "execution_count": 28,
   "metadata": {},
   "outputs": [
    {
     "name": "stdout",
     "output_type": "stream",
     "text": [
      "The autoreload extension is already loaded. To reload it, use:\n",
      "  %reload_ext autoreload\n"
     ]
    }
   ],
   "source": [
    "%load_ext autoreload\n",
    "%autoreload 2\n",
    "# %matplotlib inline"
   ]
  },
  {
   "cell_type": "code",
   "execution_count": 29,
   "metadata": {},
   "outputs": [],
   "source": [
    "from ICARUS.Solver.definition import Solver\n",
    "from ICARUS.Software.GenuVP3.angles import runGNVPanglesParallel, runGNVPangles\n",
    "from ICARUS.Software.GenuVP3.pertrubations import runGNVPpertrParallel, runGNVPpertr\n",
    "from ICARUS.Software.GenuVP3.filesInterface import GNVPexe\n",
    "\n",
    "from ICARUS.Core.struct import Struct"
   ]
  },
  {
   "cell_type": "code",
   "execution_count": 30,
   "metadata": {},
   "outputs": [],
   "source": [
    "analysisDict = {\n",
    "    'reRun': GNVPexe,\n",
    "    'anglesSerial':runGNVPangles,\n",
    "    'anglesParallel':runGNVPanglesParallel,\n",
    "    'pertrubationSerial':runGNVPpertr,\n",
    "    'pertrubationParallel':runGNVPpertrParallel\n",
    "}\n",
    "optionsDict = Struct()"
   ]
  },
  {
   "cell_type": "code",
   "execution_count": 31,
   "metadata": {},
   "outputs": [],
   "source": [
    "optionsDict.reRun = Struct()\n",
    "optionsDict.reRun.CASEDIR = (\"CASEDIR\",None,\"Case Directory\")\n",
    "optionsDict.reRun.HOMEDIR = (\"HOMEDIR\",None,\"Home Directory\")"
   ]
  },
  {
   "cell_type": "code",
   "execution_count": 32,
   "metadata": {},
   "outputs": [],
   "source": [
    "optionsDict.anglesSerial = Struct()\n",
    "\n",
    "optionsDict.anglesSerial.plane =        (\"plane\",None,\"Plane Object\")\n",
    "optionsDict.anglesSerial.polars =       (\"polars\",None,\"2D Polars Name\")\n",
    "optionsDict.anglesSerial.solver2D =     (\"solver2D\",None,\"2D Solver\")\n",
    "optionsDict.anglesSerial.maxiter =      (\"maxiter\",None,\"Max Iterations\")\n",
    "optionsDict.anglesSerial.timestep =     (\"timestep\",None,\"Timestep\")\n",
    "optionsDict.anglesSerial.Uinf  =        (\"Uinf \",None,\"Velocity Magnitude\")\n",
    "optionsDict.anglesSerial.angles =       (\"angles\",None,\"Angle to run\")\n",
    "optionsDict.anglesSerial.dens =         (\"dens\",None,\"Air Density\")"
   ]
  },
  {
   "cell_type": "code",
   "execution_count": 33,
   "metadata": {},
   "outputs": [],
   "source": [
    "optionsDict.anglesParallel = optionsDict.anglesSerial.copy()\n",
    "optionsDict.pertrubationSerial = optionsDict.anglesSerial.copy()\n",
    "optionsDict.pertrubationParallel = optionsDict.anglesSerial.copy()"
   ]
  },
  {
   "cell_type": "code",
   "execution_count": 69,
   "metadata": {},
   "outputs": [
    {
     "name": "stdout",
     "output_type": "stream",
     "text": [
      "Available Analyses: \n",
      "------------------- \n",
      "reRun \n",
      "anglesSerial \n",
      "anglesParallel \n",
      "pertrubationSerial \n",
      "pertrubationParallel \n",
      "\n",
      "Available Options for reRun: \n",
      "\t---------\t \n",
      "VarName | DefaultValue\t| Description\n",
      "--------------------------------------\n",
      "CASEDIR\t| None \t\t| Case Directory \n",
      "HOMEDIR\t| None \t\t| Home Directory \n",
      "\n"
     ]
    }
   ],
   "source": [
    "gnvp3 = Solver(\"gnvp3\",3,analysisDict,optionsDict)\n",
    "analysis = gnvp3.getAvailableAnalyses()[0]\n",
    "\n",
    "options = gnvp3.getOptions(analysis)"
   ]
  },
  {
   "cell_type": "code",
   "execution_count": 70,
   "metadata": {},
   "outputs": [
    {
     "name": "stdout",
     "output_type": "stream",
     "text": [
      "{'CASEDIR': ('CASEDIR', None, 'Case Directory'), 'HOMEDIR': ('HOMEDIR', None, 'Home Directory')}\n"
     ]
    },
    {
     "data": {
      "text/plain": [
       "0"
      ]
     },
     "execution_count": 70,
     "metadata": {},
     "output_type": "execute_result"
    }
   ],
   "source": [
    "gnvp3.run(analysis, optionsDict[analysis])"
   ]
  },
  {
   "cell_type": "code",
   "execution_count": 36,
   "metadata": {},
   "outputs": [],
   "source": [
    "from ICARUS.Database.Database_3D import Database_3D, ang2case\n",
    "import os \n",
    "HOMEDIR = os.getcwd()\n",
    "db = Database_3D(HOMEDIR)\n",
    "plane = db.Planes[\"Hermes\"]\n",
    "CASEDIR = plane.CASEDIR + \"/\" + ang2case(0) + \"/\"\n"
   ]
  },
  {
   "cell_type": "code",
   "execution_count": null,
   "metadata": {},
   "outputs": [],
   "source": []
  }
 ],
 "metadata": {
  "kernelspec": {
   "display_name": "aero",
   "language": "python",
   "name": "python3"
  },
  "language_info": {
   "codemirror_mode": {
    "name": "ipython",
    "version": 3
   },
   "file_extension": ".py",
   "mimetype": "text/x-python",
   "name": "python",
   "nbconvert_exporter": "python",
   "pygments_lexer": "ipython3",
   "version": "3.10.10"
  },
  "orig_nbformat": 4
 },
 "nbformat": 4,
 "nbformat_minor": 2
}
