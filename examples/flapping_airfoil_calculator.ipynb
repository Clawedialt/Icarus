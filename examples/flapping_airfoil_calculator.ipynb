{
 "cells": [
  {
   "cell_type": "code",
   "execution_count": 12,
   "metadata": {},
   "outputs": [
    {
     "name": "stdout",
     "output_type": "stream",
     "text": [
      "The autoreload extension is already loaded. To reload it, use:\n",
      "  %reload_ext autoreload\n"
     ]
    }
   ],
   "source": [
    "%load_ext autoreload\n",
    "%autoreload 2\n",
    "%matplotlib qt"
   ]
  },
  {
   "cell_type": "code",
   "execution_count": 13,
   "metadata": {},
   "outputs": [],
   "source": [
    "from time import sleep\n",
    "\n",
    "from ICARUS.Database.Database_2D import Database_2D\n",
    "from ICARUS.Database import XFLRDB"
   ]
  },
  {
   "cell_type": "code",
   "execution_count": 14,
   "metadata": {},
   "outputs": [
    {
     "name": "stdout",
     "output_type": "stream",
     "text": [
      "Airfoils that are computed are:\n",
      "0: NACA0008\n",
      "1: NACA0012\n",
      "2: NACA0015\n",
      "3: NACA2412\n",
      "4: NACA4413\n",
      "5: NACA4415\n",
      "6: NACA4419\n",
      "7: NACA4438\n",
      "8: NACA64418_flap_35o_0.75h_1.3c\n",
      "9: NACA64418\n"
     ]
    }
   ],
   "source": [
    "db = Database_2D()\n",
    "db.load_data()\n",
    "\n",
    "from ICARUS.Software.XFLR5.polars import read_polars_2d\n",
    "read_polars_2d(db, XFLRDB)\n",
    "\n",
    "airfoils = db.data\n",
    "\n",
    "print(f\"Airfoils that are computed are:\")\n",
    "for i , key in enumerate(list(airfoils.keys())):\n",
    "    print(f\"{i}: {key}\")\n",
    "sleep(1)\n",
    "# index = int(input(\"Select an Airfoil: \"))\n",
    "index = 8\n",
    "airfoil = list(airfoils.keys())[index]"
   ]
  },
  {
   "cell_type": "code",
   "execution_count": 15,
   "metadata": {},
   "outputs": [],
   "source": [
    "from ICARUS.Core.Units import calc_reynolds\n",
    "import numpy as np\n",
    "from numpy import ndarray, floating, dtype\n",
    "from typing import Any\n",
    "# PARAMETERS FOR ESTIMATION\n",
    "chord_max: float = 5.6\n",
    "chord_min: float = 2.3\n",
    "u_max: float = 140\n",
    "u_min: float = 100\n",
    "viscosity: float = 1.56e-5\n",
    "\n",
    "# MACH ESTIMATION\n",
    "mach_max: float = 0.01\n",
    "# mach_min: float = calc_mach(10, speed_of_sound)\n",
    "# mach: ndarray[Any, dtype[floating[Any]]] = np.linspace(mach_max, mach_min, 10)\n",
    "MACH: float = mach_max\n",
    "\n",
    "# REYNOLDS ESTIMATION\n",
    "reynolds_max: float = calc_reynolds(u_max, chord_max, viscosity)\n",
    "reynolds_min: float = calc_reynolds(u_min, chord_min, viscosity)\n",
    "reynolds: ndarray[Any, dtype[floating[Any]]] = np.logspace(\n",
    "    start=np.log10(reynolds_min),\n",
    "    stop=np.log10(reynolds_max),\n",
    "    num=5,\n",
    "    base=10,\n",
    ")\n",
    "\n",
    "# ANGLE OF ATTACK SETUP\n",
    "aoa_min: float = -6\n",
    "aoa_max: float = 6\n",
    "num_of_angles: int = int((aoa_max - aoa_min) * 2 + 1)\n",
    "angles: ndarray[Any, dtype[floating[Any]]] = np.linspace(\n",
    "    start=aoa_min,\n",
    "    stop=aoa_max,\n",
    "    num=num_of_angles,\n",
    ")\n",
    "\n",
    "# Transition to turbulent Boundary Layer\n",
    "ftrip_up: dict[str, float] = {\"pos\": 0.2, \"neg\": 0.1}\n",
    "ftrip_low: dict[str, float] = {\"pos\": 0.1, \"neg\": 0.2}\n",
    "Ncrit = 9"
   ]
  },
  {
   "cell_type": "code",
   "execution_count": 20,
   "metadata": {},
   "outputs": [],
   "source": [
    "from ICARUS.Airfoils.airfoilD import AirfoilD\n",
    "\n",
    "\n",
    "naca64418: AirfoilD = db.set_available_airfoils()[\"NACA64418\"]\n",
    "naca64418.flap_airfoil(0.7, 1.3, 35)\n",
    "# plt.title(\"NACA64418 Flapped\")"
   ]
  },
  {
   "cell_type": "code",
   "execution_count": 21,
   "metadata": {},
   "outputs": [
    {
     "name": "stdout",
     "output_type": "stream",
     "text": [
      "Saving airfoil to /home/tryfonas/data/Uni/Software/hermes/Data/XFLR5/64418_flap_35o_0.7h_1.3c.dat\n"
     ]
    }
   ],
   "source": [
    "naca64418.save_le(XFLRDB)"
   ]
  },
  {
   "cell_type": "code",
   "execution_count": 9,
   "metadata": {},
   "outputs": [],
   "source": [
    "from ICARUS.Software.Xfoil.analyses.angles import single_reynolds_run, single_reynolds_run_seq\n",
    "\n",
    "a = single_reynolds_run_seq(\n",
    "    Reyn = reynolds[-1],\n",
    "    MACH = MACH,\n",
    "    angles=angles,\n",
    "    airfoil = naca64418,\n",
    "    solver_options= {\n",
    "    \"Ncrit\" : Ncrit,\n",
    "    \"ftrip_low\" : ftrip_low,\n",
    "    \"ftrip_up\" : ftrip_up,\n",
    "    \"print\": False\n",
    "    }\n",
    ")\n",
    "# numpy remove nan\n",
    "a = a[~np.isnan(a).any(axis=1)]"
   ]
  },
  {
   "cell_type": "code",
   "execution_count": 11,
   "metadata": {},
   "outputs": [],
   "source": [
    "import matplotlib.pyplot as plt\n",
    "import scipy\n",
    "\n",
    "# Make 4 subplots for the 4 different plots\n",
    "fig, axs = plt.subplots(2, 2)\n",
    "\n",
    "# Plot the Cl vs AoA\n",
    "axs[0, 0].plot(a[:, 0], a[:, 1])\n",
    "# # Make a linear interpolation to extend the curve of the Cl vs AoA to 5 degrees dotted\n",
    "# # fit a curve to the data points using a 3rd order polynomial\n",
    "# z = np.polyfit(a[:, 0], a[:, 1], 3)\n",
    "# # construct the polynomial\n",
    "# p = np.poly1d(z)\n",
    "# # construct the x values for the linear interpolation\n",
    "# x = np.linspace(a[:, -1][0], 5, 100)\n",
    "# # construct the y values for the linear interpolation\n",
    "# y = p(x)\n",
    "# # plot the linear interpolation\n",
    "# axs[0, 0].plot(x, y, linestyle=\"--\", color=\"black\")\n",
    "\n",
    "axs[0, 0].set_title(\"Cl vs AoA\")\n",
    "axs[0, 0].set_xlabel(\"AoA [deg]\")\n",
    "axs[0, 0].set_ylabel(\"Cl [-]\")\n",
    "axs[0, 0].grid()\n",
    "\n",
    "# Plot the Cd vs AoA\n",
    "axs[0, 1].plot(a[:, 0], a[:, 2])\n",
    "axs[0, 1].set_title(\"Cd vs AoA\")\n",
    "axs[0, 1].set_xlabel(\"AoA [deg]\")\n",
    "axs[0, 1].set_ylabel(\"Cd [-]\")\n",
    "axs[0, 1].grid()\n",
    "\n",
    "# Plot the Cm vs AoA\n",
    "axs[1, 0].plot(a[:, 0], a[:, 3])\n",
    "axs[1, 0].set_title(\"Cm vs AoA\")\n",
    "axs[1, 0].set_xlabel(\"AoA [deg]\")\n",
    "axs[1, 0].set_ylabel(\"Cm [-]\")\n",
    "axs[1, 0].grid()\n",
    "\n",
    "# Plot the Cl/Cd vs AoA\n",
    "axs[1, 1].plot(a[:, 0], a[:, 1]/ a[:, 2])\n",
    "axs[1, 1].set_title(\"Cl/Cd vs AoA\")\n",
    "axs[1, 1].set_xlabel(\"AoA [deg]\")\n",
    "axs[1, 1].set_ylabel(\"Cl/Cd [-]\")\n",
    "axs[1, 1].grid()\n",
    "\n",
    "# Make the plots look nice\n",
    "fig.tight_layout()\n",
    "\n",
    "# Show the plots\n",
    "plt.show()\n"
   ]
  },
  {
   "cell_type": "code",
   "execution_count": null,
   "metadata": {},
   "outputs": [],
   "source": []
  }
 ],
 "metadata": {
  "kernelspec": {
   "display_name": "aero",
   "language": "python",
   "name": "python3"
  },
  "language_info": {
   "codemirror_mode": {
    "name": "ipython",
    "version": 3
   },
   "file_extension": ".py",
   "mimetype": "text/x-python",
   "name": "python",
   "nbconvert_exporter": "python",
   "pygments_lexer": "ipython3",
   "version": "3.11.4"
  },
  "orig_nbformat": 4
 },
 "nbformat": 4,
 "nbformat_minor": 2
}
