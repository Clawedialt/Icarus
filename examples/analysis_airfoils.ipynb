{
 "cells": [
  {
   "cell_type": "code",
   "execution_count": null,
   "metadata": {},
   "outputs": [],
   "source": [
    "%load_ext autoreload\n",
    "%autoreload 2\n",
    "# %matplotlib inline"
   ]
  },
  {
   "cell_type": "code",
   "execution_count": null,
   "metadata": {},
   "outputs": [],
   "source": [
    "import numpy as np\n",
    "\n",
    "\n",
    "from ICARUS.Core.Units import calc_mach, calc_reynolds\n",
    "from ICARUS.Database.db import DB\n",
    "from ICARUS.Airfoils.airfoilD import AirfoilD\n",
    "from ICARUS.Workers.solver import Solver\n",
    "from ICARUS.Software.OpenFoam.filesOpenFoam import MeshType"
   ]
  },
  {
   "attachments": {},
   "cell_type": "markdown",
   "metadata": {},
   "source": [
    "# Reynolds And Mach and AoA"
   ]
  },
  {
   "cell_type": "code",
   "execution_count": null,
   "metadata": {},
   "outputs": [],
   "source": [
    "db= DB()"
   ]
  },
  {
   "cell_type": "code",
   "execution_count": null,
   "metadata": {},
   "outputs": [],
   "source": [
    "# Assumptions\n",
    "chord_max: float = 0.18\n",
    "chord_min: float = 0.11\n",
    "u_max: float = 30.0\n",
    "u_min: float = 5.0\n",
    "viscosity: float = 1.56e-5\n",
    "speed_of_sound: float = 340.3\n",
    "\n",
    "# MACH ESTIMATION\n",
    "mach_min: float = calc_mach(10, speed_of_sound)\n",
    "mach_max: float = calc_mach(30, speed_of_sound)\n",
    "mach = np.linspace(mach_max, mach_min, 10)\n",
    "MACH: float = mach_max\n",
    "\n",
    "# REYNOLDS ESTIMATION\n",
    "reynolds_max: float = calc_reynolds(u_max, chord_max, viscosity)\n",
    "reynolds_min: float = calc_reynolds(u_min, chord_min, viscosity)\n",
    "reynolds = np.logspace(\n",
    "    start=np.log10(reynolds_min),\n",
    "    stop=np.log10(reynolds_max),\n",
    "    num=2,\n",
    "    base=10,\n",
    ")\n",
    "REYN = reynolds_max\n",
    "\n",
    "# ANGLE OF ATTACK SETUP\n",
    "aoa_max: float = 2\n",
    "aoa_min: float = -2\n",
    "num_of_angles: float = (aoa_max - aoa_min) * 2 + 1\n",
    "angles = np.linspace(\n",
    "    start=aoa_min,\n",
    "    stop=aoa_max,\n",
    "    num=num_of_angles,\n",
    ")\n",
    "airfoil_name: str = \"2418\"\n",
    "airfoil: AirfoilD = AirfoilD.naca(naca=airfoil_name, n_points=200)\n",
    "\n",
    "ftrip_low: dict[str, float] = {\"pos\": 0.1, \"neg\": 0.2}\n",
    "ftrip_up: dict[str, float] = {\"pos\": 0.2, \"neg\": 0.1}"
   ]
  },
  {
   "cell_type": "code",
   "execution_count": null,
   "metadata": {},
   "outputs": [],
   "source": [
    "print(f\"Nominal: Mach {MACH}\\tReynolds {REYN}\")\n"
   ]
  },
  {
   "cell_type": "code",
   "execution_count": null,
   "metadata": {},
   "outputs": [],
   "source": [
    "cleaning = False\n",
    "calcF2W = False\n",
    "calcOpenFoam = True\n",
    "calcXFoil = False"
   ]
  },
  {
   "attachments": {},
   "cell_type": "markdown",
   "metadata": {},
   "source": [
    "# Get Airfoil"
   ]
  },
  {
   "cell_type": "code",
   "execution_count": null,
   "metadata": {},
   "outputs": [],
   "source": [
    "airf: AirfoilD = AirfoilD.naca('0012',n_points=200)\n",
    "airf.plot()"
   ]
  },
  {
   "attachments": {},
   "cell_type": "markdown",
   "metadata": {},
   "source": [
    "# Foil2Wake"
   ]
  },
  {
   "cell_type": "code",
   "execution_count": null,
   "metadata": {},
   "outputs": [],
   "source": [
    "# if cleaning :\n",
    "    # airf.clean_results(f2w.remove_results, [airf.REYNDIR, airf.HOMEDIR,angles])\n",
    "if calcF2W :\n",
    "    # Import Solver\n",
    "    from ICARUS.Software.F2Wsection.f2w_section import get_f2w_section\n",
    "    f2w_s = get_f2w_section(db)\n",
    "\n",
    "    # Import Analysis\n",
    "    analysis: str = f2w_s.available_analyses_names()[0]  # Run\n",
    "    f2w_s.set_analyses(analysis)\n",
    "\n",
    "    # Get Options\n",
    "    options = f2w_s.get_analysis_options(verbose=True)\n",
    "    solver_parameters = f2w_s.get_solver_parameters()\n",
    "\n",
    "    # Set Options\n",
    "    options.db.value = db\n",
    "    options.airfoil.value = airfoil\n",
    "    options.reynolds.value = reynolds\n",
    "    options.mach.value = MACH\n",
    "    options.f_trip_low.value = ftrip_low\n",
    "    options.f_trip_upper.value = ftrip_up\n",
    "    options.all_angles.value = angles\n",
    "    f2w_s.print_analysis_options()\n",
    "\n",
    "    # RUN\n",
    "    f2w_s.run()\n",
    "\n",
    "    # Get Results\n",
    "    polars = f2w_s.get_results()\n"
   ]
  },
  {
   "attachments": {},
   "cell_type": "markdown",
   "metadata": {},
   "source": [
    "# Xfoil"
   ]
  },
  {
   "cell_type": "code",
   "execution_count": null,
   "metadata": {},
   "outputs": [],
   "source": [
    "if calcXFoil:\n",
    "    airfoils = [airf.name]#[\"0008\"]\n",
    "    from ICARUS.Software.Xfoil.xfoil import get_xfoil\n",
    "\n",
    "    for airfoil in airfoils:\n",
    "        print(f\"\\nRunning airfoil {airfoil}\\n\")\n",
    "        # # Get Airfoil\n",
    "        airf: AirfoilD = AirfoilD.naca(airfoil, n_points=200)\n",
    "        # airf.plotAirfoil()\n",
    "        xfoil: Solver = get_xfoil(db)\n",
    "\n",
    "        # Import Analysis\n",
    "        analysis: str = xfoil.available_analyses_names()[0]  # Run\n",
    "        xfoil.set_analyses(analysis)\n",
    "\n",
    "        # Get Options\n",
    "        options = xfoil.get_analysis_options(verbose=True)\n",
    "        solver_parameters = xfoil.get_solver_parameters()\n",
    "\n",
    "        # Set Options\n",
    "        options.db.value = db\n",
    "        options.airfoil.value = airf\n",
    "        options.reynolds.value = reynolds\n",
    "        options.mach.value = MACH\n",
    "        options.min_aoa.value = -5\n",
    "        options.max_aoa.value = 5\n",
    "        options.aoa_step.value = 1\n",
    "        xfoil.print_analysis_options()\n",
    "\n",
    "        # Set Solver Options\n",
    "        solver_parameters.max_iter.value = 400\n",
    "        solver_parameters.Ncrit.value = 1e-3\n",
    "        solver_parameters.xtr.value = (0.1, 0.1)\n",
    "        solver_parameters.print.value = False\n",
    "        # xfoil.print_solver_options()\n",
    "        \n",
    "        # RUN\n",
    "        xfoil.run()\n"
   ]
  },
  {
   "attachments": {},
   "cell_type": "markdown",
   "metadata": {},
   "source": [
    "# OpenFoam"
   ]
  },
  {
   "cell_type": "code",
   "execution_count": null,
   "metadata": {},
   "outputs": [],
   "source": [
    "if calcOpenFoam:\n",
    "    airfoils: list[str] = [airf.name]#[\"0008\"]\n",
    "    from ICARUS.Software.OpenFoam.open_foam import get_open_foam\n",
    "\n",
    "    for airfoil in airfoils:\n",
    "        print(f\"\\nRunning airfoil {airfoil}\\n\")\n",
    "        # # Get Airfoil\n",
    "        airf: AirfoilD = AirfoilD.naca(airfoil, n_points=200)\n",
    "        # airf.plotAirfoil()\n",
    "        open_foam: Solver = get_open_foam(db)\n",
    "\n",
    "        # Import Analysis\n",
    "        analysis: str = open_foam.available_analyses_names()[0]  # Run\n",
    "        open_foam.set_analyses(analysis)\n",
    "\n",
    "        # Get Options\n",
    "        options = open_foam.get_analysis_options(verbose=True)\n",
    "        solver_parameters = open_foam.get_solver_parameters()\n",
    "\n",
    "        # Set Options\n",
    "        options.db.value = db\n",
    "        options.airfoil.value = airf\n",
    "        options.angles.value = angles\n",
    "        options.reynolds.value = REYN\n",
    "        options.mach.value = MACH\n",
    "        open_foam.print_analysis_options()\n",
    "\n",
    "        # Set Solver Options\n",
    "        solver_parameters.mesh_type.value = MeshType.structAirfoilMesher\n",
    "        solver_parameters.max_iterations.value = 20\n",
    "        solver_parameters.silent.value = False\n",
    "        # xfoil.print_solver_options()\n",
    "        \n",
    "        # RUN\n",
    "        open_foam.run()"
   ]
  },
  {
   "cell_type": "code",
   "execution_count": null,
   "metadata": {},
   "outputs": [],
   "source": []
  }
 ],
 "metadata": {
  "kernelspec": {
   "display_name": "aero",
   "language": "python",
   "name": "python3"
  },
  "language_info": {
   "codemirror_mode": {
    "name": "ipython",
    "version": 3
   },
   "file_extension": ".py",
   "mimetype": "text/x-python",
   "name": "python",
   "nbconvert_exporter": "python",
   "pygments_lexer": "ipython3",
   "version": "3.11.4"
  },
  "vscode": {
   "interpreter": {
    "hash": "8acd08952dc410be23279ea6eab1a080d514a48a01ad47827aa392f9fbd61ae4"
   }
  }
 },
 "nbformat": 4,
 "nbformat_minor": 2
}
