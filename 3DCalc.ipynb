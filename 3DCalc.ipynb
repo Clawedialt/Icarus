{
 "cells": [
  {
   "cell_type": "code",
   "execution_count": null,
   "metadata": {},
   "outputs": [],
   "source": [
    "%load_ext autoreload\n",
    "%autoreload 2\n"
   ]
  },
  {
   "cell_type": "code",
   "execution_count": null,
   "metadata": {},
   "outputs": [],
   "source": [
    "import numpy as np\n",
    "import os\n",
    "\n",
    "from Software.GenuVP import runGNVP as gnvp\n",
    "\n",
    "from PlaneDefinition.plane import Airplane as Plane\n",
    "from PlaneDefinition.wing import Wing as wg\n",
    "import PlaneDefinition.wing as wing\n",
    "\n",
    "from Flight_Dynamics.disturbances import disturbance as disturb\n",
    "\n",
    "from Database.getresults import Database_2D\n",
    "from Database import DB3D , BASEGNVP"
   ]
  },
  {
   "cell_type": "code",
   "execution_count": null,
   "metadata": {},
   "outputs": [],
   "source": [
    "HOMEDIR = os.getcwd()"
   ]
  },
  {
   "attachments": {},
   "cell_type": "markdown",
   "metadata": {},
   "source": [
    "# Airfoil Data"
   ]
  },
  {
   "cell_type": "code",
   "execution_count": null,
   "metadata": {},
   "outputs": [],
   "source": [
    "db = Database_2D(HOMEDIR)\n",
    "airfoils = db.getAirfoils()\n",
    "polars2D = db.Data"
   ]
  },
  {
   "attachments": {},
   "cell_type": "markdown",
   "metadata": {},
   "source": [
    "# Get Plane"
   ]
  },
  {
   "cell_type": "code",
   "execution_count": null,
   "metadata": {},
   "outputs": [],
   "source": [
    "Origin = np.array([0., 0., 0.])"
   ]
  },
  {
   "cell_type": "code",
   "execution_count": null,
   "metadata": {},
   "outputs": [],
   "source": [
    "wingPos = np.array([0.0,0.0,0.0])\n",
    "wingOrientation = np.array([0.0,0.0,0.0])\n",
    "\n",
    "mainWing = wg(name=\"wing\",\n",
    "              airfoil=airfoils['NACA4415'],\n",
    "              Origin=Origin + wingPos,\n",
    "              Orientation=wingOrientation,           \n",
    "              isSymmetric=True,\n",
    "              span=2 * 1.130,\n",
    "              sweepOffset=0,\n",
    "              dihAngle=0,\n",
    "              chordFun=wing.linearChord,\n",
    "              chord=[0.159, 0.072],\n",
    "              spanFun=wing.linSpan,\n",
    "              N = 20,\n",
    "              M = 13,\n",
    "              mass = 0.670)\n",
    "# mainWing.plotWing()"
   ]
  },
  {
   "cell_type": "code",
   "execution_count": null,
   "metadata": {},
   "outputs": [],
   "source": [
    "elevatorPos = np.array([0.54,0.,0.])\n",
    "elevatorOrientantion = np.array([0.,0.,0.])\n",
    "\n",
    "elevator = wg(name = \"tail\",\n",
    "              airfoil=airfoils['NACA0008'],\n",
    "              Origin=Origin+ elevatorPos,\n",
    "              Orientation=elevatorOrientantion,\n",
    "              isSymmetric=True,\n",
    "              span= 2 * 0.169,\n",
    "              sweepOffset=0,\n",
    "              dihAngle=0,\n",
    "              chordFun=wing.linearChord,\n",
    "              chord=[0.130, 0.03],\n",
    "              spanFun=wing.linSpan,\n",
    "              N = 15,\n",
    "              M = 8,\n",
    "              mass = 0.06)\n",
    "# elevator.plotWing()"
   ]
  },
  {
   "cell_type": "code",
   "execution_count": null,
   "metadata": {},
   "outputs": [],
   "source": [
    "rudderPos = np.array([0.54, 0., 0.01])\n",
    "rudderOrientantion = np.array([0.0,0.0,90.0])\n",
    "\n",
    "rudder = wg(name= \"rudder\",\n",
    "            airfoil=airfoils['NACA0008'],\n",
    "            Origin=Origin + rudderPos,\n",
    "            Orientation= rudderOrientantion,\n",
    "            isSymmetric=False,\n",
    "            span= 0.165,\n",
    "            sweepOffset=0.1,\n",
    "            dihAngle=0,\n",
    "            chordFun=wing.linearChord,\n",
    "            chord=[0.2, 0.1],\n",
    "            spanFun=wing.linSpan,\n",
    "            N = 15,\n",
    "            M = 8,\n",
    "            mass = 0.04)\n",
    "# rudder.plotWing()"
   ]
  },
  {
   "cell_type": "code",
   "execution_count": null,
   "metadata": {},
   "outputs": [],
   "source": [
    "liftingSurfaces = [mainWing, elevator, rudder]\n",
    "ap = Plane(\"Plane\", liftingSurfaces)\n",
    "ap.accessDB(HOMEDIR, DB3D)\n",
    "# ap.visAirplane()\n"
   ]
  },
  {
   "cell_type": "code",
   "execution_count": null,
   "metadata": {},
   "outputs": [],
   "source": [
    "cleaning = False\n",
    "calcGenu = True\n",
    "calcBatchGenu = True\n",
    "petrubationAnalysis = True"
   ]
  },
  {
   "attachments": {},
   "cell_type": "markdown",
   "metadata": {},
   "source": [
    "## AoA Run"
   ]
  },
  {
   "cell_type": "code",
   "execution_count": null,
   "metadata": {},
   "outputs": [],
   "source": [
    "AoAmax = 10\n",
    "AoAmin = -6\n",
    "NoAoA = (AoAmax - AoAmin) + 1\n",
    "angles = np.linspace(AoAmin, AoAmax, NoAoA)\n",
    "\n",
    "Uinf = 20"
   ]
  },
  {
   "cell_type": "code",
   "execution_count": null,
   "metadata": {},
   "outputs": [],
   "source": [
    "if calcBatchGenu == True:\n",
    "    genuBatchArgs = [ap, BASEGNVP, polars2D,\"Xfoil\",Uinf, angles]\n",
    "    # ap.runSolver(gnvp.runGNVPangles,genuBatchArgs)\n",
    "genuPolarArgs = [ap.CASEDIR, HOMEDIR]\n",
    "ap.makePolars(gnvp.makePolar,genuPolarArgs)\n",
    "ap.defineSim(Uinf, 1.225)\n",
    "ap.save()\n"
   ]
  },
  {
   "attachments": {},
   "cell_type": "markdown",
   "metadata": {},
   "source": [
    "# Dynamics"
   ]
  },
  {
   "cell_type": "code",
   "execution_count": null,
   "metadata": {},
   "outputs": [],
   "source": [
    "from Flight_Dynamics.dyn_plane import dyn_plane as dp"
   ]
  },
  {
   "attachments": {},
   "cell_type": "markdown",
   "metadata": {},
   "source": [
    "### Define and Trim Plane"
   ]
  },
  {
   "cell_type": "code",
   "execution_count": null,
   "metadata": {},
   "outputs": [],
   "source": [
    "ap.M = 3 ## HAS TO BE DEFINED SINCE I HAVE NOT ADDED MASSED\n",
    "dyn = dp(ap,polars2D)"
   ]
  },
  {
   "attachments": {},
   "cell_type": "markdown",
   "metadata": {},
   "source": [
    "### Pertrubations"
   ]
  },
  {
   "cell_type": "code",
   "execution_count": null,
   "metadata": {},
   "outputs": [],
   "source": [
    "dyn.allPerturb(5e-2, \"Central\")\n",
    "# dyn.get_pertrub()"
   ]
  },
  {
   "cell_type": "code",
   "execution_count": null,
   "metadata": {},
   "outputs": [],
   "source": [
    "if petrubationAnalysis == True:\n",
    "    genuBatchArgs = [dyn, BASEGNVP, polars2D,\"Xfoil\",dyn.trim['U'], dyn.trim['AoA']]\n",
    "    dyn.accessDB(HOMEDIR)\n",
    "    # dyn.runAnalysis(gnvp.runGNVPpertr,genuBatchArgs)\n",
    "genuLogArgs = [dyn.DynDir, HOMEDIR]\n",
    "dyn.logResults(gnvp.logResults,genuLogArgs)\n",
    "dyn.save()"
   ]
  },
  {
   "cell_type": "code",
   "execution_count": null,
   "metadata": {},
   "outputs": [],
   "source": [
    "dyn.scheme = \"Central\"\n",
    "dyn.longitudalStability()\n",
    "dyn.lateralStability()\n"
   ]
  },
  {
   "cell_type": "code",
   "execution_count": null,
   "metadata": {},
   "outputs": [],
   "source": [
    "dyn.Along\n",
    "# [xu, xw, xq, xth]\n",
    "# [zu, zw, zq, zth]\n",
    "# [mu, mw, mq, mth]\n",
    "# [0,  1 , 0 ,  0 ]\n",
    "\n",
    "# dyn.AstarLong"
   ]
  },
  {
   "cell_type": "code",
   "execution_count": null,
   "metadata": {},
   "outputs": [],
   "source": [
    "dyn.Alat\n",
    "# [yv, yp , yr, yphi]\n",
    "# [lv, lp , lr, lphi]\n",
    "# [nv, n_p, nr, nph ]\n",
    "# [0 , 1  , 0 , 0   ]\n",
    "\n",
    "# dyn.AstarLat"
   ]
  }
 ],
 "metadata": {
  "kernelspec": {
   "display_name": "aero",
   "language": "python",
   "name": "python3"
  },
  "language_info": {
   "codemirror_mode": {
    "name": "ipython",
    "version": 3
   },
   "file_extension": ".py",
   "mimetype": "text/x-python",
   "name": "python",
   "nbconvert_exporter": "python",
   "pygments_lexer": "ipython3",
   "version": "3.10.8"
  },
  "orig_nbformat": 4,
  "vscode": {
   "interpreter": {
    "hash": "8acd08952dc410be23279ea6eab1a080d514a48a01ad47827aa392f9fbd61ae4"
   }
  }
 },
 "nbformat": 4,
 "nbformat_minor": 2
}
