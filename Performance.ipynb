{
 "cells": [
  {
   "cell_type": "code",
   "execution_count": null,
   "metadata": {},
   "outputs": [],
   "source": [
    "%load_ext autoreload\n",
    "%autoreload 2\n",
    "# %matplotlib inline"
   ]
  },
  {
   "cell_type": "code",
   "execution_count": null,
   "metadata": {},
   "outputs": [],
   "source": [
    "from ICARUS.Database.Database_3D import Database_3D\n",
    "from ICARUS.Mission.analyis import MissionAnalysis\n",
    "from ICARUS.Mission.segment import MissionSegment\n",
    "from ICARUS.Mission.performence import Fitness\n",
    "from ICARUS.Mission.definition import Mission\n",
    "from ICARUS.Solver.definition import Solver\n",
    "from ICARUS.Enviroment.definition import Environment\n",
    "from ICARUS.Mission.path import Path"
   ]
  },
  {
   "cell_type": "code",
   "execution_count": null,
   "metadata": {},
   "outputs": [],
   "source": [
    "import os\n",
    "HOMEDIR = os.getcwd()"
   ]
  },
  {
   "attachments": {},
   "cell_type": "markdown",
   "metadata": {},
   "source": [
    "# Define Mission Segments"
   ]
  },
  {
   "cell_type": "code",
   "execution_count": null,
   "metadata": {},
   "outputs": [],
   "source": [
    "segments = []"
   ]
  },
  {
   "attachments": {},
   "cell_type": "markdown",
   "metadata": {},
   "source": [
    "## Takeoff"
   ]
  },
  {
   "cell_type": "code",
   "execution_count": null,
   "metadata": {},
   "outputs": [],
   "source": [
    "path1 = Path()"
   ]
  },
  {
   "cell_type": "code",
   "execution_count": null,
   "metadata": {},
   "outputs": [],
   "source": [
    "segment = MissionSegment(\"Segment 1\",\"Takeoff\",path1)\n",
    "segment.setStartingPosition(0,0,0,0,0,0,0)\n",
    "segment.setEndingPosition(10,0,0,0,0,0,0)\n",
    "segment.setPathParameters([0,1],[0,10],[0,0],[0,0],[0,0],[0,0],[0,0],[0,0])\n",
    "segments.append(segment)"
   ]
  },
  {
   "attachments": {},
   "cell_type": "markdown",
   "metadata": {},
   "source": [
    "## Cruise"
   ]
  },
  {
   "cell_type": "code",
   "execution_count": null,
   "metadata": {},
   "outputs": [],
   "source": [
    "path2 = Path()"
   ]
  },
  {
   "cell_type": "code",
   "execution_count": null,
   "metadata": {},
   "outputs": [],
   "source": [
    "segment = MissionSegment(\"Segment 2\",\"Cruise\",path2)\n",
    "segment.setStartingPosition(10,0,0,0,0,0,0)\n",
    "segment.setEndingPosition(1000,0,0,0,0,0,0)\n",
    "segment.setPathParameters([0,1],[10,1000],[0,0],[0,0],[0,0],[0,0],[0,0],[0,0])\n",
    "segments.append(segment)"
   ]
  },
  {
   "attachments": {},
   "cell_type": "markdown",
   "metadata": {},
   "source": [
    "## Landing"
   ]
  },
  {
   "cell_type": "code",
   "execution_count": null,
   "metadata": {},
   "outputs": [],
   "source": [
    "path3 = Path()"
   ]
  },
  {
   "cell_type": "code",
   "execution_count": null,
   "metadata": {},
   "outputs": [],
   "source": [
    "segment = MissionSegment(\"Segment 3\",\"Landing\",path3)\n",
    "segment.setStartingPosition(1000,0,0,0,0,0,0)\n",
    "segment.setEndingPosition(1010,0,0,0,0,0,0)\n",
    "segment.setPathParameters([0,1],[1000,1010],[0,0],[0,0],[0,0],[0,0],[0,0],[0,0])\n",
    "segments.append(segment)"
   ]
  },
  {
   "attachments": {},
   "cell_type": "markdown",
   "metadata": {},
   "source": [
    "# Define Mission"
   ]
  },
  {
   "attachments": {},
   "cell_type": "markdown",
   "metadata": {},
   "source": [
    "## Define Fitness"
   ]
  },
  {
   "cell_type": "code",
   "execution_count": null,
   "metadata": {},
   "outputs": [],
   "source": [
    "fitness = Fitness(lambda x: 0)\n",
    "constrains = []\n",
    "mission = Mission(segments,fitness,constrains)"
   ]
  },
  {
   "cell_type": "code",
   "execution_count": null,
   "metadata": {},
   "outputs": [],
   "source": [
    "db = Database_3D(HOMEDIR)\n",
    "db.Planes.keys()\n",
    "vehicle = db.Planes[\"Hermes\"]"
   ]
  },
  {
   "cell_type": "code",
   "execution_count": null,
   "metadata": {},
   "outputs": [],
   "source": [
    "# Define the environment\n",
    "environment = Environment()"
   ]
  },
  {
   "cell_type": "code",
   "execution_count": null,
   "metadata": {},
   "outputs": [],
   "source": [
    "# Define the solver\n",
    "solver = Solver(\"GNVP3\")\n",
    "missionAnal = MissionAnalysis(mission,solver,vehicle)\n",
    "missionAnal.Analyze()"
   ]
  },
  {
   "cell_type": "code",
   "execution_count": null,
   "metadata": {},
   "outputs": [],
   "source": [
    "# Get the results\n",
    "results = missionAnal.getResults()\n",
    "# Plot the results\n",
    "missionAnal.plot()\n",
    "\n",
    "# Save the results\n",
    "missionAnal.save()\n",
    "\n",
    "# Get the fitness\n",
    "fitness = missionAnal.getFitness(fitness)\n",
    "print(fitness)"
   ]
  }
 ],
 "metadata": {
  "kernelspec": {
   "display_name": "aero",
   "language": "python",
   "name": "python3"
  },
  "language_info": {
   "codemirror_mode": {
    "name": "ipython",
    "version": 3
   },
   "file_extension": ".py",
   "mimetype": "text/x-python",
   "name": "python",
   "nbconvert_exporter": "python",
   "pygments_lexer": "ipython3",
   "version": "3.10.10"
  }
 },
 "nbformat": 4,
 "nbformat_minor": 2
}
