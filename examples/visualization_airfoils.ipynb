{
 "cells": [
  {
   "cell_type": "code",
   "execution_count": 1,
   "metadata": {},
   "outputs": [],
   "source": [
    "%load_ext autoreload\n",
    "%autoreload 2\n",
    "%matplotlib qt"
   ]
  },
  {
   "cell_type": "code",
   "execution_count": 2,
   "metadata": {},
   "outputs": [],
   "source": [
    "from time import sleep\n",
    "\n",
    "from ICARUS.Database.Database_2D import Database_2D\n",
    "from ICARUS.Database import XFLRDB"
   ]
  },
  {
   "attachments": {},
   "cell_type": "markdown",
   "metadata": {},
   "source": [
    "# Load Database"
   ]
  },
  {
   "cell_type": "code",
   "execution_count": 4,
   "metadata": {},
   "outputs": [
    {
     "name": "stdout",
     "output_type": "stream",
     "text": [
      "Airfoils that are computed are:\n",
      "0: NACA0008\n",
      "1: NACA0012\n",
      "2: NACA0015\n",
      "3: NACA2412\n",
      "4: NACA4413\n",
      "5: NACA4415\n",
      "6: NACA4419\n",
      "7: NACA4438\n",
      "8: NACA64418\n",
      "9: NACA64418_flapped\n"
     ]
    }
   ],
   "source": [
    "db = Database_2D()\n",
    "db.load_data()\n",
    "\n",
    "from ICARUS.Input_Output.XFLR5.polars import read_polars_2d\n",
    "read_polars_2d(db, XFLRDB)\n",
    "\n",
    "airfoils = db.data\n",
    "\n",
    "print(f\"Airfoils that are computed are:\")\n",
    "for i , key in enumerate(list(airfoils.keys())):\n",
    "    print(f\"{i}: {key}\")\n",
    "sleep(1)\n",
    "# index = int(input(\"Select an Airfoil: \"))\n",
    "index = 9\n",
    "airfoil: str = list(airfoils.keys())[index]"
   ]
  },
  {
   "attachments": {},
   "cell_type": "markdown",
   "metadata": {},
   "source": [
    "# Airfoil Polars"
   ]
  },
  {
   "cell_type": "code",
   "execution_count": 5,
   "metadata": {},
   "outputs": [],
   "source": [
    "from ICARUS.Visualization.airfoil.db_polars import plot_airfoil_polars"
   ]
  },
  {
   "cell_type": "code",
   "execution_count": 19,
   "metadata": {},
   "outputs": [
    {
     "name": "stdout",
     "output_type": "stream",
     "text": [
      "NACA 64418_flapped polars are:\n"
     ]
    }
   ],
   "source": [
    "print(f\"NACA {airfoil[4:]} polars are:\")\n",
    "axs, fig = plot_airfoil_polars(\n",
    "    db.data,\n",
    "    airfoil,\n",
    "    [\"Xfoil\"],\n",
    "    plots = [[\"AoA\", \"CL\"], [\"AoA\", \"CD\"]],\n",
    "    size=(10,9),\n",
    "    title= \"NACA 64418 flapped polars\"\n",
    ")\n",
    "# axs[0].axvline(x=1.1, color='b', linestyle='-')\n",
    "# axs[0].axhline(y=1.52, color='b', linestyle='-')"
   ]
  },
  {
   "attachments": {},
   "cell_type": "markdown",
   "metadata": {},
   "source": [
    "# Select Reynolds number "
   ]
  },
  {
   "cell_type": "code",
   "execution_count": null,
   "metadata": {},
   "outputs": [],
   "source": [
    "reynolds = db.get_airfoil_reynolds(airfoil)\n",
    "if reynolds:\n",
    "    print(f\"For NACA {airfoil[4:]} these Reynolds were Computed:\")\n",
    "    print(*[f\"{i}:\\t{reyn}\\n\" for i,reyn in enumerate(reynolds)])\n",
    "    index = int(input(\"Select Reynolds: \"))\n",
    "    reyn_to_plot = reynolds[index]\n",
    "else:\n",
    "    raise ValueError(f\"Reynolds for {airfoil} were not computed\")"
   ]
  },
  {
   "attachments": {},
   "cell_type": "markdown",
   "metadata": {},
   "source": [
    "# Plot Reynolds"
   ]
  },
  {
   "cell_type": "code",
   "execution_count": null,
   "metadata": {},
   "outputs": [],
   "source": [
    "from ICARUS.Visualization.airfoil.db_reynolds import plot_airfoil_reynolds"
   ]
  },
  {
   "cell_type": "code",
   "execution_count": null,
   "metadata": {},
   "outputs": [],
   "source": [
    "print(f\"For Reynolds= {reyn_to_plot} polars are:\")\n",
    "plot_airfoil_reynolds(db.data,airfoil,reyn_to_plot,['All'],size=(10,10))"
   ]
  },
  {
   "cell_type": "code",
   "execution_count": null,
   "metadata": {},
   "outputs": [],
   "source": [
    "af = db.set_available_airfoils()"
   ]
  },
  {
   "cell_type": "code",
   "execution_count": null,
   "metadata": {},
   "outputs": [],
   "source": [
    "af['NACA63418'].plot()"
   ]
  },
  {
   "cell_type": "code",
   "execution_count": null,
   "metadata": {},
   "outputs": [],
   "source": []
  }
 ],
 "metadata": {
  "kernelspec": {
   "display_name": "aero",
   "language": "python",
   "name": "python3"
  },
  "language_info": {
   "codemirror_mode": {
    "name": "ipython",
    "version": 3
   },
   "file_extension": ".py",
   "mimetype": "text/x-python",
   "name": "python",
   "nbconvert_exporter": "python",
   "pygments_lexer": "ipython3",
   "version": "3.11.4"
  },
  "vscode": {
   "interpreter": {
    "hash": "8acd08952dc410be23279ea6eab1a080d514a48a01ad47827aa392f9fbd61ae4"
   }
  }
 },
 "nbformat": 4,
 "nbformat_minor": 2
}
