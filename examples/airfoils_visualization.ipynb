{
    "cells": [
        {
            "cell_type": "code",
            "execution_count": 1,
            "metadata": {},
            "outputs": [],
            "source": [
                "%load_ext autoreload\n",
                "%autoreload 2\n",
                "%matplotlib qt"
            ]
        },
        {
            "cell_type": "code",
            "execution_count": 2,
            "metadata": {},
            "outputs": [],
            "source": [
                "from ICARUS.Database import DB\n",
                "from ICARUS.Database import EXTERNAL_DB\n",
                "DB.load_data()"
            ]
        },
        {
            "attachments": {},
            "cell_type": "markdown",
            "metadata": {},
            "source": [
                "# Load Database"
            ]
        },
        {
            "cell_type": "code",
            "execution_count": 3,
            "metadata": {},
            "outputs": [
                {
                    "name": "stdout",
                    "output_type": "stream",
                    "text": [
                        "We have a total of 745 airfoils\n"
                    ]
                }
            ],
            "source": [
                "db = DB.foils_db\n",
                "\n",
                "from ICARUS.Computation.Solvers.XFLR5.polars import read_polars_2d\n",
                "read_polars_2d(EXTERNAL_DB)\n",
                "\n",
                "airfoils = db.data\n",
                "\n",
                "# index = int(input(\"Select an airfoil: \"))\n",
                "index = 312\n",
                "airfoil_names: list[str] = list(airfoils.keys())\n",
                "print(f\"We have a total of {len(airfoil_names)} airfoils\")"
            ]
        },
        {
            "cell_type": "code",
            "execution_count": 4,
            "metadata": {},
            "outputs": [
                {
                    "name": "stdout",
                    "output_type": "stream",
                    "text": [
                        "We have a total of 107 NACA airfoils\n",
                        "We have a total of 9 Clark Y airfoils\n",
                        "We have a total of 138 S airfoils\n",
                        "We have a total of 34 A airfoils\n"
                    ]
                }
            ],
            "source": [
                "naca_airfoils = [airfoil_name for airfoil_name in airfoil_names if airfoil_name.startswith(\"NACA\")]\n",
                "print(f\"We have a total of {len(naca_airfoils)} NACA airfoils\")\n",
                "\n",
                "clarky_airfoils = [airfoil_name for airfoil_name in airfoil_names if airfoil_name.startswith(\"C\")]\n",
                "print(f\"We have a total of {len(clarky_airfoils)} Clark Y airfoils\")\n",
                "\n",
                "s_airfoils = [airfoil_name for airfoil_name in airfoil_names if airfoil_name.startswith(\"S\")]\n",
                "print(f\"We have a total of {len(s_airfoils)} S airfoils\")\n",
                "\n",
                "a_airfoils = [airfoil_name for airfoil_name in airfoil_names if airfoil_name.startswith(\"A\")]\n",
                "print(f\"We have a total of {len(a_airfoils)} A airfoils\")"
            ]
        },
        {
            "attachments": {},
            "cell_type": "markdown",
            "metadata": {},
            "source": [
                "# Airfoil Polars"
            ]
        },
        {
            "cell_type": "code",
            "execution_count": 5,
            "metadata": {},
            "outputs": [],
            "source": [
                "from ICARUS.Visualization.airfoil.db_polars import plot_airfoils_polars"
            ]
        },
        {
            "cell_type": "code",
            "execution_count": 6,
            "metadata": {},
            "outputs": [],
            "source": [
                "axs, fig = plot_airfoils_polars(\n",
                "    airfoil_names= s_airfoils,\n",
                "    solvers = [\"Xfoil\" ],\n",
                "    reynolds= 1e6,\n",
                "    plots = [[\"AoA\", \"CL\"], [\"AoA\", \"CD\"], [\"AoA\", \"Cm\"], [\"AoA\", \"CL/CD\"]],\n",
                "    size=(10,9),\n",
                ")\n",
                "# axs[0].axvline(x=1.1, color='b', linestyle='-')\n",
                "# axs[0].axhline(y=1.52, color='b', linestyle='-')"
            ]
        },
        {
            "cell_type": "code",
            "execution_count": 8,
            "metadata": {},
            "outputs": [],
            "source": [
                "from ICARUS.Airfoils.airfoil import Airfoil\n",
                "from ICARUS.Airfoils.airfoil_polars import Polars\n",
                "import matplotlib.pyplot as plt\n",
                "import numpy as np\n",
                "s_polars = [polar for k,polar in db.polars.items() if k.startswith(\"D\")]\n",
                "for p in s_polars[:10]:\n",
                "    try:\n",
                "        polar: Polars = p['Xfoil']\n",
                "        reyn_min = polar.reynolds_keys[0]\n",
                "        reyn_max = polar.reynolds_keys[-1]\n",
                "        # Create 2 subplots and unpack the output array immediately\n",
                "        fig, axs = plt.subplots(2, 2, figsize=(10, 9))\n",
                "\n",
                "        fig.suptitle(f\"{polar.name} Polars\")\n",
                "        polar.plot_reynolds_cl_curve(reyn_min, fig, axs[0,0])\n",
                "        polar.plot_reynolds_cl_curve(reyn_max, fig, axs[0,0])\n",
                "        polar.plot_reynolds_cd_curve(reyn_min, fig, axs[0,1])\n",
                "        polar.plot_reynolds_cd_curve(reyn_max, fig, axs[0,1])\n",
                "        polar.plot_reynolds_cl_over_cd_curve(reyn_min, fig, axs[1,0])\n",
                "        polar.plot_reynolds_cl_over_cd_curve(reyn_max, fig, axs[1,0])\n",
                "\n",
                "        # Plot the airfoil on the second subplot\n",
                "        airfoil: Airfoil = DB.foils_db.airfoils[polar.name]\n",
                "        airfoil.plot(ax = axs[1,1], camber=True, max_thickness=True)\n",
                "\n",
                "        # Add text for the slopes\n",
                "        axs[0,0].text(0.7, 0.2, f\"Cl slope at {float(reyn_min):.1e}: {polar.get_reynolds_cl_slope(reyn_min)* 180/np.pi:.3f} \", fontsize=12, transform=axs[0,0].transAxes)\n",
                "        axs[0,0].text(0.7, 0.1, f\"Cl slope at {float(reyn_max):.1e}: {polar.get_reynolds_cl_slope(reyn_max)* 180/np.pi:.3f} \", fontsize=12, transform=axs[0,0].transAxes)\n",
                "        fig.tight_layout()\n",
                "    except Exception as e:\n",
                "        print(e)\n",
                "        continue"
            ]
        },
        {
            "attachments": {},
            "cell_type": "markdown",
            "metadata": {},
            "source": [
                "# Select Reynolds number "
            ]
        },
        {
            "cell_type": "code",
            "execution_count": 9,
            "metadata": {},
            "outputs": [
                {
                    "data": {
                        "text/plain": [
                            "['1.001e06',\n",
                            " '1.122e06',\n",
                            " '1.531e05',\n",
                            " '1.756e05',\n",
                            " '2.742e05',\n",
                            " '3.205e04',\n",
                            " '3.953e05',\n",
                            " '4.109e05',\n",
                            " '5.164e05',\n",
                            " '6.375e05',\n",
                            " '7.501e04',\n",
                            " '7.585e05',\n",
                            " '8.796e05',\n",
                            " '9.615e05']"
                        ]
                    },
                    "execution_count": 9,
                    "metadata": {},
                    "output_type": "execute_result"
                }
            ],
            "source": [
                "reynolds = db.polars[airfoil_names[0]][\"Xfoil\"].reynolds_keys\n",
                "reynolds"
            ]
        },
        {
            "cell_type": "code",
            "execution_count": 10,
            "metadata": {},
            "outputs": [
                {
                    "name": "stdout",
                    "output_type": "stream",
                    "text": [
                        "For NACA  these Reynolds were Computed:\n",
                        "0:\t1.001e06\n",
                        " 1:\t1.122e06\n",
                        " 2:\t1.531e05\n",
                        " 3:\t1.756e05\n",
                        " 4:\t2.742e05\n",
                        " 5:\t3.205e04\n",
                        " 6:\t3.953e05\n",
                        " 7:\t4.109e05\n",
                        " 8:\t5.164e05\n",
                        " 9:\t6.375e05\n",
                        " 10:\t7.501e04\n",
                        " 11:\t7.585e05\n",
                        " 12:\t8.796e05\n",
                        " 13:\t9.615e05\n",
                        "\n"
                    ]
                },
                {
                    "ename": "ValueError",
                    "evalue": "invalid literal for int() with base 10: ''",
                    "output_type": "error",
                    "traceback": [
                        "\u001b[1;31m---------------------------------------------------------------------------\u001b[0m",
                        "\u001b[1;31mValueError\u001b[0m                                Traceback (most recent call last)",
                        "Cell \u001b[1;32mIn[10], line 6\u001b[0m\n\u001b[0;32m      4\u001b[0m     \u001b[38;5;28mprint\u001b[39m(\u001b[38;5;124mf\u001b[39m\u001b[38;5;124m\"\u001b[39m\u001b[38;5;124mFor NACA \u001b[39m\u001b[38;5;132;01m{\u001b[39;00mairfoil_names[\u001b[38;5;241m0\u001b[39m][\u001b[38;5;241m4\u001b[39m:]\u001b[38;5;132;01m}\u001b[39;00m\u001b[38;5;124m these Reynolds were Computed:\u001b[39m\u001b[38;5;124m\"\u001b[39m)\n\u001b[0;32m      5\u001b[0m     \u001b[38;5;28mprint\u001b[39m(\u001b[38;5;241m*\u001b[39m[\u001b[38;5;124mf\u001b[39m\u001b[38;5;124m\"\u001b[39m\u001b[38;5;132;01m{\u001b[39;00mi\u001b[38;5;132;01m}\u001b[39;00m\u001b[38;5;124m:\u001b[39m\u001b[38;5;130;01m\\t\u001b[39;00m\u001b[38;5;132;01m{\u001b[39;00mreyn\u001b[38;5;132;01m}\u001b[39;00m\u001b[38;5;130;01m\\n\u001b[39;00m\u001b[38;5;124m\"\u001b[39m \u001b[38;5;28;01mfor\u001b[39;00m i,reyn \u001b[38;5;129;01min\u001b[39;00m \u001b[38;5;28menumerate\u001b[39m(reynolds)])\n\u001b[1;32m----> 6\u001b[0m     index \u001b[38;5;241m=\u001b[39m \u001b[38;5;28;43mint\u001b[39;49m\u001b[43m(\u001b[49m\u001b[38;5;28;43minput\u001b[39;49m\u001b[43m(\u001b[49m\u001b[38;5;124;43m\"\u001b[39;49m\u001b[38;5;124;43mSelect Reynolds: \u001b[39;49m\u001b[38;5;124;43m\"\u001b[39;49m\u001b[43m)\u001b[49m\u001b[43m)\u001b[49m\n\u001b[0;32m      7\u001b[0m     reyn_to_plot \u001b[38;5;241m=\u001b[39m reynolds[index]\n\u001b[0;32m      8\u001b[0m \u001b[38;5;28;01melse\u001b[39;00m:\n",
                        "\u001b[1;31mValueError\u001b[0m: invalid literal for int() with base 10: ''"
                    ]
                }
            ],
            "source": [
                "reynolds = db.polars[airfoil_names[0]][\"Xfoil\"].reynolds_keys\n",
                "\n",
                "if reynolds is not None:\n",
                "    print(f\"For NACA {airfoil_names[0][4:]} these Reynolds were Computed:\")\n",
                "    print(*[f\"{i}:\\t{reyn}\\n\" for i,reyn in enumerate(reynolds)])\n",
                "    index = int(input(\"Select Reynolds: \"))\n",
                "    reyn_to_plot = reynolds[index]\n",
                "else:\n",
                "    raise ValueError(f\"Reynolds for {airfoil_names[0]} were not computed\")"
            ]
        },
        {
            "attachments": {},
            "cell_type": "markdown",
            "metadata": {},
            "source": [
                "# Plot Reynolds"
            ]
        },
        {
            "cell_type": "code",
            "execution_count": null,
            "metadata": {},
            "outputs": [],
            "source": [
                "from ICARUS.Visualization.airfoil.airfoil_reynolds import plot_airfoil_reynolds"
            ]
        },
        {
            "cell_type": "code",
            "execution_count": null,
            "metadata": {},
            "outputs": [],
            "source": [
                "print(f\"NACA {airfoil_names[0][4:]} at Reynolds {reyn_to_plot} polars are:\")\n",
                "axs, fig = plot_airfoil_reynolds(\n",
                "    airfoil_names[0],\n",
                "    reynolds[0],\n",
                "    [\"All\"],\n",
                "    plots = [[\"AoA\", \"Cm\"], [\"AoA\", \"CD\"]],\n",
                "    size=(10,9),\n",
                ")\n",
                "# axs[0].axvline(x=1.1, color='b', linestyle='-')\n",
                "# axs[0].axhline(y=1.52, color='b', linestyle='-')"
            ]
        },
        {
            "cell_type": "code",
            "execution_count": null,
            "metadata": {},
            "outputs": [],
            "source": []
        }
    ],
    "metadata": {
        "kernelspec": {
            "display_name": "aero",
            "language": "python",
            "name": "python3"
        },
        "language_info": {
            "codemirror_mode": {
                "name": "ipython",
                "version": 3
            },
            "file_extension": ".py",
            "mimetype": "text/x-python",
            "name": "python",
            "nbconvert_exporter": "python",
            "pygments_lexer": "ipython3",
            "version": "3.12.0"
        },
        "vscode": {
            "interpreter": {
                "hash": "8acd08952dc410be23279ea6eab1a080d514a48a01ad47827aa392f9fbd61ae4"
            }
        }
    },
    "nbformat": 4,
    "nbformat_minor": 2
}
