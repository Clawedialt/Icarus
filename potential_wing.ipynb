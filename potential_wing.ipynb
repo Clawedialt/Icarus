{
 "cells": [
  {
   "cell_type": "code",
   "execution_count": 1,
   "metadata": {},
   "outputs": [],
   "source": [
    "%load_ext autoreload\n",
    "%autoreload 2\n",
    "%matplotlib qt"
   ]
  },
  {
   "cell_type": "code",
   "execution_count": 2,
   "metadata": {},
   "outputs": [],
   "source": [
    "from ICARUS.Aerodynamics.Potential.core.potential_wing import PotentialWing\n",
    "from ICARUS.Aerodynamics.Potential.core.vorticity import symm_wing_panels\n",
    "\n",
    "from ICARUS.Database.db import DB\n",
    "from ICARUS.Database.Database_3D import Database_3D\n",
    "from ICARUS.Vehicle.plane import Airplane\n",
    "\n",
    "import numpy as np"
   ]
  },
  {
   "cell_type": "code",
   "execution_count": 3,
   "metadata": {},
   "outputs": [
    {
     "name": "stdout",
     "output_type": "stream",
     "text": [
      "Error decoding Plane object bmark! Got error list index out of range\n"
     ]
    }
   ],
   "source": [
    "db = DB()\n",
    "db.load_data()\n",
    "db3d: Database_3D = db.vehiclesDB"
   ]
  },
  {
   "cell_type": "code",
   "execution_count": 4,
   "metadata": {},
   "outputs": [],
   "source": [
    "from examples.Planes.e190_cruise import e190_cruise\n",
    "from examples.Planes.e190_takeoff import e190_takeoff\n",
    "\n",
    "\n",
    "embraer_cruise: Airplane = e190_cruise(name=\"e190_cruise_3\")\n",
    "embraer_to: Airplane = e190_takeoff(name=\"e190_takeoff_3\")\n"
   ]
  },
  {
   "cell_type": "code",
   "execution_count": 5,
   "metadata": {},
   "outputs": [],
   "source": [
    "plane_pot = PotentialWing(\n",
    "    wing_segments=embraer_cruise.surfaces,\n",
    "    alpha= 0,\n",
    "    beta= 0, \n",
    ")"
   ]
  },
  {
   "cell_type": "code",
   "execution_count": 6,
   "metadata": {},
   "outputs": [],
   "source": [
    "plane_pot.plot_grid()"
   ]
  },
  {
   "cell_type": "code",
   "execution_count": 7,
   "metadata": {},
   "outputs": [
    {
     "name": "stdout",
     "output_type": "stream",
     "text": [
      "Solving for a and b\n",
      "We should be using LU decomposition\n",
      "Using No Penetration\n",
      "L:-2489.6323860587163\t|\tD:328.5843610127734\n",
      "CL:-0.10222201869356062\t|\tCD_ind:0.013491372012167917\n",
      "Using previous solution for a and b! Be smart\n",
      "Using No Penetration\n",
      "L:-1815.1169705656616\t|\tD:211.43466095106373\n",
      "CL:-0.07452703537083015\t|\tCD_ind:0.00868131294613411\n",
      "Using previous solution for a and b! Be smart\n",
      "Using No Penetration\n",
      "L:-1140.0486528599413\t|\tD:112.36801271993096\n",
      "CL:-0.04680935039116617\t|\tCD_ind:0.004613727376433695\n",
      "Using previous solution for a and b! Be smart\n",
      "Using No Penetration\n",
      "L:-464.63306529066074\t|\tD:31.505113770197\n",
      "CL:-0.01907740682992069\t|\tCD_ind:0.001293571029519809\n",
      "Using previous solution for a and b! Be smart\n",
      "Using No Penetration\n",
      "L:210.92405401130893\t|\tD:-31.05551691174251\n",
      "CL:0.008660347894252171\t|\tCD_ind:-0.0012751109955297076\n",
      "Using previous solution for a and b! Be smart\n",
      "Using No Penetration\n",
      "L:886.4169238031598\t|\tD:-75.23765883412813\n",
      "CL:0.03639546459256178\t|\tCD_ind:-0.0030891891553424694\n",
      "Using previous solution for a and b! Be smart\n",
      "Using No Penetration\n",
      "L:1561.639782413107\t|\tD:-100.98748286276474\n",
      "CL:0.06411949487978573\t|\tCD_ind:-0.004146453275118066\n",
      "Using previous solution for a and b! Be smart\n",
      "Using No Penetration\n",
      "L:2236.3869504173863\t|\tD:-108.27361680352953\n",
      "CL:0.09182399374772976\t|\tCD_ind:-0.0044456152413855955\n",
      "Using previous solution for a and b! Be smart\n",
      "Using No Penetration\n",
      "L:2910.4528932922017\t|\tD:-97.08718362455875\n",
      "CL:0.11950052213765926\t|\tCD_ind:-0.003986310571371534\n",
      "Using previous solution for a and b! Be smart\n",
      "Using No Penetration\n",
      "L:3583.6322840215307\t|\tD:-67.44181227154303\n",
      "CL:0.1471406495109181\t|\tCD_ind:-0.0027690988570658348\n",
      "Using previous solution for a and b! Be smart\n",
      "Using No Penetration\n",
      "L:4255.720065641722\t|\tD:-19.373621062956477\n",
      "CL:0.17473595641695244\t|\tCD_ind:-0.0007954630834452803\n",
      "Using previous solution for a and b! Be smart\n",
      "Using No Penetration\n",
      "L:4926.511513703832\t|\tD:47.05882631455035\n",
      "CL:0.20227803705795694\t|\tCD_ind:0.0019321921783152518\n",
      "Using previous solution for a and b! Be smart\n",
      "Using No Penetration\n",
      "L:5595.802298634677\t|\tD:131.77459215698207\n",
      "CL:0.22975850184936214\t|\tCD_ind:0.005410543700442392\n",
      "Using previous solution for a and b! Be smart\n",
      "Using No Penetration\n",
      "L:6263.388547977607\t|\tD:234.67046335312267\n",
      "CL:0.2571689799753836\t|\tCD_ind:0.00963535364740539\n",
      "Using previous solution for a and b! Be smart\n",
      "Using No Penetration\n",
      "L:6929.066908494015\t|\tD:355.62107713381386\n",
      "CL:0.28450112193885263\t|\tCD_ind:0.014601474739065971\n",
      "Using previous solution for a and b! Be smart\n",
      "Using No Penetration\n",
      "L:7592.634608106715\t|\tD:494.47907380717817\n",
      "CL:0.3117466021045548\t|\tCD_ind:0.020302856521846276\n",
      "Using previous solution for a and b! Be smart\n",
      "Using No Penetration\n",
      "L:8253.889517666283\t|\tD:651.0752762937028\n",
      "CL:0.33889712123529875\t|\tCD_ind:0.026732552740274484\n",
      "Using previous solution for a and b! Be smart\n",
      "Using No Penetration\n",
      "L:8912.630212521552\t|\tD:825.2188962424555\n",
      "CL:0.3659444090199445\t|\tCD_ind:0.03388272979992729\n",
      "Using previous solution for a and b! Be smart\n",
      "Using No Penetration\n",
      "L:9568.656033875493\t|\tD:1016.6977664772933\n",
      "CL:0.3928802265926195\t|\tCD_ind:0.0417446763114577\n",
      "Using previous solution for a and b! Be smart\n",
      "Using No Penetration\n",
      "L:10221.767149907864\t|\tD:1225.2785994898986\n",
      "CL:0.41969636904235813\t|\tCD_ind:0.050308813704081634\n"
     ]
    }
   ],
   "source": [
    "AoAs, CLs, CDs = plane_pot.aseq(\n",
    "    aoa_min= -10,\n",
    "    aoa_max= 10,\n",
    "    aoa_step= 1,\n",
    "    umag = 20,\n",
    "    dens = 1.225,\n",
    "    solver_fun= symm_wing_panels,\n",
    ")"
   ]
  },
  {
   "cell_type": "code",
   "execution_count": 8,
   "metadata": {},
   "outputs": [],
   "source": [
    "import matplotlib.pyplot as plt\n",
    "fig = plt.figure()\n",
    "ax = fig.add_subplot(111)\n",
    "ax.plot(AoAs, CLs, label=\"CL\")\n",
    "ax.plot(AoAs, CDs, label=\"CD\")\n",
    "ax.legend()\n",
    "ax.grid()\n",
    "plt.show()"
   ]
  },
  {
   "cell_type": "code",
   "execution_count": 9,
   "metadata": {},
   "outputs": [
    {
     "name": "stdout",
     "output_type": "stream",
     "text": [
      "Using previous solution for a and b! Be smart\n",
      "Using No Penetration\n",
      "L:10221.767149907864\t|\tD:1225.2785994898986\n",
      "CL:0.41969636904235813\t|\tCD_ind:0.050308813704081634\n"
     ]
    }
   ],
   "source": [
    "Umag = 20\n",
    "dens = 1.225\n",
    "Uinf = Umag * np.cos(plane_pot.alpha) * np.cos(plane_pot.beta)\n",
    "Vinf = Umag * np.cos(plane_pot.alpha) * np.sin(plane_pot.beta)\n",
    "Winf = Umag * np.sin(plane_pot.alpha) * np.cos(plane_pot.beta)\n",
    "Q = np.array((Uinf, Vinf, Winf))\n",
    "\n",
    "plane_pot.solve_wing_panels(Q,symm_wing_panels)\n",
    "plane_pot.get_gamma_distribution()\n",
    "plane_pot.get_aerodynamic_loads(dens, Umag)\n",
    "plane_pot.calculate_induced_velocities()\n"
   ]
  },
  {
   "cell_type": "code",
   "execution_count": 10,
   "metadata": {},
   "outputs": [],
   "source": [
    "# pot_wing.plot_w_induced_strips()\n",
    "# pot_wing.plot_lift_drag_strips()\n",
    "# plane_pot.plot_lift_drag_panels()"
   ]
  },
  {
   "cell_type": "code",
   "execution_count": null,
   "metadata": {},
   "outputs": [],
   "source": []
  }
 ],
 "metadata": {
  "kernelspec": {
   "display_name": "aero",
   "language": "python",
   "name": "python3"
  },
  "language_info": {
   "codemirror_mode": {
    "name": "ipython",
    "version": 3
   },
   "file_extension": ".py",
   "mimetype": "text/x-python",
   "name": "python",
   "nbconvert_exporter": "python",
   "pygments_lexer": "ipython3",
   "version": "3.11.4"
  }
 },
 "nbformat": 4,
 "nbformat_minor": 2
}
