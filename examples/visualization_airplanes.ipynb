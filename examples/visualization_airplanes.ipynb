{
    "cells": [
        {
            "cell_type": "code",
            "execution_count": 28,
            "metadata": {},
            "outputs": [
                {
                    "name": "stdout",
                    "output_type": "stream",
                    "text": [
                        "The autoreload extension is already loaded. To reload it, use:\n",
                        "  %reload_ext autoreload\n"
                    ]
                }
            ],
            "source": [
                "%load_ext autoreload\n",
                "%autoreload 2\n",
                "%matplotlib qt"
            ]
        },
        {
            "cell_type": "code",
            "execution_count": 29,
            "metadata": {},
            "outputs": [],
            "source": [
                "from ICARUS.Database import DB\n",
                "from ICARUS.Database.Database_3D import Database_3D\n",
                "from time import sleep"
            ]
        },
        {
            "attachments": {},
            "cell_type": "markdown",
            "metadata": {},
            "source": [
                "# Open Database"
            ]
        },
        {
            "cell_type": "code",
            "execution_count": 30,
            "metadata": {},
            "outputs": [],
            "source": [
                "db3d: Database_3D = DB.vehicles_db"
            ]
        },
        {
            "attachments": {},
            "cell_type": "markdown",
            "metadata": {},
            "source": [
                "### Select Plane"
            ]
        },
        {
            "cell_type": "code",
            "execution_count": 46,
            "metadata": {},
            "outputs": [
                {
                    "name": "stdout",
                    "output_type": "stream",
                    "text": [
                        "0 : `bmark\n",
                        "1 : `plane_1\n"
                    ]
                }
            ],
            "source": [
                "planenames: list[str] = db3d.get_planenames()\n",
                "for i, planename in enumerate(planenames):\n",
                "    print(f\"{i} : `{planename}\") \n",
                "sleep(1)\n",
                "\n",
                "indexes = [0]# range(0,len(planenames))\n",
                "plane = db3d.planes[planenames[indexes[0]]]\n",
                "# dynplane = db3d.dyn_planes[planenames[index]]\n",
                "planenames = [planenames[i] for i in indexes]"
            ]
        },
        {
            "attachments": {},
            "cell_type": "markdown",
            "metadata": {},
            "source": [
                "# Add XFLR Polars"
            ]
        },
        {
            "cell_type": "code",
            "execution_count": 47,
            "metadata": {},
            "outputs": [
                {
                    "name": "stdout",
                    "output_type": "stream",
                    "text": [
                        "Imported XFLR polar for bmark\n"
                    ]
                }
            ],
            "source": [
                "from ICARUS.Input_Output.XFLR5.polars import read_polars_3d\n",
                "from ICARUS.Database import EXTERNAL_DB\n",
                "for name in planenames:\n",
                "    if name.startswith(\"XFLR\"):\n",
                "        continue\n",
                "    if name.endswith(\"_hd\"):\n",
                "        name = name[:-3]\n",
                "    if name.endswith(\"_3\") or name.endswith(\"_7\"):\n",
                "        name = name[:-2]\n",
                "        \n",
                "    if f\"XFLR_{name}\" not in planenames: \n",
                "        try:\n",
                "            import os\n",
                "            XFLR5PLANEDIR: str = os.path.join(EXTERNAL_DB,f\"{name}.txt\")\n",
                "            read_polars_3d(XFLR5PLANEDIR, name)\n",
                "            print(f\"Imported XFLR polar for {name}\")\n",
                "            planenames.append(f\"XFLR_{name}\")\n",
                "        except FileNotFoundError:\n",
                "            pass\n",
                "            # print(f\"No XFLR polar found for {name}\")\n",
                "        "
            ]
        },
        {
            "cell_type": "code",
            "execution_count": 48,
            "metadata": {},
            "outputs": [],
            "source": [
                "# planenames =[planenames[0]]\n",
                "# planenames[0] = \"Embraer_E190_Cruise 2D\"\n",
                "# db3d.data[planenames[0]] = db3d.data[\"XFLR_e190_cruise\"]"
            ]
        },
        {
            "cell_type": "code",
            "execution_count": 49,
            "metadata": {},
            "outputs": [],
            "source": [
                "# try:\n",
                "#     XFLR5PLANEDIR = os.path.join(EXTERNAL_DB,f\"e190_takeoff.txt\")\n",
                "#     read_polars_3d(db3d, XFLR5PLANEDIR, 'XFLR5_e190_takeoff')\n",
                "#     planenames.append('Embraer_E190_takeoff')\n",
                "#     planenames[-1]= \"Embraer_E190_takeoff\"\n",
                "# except FileNotFoundError:\n",
                "#     print(\"No XFLR polar found for e190_takeoff.txt\")"
            ]
        },
        {
            "cell_type": "code",
            "execution_count": 50,
            "metadata": {},
            "outputs": [],
            "source": [
                "# db3d.data[planenames[1]] = db3d.data[\"XFLR_Embraer_E190_takeoff\"]"
            ]
        },
        {
            "attachments": {},
            "cell_type": "markdown",
            "metadata": {},
            "source": [
                "# Airplane Visualization"
            ]
        },
        {
            "cell_type": "code",
            "execution_count": 51,
            "metadata": {},
            "outputs": [],
            "source": [
                "# plane.visualize()"
            ]
        },
        {
            "attachments": {},
            "cell_type": "markdown",
            "metadata": {},
            "source": [
                "# Polars"
            ]
        },
        {
            "cell_type": "code",
            "execution_count": 52,
            "metadata": {},
            "outputs": [],
            "source": [
                "from ICARUS.Visualization.airplane.db_polars import plot_airplane_polars \n",
                "solvers = [\n",
                "            \"GNVP3 Potential\",\n",
                "            \"GNVP3 2D\", \n",
                "            \"GNVP7 Potential\",\n",
                "            \"GNVP7 2D\",\n",
                "            # \"LSPT Potential\",\n",
                "            # \"LSPT 2D\"\n",
                "        ]\n",
                "axs, fig = plot_airplane_polars(\n",
                "    planenames,\n",
                "    solvers,\n",
                "    plots = [[\"AoA\", \"CL\"], [\"AoA\", \"CD\"], [\"AoA\", \"Cm\"]],\n",
                "    size=(6,7),\n",
                ")"
            ]
        },
        {
            "cell_type": "code",
            "execution_count": 53,
            "metadata": {},
            "outputs": [
                {
                    "data": {
                        "text/plain": [
                            "['bmark', 'XFLR_bmark']"
                        ]
                    },
                    "execution_count": 53,
                    "metadata": {},
                    "output_type": "execute_result"
                }
            ],
            "source": [
                "planenames"
            ]
        },
        {
            "cell_type": "code",
            "execution_count": 39,
            "metadata": {},
            "outputs": [],
            "source": [
                "# from ICARUS.Visualization.airplane.cg_investigation import cg_investigation\n",
                "\n",
                "# cg_investigation(\n",
                "#     planenames[0],\n",
                "#     solvers,\n",
                "#     size=(10,7),\n",
                "# )"
            ]
        },
        {
            "attachments": {},
            "cell_type": "markdown",
            "metadata": {},
            "source": [
                "# Case Convergence"
            ]
        },
        {
            "cell_type": "code",
            "execution_count": 40,
            "metadata": {},
            "outputs": [],
            "source": [
                "from ICARUS.Visualization.airplane.gnvp_convergence import plot_convergence"
            ]
        },
        {
            "cell_type": "code",
            "execution_count": 41,
            "metadata": {},
            "outputs": [
                {
                    "name": "stderr",
                    "output_type": "stream",
                    "text": [
                        "No artists with labels found to put in legend.  Note that artists whose label start with an underscore are ignored when legend() is called with no argument.\n"
                    ]
                }
            ],
            "source": [
                "angles2show = [1.]# All\n",
                "plot_convergence(\n",
                "    plane.name,\n",
                "    angles = angles2show,\n",
                "    solvers= [\"All\"],\n",
                "    plot_error = False,size=(16,7)\n",
                ")"
            ]
        },
        {
            "attachments": {},
            "cell_type": "markdown",
            "metadata": {},
            "source": [
                "# Wake Visualization"
            ]
        },
        {
            "cell_type": "code",
            "execution_count": 42,
            "metadata": {},
            "outputs": [],
            "source": [
                "from ICARUS.Visualization.airplane.gnvp_wake import plot_gnvp_wake\n",
                "from ICARUS.Database.utils  import angle_to_case"
            ]
        },
        {
            "cell_type": "code",
            "execution_count": 43,
            "metadata": {},
            "outputs": [],
            "source": [
                "from ICARUS.Database import DB3D\n",
                "plane.CASEDIR =  os.path.join(DB3D, plane.name)"
            ]
        },
        {
            "cell_type": "code",
            "execution_count": 44,
            "metadata": {},
            "outputs": [
                {
                    "ename": "FileNotFoundError",
                    "evalue": "[Errno 2] No such file or directory: '/home/tryfonas/data/Uni/Software/icarus-main/Data/3D/plane_1/0.00000_AoA/YOURS.WAK'",
                    "output_type": "error",
                    "traceback": [
                        "\u001b[0;31m---------------------------------------------------------------------------\u001b[0m",
                        "\u001b[0;31mFileNotFoundError\u001b[0m                         Traceback (most recent call last)",
                        "\u001b[1;32m/home/tryfonas/data/Uni/Software/icarus-main/examples/visualization_airplanes.ipynb Cell 24\u001b[0m line \u001b[0;36m5\n\u001b[1;32m      <a href='vscode-notebook-cell:/home/tryfonas/data/Uni/Software/icarus-main/examples/visualization_airplanes.ipynb#X32sZmlsZQ%3D%3D?line=1'>2</a>\u001b[0m plane \u001b[39m=\u001b[39m db3d\u001b[39m.\u001b[39mplanes[plane\u001b[39m.\u001b[39mname]\n\u001b[1;32m      <a href='vscode-notebook-cell:/home/tryfonas/data/Uni/Software/icarus-main/examples/visualization_airplanes.ipynb#X32sZmlsZQ%3D%3D?line=2'>3</a>\u001b[0m \u001b[39m# plane = db3d.planes['bmark']\u001b[39;00m\n\u001b[1;32m      <a href='vscode-notebook-cell:/home/tryfonas/data/Uni/Software/icarus-main/examples/visualization_airplanes.ipynb#X32sZmlsZQ%3D%3D?line=3'>4</a>\u001b[0m \u001b[39m# plane.visualize()\u001b[39;00m\n\u001b[0;32m----> <a href='vscode-notebook-cell:/home/tryfonas/data/Uni/Software/icarus-main/examples/visualization_airplanes.ipynb#X32sZmlsZQ%3D%3D?line=4'>5</a>\u001b[0m plot_gnvp_wake(\u001b[39m3\u001b[39m,plane,CASE, scale \u001b[39m=\u001b[39m \u001b[39m\"\u001b[39m\u001b[39m\"\u001b[39m)\n",
                        "File \u001b[0;32m~/data/Uni/Software/icarus-main/ICARUS/Visualization/airplane/gnvp_wake.py:43\u001b[0m, in \u001b[0;36mplot_gnvp_wake\u001b[0;34m(gnvp_version, plane, case, scale, figsize)\u001b[0m\n\u001b[1;32m     40\u001b[0m \u001b[39melse\u001b[39;00m:\n\u001b[1;32m     41\u001b[0m     \u001b[39mraise\u001b[39;00m \u001b[39mValueError\u001b[39;00m(\u001b[39mf\u001b[39m\u001b[39m\"\u001b[39m\u001b[39mGNVP Version error! Got Version \u001b[39m\u001b[39m{\u001b[39;00mgnvp_version\u001b[39m}\u001b[39;00m\u001b[39m \u001b[39m\u001b[39m\"\u001b[39m)\n\u001b[0;32m---> 43\u001b[0m A1, B1, C1 \u001b[39m=\u001b[39m get_wake_data(plane, case)\n\u001b[1;32m     45\u001b[0m fig: Figure \u001b[39m=\u001b[39m plt\u001b[39m.\u001b[39mfigure(figsize\u001b[39m=\u001b[39mfigsize)\n\u001b[1;32m     46\u001b[0m ax \u001b[39m=\u001b[39m fig\u001b[39m.\u001b[39madd_subplot(projection\u001b[39m=\u001b[39m\u001b[39m\"\u001b[39m\u001b[39m3d\u001b[39m\u001b[39m\"\u001b[39m)\n",
                        "File \u001b[0;32m~/data/Uni/Software/icarus-main/ICARUS/Input_Output/GenuVP/post_process/wake.py:26\u001b[0m, in \u001b[0;36mget_wake_data_3\u001b[0;34m(plane, case)\u001b[0m\n\u001b[1;32m     15\u001b[0m \u001b[39m\u001b[39m\u001b[39m\"\"\"\u001b[39;00m\n\u001b[1;32m     16\u001b[0m \u001b[39mGet the wake data from a given case by reading the YOURS.WAK file.\u001b[39;00m\n\u001b[1;32m     17\u001b[0m \n\u001b[0;32m   (...)\u001b[0m\n\u001b[1;32m     23\u001b[0m \u001b[39m    tuple[FloatArray, FloatArray, FloatArray]: A1: The Particle Wake, B1: The near Wake, C1: The Grid\u001b[39;00m\n\u001b[1;32m     24\u001b[0m \u001b[39m\"\"\"\u001b[39;00m\n\u001b[1;32m     25\u001b[0m fname: \u001b[39mstr\u001b[39m \u001b[39m=\u001b[39m os\u001b[39m.\u001b[39mpath\u001b[39m.\u001b[39mjoin(DB3D, plane\u001b[39m.\u001b[39mCASEDIR, case, \u001b[39m\"\u001b[39m\u001b[39mYOURS.WAK\u001b[39m\u001b[39m\"\u001b[39m)\n\u001b[0;32m---> 26\u001b[0m \u001b[39mwith\u001b[39;00m \u001b[39mopen\u001b[39m(fname) \u001b[39mas\u001b[39;00m file:\n\u001b[1;32m     27\u001b[0m     data: \u001b[39mlist\u001b[39m[\u001b[39mstr\u001b[39m] \u001b[39m=\u001b[39m file\u001b[39m.\u001b[39mreadlines()\n\u001b[1;32m     28\u001b[0m a: \u001b[39mlist\u001b[39m[\u001b[39mlist\u001b[39m[\u001b[39mfloat\u001b[39m]] \u001b[39m=\u001b[39m []\n",
                        "\u001b[0;31mFileNotFoundError\u001b[0m: [Errno 2] No such file or directory: '/home/tryfonas/data/Uni/Software/icarus-main/Data/3D/plane_1/0.00000_AoA/YOURS.WAK'"
                    ]
                }
            ],
            "source": [
                "CASE: str = angle_to_case(0.)\n",
                "plane = db3d.planes[plane.name]\n",
                "# plane = db3d.planes['bmark']\n",
                "# plane.visualize()\n",
                "plot_gnvp_wake(3,plane,CASE, scale = \"\")"
            ]
        },
        {
            "attachments": {},
            "cell_type": "markdown",
            "metadata": {},
            "source": [
                " # Loads Visualization"
            ]
        },
        {
            "cell_type": "code",
            "execution_count": null,
            "metadata": {},
            "outputs": [],
            "source": [
                "from ICARUS.Visualization.airplane.gnvp_strips import gnvp_strips_2d, gnvp_strips_3d\n",
                "NBs = [i+1 for i in range(len(plane.surfaces))]\n",
                "print(plane)\n",
                "print(\"NBs to Visualize: \",NBs)\n",
                "\n",
                "# stripData = gnvp_strips_2d(plane,CASE, NBs[1], category= 'Wind')"
            ]
        },
        {
            "attachments": {},
            "cell_type": "markdown",
            "metadata": {},
            "source": [
                "# Dynamics"
            ]
        },
        {
            "cell_type": "code",
            "execution_count": null,
            "metadata": {},
            "outputs": [],
            "source": [
                "states = db3d.states['plane_1']\n",
                "for i,name in enumerate(states):\n",
                "    print(f\"{i}: {name}\")"
            ]
        },
        {
            "cell_type": "code",
            "execution_count": null,
            "metadata": {},
            "outputs": [],
            "source": [
                "db3d.states['plane_1']"
            ]
        },
        {
            "cell_type": "code",
            "execution_count": null,
            "metadata": {},
            "outputs": [],
            "source": [
                "# name = 'atlas'\n",
                "from ICARUS.Flight_Dynamics.state import State\n",
                "\n",
                "\n",
                "state: State = states['plane_1']\n",
                "state.stability_fd()\n",
                "state.eigenvalue_analysis()\n",
                "print(state)\n",
                "state.plot_eigenvalues()\n",
                "#   Longitudinal derivatives\n",
                "#   Xu=    -0.16379         Cxu=   -0.049477\n",
                "#   Xw=      1.1494         Cxa=     0.34723\n",
                "#   Zu=     -3.0117         Czu=  -0.0035415\n",
                "#   Zw=     -19.528         CLa=      5.8991\n",
                "#   Zq=     -1.8321         CLq=      9.1645\n",
                "#   Mu= -0.00060463         Cmu=  -0.0015122\n",
                "#   Mw=    -0.45664         Cma=     -1.1421\n",
                "#   Mq=    -0.39098         Cmq=     -16.193\n",
                "\n",
                "#   Lateral derivatives\n",
                "#   Yv=     -0.5496         CYb=    -0.16602\n",
                "#   Yp=   -0.017022         CYp=  -0.0045504\n",
                "#   Yr=     0.32383         CYr=    0.086568\n",
                "#   Lv=    0.039731         Clb=   0.0053106\n",
                "#   Lp=     -5.6227         Clp=     -0.6651\n",
                "#   Lr=      1.0377         Clr=     0.12275\n",
                "#   Nv=     0.28879         Cnb=    0.038602\n",
                "#   Np=    -0.57586         Cnp=   -0.068117\n",
                "#   Nr=     -0.1259         Cnr=   -0.014893\n"
            ]
        },
        {
            "cell_type": "code",
            "execution_count": null,
            "metadata": {},
            "outputs": [],
            "source": [
                "state.SBderivativesDS.tree()"
            ]
        },
        {
            "attachments": {},
            "cell_type": "markdown",
            "metadata": {},
            "source": [
                "# Sensitivity Plot"
            ]
        },
        {
            "cell_type": "code",
            "execution_count": null,
            "metadata": {},
            "outputs": [],
            "source": [
                "from ICARUS.Visualization.airplane.gnvp_sensitivity import plot_sensitivity "
            ]
        },
        {
            "cell_type": "code",
            "execution_count": null,
            "metadata": {},
            "outputs": [],
            "source": [
                "# pertr = dynplane.pertubResults\n",
                "# print(dynplane.trim)\n",
                "# trim = pertr[pertr['Type'] == 'Trim']\n",
                "# dynplane.sensResults['u'].sort_values(by=['Epsilon'])\n",
                "# plotSensitivity(dynplane.sensResults,dynplane,trim,relative = 0,vars2s=['r'])"
            ]
        },
        {
            "cell_type": "code",
            "execution_count": null,
            "metadata": {},
            "outputs": [],
            "source": []
        }
    ],
    "metadata": {
        "kernelspec": {
            "display_name": "aero",
            "language": "python",
            "name": "python3"
        },
        "language_info": {
            "codemirror_mode": {
                "name": "ipython",
                "version": 3
            },
            "file_extension": ".py",
            "mimetype": "text/x-python",
            "name": "python",
            "nbconvert_exporter": "python",
            "pygments_lexer": "ipython3",
            "version": "3.11.4"
        }
    },
    "nbformat": 4,
    "nbformat_minor": 2
}
