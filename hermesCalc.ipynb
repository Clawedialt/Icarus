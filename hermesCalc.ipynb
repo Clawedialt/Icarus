{
 "cells": [
  {
   "cell_type": "code",
   "execution_count": 1,
   "metadata": {},
   "outputs": [],
   "source": [
    "import numpy as np\n",
    "import os, sys\n",
    "import matplotlib.pyplot as plt\n",
    "\n",
    "from pathlib import Path\n",
    "from airLibs import airfoil as af\n",
    "from airLibs import runF2w as f2w\n",
    "from airLibs import plotting as aplt\n",
    "from airLibs import runOpenFoam as of"
   ]
  },
  {
   "attachments": {},
   "cell_type": "markdown",
   "metadata": {},
   "source": [
    "# Reynolds And Mach and AoA"
   ]
  },
  {
   "cell_type": "code",
   "execution_count": 2,
   "metadata": {},
   "outputs": [],
   "source": [
    "def ms2mach(ms):\n",
    "    return ms / 340.29\n",
    "\n",
    "def Re(v, c, n):\n",
    "    return (v * c) / n"
   ]
  },
  {
   "cell_type": "code",
   "execution_count": 3,
   "metadata": {},
   "outputs": [],
   "source": [
    "chordMax = 0.18\n",
    "chordMin = 0.11\n",
    "umax = 30\n",
    "umin = 5\n",
    "ne = 1.56e-5"
   ]
  },
  {
   "cell_type": "code",
   "execution_count": 4,
   "metadata": {},
   "outputs": [],
   "source": [
    "Machmin = ms2mach(10)\n",
    "Machmax = ms2mach(30)\n",
    "Remax = Re(umax, chordMax, ne)\n",
    "Remin = Re(umin, chordMin, ne)\n",
    "AoAmax = 15\n",
    "AoAmin = -6\n",
    "NoAoA = (AoAmax - AoAmin) * 2 + 1"
   ]
  },
  {
   "cell_type": "code",
   "execution_count": 5,
   "metadata": {},
   "outputs": [],
   "source": [
    "angles = np.linspace(AoAmin, AoAmax, NoAoA)\n",
    "Reynolds = np.logspace(np.log10(Remin), np.log10(Remax), 20, base=10)\n",
    "Mach = np.linspace(Machmax, Machmin, 10)\n",
    "\n",
    "Reyn = Remax\n",
    "MACH = Machmax"
   ]
  },
  {
   "cell_type": "code",
   "execution_count": 6,
   "metadata": {},
   "outputs": [],
   "source": [
    "CASE = \"Wing\"\n",
    "os.chdir(CASE)\n",
    "casedir = os.getcwd()\n",
    "cleaning = True\n",
    "calcF2W = True\n",
    "calcOpenFoam = False\n",
    "calcXFoil = False"
   ]
  },
  {
   "attachments": {},
   "cell_type": "markdown",
   "metadata": {},
   "source": [
    "# Get Airfoil"
   ]
  },
  {
   "cell_type": "code",
   "execution_count": 7,
   "metadata": {},
   "outputs": [],
   "source": [
    "for i in os.listdir():\n",
    "    if i.startswith(\"naca\"):\n",
    "        airfile = i\n",
    "airfoil = airfile[4:]"
   ]
  },
  {
   "attachments": {},
   "cell_type": "markdown",
   "metadata": {},
   "source": [
    "# Generate Airfoil"
   ]
  },
  {
   "cell_type": "code",
   "execution_count": 8,
   "metadata": {},
   "outputs": [
    {
     "data": {
      "text/plain": [
       "(-0.05, 1.05, -0.049705262133265996, 0.12146125008203564)"
      ]
     },
     "execution_count": 8,
     "metadata": {},
     "output_type": "execute_result"
    },
    {
     "data": {
      "image/png": "[encoded data removed]",
      "text/plain": [
       "<Figure size 640x480 with 1 Axes>"
      ]
     },
     "metadata": {},
     "output_type": "display_data"
    }
   ],
   "source": [
    "n_points = 100\n",
    "pts = af.saveAirfoil([\"s\", airfile, airfoil, 0, n_points])\n",
    "x, y = pts.T\n",
    "plt.plot(x[: n_points ], y[: n_points], \"r\")\n",
    "plt.plot(x[n_points:], y[n_points:], \"b\")\n",
    "\n",
    "# plt.plot(x,y)\n",
    "plt.axis(\"scaled\")"
   ]
  },
  {
   "attachments": {},
   "cell_type": "markdown",
   "metadata": {},
   "source": [
    "# Foil2Wake"
   ]
  },
  {
   "cell_type": "code",
   "execution_count": 9,
   "metadata": {},
   "outputs": [
    {
     "name": "stderr",
     "output_type": "stream",
     "text": [
      "rm: cannot remove 'SOLOUTI*': No such file or directory\n",
      "rm: cannot remove 'PAKETO': No such file or directory\n",
      "mkdir: cannot create directory '0.00000/': File exists\n",
      "mkdir: cannot create directory '0.50000/': File exists\n",
      "mkdir: cannot create directory '1.00000/': File exists\n",
      "mkdir: cannot create directory '1.50000/': File exists\n",
      "mkdir: cannot create directory '2.00000/': File exists\n",
      "mkdir: cannot create directory '2.50000/': File exists\n",
      "mkdir: cannot create directory '3.00000/': File exists\n",
      "mkdir: cannot create directory '3.50000/': File exists\n",
      "mkdir: cannot create directory '4.00000/': File exists\n",
      "mkdir: cannot create directory '4.50000/': File exists\n",
      "mkdir: cannot create directory '5.00000/': File exists\n",
      "mkdir: cannot create directory '5.50000/': File exists\n",
      "mkdir: cannot create directory '6.00000/': File exists\n",
      "mkdir: cannot create directory '6.50000/': File exists\n",
      "mkdir: cannot create directory '7.00000/': File exists\n",
      "mkdir: cannot create directory '7.50000/': File exists\n",
      "mkdir: cannot create directory '8.00000/': File exists\n",
      "mkdir: cannot create directory '8.50000/': File exists\n",
      "mkdir: cannot create directory '9.00000/': File exists\n",
      "mkdir: cannot create directory '9.50000/': File exists\n",
      "mkdir: cannot create directory '10.0000/': File exists\n",
      "mkdir: cannot create directory '10.5000/': File exists\n",
      "mkdir: cannot create directory '11.0000/': File exists\n",
      "mkdir: cannot create directory '11.5000/': File exists\n",
      "mkdir: cannot create directory '12.0000/': File exists\n",
      "mkdir: cannot create directory '12.5000/': File exists\n",
      "mkdir: cannot create directory '13.0000/': File exists\n",
      "mkdir: cannot create directory '13.5000/': File exists\n",
      "mkdir: cannot create directory '14.0000/': File exists\n",
      "mkdir: cannot create directory '14.5000/': File exists\n",
      "mkdir: cannot create directory '15.0000/': File exists\n",
      "rm: cannot remove 'TMP.dir/': No such file or directory\n",
      "mkdir: cannot create directory 'm0.0000/': File exists\n",
      "mkdir: cannot create directory 'm0.5000/': File exists\n",
      "mkdir: cannot create directory 'm1.0000/': File exists\n",
      "mkdir: cannot create directory 'm1.5000/': File exists\n",
      "mkdir: cannot create directory 'm2.0000/': File exists\n",
      "mkdir: cannot create directory 'm2.5000/': File exists\n",
      "mkdir: cannot create directory 'm3.0000/': File exists\n",
      "mkdir: cannot create directory 'm3.5000/': File exists\n",
      "mkdir: cannot create directory 'm4.0000/': File exists\n",
      "mkdir: cannot create directory 'm4.5000/': File exists\n",
      "mkdir: cannot create directory 'm5.0000/': File exists\n",
      "mkdir: cannot create directory 'm5.5000/': File exists\n",
      "mkdir: cannot create directory 'm6.0000/': File exists\n",
      "rm: cannot remove 'TMP.dir/': No such file or directory\n"
     ]
    },
    {
     "name": "stdout",
     "output_type": "stream",
     "text": [
      "OK\n"
     ]
    }
   ],
   "source": [
    "Ncrit = 9\n",
    "ftrip_low = {\"pos\": 0.1, \"neg\": 0.2}\n",
    "ftrip_up = {\"pos\": 0.1, \"neg\": 0.2}\n",
    "\n",
    "if cleaning == True:\n",
    "    f2w.removeResults(angles)\n",
    "if calcF2W == True:\n",
    "    clcd = f2w.runFw2(Reyn, MACH, ftrip_low, ftrip_up, angles, airfile)\n",
    "clcdcmFW = f2w.makeCLCD(Reyn, MACH, angles)"
   ]
  },
  {
   "attachments": {},
   "cell_type": "markdown",
   "metadata": {},
   "source": [
    "# Xfoil"
   ]
  },
  {
   "cell_type": "code",
   "execution_count": null,
   "metadata": {},
   "outputs": [],
   "source": [
    "xf = XFoil()\n",
    "xf.Re = Reyn\n",
    "xf.max_iter = 100\n",
    "xf.print = False\n",
    "xpts, ypts = pts.T\n",
    "naca0008 = XFAirfoil(x=xpts, y=ypts)\n",
    "xf.airfoil = naca0008\n",
    "aXF, clXF, cdXF, cmXF, cpXF = xf.aseq(AoAmin, AoAmax, 0.5)\n",
    "# clcdcmXF = np.array([aXF, clXF, cdXF, cmXF]).T"
   ]
  },
  {
   "attachments": {},
   "cell_type": "markdown",
   "metadata": {},
   "source": [
    "# OpenFoam"
   ]
  },
  {
   "cell_type": "code",
   "execution_count": null,
   "metadata": {},
   "outputs": [],
   "source": [
    "os.chdir(casedir)\n",
    "maxITER = 10500\n",
    "if calcOpenFoam == True:\n",
    "    of.makeMesh(airfile)\n",
    "    of.setupOpenFoam(Reyn, MACH, angles, silent=True, maxITER=maxITER)\n",
    "    of.runFoam(angles)\n",
    "# clcdcmOF = of.makeCLCD(angles)"
   ]
  }
 ],
 "metadata": {
  "kernelspec": {
   "display_name": "aero",
   "language": "python",
   "name": "python3"
  },
  "language_info": {
   "codemirror_mode": {
    "name": "ipython",
    "version": 3
   },
   "file_extension": ".py",
   "mimetype": "text/x-python",
   "name": "python",
   "nbconvert_exporter": "python",
   "pygments_lexer": "ipython3",
   "version": "3.10.8"
  },
  "orig_nbformat": 4,
  "vscode": {
   "interpreter": {
    "hash": "8acd08952dc410be23279ea6eab1a080d514a48a01ad47827aa392f9fbd61ae4"
   }
  }
 },
 "nbformat": 4,
 "nbformat_minor": 2
}
