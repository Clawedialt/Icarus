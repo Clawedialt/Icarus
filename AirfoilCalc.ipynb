{
 "cells": [
  {
   "cell_type": "code",
   "execution_count": null,
   "metadata": {},
   "outputs": [],
   "source": [
    "%load_ext autoreload\n",
    "%autoreload 2\n",
    "# %matplotlib inline"
   ]
  },
  {
   "cell_type": "code",
   "execution_count": null,
   "metadata": {},
   "outputs": [],
   "source": [
    "import numpy as np\n",
    "import os\n",
    "\n",
    "from ICARUS.Airfoils.airfoilD import  AirfoilD\n",
    "\n",
    "from ICARUS.Software.F2Wsection import runF2w as f2w\n",
    "from ICARUS.Software.OpenFoam import runOpenFoam as of\n",
    "from ICARUS.Software.Xfoil import runXFoil as xf\n",
    "\n",
    "from ICARUS.Database import BASEFOIL2W , BASEOPENFOAM, DB2D"
   ]
  },
  {
   "cell_type": "code",
   "execution_count": null,
   "metadata": {},
   "outputs": [],
   "source": [
    "HOMEDIR = os.getcwd()"
   ]
  },
  {
   "attachments": {},
   "cell_type": "markdown",
   "metadata": {},
   "source": [
    "# Reynolds And Mach and AoA"
   ]
  },
  {
   "cell_type": "code",
   "execution_count": null,
   "metadata": {},
   "outputs": [],
   "source": [
    "from ICARUS.Core.Units import calc_mach, Re"
   ]
  },
  {
   "cell_type": "code",
   "execution_count": null,
   "metadata": {},
   "outputs": [],
   "source": [
    "chordMax = 0.18\n",
    "chordMin = 0.11\n",
    "umax = 30\n",
    "umin = 5\n",
    "ne = 1.56e-5\n",
    "\n",
    "Machmin = calc_mach(10)\n",
    "Machmax = Re(30)\n",
    "Remax = Re(umax, chordMax, ne)\n",
    "Remin = Re(umin, chordMin, ne)\n",
    "AoAmax = 15\n",
    "AoAmin = -6\n",
    "NoAoA = (AoAmax - AoAmin) * 2 + 1\n",
    "\n",
    "angles = np.linspace(AoAmin, AoAmax, NoAoA)\n",
    "Reynolds = np.logspace(np.log10(Remin), np.log10(Remax), 5, base=10)\n",
    "Mach = np.linspace(Machmax, Machmin, 10)\n",
    "\n",
    "Reyn = Reynolds[2]\n",
    "MACH = Machmax\n",
    "print(f\"Nominal: Mach {MACH}\\tReynolds {Reyn}\")\n"
   ]
  },
  {
   "cell_type": "code",
   "execution_count": null,
   "metadata": {},
   "outputs": [],
   "source": [
    "cleaning = False\n",
    "calcF2W = False\n",
    "calcOpenFoam = False\n",
    "calcXFoil = True"
   ]
  },
  {
   "attachments": {},
   "cell_type": "markdown",
   "metadata": {},
   "source": [
    "# Get Airfoil"
   ]
  },
  {
   "cell_type": "code",
   "execution_count": null,
   "metadata": {},
   "outputs": [],
   "source": [
    "airf = AirfoilD.NACA('4415',n_points=200)\n",
    "airf.accessDB(HOMEDIR,DB2D)\n",
    "airf.plotAirfoil()"
   ]
  },
  {
   "attachments": {},
   "cell_type": "markdown",
   "metadata": {},
   "source": [
    "# Foil2Wake"
   ]
  },
  {
   "cell_type": "code",
   "execution_count": null,
   "metadata": {},
   "outputs": [],
   "source": [
    "ftrip_low = {\"pos\": 0.1, \"neg\": 0.2}\n",
    "ftrip_up = {\"pos\": 0.2, \"neg\": 0.1}\n",
    "Ncrit = 9\n",
    "airf.reynCASE(Reyn)\n",
    "\n",
    "if cleaning :\n",
    "    airf.cleanRes(f2w.removeResults, [airf.REYNDIR, airf.HOMEDIR,angles])\n",
    "if calcF2W :\n",
    "    f2wargs = [airf.REYNDIR,airf.HOMEDIR,Reyn, MACH, ftrip_low, ftrip_up, angles, f\"naca{airf.name}\"]\n",
    "    airf.setupSolver(f2w.setupF2W,[BASEFOIL2W,airf.HOMEDIR,airf.REYNDIR])\n",
    "    airf.runSolver(f2w.runF2W,f2wargs)\n",
    "    airf.makePolars(f2w.makeCLCD2,\"Foil2Wake\",[airf.REYNDIR, airf.HOMEDIR])"
   ]
  },
  {
   "attachments": {},
   "cell_type": "markdown",
   "metadata": {},
   "source": [
    "# Xfoil"
   ]
  },
  {
   "cell_type": "code",
   "execution_count": null,
   "metadata": {},
   "outputs": [],
   "source": [
    "# LOOP\n",
    "airfoils = [\"0008\"]\n",
    "for airf in airfoils:\n",
    "    print(f\"\\nRunning airfoil {airf}\\n\")\n",
    "    # # Get Airfoil\n",
    "    airf = AirfoilD.NACA(airf, n_points=200)\n",
    "    airf.accessDB(HOMEDIR, DB2D)\n",
    "    # airf.plotAirfoil()\n",
    "    for Reyn in Reynolds:\n",
    "        airf.reynCASE(Reyn)\n",
    "        tempPATH = os.path.join(airf.REYNDIR, \"clcd.xfoil\")\n",
    "        os.remove(tempPATH)\n",
    "        print(\n",
    "            f\"#################################### {Reyn} ######################################\")\n",
    "\n",
    "        xfargs = [airf.REYNDIR, HOMEDIR, Reyn, MACH, min(angles), max(angles), 0.5, airf.selig.T, 0.1, 0.2]\n",
    "        airf.makePolars(xf.runAndSave,\"XFOIL\",xfargs)\n"
   ]
  },
  {
   "attachments": {},
   "cell_type": "markdown",
   "metadata": {},
   "source": [
    "# OpenFoam"
   ]
  },
  {
   "cell_type": "code",
   "execution_count": null,
   "metadata": {},
   "outputs": [],
   "source": [
    "airf.reynCASE(Reyn)\n",
    "os.chdir(airf.REYNDIR)\n",
    "maxITER = 50\n",
    "if cleaning :\n",
    "    airf.cleanRes(of.cleanOpenFoam,[HOMEDIR,airf.REYNDIR])\n",
    "if calcOpenFoam :\n",
    "    ofSetupargs = [BASEOPENFOAM, airf.REYNDIR, airf.HOMEDIR,\n",
    "                   airf.airfile, airf.fname, Reyn, MACH, angles]\n",
    "    ofSetupkwargs = {\"silent\": True, \"maxITER\": maxITER}\n",
    "    ofRunargs = [angles]\n",
    "    airf.setupSolver(of.setupOpenFoam,ofSetupargs,ofSetupkwargs)\n",
    "    airf.runSolver(of.runFoam,[airf.REYNDIR, airf.HOMEDIR, angles])\n",
    "airf.makePolars(of.makeCLCD,\"OpenFoam\",[airf.REYNDIR, airf.HOMEDIR,angles])\n"
   ]
  }
 ],
 "metadata": {
  "kernelspec": {
   "display_name": "aero",
   "language": "python",
   "name": "python3"
  },
  "language_info": {
   "codemirror_mode": {
    "name": "ipython",
    "version": 3
   },
   "file_extension": ".py",
   "mimetype": "text/x-python",
   "name": "python",
   "nbconvert_exporter": "python",
   "pygments_lexer": "ipython3",
   "version": "3.10.10"
  },
  "vscode": {
   "interpreter": {
    "hash": "8acd08952dc410be23279ea6eab1a080d514a48a01ad47827aa392f9fbd61ae4"
   }
  }
 },
 "nbformat": 4,
 "nbformat_minor": 2
}
