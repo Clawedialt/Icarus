{
 "cells": [
  {
   "cell_type": "code",
   "execution_count": null,
   "metadata": {},
   "outputs": [],
   "source": [
    "import os\n",
    "import numpy as np\n",
    "\n",
    "from Airfoils import airfoil as af\n",
    "\n",
    "from Visualization import plotting as aplt\n",
    "from Database.getresults import Database_2D"
   ]
  },
  {
   "cell_type": "code",
   "execution_count": null,
   "metadata": {},
   "outputs": [],
   "source": [
    "HOMEDIR = os.getcwd()"
   ]
  },
  {
   "cell_type": "code",
   "execution_count": null,
   "metadata": {},
   "outputs": [],
   "source": [
    "db = Database_2D(HOMEDIR)\n",
    "airfoils = db.getAirfoils()\n",
    "print(f\"Airfoils that are computed are: {airfoils}\")\n",
    "airfoil = airfoils[0]\n",
    "print(f\"NACA {airfoil[4:]} polars are:\" )\n",
    "aplt.plotAirfoil(db.Data,airfoil,['All'],size=(10,10))"
   ]
  },
  {
   "cell_type": "code",
   "execution_count": null,
   "metadata": {},
   "outputs": [],
   "source": [
    "reynolds = db.getReynolds(airfoil)\n",
    "print(f\"For NACA {airfoil[4:]} these Reynolds were Computed:\\n {reynolds}\")\n",
    "reyn = reynolds[0]\n",
    "print(f\"For Reynolds= {reyn} polars are:\")\n",
    "aplt.plotReynolds(db.Data,airfoil,reyn,['All'],size=(10,10))"
   ]
  }
 ],
 "metadata": {
  "kernelspec": {
   "display_name": "aero",
   "language": "python",
   "name": "python3"
  },
  "language_info": {
   "codemirror_mode": {
    "name": "ipython",
    "version": 3
   },
   "file_extension": ".py",
   "mimetype": "text/x-python",
   "name": "python",
   "nbconvert_exporter": "python",
   "pygments_lexer": "ipython3",
   "version": "3.10.8"
  },
  "orig_nbformat": 4,
  "vscode": {
   "interpreter": {
    "hash": "8acd08952dc410be23279ea6eab1a080d514a48a01ad47827aa392f9fbd61ae4"
   }
  }
 },
 "nbformat": 4,
 "nbformat_minor": 2
}
