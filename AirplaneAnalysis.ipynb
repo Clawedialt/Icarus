{
 "cells": [
  {
   "cell_type": "code",
   "execution_count": null,
   "metadata": {},
   "outputs": [],
   "source": [
    "%load_ext autoreload\n",
    "%autoreload 2\n",
    "# %matplotlib inline"
   ]
  },
  {
   "cell_type": "code",
   "execution_count": null,
   "metadata": {},
   "outputs": [],
   "source": [
    "import numpy as np\n",
    "\n",
    "from ICARUS.Vehicle.plane import Airplane as Plane\n",
    "from ICARUS.Vehicle.wing import Wing as wg\n",
    "import ICARUS.Vehicle.wing as wing\n",
    "\n",
    "from ICARUS.Software.GenuVP3.angles import runGNVPangles, runGNVPanglesParallel\n",
    "from ICARUS.Software.GenuVP3.pertrubations import runGNVPpertr,runGNVPpertrParallel\n",
    "from ICARUS.Software.GenuVP3.pertrubations import runGNVPsensitivity,runGNVPsensitivityParallel\n",
    "from ICARUS.Software.GenuVP3.filesInterface import makePolar, pertrResults\n",
    "from ICARUS.Software.XFLR5.polars import readPolars2D\n",
    "from ICARUS.Database.Database_2D import Database_2D\n",
    "from ICARUS.Database import DB3D"
   ]
  },
  {
   "cell_type": "code",
   "execution_count": null,
   "metadata": {},
   "outputs": [],
   "source": [
    "import os \n",
    "HOMEDIR = os.getcwd()"
   ]
  },
  {
   "attachments": {},
   "cell_type": "markdown",
   "metadata": {},
   "source": [
    "# Airfoil Data"
   ]
  },
  {
   "cell_type": "code",
   "execution_count": null,
   "metadata": {},
   "outputs": [],
   "source": [
    "db = Database_2D(HOMEDIR)\n",
    "airfoils = db.getAirfoils()\n",
    "readPolars2D(db,HOMEDIR, f\"{HOMEDIR}/ICARUS/XFLR5/\")\n",
    "polars2D = db.Data"
   ]
  },
  {
   "attachments": {},
   "cell_type": "markdown",
   "metadata": {},
   "source": [
    "# Get Plane"
   ]
  },
  {
   "cell_type": "code",
   "execution_count": null,
   "metadata": {},
   "outputs": [],
   "source": [
    "Origin = np.array([0., 0., 0.])"
   ]
  },
  {
   "cell_type": "code",
   "execution_count": null,
   "metadata": {},
   "outputs": [],
   "source": [
    "wingPos = np.array([0.0 - 0.159/4, 0.0, 0.0])\n",
    "wingOrientation = np.array([2.8, 0.0, 0.0])\n",
    "\n",
    "mainWing = wg(name=\"wing\",\n",
    "              airfoil=airfoils['NACA4415'],\n",
    "              Origin=Origin + wingPos,\n",
    "              Orientation=wingOrientation,\n",
    "              isSymmetric=True,\n",
    "              span=2 * 1.130,\n",
    "              sweepOffset=0,\n",
    "              dihAngle=0,\n",
    "              chordFun=wing.linearChord,\n",
    "              chord=[0.159, 0.072],\n",
    "              spanFun=wing.linSpan,\n",
    "              N=30,\n",
    "              M=5,\n",
    "              mass=0.670)\n",
    "# mainWing.plotWing()"
   ]
  },
  {
   "cell_type": "code",
   "execution_count": null,
   "metadata": {},
   "outputs": [],
   "source": [
    "elevatorPos = np.array([0.54 - 0.130/4, 0., 0.])\n",
    "elevatorOrientantion = np.array([0., 0., 0.])\n",
    "\n",
    "elevator = wg(name=\"tail\",\n",
    "              airfoil=airfoils['NACA0008'],\n",
    "              Origin=Origin + elevatorPos,\n",
    "              Orientation=elevatorOrientantion,\n",
    "              isSymmetric=True,\n",
    "              span=2 * 0.169,\n",
    "              sweepOffset=0,\n",
    "              dihAngle=0,\n",
    "              chordFun=wing.linearChord,\n",
    "              chord=[0.130, 0.03],\n",
    "              spanFun=wing.linSpan,\n",
    "              N=15,\n",
    "              M=5,\n",
    "              mass=0.06)\n",
    "# elevator.plotWing()"
   ]
  },
  {
   "cell_type": "code",
   "execution_count": null,
   "metadata": {},
   "outputs": [],
   "source": [
    "rudderPos = np.array([0.47 - 0.159/4, 0., 0.01])\n",
    "rudderOrientantion = np.array([0.0, 0.0, 90.0])\n",
    "\n",
    "rudder = wg(name=\"rudder\",\n",
    "            airfoil=airfoils['NACA0008'],\n",
    "            Origin=Origin + rudderPos,\n",
    "            Orientation=rudderOrientantion,\n",
    "            isSymmetric=False,\n",
    "            span=0.160,\n",
    "            sweepOffset=0.1,\n",
    "            dihAngle=0,\n",
    "            chordFun=wing.linearChord,\n",
    "            chord=[0.2, 0.1],\n",
    "            spanFun=wing.linSpan,\n",
    "            N=15,\n",
    "            M=5,\n",
    "            mass=0.04)\n",
    "# rudder.plotWing()"
   ]
  },
  {
   "cell_type": "code",
   "execution_count": null,
   "metadata": {},
   "outputs": [],
   "source": [
    "liftingSurfaces = [mainWing, elevator, rudder]\n",
    "\n",
    "addedMasses = [\n",
    "    (0.500 , np.array([-0.40, 0.0, 0.0])), # Motor\n",
    "    (1.000 , np.array([0.090, 0.0, 0.0])), # Battery\n",
    "    (0.900 , np.array([0.130, 0.0, 0.0])), # Payload\n",
    "    ]\n",
    "ap = Plane(\"Hermes5\", liftingSurfaces)\n",
    "ap.accessDB(HOMEDIR, DB3D)\n",
    "# ap.visAirplane()\n",
    "ap.addMasses(addedMasses)"
   ]
  },
  {
   "cell_type": "code",
   "execution_count": null,
   "metadata": {},
   "outputs": [],
   "source": [
    "polarsGNVP3 = True\n",
    "pertrAnalysisGNVP3 = True\n",
    "sensAnalysisGNVP3 = True"
   ]
  },
  {
   "attachments": {},
   "cell_type": "markdown",
   "metadata": {},
   "source": [
    "## AoA Run"
   ]
  },
  {
   "cell_type": "code",
   "execution_count": null,
   "metadata": {},
   "outputs": [],
   "source": [
    "AoAmin = -6\n",
    "AoAmax = 7\n",
    "NoAoA = (AoAmax - AoAmin) + 1\n",
    "angles = np.linspace(AoAmin, AoAmax, NoAoA)\n",
    "\n",
    "Uinf = 20\n",
    "ap.defineSim(Uinf, 1.225)\n",
    "maxiter = 2\n",
    "timestep = 5e-3\n",
    "# ap.save()"
   ]
  },
  {
   "cell_type": "code",
   "execution_count": null,
   "metadata": {},
   "outputs": [],
   "source": [
    "if polarsGNVP3 == True:\n",
    "    GNVP3BatchArgs = [ap, polars2D,\"Xfoil\",\n",
    "                     maxiter,timestep,Uinf, angles]\n",
    "    ap.runAnalysis(runGNVPanglesParallel, GNVP3BatchArgs)\n",
    "GNVP3PolarArgs = [ap.CASEDIR, HOMEDIR]\n",
    "ap.setPolars(makePolar,GNVP3PolarArgs)\n",
    "ap.save()\n"
   ]
  },
  {
   "attachments": {},
   "cell_type": "markdown",
   "metadata": {},
   "source": [
    "# Dynamics"
   ]
  },
  {
   "cell_type": "code",
   "execution_count": null,
   "metadata": {},
   "outputs": [],
   "source": [
    "from ICARUS.Flight_Dynamics.dyn_plane import dyn_Airplane as dp"
   ]
  },
  {
   "attachments": {},
   "cell_type": "markdown",
   "metadata": {},
   "source": [
    "### Define and Trim Plane"
   ]
  },
  {
   "cell_type": "code",
   "execution_count": null,
   "metadata": {},
   "outputs": [],
   "source": [
    "dyn = dp(ap)"
   ]
  },
  {
   "attachments": {},
   "cell_type": "markdown",
   "metadata": {},
   "source": [
    "### Pertrubations"
   ]
  },
  {
   "cell_type": "code",
   "execution_count": null,
   "metadata": {},
   "outputs": [],
   "source": [
    "dyn.allPerturb(\"Central\")\n",
    "# dyn.get_pertrub()"
   ]
  },
  {
   "cell_type": "code",
   "execution_count": null,
   "metadata": {},
   "outputs": [],
   "source": [
    "dyn.accessDynamics(HOMEDIR)\n",
    "if pertrAnalysisGNVP3 == True:\n",
    "    maxiter = 2\n",
    "    timestep = 5e-2\n",
    "    GNVP3BatchArgs = [dyn, polars2D,\"Xfoil\",  maxiter, timestep,\n",
    "                      dyn.trim['U'], dyn.trim['AoA']]\n",
    "    dyn.runAnalysis(runGNVPpertrParallel,GNVP3BatchArgs)\n",
    "GNVP3LogArgs = [dyn.DynDir, HOMEDIR]\n",
    "dyn.setPertResults(pertrResults,GNVP3LogArgs)\n",
    "dyn.save()"
   ]
  },
  {
   "cell_type": "code",
   "execution_count": null,
   "metadata": {},
   "outputs": [],
   "source": [
    "if sensAnalysisGNVP3 == True:\n",
    "    for var in ['u','w','q','theta','v','p','r','phi']:\n",
    "        space = np.logspace(np.log10(0.00001), np.log10(1), 10, base=10)\n",
    "        space =[*-space,*space]\n",
    "        maxiter = 2\n",
    "        timestep = 5e-2\n",
    "        dyn.sensitivityAnalysis(var, space)\n",
    "        GNVP3BatchArgs = [dyn, var, polars2D, \"Xfoil\",\n",
    "                        maxiter, timestep,\n",
    "                        dyn.trim['U'], dyn.trim['AoA']]\n",
    "        dyn.runAnalysis(runGNVPsensitivityParallel, GNVP3BatchArgs)\n",
    "        dyn.sensResults[var] = pertrResults(f\"{dyn.CASEDIR}/Sensitivity_{var}\", HOMEDIR)\n",
    "    dyn.save()"
   ]
  }
 ],
 "metadata": {
  "kernelspec": {
   "display_name": "aero",
   "language": "python",
   "name": "python3"
  },
  "language_info": {
   "codemirror_mode": {
    "name": "ipython",
    "version": 3
   },
   "file_extension": ".py",
   "mimetype": "text/x-python",
   "name": "python",
   "nbconvert_exporter": "python",
   "pygments_lexer": "ipython3",
   "version": "3.10.8"
  },
  "vscode": {
   "interpreter": {
    "hash": "8acd08952dc410be23279ea6eab1a080d514a48a01ad47827aa392f9fbd61ae4"
   }
  }
 },
 "nbformat": 4,
 "nbformat_minor": 2
}
