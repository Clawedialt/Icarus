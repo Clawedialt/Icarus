{
 "cells": [
  {
   "cell_type": "code",
   "execution_count": null,
   "metadata": {},
   "outputs": [],
   "source": [
    "%load_ext autoreload\n",
    "%autoreload 2\n"
   ]
  },
  {
   "cell_type": "code",
   "execution_count": null,
   "metadata": {},
   "outputs": [],
   "source": [
    "import numpy as np\n",
    "import os\n",
    "\n",
    "from Plane.planeDefinition import Airplane as pln\n",
    "\n",
    "from Visualization import plotting as aplt\n",
    "from Database.getresults import Database_3D"
   ]
  },
  {
   "cell_type": "code",
   "execution_count": null,
   "metadata": {},
   "outputs": [],
   "source": [
    "HOMEDIR = os.getcwd()"
   ]
  },
  {
   "cell_type": "code",
   "execution_count": null,
   "metadata": {},
   "outputs": [],
   "source": [
    "U0 = 20\n",
    "Swing = 0.261\n",
    "dens = 1.225\n",
    "Q = 0.5 * dens * U0**2\n",
    "MAC = 0.121\n"
   ]
  },
  {
   "attachments": {},
   "cell_type": "markdown",
   "metadata": {},
   "source": [
    "# Get Database"
   ]
  },
  {
   "cell_type": "code",
   "execution_count": null,
   "metadata": {},
   "outputs": [],
   "source": [
    "db = Database_3D(HOMEDIR)\n",
    "plane = db.getPlanes()[0]\n",
    "db.makeDimensionless(plane,Q,Swing,MAC)\n",
    "polars = db.Data[plane]"
   ]
  },
  {
   "attachments": {},
   "cell_type": "markdown",
   "metadata": {},
   "source": [
    "# Plot"
   ]
  },
  {
   "cell_type": "code",
   "execution_count": null,
   "metadata": {},
   "outputs": [],
   "source": [
    "polarsPOT = np.vstack((polars[\"AoA\"], polars[\"CL_Pot\"],polars[\"CD_Pot\"],polars[\"Cm_Pot\"])).T\n",
    "polars2D = np.vstack((polars[\"AoA\"], polars[\"CL_2D\"],polars[\"CD_2D\"],polars[\"Cm_2D\"])).T\n",
    "polarsONERA = np.vstack((polars[\"AoA\"], polars[\"CL_ONERA\"],polars[\"CD_ONERA\"],polars[\"Cm_ONERA\"])).T\n",
    "\n",
    "pot = [polarsPOT, \"rx\",     f\"Potential polars\"]\n",
    "twoD = [polars2D, \"ko\",     f\"2D\"]\n",
    "onera = [polarsONERA, \"bx\",     f\"ONERA\"]\n",
    "\n",
    "aplt.plotAeorCoeffs([pot,twoD,onera],(10,10),'Polars')"
   ]
  },
  {
   "cell_type": "code",
   "execution_count": null,
   "metadata": {},
   "outputs": [],
   "source": [
    "polars[\"AoA\"]"
   ]
  },
  {
   "cell_type": "code",
   "execution_count": null,
   "metadata": {},
   "outputs": [],
   "source": []
  }
 ],
 "metadata": {
  "kernelspec": {
   "display_name": "aero",
   "language": "python",
   "name": "python3"
  },
  "language_info": {
   "codemirror_mode": {
    "name": "ipython",
    "version": 3
   },
   "file_extension": ".py",
   "mimetype": "text/x-python",
   "name": "python",
   "nbconvert_exporter": "python",
   "pygments_lexer": "ipython3",
   "version": "3.10.8"
  },
  "orig_nbformat": 4,
  "vscode": {
   "interpreter": {
    "hash": "8acd08952dc410be23279ea6eab1a080d514a48a01ad47827aa392f9fbd61ae4"
   }
  }
 },
 "nbformat": 4,
 "nbformat_minor": 2
}
