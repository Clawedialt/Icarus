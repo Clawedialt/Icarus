{
 "cells": [
  {
   "cell_type": "code",
   "execution_count": 1,
   "metadata": {},
   "outputs": [],
   "source": [
    "%matplotlib qt\n",
    "%load_ext autoreload\n",
    "%autoreload 2"
   ]
  },
  {
   "cell_type": "markdown",
   "metadata": {},
   "source": [
    "# Pitching Airfoil "
   ]
  },
  {
   "cell_type": "code",
   "execution_count": 62,
   "metadata": {},
   "outputs": [],
   "source": [
    "import jax.numpy as jnp\n",
    "import numpy as np\n",
    "import matplotlib.pyplot as plt\n",
    "from scipy.integrate import solve_ivp\n",
    "from time import time\n",
    "from functools import partial\n",
    "from jax import jit\n",
    "import jax"
   ]
  },
  {
   "cell_type": "markdown",
   "metadata": {},
   "source": [
    "# Dynamical Systems"
   ]
  },
  {
   "cell_type": "code",
   "execution_count": 3,
   "metadata": {},
   "outputs": [],
   "source": [
    "from ICARUS.Systems.first_order_system import NonLinearSystem\n",
    "from ICARUS.Systems.second_order_system import SecondOrderSystem\n",
    "from ICARUS.Systems.integrate import BackwardEulerIntegrator, ForwardEulerIntegrator, RK4Integrator, RK45Integrator, CrankNicolsonIntegrator, GaussLegendreIntegrator, NewmarkIntegrator"
   ]
  },
  {
   "cell_type": "code",
   "execution_count": 4,
   "metadata": {},
   "outputs": [],
   "source": [
    "def plot_results(x_data, t_data):\n",
    "    # Plot the results\n",
    "    fig = plt.figure(figsize=(10, 10))\n",
    "    ax = fig.add_subplot(111)\n",
    "    for key in list(x_data.keys()):\n",
    "        # Compute cap so that we plot 1000 points at most\n",
    "        cap = max(1, int(len(t_data[key]) / 1000))\n",
    "        ax.plot(t_data[key][::cap], x_data[key][:,0][::cap], label=key)\n",
    "    ax.set_xlabel(\"Time (s)\")\n",
    "    ax.set_ylabel(\"Displacement (m)\")\n",
    "    ax.legend()\n",
    "\n",
    "\n",
    "def test_all_integrators(system,x0, t0, t_end, dt0, compare_with_scipy = False):\n",
    "    if isinstance(system, SecondOrderSystem):\n",
    "        system2 = system.convert_to_first_order()\n",
    "        newmark = NewmarkIntegrator(dt0, system, gamma=0.5, beta=0.25)\n",
    "    else:\n",
    "        system2 = system\n",
    "    \n",
    "    integrator_rk4 = RK4Integrator(dt0, system2)\n",
    "    integrator_feuler = ForwardEulerIntegrator(dt0, system2)\n",
    "    integrator_beuler = BackwardEulerIntegrator(dt0, system2)\n",
    "    integrator_rk45 = RK45Integrator(dt0, system2)\n",
    "    integrator_gauss_legendre = GaussLegendreIntegrator(dt0, system2, n = 4)\n",
    "    integrator_crank_nicolson = CrankNicolsonIntegrator(dt0, system2)\n",
    "\n",
    "    integrators = [\n",
    "        integrator_feuler,\n",
    "        integrator_rk4,\n",
    "        # integrator_rk45,\n",
    "        integrator_beuler,\n",
    "        # integrator_gauss_legendre,\n",
    "        # integrator_crank_nicolson\n",
    "     ]\n",
    "    \n",
    "    if isinstance(system, SecondOrderSystem):\n",
    "        integrators.append(newmark)\n",
    "\n",
    "    # Simulate the system using all the integrators\n",
    "    x_data = {}\n",
    "    t_data = {}\n",
    "\n",
    "\n",
    "    for integrator in integrators:\n",
    "        print(f\"Simulating using {integrator.name} integrator\")\n",
    "        time_s = time()\n",
    "        t_data[integrator.name], x_data[integrator.name] = integrator.simulate(x0, t0, t_end)\n",
    "        time_e = time()\n",
    "        print(f\"\\tSimulated using {integrator.name} integrator\")\n",
    "        print(f\"\\tTime taken: {time_e - time_s} seconds\")\n",
    "\n",
    "    if compare_with_scipy:\n",
    "        print(\"Simulating using scipy RK45\")\n",
    "        time_s = time()\n",
    "        sol = solve_ivp(system, [t0, t_end], x0, method='RK45', t_eval=np.linspace(0, t_end, 1000),  rtol=1e-6, atol=1e-6)\n",
    "        t_data[\"scipy_rk45\"] = sol.t\n",
    "        x_data[\"scipy_rk45\"] = sol.y.T\n",
    "        time_e = time()\n",
    "        print(f\"\\tSimulated using scipy RK45\")\n",
    "        print(f\"\\tTime taken: {time_e - time_s} seconds\")\n",
    "\n",
    "    plot_results(x_data, t_data)"
   ]
  },
  {
   "cell_type": "markdown",
   "metadata": {},
   "source": [
    "# Simple Mass-Damper System"
   ]
  },
  {
   "cell_type": "code",
   "execution_count": 5,
   "metadata": {},
   "outputs": [
    {
     "name": "stdout",
     "output_type": "stream",
     "text": [
      "Simulating using Forward Euler integrator\n",
      "\tSimulated using Forward Euler integrator\n",
      "\tTime taken: 0.6831948757171631 seconds\n",
      "Simulating using RK4 integrator\n",
      "\tSimulated using RK4 integrator\n",
      "\tTime taken: 0.38686180114746094 seconds\n",
      "Simulating using Backward Euler integrator\n",
      "\tSimulated using Backward Euler integrator\n",
      "\tTime taken: 1.0899360179901123 seconds\n",
      "Simulating using scipy RK45\n",
      "\tSimulated using scipy RK45\n",
      "\tTime taken: 0.32195186614990234 seconds\n"
     ]
    }
   ],
   "source": [
    "# Define a simple m-c-k system\n",
    "m = 1.0\n",
    "c = 0.1\n",
    "k = 1.0\n",
    "\n",
    "\n",
    "def f(t:float, x: jnp.ndarray) -> jnp.ndarray:\n",
    "    return jnp.array([\n",
    "        x[1],                            # x' = v\n",
    "        -c /m * x[1] - k/m * x[0]        # v' = a = -c/m * v - k/m * x\n",
    "    ])\n",
    "\n",
    "# Create the system\n",
    "system = NonLinearSystem(f)\n",
    "\n",
    "# Test the integrators\n",
    "test_all_integrators(system, jnp.array([1.0, 0.0]), 0.0, 100.0, 0.0001, compare_with_scipy = True)"
   ]
  },
  {
   "cell_type": "markdown",
   "metadata": {},
   "source": [
    "# Second Order Systems"
   ]
  },
  {
   "cell_type": "code",
   "execution_count": 6,
   "metadata": {},
   "outputs": [],
   "source": [
    "# Define a 2nd order system \n",
    "m1 = 1.0\n",
    "c1 = 0.1\n",
    "k1 = 1.0\n",
    "\n",
    "m2 = 1.0\n",
    "c2 = 0.1\n",
    "k2 = 1.0\n",
    "\n",
    "def M(t,x):\n",
    "    return jnp.array(\n",
    "    [\n",
    "        [m1, 0],\n",
    "        [0, m2]\n",
    "    ])\n",
    "# M = jnp.array([m])\n",
    "def C(t,x):\n",
    "    return jnp.array(\n",
    "    [\n",
    "        [0.023, 1.024], #[c1, 0],\n",
    "        [-0.364, 3.31]  #[0, c2]\n",
    "    ])\n",
    "# C = jnp.array([c])\n",
    "\n",
    "def f_int(t,x):\n",
    "    return jnp.array(\n",
    "    [\n",
    "        [1.97, 0.034],  #[k1, -k1],\n",
    "        [0.034, 3.95]   #[-k1, k1 + k2]\n",
    "    ])\n",
    "# f_int = jnp.array([k])\n",
    "\n",
    "def f_ext(t: float, x: jnp.ndarray) -> jnp.ndarray:\n",
    "    return jnp.array([\n",
    "        0.078,# 0.0,\n",
    "        10*0.466*jnp.sin(t)\n",
    "    ])\n",
    "# f_ext = lambda t, x: jnp.array([0.0])\n",
    "\n",
    "system = SecondOrderSystem(M, C, f_int, f_ext)"
   ]
  },
  {
   "cell_type": "code",
   "execution_count": 7,
   "metadata": {},
   "outputs": [
    {
     "name": "stdout",
     "output_type": "stream",
     "text": [
      "Simulating using Forward Euler integrator\n",
      "\tSimulated using Forward Euler integrator\n",
      "\tTime taken: 1.205092191696167 seconds\n",
      "Simulating using RK4 integrator\n",
      "\tSimulated using RK4 integrator\n",
      "\tTime taken: 2.950021982192993 seconds\n",
      "Simulating using Backward Euler integrator\n",
      "\tSimulated using Backward Euler integrator\n",
      "\tTime taken: 2.2151262760162354 seconds\n",
      "Simulating using Newmark integrator\n",
      "\tSimulated using Newmark integrator\n",
      "\tTime taken: 0.7656283378601074 seconds\n",
      "Simulating using scipy RK45\n",
      "\tSimulated using scipy RK45\n",
      "\tTime taken: 0.730494499206543 seconds\n"
     ]
    }
   ],
   "source": [
    "# Test the integrators\n",
    "test_all_integrators(system, jnp.array([0.0, 0.0, 0.0, 0.0]), 0.0, 100.0, 1e-4, compare_with_scipy = True)"
   ]
  }
 ],
 "metadata": {
  "kernelspec": {
   "display_name": "aero",
   "language": "python",
   "name": "python3"
  },
  "language_info": {
   "codemirror_mode": {
    "name": "ipython",
    "version": 3
   },
   "file_extension": ".py",
   "mimetype": "text/x-python",
   "name": "python",
   "nbconvert_exporter": "python",
   "pygments_lexer": "ipython3",
   "version": "3.12.0"
  }
 },
 "nbformat": 4,
 "nbformat_minor": 2
}
