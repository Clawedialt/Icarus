{
 "cells": [
  {
   "cell_type": "code",
   "execution_count": 25,
   "metadata": {},
   "outputs": [
    {
     "name": "stdout",
     "output_type": "stream",
     "text": [
      "The autoreload extension is already loaded. To reload it, use:\n",
      "  %reload_ext autoreload\n"
     ]
    }
   ],
   "source": [
    "%load_ext autoreload\n",
    "%autoreload 2\n",
    "%matplotlib qt"
   ]
  },
  {
   "cell_type": "code",
   "execution_count": 26,
   "metadata": {},
   "outputs": [],
   "source": [
    "from ICARUS.Database.db import DB\n",
    "from ICARUS.Database.Database_3D import Database_3D\n",
    "from time import sleep\n",
    "import os"
   ]
  },
  {
   "attachments": {},
   "cell_type": "markdown",
   "metadata": {},
   "source": [
    "# Open Database"
   ]
  },
  {
   "cell_type": "code",
   "execution_count": 27,
   "metadata": {},
   "outputs": [
    {
     "name": "stdout",
     "output_type": "stream",
     "text": [
      "Error decoding Plane object bmark! Got error list index out of range\n"
     ]
    }
   ],
   "source": [
    "db = DB()\n",
    "db.load_data()\n",
    "db3d: Database_3D = db.vehiclesDB"
   ]
  },
  {
   "attachments": {},
   "cell_type": "markdown",
   "metadata": {},
   "source": [
    "### Select Plane"
   ]
  },
  {
   "cell_type": "code",
   "execution_count": 28,
   "metadata": {},
   "outputs": [
    {
     "name": "stdout",
     "output_type": "stream",
     "text": [
      "0 : `e190_cruise_3_hd\n",
      "1 : `e190_to_sd_3\n"
     ]
    },
    {
     "ename": "IndexError",
     "evalue": "list index out of range",
     "output_type": "error",
     "traceback": [
      "\u001b[0;31m---------------------------------------------------------------------------\u001b[0m",
      "\u001b[0;31mIndexError\u001b[0m                                Traceback (most recent call last)",
      "\u001b[1;32m/home/tryfonas/data/Uni/Software/hermes/visualization_airplanes.ipynb Cell 6\u001b[0m line \u001b[0;36m9\n\u001b[1;32m      <a href='vscode-notebook-cell:/home/tryfonas/data/Uni/Software/hermes/visualization_airplanes.ipynb#W5sZmlsZQ%3D%3D?line=6'>7</a>\u001b[0m plane \u001b[39m=\u001b[39m db3d\u001b[39m.\u001b[39mplanes[planenames[\u001b[39m1\u001b[39m]]\n\u001b[1;32m      <a href='vscode-notebook-cell:/home/tryfonas/data/Uni/Software/hermes/visualization_airplanes.ipynb#W5sZmlsZQ%3D%3D?line=7'>8</a>\u001b[0m \u001b[39m# dynplane = db3d.dyn_planes[planenames[index]]\u001b[39;00m\n\u001b[0;32m----> <a href='vscode-notebook-cell:/home/tryfonas/data/Uni/Software/hermes/visualization_airplanes.ipynb#W5sZmlsZQ%3D%3D?line=8'>9</a>\u001b[0m planenames \u001b[39m=\u001b[39m [planenames[i] \u001b[39mfor\u001b[39;00m i \u001b[39min\u001b[39;00m indexes]\n",
      "\u001b[1;32m/home/tryfonas/data/Uni/Software/hermes/visualization_airplanes.ipynb Cell 6\u001b[0m line \u001b[0;36m9\n\u001b[1;32m      <a href='vscode-notebook-cell:/home/tryfonas/data/Uni/Software/hermes/visualization_airplanes.ipynb#W5sZmlsZQ%3D%3D?line=6'>7</a>\u001b[0m plane \u001b[39m=\u001b[39m db3d\u001b[39m.\u001b[39mplanes[planenames[\u001b[39m1\u001b[39m]]\n\u001b[1;32m      <a href='vscode-notebook-cell:/home/tryfonas/data/Uni/Software/hermes/visualization_airplanes.ipynb#W5sZmlsZQ%3D%3D?line=7'>8</a>\u001b[0m \u001b[39m# dynplane = db3d.dyn_planes[planenames[index]]\u001b[39;00m\n\u001b[0;32m----> <a href='vscode-notebook-cell:/home/tryfonas/data/Uni/Software/hermes/visualization_airplanes.ipynb#W5sZmlsZQ%3D%3D?line=8'>9</a>\u001b[0m planenames \u001b[39m=\u001b[39m [planenames[i] \u001b[39mfor\u001b[39;00m i \u001b[39min\u001b[39;00m indexes]\n",
      "\u001b[0;31mIndexError\u001b[0m: list index out of range"
     ]
    }
   ],
   "source": [
    "planenames = db3d.get_planenames()\n",
    "for i, planename in enumerate(planenames):\n",
    "    print(f\"{i} : `{planename}\") \n",
    "sleep(1)\n",
    "indexes = [1,2]\n",
    "#index = int(input(\"Select a plane: \"))\n",
    "plane = db3d.planes[planenames[1]]\n",
    "# dynplane = db3d.dyn_planes[planenames[index]]\n",
    "planenames = [planenames[i] for i in indexes]"
   ]
  },
  {
   "attachments": {},
   "cell_type": "markdown",
   "metadata": {},
   "source": [
    "# Add XFLR Polars"
   ]
  },
  {
   "cell_type": "code",
   "execution_count": null,
   "metadata": {},
   "outputs": [
    {
     "name": "stdout",
     "output_type": "stream",
     "text": [
      "No XFLR polar found for e190_takeoff\n",
      "No XFLR polar found for e190_to_sd\n"
     ]
    }
   ],
   "source": [
    "from ICARUS.Software.XFLR5.polars import read_polars_3d\n",
    "from ICARUS.Database import XFLRDB\n",
    "for name in planenames:\n",
    "    if name.startswith(\"XFLR\"):\n",
    "        continue\n",
    "    if name.endswith(\"_dyn\"):\n",
    "        name = name[:-4]\n",
    "    if name.endswith(\"_hd\"):\n",
    "        name = name[:-3]\n",
    "    if name.endswith(\"_3\") or name.endswith(\"_7\"):\n",
    "        name = name[:-2]\n",
    "        \n",
    "    if f\"XFLR_{name}\" not in planenames: \n",
    "        try:\n",
    "            XFLR5PLANEDIR: str = os.path.join(XFLRDB,f\"{name}.txt\")\n",
    "            read_polars_3d(db3d,XFLR5PLANEDIR, name)\n",
    "            print(f\"Imported XFLR polar for {name}\")\n",
    "            planenames.append(f\"XFLR_{name}\")\n",
    "        except FileNotFoundError:\n",
    "            print(f\"No XFLR polar found for {name}\")\n",
    "        "
   ]
  },
  {
   "cell_type": "code",
   "execution_count": null,
   "metadata": {},
   "outputs": [],
   "source": [
    "# planenames =[planenames[0]]\n",
    "# planenames[0] = \"Embraer_E190_Cruise 2D\"\n",
    "# db3d.data[planenames[0]] = db3d.data[\"XFLR_e190_cruise\"]"
   ]
  },
  {
   "cell_type": "code",
   "execution_count": 29,
   "metadata": {},
   "outputs": [],
   "source": [
    "# try:\n",
    "#     XFLR5PLANEDIR = os.path.join(XFLRDB,f\"e190_takeoff.txt\")\n",
    "#     read_polars_3d(db3d, XFLR5PLANEDIR, 'XFLR5_e190_takeoff')\n",
    "#     planenames.append('Embraer_E190_takeoff')\n",
    "#     planenames[-1]= \"Embraer_E190_takeoff\"\n",
    "# except FileNotFoundError:\n",
    "#     print(\"No XFLR polar found for e190_takeoff.txt\")"
   ]
  },
  {
   "cell_type": "code",
   "execution_count": 30,
   "metadata": {},
   "outputs": [],
   "source": [
    "# db3d.data[planenames[1]] = db3d.data[\"XFLR_Embraer_E190_takeoff\"]"
   ]
  },
  {
   "attachments": {},
   "cell_type": "markdown",
   "metadata": {},
   "source": [
    "# Airplane Visualization"
   ]
  },
  {
   "cell_type": "code",
   "execution_count": 23,
   "metadata": {},
   "outputs": [],
   "source": [
    "# plane.visualize()"
   ]
  },
  {
   "attachments": {},
   "cell_type": "markdown",
   "metadata": {},
   "source": [
    "# Polars"
   ]
  },
  {
   "cell_type": "code",
   "execution_count": 24,
   "metadata": {},
   "outputs": [],
   "source": [
    "from ICARUS.Visualization.airplane.gnvp_polars import plot_airplane_polars \n",
    "plot_airplane_polars(db3d.data,planenames,[\"Potential\"],size=(10,7))"
   ]
  },
  {
   "attachments": {},
   "cell_type": "markdown",
   "metadata": {},
   "source": [
    "# Case Convergence"
   ]
  },
  {
   "cell_type": "code",
   "execution_count": null,
   "metadata": {},
   "outputs": [],
   "source": [
    "from ICARUS.Visualization.airplane.gnvp_convergence import plot_convergence"
   ]
  },
  {
   "cell_type": "code",
   "execution_count": null,
   "metadata": {},
   "outputs": [],
   "source": [
    "angles2show = [1.,2.]# All\n",
    "plot_convergence(\n",
    "    db3d.convergence_data,\n",
    "    plane.name,\n",
    "    angles = angles2show,\n",
    "    solvers= [\"2D\"],\n",
    "    plot_error = False,size=(16,7)\n",
    ")"
   ]
  },
  {
   "attachments": {},
   "cell_type": "markdown",
   "metadata": {},
   "source": [
    "# Wake Visualization"
   ]
  },
  {
   "cell_type": "code",
   "execution_count": null,
   "metadata": {},
   "outputs": [],
   "source": [
    "from ICARUS.Visualization.airplane.gnvp_wake import gnvp_wake\n",
    "from ICARUS.Database.utils  import angle_to_case"
   ]
  },
  {
   "cell_type": "code",
   "execution_count": null,
   "metadata": {},
   "outputs": [],
   "source": [
    "CASE: str = angle_to_case(-3.)\n",
    "plane = db3d.planes[plane.name]\n",
    "# plane.visualize()\n",
    "gnvp_wake(3,plane,CASE)"
   ]
  },
  {
   "attachments": {},
   "cell_type": "markdown",
   "metadata": {},
   "source": [
    " # Loads Visualization"
   ]
  },
  {
   "cell_type": "code",
   "execution_count": null,
   "metadata": {},
   "outputs": [],
   "source": [
    "from ICARUS.Visualization.airplane.gnvp_strips import gnvp_strips_2d, gnvp_strips_3d\n",
    "NBs = [i+1 for i in range(len(plane.surfaces))]\n",
    "print(plane)\n",
    "print(\"NBs to Visualize: \",NBs)\n",
    "\n",
    "stripData = gnvp_strips_2d(plane,CASE, NBs[1], category= 'Wind')"
   ]
  },
  {
   "attachments": {},
   "cell_type": "markdown",
   "metadata": {},
   "source": [
    "# Dynamics"
   ]
  },
  {
   "cell_type": "code",
   "execution_count": null,
   "metadata": {},
   "outputs": [],
   "source": [
    "states = db3d.states['hermes_7']\n",
    "for i,name in enumerate(states):\n",
    "    print(f\"{i}: {name}\")"
   ]
  },
  {
   "cell_type": "code",
   "execution_count": null,
   "metadata": {},
   "outputs": [],
   "source": [
    "# name = 'atlas'\n",
    "from ICARUS.Flight_Dynamics.state import State\n",
    "\n",
    "\n",
    "state: State = states[name]\n",
    "state.stability_fd()\n",
    "state.eigenvalue_analysis()\n",
    "print(state)\n",
    "state.plot_eigenvalues()\n",
    "#   Longitudinal derivatives\n",
    "#   Xu=    -0.16379         Cxu=   -0.049477\n",
    "#   Xw=      1.1494         Cxa=     0.34723\n",
    "#   Zu=     -3.0117         Czu=  -0.0035415\n",
    "#   Zw=     -19.528         CLa=      5.8991\n",
    "#   Zq=     -1.8321         CLq=      9.1645\n",
    "#   Mu= -0.00060463         Cmu=  -0.0015122\n",
    "#   Mw=    -0.45664         Cma=     -1.1421\n",
    "#   Mq=    -0.39098         Cmq=     -16.193\n",
    "\n",
    "#   Lateral derivatives\n",
    "#   Yv=     -0.5496         CYb=    -0.16602\n",
    "#   Yp=   -0.017022         CYp=  -0.0045504\n",
    "#   Yr=     0.32383         CYr=    0.086568\n",
    "#   Lv=    0.039731         Clb=   0.0053106\n",
    "#   Lp=     -5.6227         Clp=     -0.6651\n",
    "#   Lr=      1.0377         Clr=     0.12275\n",
    "#   Nv=     0.28879         Cnb=    0.038602\n",
    "#   Np=    -0.57586         Cnp=   -0.068117\n",
    "#   Nr=     -0.1259         Cnr=   -0.014893\n"
   ]
  },
  {
   "cell_type": "code",
   "execution_count": null,
   "metadata": {},
   "outputs": [],
   "source": [
    "state.SBderivativesDS.tree()"
   ]
  },
  {
   "attachments": {},
   "cell_type": "markdown",
   "metadata": {},
   "source": [
    "# Sensitivity Plot"
   ]
  },
  {
   "cell_type": "code",
   "execution_count": null,
   "metadata": {},
   "outputs": [],
   "source": [
    "from ICARUS.Visualization.airplane.gnvp_sensitivity import plot_sensitivity "
   ]
  },
  {
   "cell_type": "code",
   "execution_count": null,
   "metadata": {},
   "outputs": [],
   "source": [
    "# pertr = dynplane.pertubResults\n",
    "# print(dynplane.trim)\n",
    "# trim = pertr[pertr['Type'] == 'Trim']\n",
    "# dynplane.sensResults['u'].sort_values(by=['Epsilon'])\n",
    "# plotSensitivity(dynplane.sensResults,dynplane,trim,relative = 0,vars2s=['r'])"
   ]
  },
  {
   "cell_type": "code",
   "execution_count": null,
   "metadata": {},
   "outputs": [],
   "source": []
  }
 ],
 "metadata": {
  "kernelspec": {
   "display_name": "aero",
   "language": "python",
   "name": "python3"
  },
  "language_info": {
   "codemirror_mode": {
    "name": "ipython",
    "version": 3
   },
   "file_extension": ".py",
   "mimetype": "text/x-python",
   "name": "python",
   "nbconvert_exporter": "python",
   "pygments_lexer": "ipython3",
   "version": "3.11.4"
  }
 },
 "nbformat": 4,
 "nbformat_minor": 2
}
