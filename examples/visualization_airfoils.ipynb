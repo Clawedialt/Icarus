{
    "cells": [
        {
            "cell_type": "code",
            "execution_count": 1,
            "metadata": {},
            "outputs": [],
            "source": [
                "%load_ext autoreload\n",
                "%autoreload 2\n",
                "%matplotlib qt"
            ]
        },
        {
            "cell_type": "code",
            "execution_count": 2,
            "metadata": {},
            "outputs": [
                {
                    "name": "stdout",
                    "output_type": "stream",
                    "text": [
                        "No Plane object found in bmark_3 folder at /home/tryfonas/data/Uni/Software/hermes/Data/3D/bmark_3/bmark_3.json!\n",
                        "No forces.lspt file found in bmark_3 folder at /home/tryfonas/data/Uni/Software/hermes/Data/3D!\n",
                        "No Plane object found in e190_cruise folder at /home/tryfonas/data/Uni/Software/hermes/Data/3D/e190_cruise/e190_cruise.json!\n",
                        "No forces.lspt file found in e190_cruise folder at /home/tryfonas/data/Uni/Software/hermes/Data/3D!\n",
                        "No Plane object found in e190_to_3 folder at /home/tryfonas/data/Uni/Software/hermes/Data/3D/e190_to_3/e190_to_3.json!\n",
                        "No forces.lspt file found in e190_to_3 folder at /home/tryfonas/data/Uni/Software/hermes/Data/3D!\n",
                        "No forces.lspt file found in hermes_3 folder at /home/tryfonas/data/Uni/Software/hermes/Data/3D!\n"
                    ]
                }
            ],
            "source": [
                "from time import sleep\n",
                "\n",
                "from ICARUS.Database import DB\n",
                "from ICARUS.Database import XFLRDB"
            ]
        },
        {
            "attachments": {},
            "cell_type": "markdown",
            "metadata": {},
            "source": [
                "# Load Database"
            ]
        },
        {
            "cell_type": "code",
            "execution_count": 5,
            "metadata": {},
            "outputs": [
                {
                    "data": {
                        "text/plain": [
                            "dict_keys(['NACA0008', 'NACA0012', 'NACA0015', 'NACA1213', 'NACA2412', 'NACA4415', 'NACA5140', 'NACA64418_flapped', 'NACA66418', 'NACA64418'])"
                        ]
                    },
                    "execution_count": 5,
                    "metadata": {},
                    "output_type": "execute_result"
                }
            ],
            "source": [
                "DB.foils_db.data.keys()"
            ]
        },
        {
            "cell_type": "code",
            "execution_count": 3,
            "metadata": {},
            "outputs": [
                {
                    "name": "stdout",
                    "output_type": "stream",
                    "text": [
                        "Airfoils that are computed are:\n",
                        "0: NACA0008\n",
                        "1: NACA0012\n",
                        "2: NACA0015\n",
                        "3: NACA1213\n",
                        "4: NACA2412\n",
                        "5: NACA4415\n",
                        "6: NACA5140\n",
                        "7: NACA64418_flapped\n",
                        "8: NACA66418\n",
                        "9: NACA64418\n"
                    ]
                }
            ],
            "source": [
                "db = DB.foils_db\n",
                "db.load_data()\n",
                "\n",
                "from ICARUS.Input_Output.XFLR5.polars import read_polars_2d\n",
                "read_polars_2d(XFLRDB)\n",
                "\n",
                "airfoils = db.data\n",
                "\n",
                "print(f\"Airfoils that are computed are:\")\n",
                "for i , key in enumerate(list(airfoils.keys())):\n",
                "    print(f\"{i}: {key}\")\n",
                "sleep(1)\n",
                "# index = int(input(\"Select an airfoil: \"))\n",
                "index = 7\n",
                "airfoil: str = list(airfoils.keys())[index]"
            ]
        },
        {
            "attachments": {},
            "cell_type": "markdown",
            "metadata": {},
            "source": [
                "# Airfoil Polars"
            ]
        },
        {
            "cell_type": "code",
            "execution_count": 5,
            "metadata": {},
            "outputs": [],
            "source": [
                "from ICARUS.Visualization.airfoil.db_polars import plot_airfoil_polars"
            ]
        },
        {
            "cell_type": "code",
            "execution_count": 8,
            "metadata": {},
            "outputs": [
                {
                    "name": "stdout",
                    "output_type": "stream",
                    "text": [
                        "NACA 64418_flapped polars are:\n",
                        "Skipping Xfoil is not in ['Foil2Wake']\n"
                    ]
                }
            ],
            "source": [
                "print(f\"NACA {airfoil[4:]} polars are:\")\n",
                "axs, fig = plot_airfoil_polars(\n",
                "    airfoil_name=airfoil,\n",
                "    solvers = [\"Foil2Wake\"],\n",
                "    plots = [[\"AoA\", \"Cm\"], [\"AoA\", \"CD\"]],\n",
                "    size=(10,9),\n",
                ")\n",
                "# axs[0].axvline(x=1.1, color='b', linestyle='-')\n",
                "# axs[0].axhline(y=1.52, color='b', linestyle='-')"
            ]
        },
        {
            "attachments": {},
            "cell_type": "markdown",
            "metadata": {},
            "source": [
                "# Select Reynolds number "
            ]
        },
        {
            "cell_type": "code",
            "execution_count": 16,
            "metadata": {},
            "outputs": [
                {
                    "name": "stdout",
                    "output_type": "stream",
                    "text": [
                        "For NACA 64418_flapped these Reynolds were Computed:\n",
                        "0:\t1.029e07\n",
                        " 1:\t1.118e07\n",
                        " 2:\t1.215e07\n",
                        " 3:\t1.321e07\n",
                        " 4:\t1.436e07\n",
                        " 5:\t1.560e07\n",
                        " 6:\t1.696e07\n",
                        " 7:\t1.843e07\n",
                        " 8:\t2.003e07\n",
                        " 9:\t2.178e07\n",
                        " 10:\t2.367e07\n",
                        " 11:\t2.572e07\n",
                        " 12:\t2.796e07\n",
                        " 13:\t3.039e07\n",
                        " 14:\t3.303e07\n",
                        " 15:\t3.590e07\n",
                        " 16:\t7.372e06\n",
                        " 17:\t8.012e06\n",
                        " 18:\t8.708e06\n",
                        " 19:\t9.465e06\n",
                        " 20:\t1.843e07\n",
                        "\n"
                    ]
                }
            ],
            "source": [
                "reynolds = db.get_airfoil_reynolds(airfoil)\n",
                "\n",
                "if reynolds is not None:\n",
                "    print(f\"For NACA {airfoil[4:]} these Reynolds were Computed:\")\n",
                "    print(*[f\"{i}:\\t{reyn}\\n\" for i,reyn in enumerate(reynolds)])\n",
                "    index = int(input(\"Select Reynolds: \"))\n",
                "    reyn_to_plot = reynolds[index]\n",
                "else:\n",
                "    raise ValueError(f\"Reynolds for {airfoil} were not computed\")"
            ]
        },
        {
            "attachments": {},
            "cell_type": "markdown",
            "metadata": {},
            "source": [
                "# Plot Reynolds"
            ]
        },
        {
            "cell_type": "code",
            "execution_count": 17,
            "metadata": {},
            "outputs": [],
            "source": [
                "from ICARUS.Visualization.airfoil.db_reynolds import plot_airfoil_reynolds"
            ]
        },
        {
            "cell_type": "code",
            "execution_count": 22,
            "metadata": {},
            "outputs": [
                {
                    "name": "stdout",
                    "output_type": "stream",
                    "text": [
                        "NACA 64418_flapped at Reynolds 1.215e07 polars are:\n",
                        "Run Doesn't Exist: NACA64418_flapped,1.560e07,'1.560e07'\n",
                        "Run Doesn't Exist: NACA64418_flapped,1.560e07,'OpenFoam'\n",
                        "Run Doesn't Exist: NACA64418_flapped,1.560e07,'XFLR'\n"
                    ]
                }
            ],
            "source": [
                "print(f\"NACA {airfoil[4:]} at Reynolds {reyn_to_plot} polars are:\")\n",
                "axs, fig = plot_airfoil_reynolds(\n",
                "    airfoil,\n",
                "    reynolds[5],\n",
                "    [\"All\"],\n",
                "    plots = [[\"AoA\", \"Cm\"], [\"AoA\", \"CD\"]],\n",
                "    size=(10,9),\n",
                "    title= \"NACA 64418 flapped polars\"\n",
                ")\n",
                "# axs[0].axvline(x=1.1, color='b', linestyle='-')\n",
                "# axs[0].axhline(y=1.52, color='b', linestyle='-')"
            ]
        }
    ],
    "metadata": {
        "kernelspec": {
            "display_name": "aero",
            "language": "python",
            "name": "python3"
        },
        "language_info": {
            "codemirror_mode": {
                "name": "ipython",
                "version": 3
            },
            "file_extension": ".py",
            "mimetype": "text/x-python",
            "name": "python",
            "nbconvert_exporter": "python",
            "pygments_lexer": "ipython3",
            "version": "3.11.4"
        },
        "vscode": {
            "interpreter": {
                "hash": "8acd08952dc410be23279ea6eab1a080d514a48a01ad47827aa392f9fbd61ae4"
            }
        }
    },
    "nbformat": 4,
    "nbformat_minor": 2
}
