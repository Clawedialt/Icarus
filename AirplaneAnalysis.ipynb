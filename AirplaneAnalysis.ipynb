{
 "cells": [
  {
   "cell_type": "code",
   "execution_count": null,
   "metadata": {},
   "outputs": [],
   "source": [
    "%load_ext autoreload\n",
    "%autoreload 2\n",
    "# %matplotlib inline"
   ]
  },
  {
   "cell_type": "code",
   "execution_count": null,
   "metadata": {},
   "outputs": [],
   "source": [
    "import numpy as np"
   ]
  },
  {
   "attachments": {},
   "cell_type": "markdown",
   "metadata": {},
   "source": [
    "# Options"
   ]
  },
  {
   "cell_type": "code",
   "execution_count": null,
   "metadata": {},
   "outputs": [],
   "source": [
    "polarsGNVP3 = True\n",
    "pertrAnalysisGNVP3 = True\n",
    "sensAnalysisGNVP3 = False"
   ]
  },
  {
   "attachments": {},
   "cell_type": "markdown",
   "metadata": {},
   "source": [
    "# Load Foil Data"
   ]
  },
  {
   "cell_type": "code",
   "execution_count": null,
   "metadata": {},
   "outputs": [],
   "source": [
    "from ICARUS.Software.XFLR5.polars import readPolars2D\n",
    "from ICARUS.Database.db import DB\n",
    "from ICARUS.Database import XFLRDB"
   ]
  },
  {
   "cell_type": "code",
   "execution_count": null,
   "metadata": {},
   "outputs": [],
   "source": [
    "db = DB()\n",
    "foildb = db.foilsDB\n",
    "foildb.loadData()\n",
    "readPolars2D(foildb,XFLRDB)\n",
    "airfoils = foildb.getAirfoils()"
   ]
  },
  {
   "attachments": {},
   "cell_type": "markdown",
   "metadata": {},
   "source": [
    "# Get Plane"
   ]
  },
  {
   "cell_type": "code",
   "execution_count": null,
   "metadata": {},
   "outputs": [],
   "source": [
    "from Data.Planes.hermes import hermes"
   ]
  },
  {
   "cell_type": "code",
   "execution_count": null,
   "metadata": {},
   "outputs": [],
   "source": [
    "ap = hermes(airfoils ,\"Hemes_HRes\")"
   ]
  },
  {
   "attachments": {},
   "cell_type": "markdown",
   "metadata": {},
   "source": [
    "# Import Enviroment"
   ]
  },
  {
   "cell_type": "code",
   "execution_count": null,
   "metadata": {},
   "outputs": [],
   "source": [
    "from ICARUS.Enviroment.definition import EARTH\n",
    "print(EARTH)"
   ]
  },
  {
   "attachments": {},
   "cell_type": "markdown",
   "metadata": {},
   "source": [
    "# Get Solver"
   ]
  },
  {
   "cell_type": "code",
   "execution_count": null,
   "metadata": {},
   "outputs": [],
   "source": [
    "from ICARUS.Software.GenuVP3.gnvp3 import get_gnvp3\n",
    "gnvp3 = get_gnvp3(db)\n",
    "print(gnvp3)"
   ]
  },
  {
   "attachments": {},
   "cell_type": "markdown",
   "metadata": {},
   "source": [
    "## AoA Run"
   ]
  },
  {
   "cell_type": "code",
   "execution_count": null,
   "metadata": {},
   "outputs": [],
   "source": [
    "analysis = gnvp3.getAvailableAnalyses()[2] # ANGLES PARALLEL\n",
    "print(f\"Selecting Analysis: {analysis}\")\n",
    "gnvp3.setAnalysis(analysis)\n",
    "options = gnvp3.getOptions(analysis)"
   ]
  },
  {
   "cell_type": "code",
   "execution_count": null,
   "metadata": {},
   "outputs": [],
   "source": [
    "AoAmin = -6\n",
    "AoAmax = 8\n",
    "NoAoA = (AoAmax - AoAmin) + 1\n",
    "angles = np.linspace(AoAmin, AoAmax, NoAoA)\n",
    "Uinf = 20\n",
    "ap.defineSim(Uinf, EARTH.AirDensity)\n",
    "\n",
    "options.plane.value         = ap\n",
    "options.environment.value   = EARTH\n",
    "options.db.value            = db\n",
    "options.solver2D.value      = 'Xfoil'\n",
    "options.maxiter.value       = 200\n",
    "options.timestep.value      = 5e-3\n",
    "options.Uinf.value          = Uinf\n",
    "options.angles.value        = angles\n",
    "\n",
    "gnvp3.printOptions()\n",
    "gnvp3.run()\n",
    "ap.save()"
   ]
  },
  {
   "cell_type": "code",
   "execution_count": null,
   "metadata": {},
   "outputs": [],
   "source": [
    "results = gnvp3.getAvailableRetrieval()[0] # ANGLES PARALLEL\n",
    "print(f\"Selecting Retrieval: {results}\")\n",
    "gnvp3.setRetrivalMethod(results)\n",
    "options = gnvp3.getRetrievalOptions(results)"
   ]
  },
  {
   "cell_type": "code",
   "execution_count": null,
   "metadata": {},
   "outputs": [],
   "source": [
    "options.HOMEDIR.value = db.analysesDB.HOMEDIR\n",
    "import os\n",
    "options.CASEDIR.value = os.path.join(db.vehiclesDB.DATADIR, ap.CASEDIR)\n",
    "gnvp3.printRetrievalOptions()\n",
    "polars = gnvp3.getResults()"
   ]
  },
  {
   "attachments": {},
   "cell_type": "markdown",
   "metadata": {},
   "source": [
    "# Dynamics"
   ]
  },
  {
   "attachments": {},
   "cell_type": "markdown",
   "metadata": {},
   "source": [
    "### Define and Trim Plane"
   ]
  },
  {
   "cell_type": "code",
   "execution_count": null,
   "metadata": {},
   "outputs": [],
   "source": [
    "from ICARUS.Flight_Dynamics.dyn_plane import dyn_Airplane as dp\n",
    "dyn = dp(ap,polars)"
   ]
  },
  {
   "attachments": {},
   "cell_type": "markdown",
   "metadata": {},
   "source": [
    "### Pertrubations"
   ]
  },
  {
   "cell_type": "code",
   "execution_count": null,
   "metadata": {},
   "outputs": [],
   "source": [
    "dyn.allPerturb(\"Central\")\n",
    "# dyn.get_pertrub()"
   ]
  },
  {
   "cell_type": "code",
   "execution_count": null,
   "metadata": {},
   "outputs": [],
   "source": [
    "analysis = gnvp3.getAvailableAnalyses()[4] # ANGLES PARALLEL\n",
    "print(f\"Selecting Analysis: {analysis}\")\n",
    "gnvp3.setAnalysis(analysis)\n",
    "options = gnvp3.getOptions(analysis)"
   ]
  },
  {
   "cell_type": "code",
   "execution_count": null,
   "metadata": {},
   "outputs": [],
   "source": [
    "dyn.defineSim(dyn.trim['U'], EARTH.AirDensity)\n",
    "\n",
    "options.plane.value         = dyn\n",
    "options.environment.value   = EARTH\n",
    "options.db.value            = db\n",
    "options.solver2D.value      = 'Xfoil'\n",
    "options.maxiter.value       = 200\n",
    "options.timestep.value      = 5e-3\n",
    "options.Uinf.value          = dyn.trim['U']\n",
    "options.angles.value        = dyn.trim['AoA']\n",
    "\n",
    "gnvp3.printOptions()\n",
    "gnvp3.run()\n",
    "dyn.save()"
   ]
  },
  {
   "cell_type": "code",
   "execution_count": null,
   "metadata": {},
   "outputs": [],
   "source": [
    "results = gnvp3.getAvailableRetrieval()[1] # Pertr\n",
    "print(f\"Selecting Retrieval: {results}\")\n",
    "gnvp3.setRetrivalMethod(results)\n",
    "options = gnvp3.getRetrievalOptions(results)"
   ]
  },
  {
   "cell_type": "code",
   "execution_count": null,
   "metadata": {},
   "outputs": [],
   "source": [
    "options.HOMEDIR.value = db.analysesDB.HOMEDIR\n",
    "options.DYNDIR.value = os.path.join(db.vehiclesDB.DATADIR, ap.CASEDIR, \"Dynamics\")\n",
    "gnvp3.printRetrievalOptions()\n",
    "polars = gnvp3.getResults()"
   ]
  },
  {
   "attachments": {},
   "cell_type": "markdown",
   "metadata": {},
   "source": [
    "# Sensitivity Analysis"
   ]
  },
  {
   "cell_type": "code",
   "execution_count": null,
   "metadata": {},
   "outputs": [],
   "source": [
    "# if sensAnalysisGNVP3 == True:\n",
    "#     for var in ['u','w','q','theta','v','p','r','phi']:\n",
    "#         space = np.logspace(np.log10(0.00001), np.log10(1), 10, base=10)\n",
    "#         space =[*-space,*space]\n",
    "#         maxiter = 2\n",
    "#         timestep = 5e-2\n",
    "#         dyn.sensitivityAnalysis(var, space)\n",
    "#         GNVP3BatchArgs = [dyn, var, foildb, \"Xfoil\",\n",
    "#                         maxiter, timestep,\n",
    "#                         dyn.trim['U'], dyn.trim['AoA']]\n",
    "#         dyn.runAnalysis(runGNVPsensitivityParallel, GNVP3BatchArgs)\n",
    "#         perDIR = os.path.join(dyn.CASEDIR, f\"Sensitivity_{var}\")\n",
    "#         dyn.sensResults[var] = pertrResults(perDIR, HOMEDIR)\n",
    "#     dyn.save()"
   ]
  }
 ],
 "metadata": {
  "kernelspec": {
   "display_name": "aero",
   "language": "python",
   "name": "python3"
  },
  "language_info": {
   "codemirror_mode": {
    "name": "ipython",
    "version": 3
   },
   "file_extension": ".py",
   "mimetype": "text/x-python",
   "name": "python",
   "nbconvert_exporter": "python",
   "pygments_lexer": "ipython3",
   "version": "3.10.8"
  },
  "vscode": {
   "interpreter": {
    "hash": "8acd08952dc410be23279ea6eab1a080d514a48a01ad47827aa392f9fbd61ae4"
   }
  }
 },
 "nbformat": 4,
 "nbformat_minor": 2
}
