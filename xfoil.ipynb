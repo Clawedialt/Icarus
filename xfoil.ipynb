{
 "cells": [
  {
   "cell_type": "code",
   "execution_count": null,
   "metadata": {},
   "outputs": [],
   "source": [
    "import os\n",
    "import numpy as np\n",
    "from xfoil import XFoil\n",
    "\n",
    "from airLibs import plotting as aplt\n",
    "from airLibs import runOpenFoam as of\n",
    "from airLibs import runXFoil as xf\n",
    "import matplotlib.pyplot as plt"
   ]
  },
  {
   "cell_type": "code",
   "execution_count": null,
   "metadata": {},
   "outputs": [],
   "source": [
    "Remax = 346153.8461538461\n",
    "Remin = 35256.41025641026\n",
    "MACH = 0.08816009873931058\n",
    "Reyn = Remax\n",
    "AoAmax = 15\n",
    "AoAmin = -6\n",
    "NoAoA = (AoAmax - AoAmin) * 2 + 1\n",
    "\n",
    "angles = np.linspace(AoAmin, AoAmax, NoAoA)"
   ]
  },
  {
   "cell_type": "code",
   "execution_count": null,
   "metadata": {},
   "outputs": [],
   "source": [
    "CASE = \"Wing\"\n",
    "os.chdir(CASE)\n",
    "caseDir = f\"Reynolds_{np.format_float_scientific(Reyn,sign=False,precision=3).replace('+', '')}\"\n",
    "os.system(f\"mkdir -p {caseDir}\")\n",
    "os.chdir(caseDir)\n",
    "caseDir = os.getcwd() \n",
    "\n",
    "for i in os.listdir():\n",
    "    if i.startswith(\"naca\"):\n",
    "        airfile = i\n",
    "airfoil = airfile[4:]"
   ]
  }
 ],
 "metadata": {
  "kernelspec": {
   "display_name": "aero",
   "language": "python",
   "name": "python3"
  },
  "language_info": {
   "codemirror_mode": {
    "name": "ipython",
    "version": 3
   },
   "file_extension": ".py",
   "mimetype": "text/x-python",
   "name": "python",
   "nbconvert_exporter": "python",
   "pygments_lexer": "ipython3",
   "version": "3.10.8"
  },
  "orig_nbformat": 4,
  "vscode": {
   "interpreter": {
    "hash": "8acd08952dc410be23279ea6eab1a080d514a48a01ad47827aa392f9fbd61ae4"
   }
  }
 },
 "nbformat": 4,
 "nbformat_minor": 2
}
