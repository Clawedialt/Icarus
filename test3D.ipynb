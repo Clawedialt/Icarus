{
 "cells": [
  {
   "cell_type": "code",
   "execution_count": 1,
   "metadata": {},
   "outputs": [],
   "source": [
    "import numpy as np\n",
    "import os\n",
    "import time\n",
    "from airLibs import setupGNVP as gnvp\n",
    "from airLibs import runXFoil as xf"
   ]
  },
  {
   "cell_type": "code",
   "execution_count": 2,
   "metadata": {},
   "outputs": [],
   "source": [
    "def ms2mach(ms):\n",
    "    return ms / 340.29\n",
    "\n",
    "def Re(v, c, n):\n",
    "    return (v * c) / n"
   ]
  },
  {
   "cell_type": "code",
   "execution_count": 3,
   "metadata": {},
   "outputs": [],
   "source": [
    "chordMax = 0.18\n",
    "chordMin = 0.11\n",
    "umax = 30\n",
    "umin = 5\n",
    "ne = 1.56e-5"
   ]
  },
  {
   "cell_type": "code",
   "execution_count": 4,
   "metadata": {},
   "outputs": [],
   "source": [
    "Machmin = ms2mach(10)\n",
    "Machmax = ms2mach(30)\n",
    "Remax = Re(umax, chordMax, ne)\n",
    "Remin = Re(umin, chordMin, ne)\n",
    "AoAmax = 15\n",
    "AoAmin = -6\n",
    "NoAoA = (AoAmax - AoAmin) * 2 + 1\n",
    "\n",
    "angles = np.linspace(AoAmin, AoAmax, NoAoA)\n",
    "Reynolds = np.logspace(np.log10(Remin), np.log10(Remax), 5, base=10)\n",
    "Mach = np.linspace(Machmax, Machmin, 10)\n",
    "\n",
    "Reyn = Remax\n",
    "MACH = Machmax"
   ]
  },
  {
   "cell_type": "code",
   "execution_count": 5,
   "metadata": {},
   "outputs": [],
   "source": [
    "airfoils = [\"4415\",\"0008\"]\n",
    "cldata = []\n",
    "\n",
    "for airfoil in airfoils:\n",
    "    Reynolds = np.logspace(np.log10(Remin), np.log10(Remax), 5, base=10)\n",
    "    clcdData = []\n",
    "    for Re in Reynolds:\n",
    "        clcdcmXF_t = xf.runXFoil(Reyn, MACH, angles[::2], airfoil,0.1,0.1)\n",
    "        clcdData.append(clcdcmXF_t)\n",
    "        \n",
    "    Redicts = []\n",
    "    for i,batchRe in enumerate(clcdData):\n",
    "        tempDict = {}\n",
    "        for bathchAng in batchRe:\n",
    "            tempDict[str(bathchAng[0])] = bathchAng[1:4]\n",
    "        Redicts.append(tempDict)\n",
    "    cldata.append(Redicts)"
   ]
  },
  {
   "cell_type": "code",
   "execution_count": 8,
   "metadata": {},
   "outputs": [],
   "source": [
    "## NOT REALLY\n",
    "airMovement = {\n",
    "    'alpha_s': 0.,\n",
    "    'alpha_e': 0.,\n",
    "    'beta_s': 0.,\n",
    "    'beta_e': 0.,\n",
    "    'phi_s': 0.,\n",
    "    'phi_e': 0.\n",
    "}\n",
    "bodies = []"
   ]
  },
  {
   "attachments": {},
   "cell_type": "markdown",
   "metadata": {},
   "source": [
    "### Wing"
   ]
  },
  {
   "cell_type": "code",
   "execution_count": 9,
   "metadata": {},
   "outputs": [],
   "source": [
    "bodies.append({\n",
    "    'NB': 1,\n",
    "    \"NACA\": 4415,\n",
    "    \"name\": \"Lwing\",\n",
    "    'bld': 'Lwing.bld',\n",
    "    'cld':  '4415.cld',\n",
    "    'NNB': 50,\n",
    "    'NCWB': 50,\n",
    "    'is_right': False,\n",
    "    \"x_0\": 0.,\n",
    "    \"z_0\": 0.,\n",
    "    \"y_0\": 0.,\n",
    "    \"pitch\": 2.8,\n",
    "    \"cone\": 0.,\n",
    "    \"wngang\": 0.,\n",
    "    \"x_end\": 0.,\n",
    "    \"z_end\": 0.,\n",
    "    \"y_end\": 1.130,\n",
    "    \"Root_chord\": 0.159,\n",
    "    \"Tip_chord\": 0.072\n",
    "})\n",
    "bodies.append({\n",
    "    'NB': 2,\n",
    "    \"NACA\": 4415,\n",
    "    \"name\": \"Rwing\",\n",
    "    'bld': 'Rwing.bld',\n",
    "    'cld':  '4415.cld',\n",
    "    'NNB': 50,\n",
    "    'NCWB': 50,\n",
    "    'is_right': True,\n",
    "    \"x_0\": 0.,\n",
    "    \"z_0\": 0.,\n",
    "    \"y_0\": 0.,\n",
    "    \"pitch\": 2.8,\n",
    "    \"cone\": 0.,\n",
    "    \"wngang\": 0.,\n",
    "    \"x_end\": 0.,\n",
    "    \"z_end\": 0.,\n",
    "    \"y_end\": 1.130,\n",
    "    \"Root_chord\": 0.159,\n",
    "    \"Tip_chord\": 0.072\n",
    "})"
   ]
  },
  {
   "attachments": {},
   "cell_type": "markdown",
   "metadata": {},
   "source": [
    "### Elevator"
   ]
  },
  {
   "cell_type": "code",
   "execution_count": 10,
   "metadata": {},
   "outputs": [],
   "source": [
    "bodies.append({\n",
    "    'NB': 3,\n",
    "    \"NACA\": '0008',\n",
    "    \"name\": \"Ltail\",\n",
    "    'bld': 'Ltail.bld',\n",
    "    'cld':  '0008.cld',\n",
    "    'NNB': 50,\n",
    "    'NCWB': 50,\n",
    "    'is_right': False,\n",
    "    \"x_0\": 0.54,\n",
    "    \"z_0\": 0.,\n",
    "    \"y_0\": 0.,\n",
    "    \"pitch\": 0.,\n",
    "    \"cone\": 0.,\n",
    "    \"wngang\": 0.,\n",
    "    \"x_end\": 0.,\n",
    "    \"z_end\": 0.,\n",
    "    \"y_end\": 0.169,\n",
    "    \"Root_chord\": 0.130,\n",
    "    \"Tip_chord\": 0.03\n",
    "})\n",
    "bodies.append({\n",
    "    'NB': 4,\n",
    "    \"NACA\": '0008',\n",
    "    \"name\": \"Rtail\",\n",
    "    'bld': 'Rtail.bld',\n",
    "    'cld':  '0008.cld',\n",
    "    'NNB': 50,\n",
    "    'NCWB': 50,\n",
    "    'is_right': True,\n",
    "    \"x_0\": 0.54,\n",
    "    \"z_0\": 0.,\n",
    "    \"y_0\": 0.,\n",
    "    \"pitch\": 0.,\n",
    "    \"cone\": 0.,\n",
    "    \"wngang\": 0.,\n",
    "    \"x_end\": 0.,\n",
    "    \"z_end\": 0.,\n",
    "    \"y_end\": 0.169,\n",
    "    \"Root_chord\": 0.130,\n",
    "    \"Tip_chord\": 0.03\n",
    "})"
   ]
  },
  {
   "attachments": {},
   "cell_type": "markdown",
   "metadata": {},
   "source": [
    "### Rudder"
   ]
  },
  {
   "cell_type": "code",
   "execution_count": 11,
   "metadata": {},
   "outputs": [],
   "source": [
    "bodies.append({\n",
    "    'NB': 5,\n",
    "    \"NACA\": '0008',\n",
    "    \"name\": \"rudder\",\n",
    "    'bld': 'rudder.bld',\n",
    "    'cld':  '0008.cld',\n",
    "    'NNB': 50,\n",
    "    'NCWB': 50,\n",
    "    'is_right': True,\n",
    "    \"x_0\": 0.54,\n",
    "    \"z_0\": 0.1,\n",
    "    \"y_0\": 0.,\n",
    "    \"pitch\": 0.,\n",
    "    \"cone\": 0.,\n",
    "    \"wngang\": 90.,\n",
    "    \"x_end\": 0.,\n",
    "    \"z_end\": 0.,\n",
    "    \"y_end\": 0.169,\n",
    "    \"Root_chord\": 0.130,\n",
    "    \"Tip_chord\": 0.03\n",
    "})"
   ]
  },
  {
   "cell_type": "code",
   "execution_count": null,
   "metadata": {},
   "outputs": [],
   "source": [
    "angle = 0\n",
    "params = {\n",
    "    \"nBods\": len(bodies),  # len(Surfaces)\n",
    "    \"nBlades\": len(airfoils),  # len(NACA)\n",
    "    \"maxiter\": 200,\n",
    "    \"timestep\": 0.01,\n",
    "    \"Uinf\": [20. * np.cos(angle) , 0.0, 20. * np.sin(angle)],\n",
    "    \"rho\": 1.225,\n",
    "    \"visc\": 0.0000156,\n",
    "}"
   ]
  },
  {
   "cell_type": "code",
   "execution_count": 12,
   "metadata": {},
   "outputs": [],
   "source": [
    "masterDir = os.getcwd()"
   ]
  },
  {
   "cell_type": "code",
   "execution_count": 14,
   "metadata": {},
   "outputs": [
    {
     "name": "stderr",
     "output_type": "stream",
     "text": [
      "rm: cannot remove 'strip*': No such file or directory\n",
      "rm: cannot remove 'x*': No such file or directory\n",
      "rm: cannot remove 'YOURS*': No such file or directory\n",
      "rm: cannot remove 'ing.WG': No such file or directory\n"
     ]
    }
   ],
   "source": [
    "CASE = \"3D/\"\n",
    "gnvp.runGNVP(airMovement, bodies, params, airfoils,cldata,Reynolds,angles,CASE)\n",
    "# gnvp.removeResults(CASE)\n",
    "\n",
    "os.chdir(CASE)\n",
    "# os.system(\"./gnvp < input >> gnvp.out\")\n",
    "time.sleep(0.1)\n",
    "# os.system(f\"cat LOADS_aer.dat >>  res.dat\")\n",
    "os.chdir(masterDir)"
   ]
  }
 ],
 "metadata": {
  "kernelspec": {
   "display_name": "aero",
   "language": "python",
   "name": "python3"
  },
  "language_info": {
   "codemirror_mode": {
    "name": "ipython",
    "version": 3
   },
   "file_extension": ".py",
   "mimetype": "text/x-python",
   "name": "python",
   "nbconvert_exporter": "python",
   "pygments_lexer": "ipython3",
   "version": "3.10.8"
  },
  "orig_nbformat": 4,
  "vscode": {
   "interpreter": {
    "hash": "8acd08952dc410be23279ea6eab1a080d514a48a01ad47827aa392f9fbd61ae4"
   }
  }
 },
 "nbformat": 4,
 "nbformat_minor": 2
}
