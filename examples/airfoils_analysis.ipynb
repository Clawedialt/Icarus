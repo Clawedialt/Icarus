{
    "cells": [
        {
            "cell_type": "code",
            "execution_count": null,
            "metadata": {},
            "outputs": [],
            "source": [
                "%load_ext autoreload\n",
                "%autoreload 2\n",
                "%matplotlib qt"
            ]
        },
        {
            "cell_type": "code",
            "execution_count": null,
            "metadata": {},
            "outputs": [],
            "source": [
                "import numpy as np\n",
                "\n",
                "from ICARUS.Core.units import calc_mach, calc_reynolds\n",
                "from ICARUS.Database import DB\n",
                "from ICARUS.Airfoils.airfoil import Airfoil\n",
                "from ICARUS.Core.struct import Struct\n",
                "from ICARUS.Computation.Solvers.solver import Solver\n",
                "from ICARUS.Computation.Solvers.OpenFoam.files.setup_case import MeshType"
            ]
        },
        {
            "attachments": {},
            "cell_type": "markdown",
            "metadata": {},
            "source": [
                "# Reynolds And Mach and AoA"
            ]
        },
        {
            "cell_type": "code",
            "execution_count": null,
            "metadata": {},
            "outputs": [],
            "source": [
                "# Assumptions\n",
                "chord_max: float = 0.18\n",
                "chord_min: float = 0.11\n",
                "u_max: float = 30.0\n",
                "u_min: float = 5.0\n",
                "viscosity: float = 1.56e-5\n",
                "speed_of_sound: float = 340.3\n",
                "\n",
                "# MACH ESTIMATION\n",
                "mach_min: float = calc_mach(10, speed_of_sound)\n",
                "mach_max: float = calc_mach(30, speed_of_sound)\n",
                "mach = np.linspace(mach_max, mach_min, 10)\n",
                "MACH: float = mach_max\n",
                "\n",
                "# REYNOLDS ESTIMATION\n",
                "reynolds_max: float = calc_reynolds(u_max, chord_max, viscosity)\n",
                "reynolds_min: float = calc_reynolds(u_min, chord_min, viscosity)\n",
                "reynolds = np.logspace(\n",
                "    start=np.log10(reynolds_min),\n",
                "    stop=np.log10(reynolds_max),\n",
                "    num=2,\n",
                "    base=10,\n",
                ")\n",
                "REYN = reynolds_max\n",
                "\n",
                "# ANGLE OF ATTACK SETUP\n",
                "aoa_max: float = 2\n",
                "aoa_min: float = -2\n",
                "num_of_angles: float = (aoa_max - aoa_min) * 2 + 1\n",
                "angles = np.linspace(\n",
                "    start=aoa_min,\n",
                "    stop=aoa_max,\n",
                "    num=num_of_angles,\n",
                ")\n",
                "airfoil_name: str = \"2418\"\n",
                "airfoil: Airfoil = Airfoil.naca(naca=airfoil_name, n_points=200)\n",
                "\n",
                "ftrip_low: dict[str, float] = {\"pos\": 0.1, \"neg\": 0.2}\n",
                "ftrip_up: dict[str, float] = {\"pos\": 0.2, \"neg\": 0.1}"
            ]
        },
        {
            "cell_type": "code",
            "execution_count": null,
            "metadata": {},
            "outputs": [],
            "source": [
                "print(f\"Nominal: Mach {MACH}\\tReynolds {REYN}\")\n"
            ]
        },
        {
            "cell_type": "code",
            "execution_count": null,
            "metadata": {},
            "outputs": [],
            "source": [
                "cleaning = False\n",
                "calcF2W = False\n",
                "calcOpenFoam = False\n",
                "calcXFoil = True"
            ]
        },
        {
            "attachments": {},
            "cell_type": "markdown",
            "metadata": {},
            "source": [
                "# Get Airfoil"
            ]
        },
        {
            "cell_type": "code",
            "execution_count": null,
            "metadata": {},
            "outputs": [],
            "source": [
                "airf: Airfoil = airfoil.naca('4415',n_points=200)\n",
                "airf.plot(camber=True)"
            ]
        },
        {
            "attachments": {},
            "cell_type": "markdown",
            "metadata": {},
            "source": [
                "# Foil2Wake"
            ]
        },
        {
            "cell_type": "code",
            "execution_count": null,
            "metadata": {},
            "outputs": [],
            "source": [
                "# if cleaning :\n",
                "    # airf.clean_results(f2w.remove_results, [airf.REYNDIR, airf.HOMEDIR,angles])\n",
                "\n",
                "\n",
                "if calcF2W :\n",
                "    # Import Solver\n",
                "    from ICARUS.Computation.Solvers.Foil2Wake.f2w_section import Foil2Wake\n",
                "    f2w_s: Solver = Foil2Wake()\n",
                "\n",
                "    # Import Analysis\n",
                "    analysis: str = f2w_s.get_analyses_names()[0]  # Run\n",
                "    f2w_s.select_analysis(analysis)\n",
                "\n",
                "    # Get Options\n",
                "    options: Struct = f2w_s.get_analysis_options(verbose=True)\n",
                "    solver_parameters: Struct = f2w_s.get_solver_parameters()\n",
                "\n",
                "    # Set Options\n",
                "    options.airfoil = airfoil\n",
                "    options.reynolds = reynolds\n",
                "    options.mach = MACH\n",
                "    options.f_trip_low = ftrip_low\n",
                "    options.f_trip_upper = ftrip_up\n",
                "    options.angles = angles\n",
                "\n",
                "    # RUN\n",
                "    f2w_s.set_analysis_options(options)\n",
                "    f2w_s.print_analysis_options()\n",
                "    f2w_s.execute()\n",
                "\n",
                "    # Get Results\n",
                "    polars = f2w_s.get_results()\n"
            ]
        },
        {
            "attachments": {},
            "cell_type": "markdown",
            "metadata": {},
            "source": [
                "# Xfoil"
            ]
        },
        {
            "cell_type": "code",
            "execution_count": null,
            "metadata": {},
            "outputs": [],
            "source": [
                "if calcXFoil:\n",
                "    airfoils = [airf.name]#[\"0008\"]\n",
                "    from ICARUS.Computation.Solvers.Xfoil.xfoil import Xfoil \n",
                "\n",
                "    for airfoil in airfoils:\n",
                "        print(f\"\\nRunning airfoil {airfoil}\\n\")\n",
                "        # # Get airfoil\n",
                "        airf: Airfoil = Airfoil.naca(airfoil, n_points=200)\n",
                "        # airf.plotAirfoil()\n",
                "        xfoil: Solver = Xfoil()\n",
                "\n",
                "        # Import Analysis\n",
                "        analysis: str = xfoil.get_analyses_names()[0]  # Run\n",
                "        xfoil.select_analysis(analysis)\n",
                "\n",
                "        # Get Options\n",
                "        options = xfoil.get_analysis_options(verbose=True)\n",
                "        solver_parameters = xfoil.get_solver_parameters()\n",
                "\n",
                "        # Set Options\n",
                "        options.airfoil = airf\n",
                "        options.reynolds = reynolds\n",
                "        options.mach = MACH\n",
                "        options.min_aoa = -5\n",
                "        options.max_aoa = 5\n",
                "        options.aoa_step = 1\n",
                "        xfoil.print_analysis_options()\n",
                "\n",
                "        # Set Solver Options\n",
                "        solver_parameters.max_iter = 400\n",
                "        solver_parameters.Ncrit = 1e-3\n",
                "        solver_parameters.xtr = (0.1, 0.1)\n",
                "        solver_parameters.print = False\n",
                "        # xfoil.print_solver_options()\n",
                "        \n",
                "        # RUN\n",
                "        xfoil.execute()\n"
            ]
        },
        {
            "attachments": {},
            "cell_type": "markdown",
            "metadata": {},
            "source": [
                "# Mapflow"
            ]
        },
        {
            "cell_type": "code",
            "execution_count": null,
            "metadata": {},
            "outputs": [],
            "source": []
        },
        {
            "cell_type": "markdown",
            "metadata": {},
            "source": [
                "# OpenFoam (NOT HIGH MACH)"
            ]
        },
        {
            "cell_type": "code",
            "execution_count": null,
            "metadata": {},
            "outputs": [],
            "source": [
                "if calcOpenFoam:\n",
                "    airfoils: list[str] = [airf.name]#[\"0008\"]\n",
                "    from ICARUS.Computation.Solvers.OpenFoam.open_foam import OpenFoam\n",
                "\n",
                "    for airfoil in airfoils:\n",
                "        print(f\"\\nRunning airfoil {airfoil}\\n\")\n",
                "        # # Get Airfoil\n",
                "        airf: Airfoil = Airfoil.naca(airfoil, n_points=200)\n",
                "        # airf.plot()\n",
                "        open_foam: Solver = OpenFoam()\n",
                "\n",
                "        # Import Analysis\n",
                "        analysis: str = open_foam.get_analyses_names()[0]  # Run\n",
                "        open_foam.select_analysis(analysis)\n",
                "\n",
                "        # Get Options\n",
                "        options = open_foam.get_analysis_options(verbose=True)\n",
                "        solver_parameters = open_foam.get_solver_parameters()\n",
                "\n",
                "        # Set Options\n",
                "        options.airfoil = airf\n",
                "        options.angles = angles\n",
                "        options.reynolds = REYN\n",
                "        options.mach = MACH\n",
                "        open_foam.print_analysis_options()\n",
                "\n",
                "        # Set Solver Options\n",
                "        solver_parameters.mesh_type = MeshType.structAirfoilMesher\n",
                "        solver_parameters.max_iterations = 20\n",
                "        solver_parameters.silent = False\n",
                "        \n",
                "        # RUN\n",
                "        open_foam.set_analysis_options(options)\n",
                "        open_foam.print_analysis_options()\n",
                "        open_foam.execute()"
            ]
        },
        {
            "cell_type": "code",
            "execution_count": null,
            "metadata": {},
            "outputs": [],
            "source": []
        }
    ],
    "metadata": {
        "kernelspec": {
            "display_name": "aero",
            "language": "python",
            "name": "python3"
        },
        "language_info": {
            "codemirror_mode": {
                "name": "ipython",
                "version": 3
            },
            "file_extension": ".py",
            "mimetype": "text/x-python",
            "name": "python",
            "nbconvert_exporter": "python",
            "pygments_lexer": "ipython3",
            "version": "3.12.0"
        },
        "vscode": {
            "interpreter": {
                "hash": "8acd08952dc410be23279ea6eab1a080d514a48a01ad47827aa392f9fbd61ae4"
            }
        }
    },
    "nbformat": 4,
    "nbformat_minor": 2
}
