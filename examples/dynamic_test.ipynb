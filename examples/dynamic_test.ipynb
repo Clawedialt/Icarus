{
 "cells": [
  {
   "cell_type": "code",
   "execution_count": 11,
   "metadata": {},
   "outputs": [],
   "source": [
    "import numpy as np\n",
    "import pandas as pd\n",
    "from ICARUS.Flight_Dynamics.state import State\n",
    "from ICARUS.Vehicle.wing_segment import Wing_Segment\n",
    "from ICARUS.Vehicle.plane import Airplane\n",
    "from ICARUS.Vehicle.wing_segment import define_linear_chord\n",
    "from ICARUS.Vehicle.wing_segment import define_linear_span\n",
    "from ICARUS.Environment.definition import Environment"
   ]
  },
  {
   "cell_type": "code",
   "execution_count": 12,
   "metadata": {},
   "outputs": [],
   "source": [
    "mw = Wing_Segment(\n",
    "    name=\"Main_Wing_1\",\n",
    "    airfoil=\"2412\",\n",
    "    origin=np.array([0.0, 0.0, 0.0]),\n",
    "    orientation=np.array([0.0, 0.0, 0.0]),\n",
    "    is_symmetric=True,\n",
    "    sweep_offset=0.1,\n",
    "    span=2.0,\n",
    "    dih_angle=0.0,\n",
    "    chord_fun=define_linear_chord,\n",
    "    chord=np.array([0.4, 0.4]),\n",
    "    span_fun=define_linear_span,\n",
    "    # twist_fun: Callable[[float, int], FloatArray],\n",
    "    N=30,\n",
    "    M=10,\n",
    "    mass=1.0,\n",
    ")\n",
    "el = Wing_Segment(\n",
    "    name=\"Elevator\",\n",
    "    airfoil=\"0012\",\n",
    "    origin=np.array([1.25, 0, 0]),\n",
    "    orientation=np.array([0.0, 0.0, 0.0]),\n",
    "    is_symmetric=True,\n",
    "    sweep_offset=0.0,\n",
    "    span=1.0,\n",
    "    dih_angle=0.0,\n",
    "    chord_fun=define_linear_chord,\n",
    "    chord=np.array([0.2, 0.2]),\n",
    "    span_fun=define_linear_span,\n",
    "    # twist_fun: Callable[[float, int], FloatArray],\n",
    "    N=20,\n",
    "    M=5,\n",
    "    mass=1.0,\n",
    ")\n",
    "rud = Wing_Segment(\n",
    "    name=\"Rudder\",\n",
    "    airfoil=\"0012\",\n",
    "    origin=np.array([1.3, 0, 0.2]),\n",
    "    orientation=np.array([0, 0.0, 90.0]),\n",
    "    is_symmetric=True,\n",
    "    sweep_offset=0.0,\n",
    "    span=1.0,\n",
    "    dih_angle=0.0,\n",
    "    chord_fun=define_linear_chord,\n",
    "    chord=np.array([0.1, 0.1]),\n",
    "    span_fun=define_linear_span,\n",
    "    # twist_fun: Callable[[float, int], FloatArray],\n",
    "    N=20,\n",
    "    M=5,\n",
    "    mass=1.0,\n",
    ")\n",
    "w_polar = np.array([[-1, 0.23, 1.375], [0.034, 0.0064, 0.04]])  # NACA 2412 at Re = 5e5\n",
    "el_polar = np.array([[-1.15, 0, 1.15], [0.038, 0.00768, 0.038]])  # NACA 0012 at Re = 3e5\n",
    "rud_polar = el_polar\n",
    "\n",
    "pl = Airplane(\"plane_100\", [mw, el, rud])\n",
    "env = Environment(\"Default\")"
   ]
  },
  {
   "cell_type": "code",
   "execution_count": 13,
   "metadata": {},
   "outputs": [],
   "source": [
    "polars = pd.DataFrame()"
   ]
  },
  {
   "cell_type": "code",
   "execution_count": 14,
   "metadata": {},
   "outputs": [
    {
     "ename": "KeyError",
     "evalue": "'AoA'",
     "output_type": "error",
     "traceback": [
      "\u001b[0;31m---------------------------------------------------------------------------\u001b[0m",
      "\u001b[0;31mKeyError\u001b[0m                                  Traceback (most recent call last)",
      "Cell \u001b[0;32mIn[14], line 1\u001b[0m\n\u001b[0;32m----> 1\u001b[0m st \u001b[38;5;241m=\u001b[39m \u001b[43mState\u001b[49m\u001b[43m(\u001b[49m\u001b[38;5;124;43m\"\u001b[39;49m\u001b[38;5;124;43mtrim\u001b[39;49m\u001b[38;5;124;43m\"\u001b[39;49m\u001b[43m,\u001b[49m\u001b[43mpl\u001b[49m\u001b[43m,\u001b[49m\u001b[43mpolars\u001b[49m\u001b[43m,\u001b[49m\u001b[43menv\u001b[49m\u001b[43m,\u001b[49m\u001b[38;5;124;43m\"\u001b[39;49m\u001b[38;5;124;43m2D\u001b[39;49m\u001b[38;5;124;43m\"\u001b[39;49m\u001b[43m)\u001b[49m\n",
      "File \u001b[0;32m/mnt/c/Users/pc/Desktop/Icarus/ICARUS/Flight_Dynamics/state.py:61\u001b[0m, in \u001b[0;36mState.__init__\u001b[0;34m(self, name, pln, forces, env, preffered_polar)\u001b[0m\n\u001b[1;32m     58\u001b[0m \u001b[38;5;28mself\u001b[39m\u001b[38;5;241m.\u001b[39mmass: \u001b[38;5;28mfloat\u001b[39m \u001b[38;5;241m=\u001b[39m pln\u001b[38;5;241m.\u001b[39mM\n\u001b[1;32m     60\u001b[0m \u001b[38;5;66;03m# GET TRIM STATE\u001b[39;00m\n\u001b[0;32m---> 61\u001b[0m \u001b[38;5;28mself\u001b[39m\u001b[38;5;241m.\u001b[39mpolars: DataFrame \u001b[38;5;241m=\u001b[39m \u001b[38;5;28;43mself\u001b[39;49m\u001b[38;5;241;43m.\u001b[39;49m\u001b[43mformat_polars\u001b[49m\u001b[43m(\u001b[49m\u001b[43mforces\u001b[49m\u001b[43m,\u001b[49m\u001b[43m \u001b[49m\u001b[43mpreffered_polar\u001b[49m\u001b[38;5;241;43m=\u001b[39;49m\u001b[43mpreffered_polar\u001b[49m\u001b[43m)\u001b[49m\n\u001b[1;32m     62\u001b[0m \u001b[38;5;28mself\u001b[39m\u001b[38;5;241m.\u001b[39mtrim: \u001b[38;5;28mdict\u001b[39m[\u001b[38;5;28mstr\u001b[39m, \u001b[38;5;28mfloat\u001b[39m] \u001b[38;5;241m=\u001b[39m trim_state(\u001b[38;5;28mself\u001b[39m)\n\u001b[1;32m     63\u001b[0m \u001b[38;5;28mself\u001b[39m\u001b[38;5;241m.\u001b[39mdynamic_pressure \u001b[38;5;241m=\u001b[39m \u001b[38;5;241m0.5\u001b[39m \u001b[38;5;241m*\u001b[39m env\u001b[38;5;241m.\u001b[39mair_density \u001b[38;5;241m*\u001b[39m \u001b[38;5;28mself\u001b[39m\u001b[38;5;241m.\u001b[39mtrim[\u001b[38;5;124m\"\u001b[39m\u001b[38;5;124mU\u001b[39m\u001b[38;5;124m\"\u001b[39m] \u001b[38;5;241m*\u001b[39m\u001b[38;5;241m*\u001b[39m \u001b[38;5;241m2\u001b[39m  \u001b[38;5;66;03m# NOW WE UPDATE IT\u001b[39;00m\n",
      "File \u001b[0;32m/mnt/c/Users/pc/Desktop/Icarus/ICARUS/Flight_Dynamics/state.py:106\u001b[0m, in \u001b[0;36mState.format_polars\u001b[0;34m(self, forces, preffered_polar)\u001b[0m\n\u001b[1;32m    105\u001b[0m \u001b[38;5;28;01mdef\u001b[39;00m \u001b[38;5;21mformat_polars\u001b[39m(\u001b[38;5;28mself\u001b[39m, forces: DataFrame, preffered_polar\u001b[38;5;241m=\u001b[39m\u001b[38;5;124m\"\u001b[39m\u001b[38;5;124m2D\u001b[39m\u001b[38;5;124m\"\u001b[39m) \u001b[38;5;241m-\u001b[39m\u001b[38;5;241m>\u001b[39m DataFrame:\n\u001b[0;32m--> 106\u001b[0m     forces_rotated: DataFrame \u001b[38;5;241m=\u001b[39m rotate_forces(forces, \u001b[43mforces\u001b[49m\u001b[43m[\u001b[49m\u001b[38;5;124;43m\"\u001b[39;49m\u001b[38;5;124;43mAoA\u001b[39;49m\u001b[38;5;124;43m\"\u001b[39;49m\u001b[43m]\u001b[49m, preferred\u001b[38;5;241m=\u001b[39mpreffered_polar)\n\u001b[1;32m    107\u001b[0m     \u001b[38;5;28;01mreturn\u001b[39;00m \u001b[38;5;28mself\u001b[39m\u001b[38;5;241m.\u001b[39mmake_aero_coefficients(forces_rotated)\n",
      "File \u001b[0;32m~/miniconda3/envs/myp/lib/python3.11/site-packages/pandas/core/frame.py:3896\u001b[0m, in \u001b[0;36mDataFrame.__getitem__\u001b[0;34m(self, key)\u001b[0m\n\u001b[1;32m   3894\u001b[0m \u001b[38;5;28;01mif\u001b[39;00m \u001b[38;5;28mself\u001b[39m\u001b[38;5;241m.\u001b[39mcolumns\u001b[38;5;241m.\u001b[39mnlevels \u001b[38;5;241m>\u001b[39m \u001b[38;5;241m1\u001b[39m:\n\u001b[1;32m   3895\u001b[0m     \u001b[38;5;28;01mreturn\u001b[39;00m \u001b[38;5;28mself\u001b[39m\u001b[38;5;241m.\u001b[39m_getitem_multilevel(key)\n\u001b[0;32m-> 3896\u001b[0m indexer \u001b[38;5;241m=\u001b[39m \u001b[38;5;28;43mself\u001b[39;49m\u001b[38;5;241;43m.\u001b[39;49m\u001b[43mcolumns\u001b[49m\u001b[38;5;241;43m.\u001b[39;49m\u001b[43mget_loc\u001b[49m\u001b[43m(\u001b[49m\u001b[43mkey\u001b[49m\u001b[43m)\u001b[49m\n\u001b[1;32m   3897\u001b[0m \u001b[38;5;28;01mif\u001b[39;00m is_integer(indexer):\n\u001b[1;32m   3898\u001b[0m     indexer \u001b[38;5;241m=\u001b[39m [indexer]\n",
      "File \u001b[0;32m~/miniconda3/envs/myp/lib/python3.11/site-packages/pandas/core/indexes/range.py:418\u001b[0m, in \u001b[0;36mRangeIndex.get_loc\u001b[0;34m(self, key)\u001b[0m\n\u001b[1;32m    416\u001b[0m         \u001b[38;5;28;01mraise\u001b[39;00m \u001b[38;5;167;01mKeyError\u001b[39;00m(key) \u001b[38;5;28;01mfrom\u001b[39;00m \u001b[38;5;21;01merr\u001b[39;00m\n\u001b[1;32m    417\u001b[0m \u001b[38;5;28;01mif\u001b[39;00m \u001b[38;5;28misinstance\u001b[39m(key, Hashable):\n\u001b[0;32m--> 418\u001b[0m     \u001b[38;5;28;01mraise\u001b[39;00m \u001b[38;5;167;01mKeyError\u001b[39;00m(key)\n\u001b[1;32m    419\u001b[0m \u001b[38;5;28mself\u001b[39m\u001b[38;5;241m.\u001b[39m_check_indexing_error(key)\n\u001b[1;32m    420\u001b[0m \u001b[38;5;28;01mraise\u001b[39;00m \u001b[38;5;167;01mKeyError\u001b[39;00m(key)\n",
      "\u001b[0;31mKeyError\u001b[0m: 'AoA'"
     ]
    }
   ],
   "source": [
    "st = State(\"trim\",pl,polars,env,\"2D\")\n"
   ]
  },
  {
   "cell_type": "code",
   "execution_count": null,
   "metadata": {},
   "outputs": [],
   "source": []
  }
 ],
 "metadata": {
  "kernelspec": {
   "display_name": "myp",
   "language": "python",
   "name": "python3"
  },
  "language_info": {
   "codemirror_mode": {
    "name": "ipython",
    "version": 3
   },
   "file_extension": ".py",
   "mimetype": "text/x-python",
   "name": "python",
   "nbconvert_exporter": "python",
   "pygments_lexer": "ipython3",
   "version": "3.11.5"
  }
 },
 "nbformat": 4,
 "nbformat_minor": 2
}
